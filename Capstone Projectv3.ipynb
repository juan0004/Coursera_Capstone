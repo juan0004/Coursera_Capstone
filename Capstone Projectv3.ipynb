{
 "cells": [
  {
   "cell_type": "markdown",
   "metadata": {},
   "source": [
    "# Capstone Project \n",
    "### Applied Data Science Capstone by IBM/Coursera"
   ]
  },
  {
   "cell_type": "markdown",
   "metadata": {},
   "source": [
    "## Introduction: Business Problem"
   ]
  },
  {
   "cell_type": "markdown",
   "metadata": {},
   "source": [
    "The main objective of this project is to analyze London city, to understand/explore the best neighborhood to set up an Italian ice cream shop. This state-of-the-art shop targets the upper-level income population with a premium portfolio of innovative ice cream flavors. \n",
    "In this analysis, we are introducing boroughs public information: average individual income, tourists and population density. \n",
    "*See PDF for complete introduction* "
   ]
  },
  {
   "cell_type": "markdown",
   "metadata": {},
   "source": [
    "## Data <a name=\"data\"></a>"
   ]
  },
  {
   "cell_type": "markdown",
   "metadata": {},
   "source": [
    "*  Population per borough (\"Population per square kilometer\") \n",
    "*  Average income per borough. \n",
    "*  Hotels rooms per borough. \n",
    "*  Number of existing ice cream shops and frozen yoghurt shops in the neighborhoods of the selected borough, according to Foursquare."
   ]
  },
  {
   "cell_type": "code",
   "execution_count": 3,
   "metadata": {},
   "outputs": [
    {
     "name": "stdout",
     "output_type": "stream",
     "text": [
      "Libraries imported.\n"
     ]
    }
   ],
   "source": [
    "import urllib.request, urllib.parse, urllib.error\n",
    "import numpy as np \n",
    "import pandas as pd\n",
    "from bs4 import BeautifulSoup\n",
    "import wget\n",
    "from pandas.io.json import json_normalize\n",
    "import requests \n",
    "\n",
    "import numpy as np # library to handle data in a vectorized manner\n",
    "import urllib.request, json \n",
    "\n",
    "import pandas as pd # library for data analsysis\n",
    "pd.set_option('display.max_columns', None)\n",
    "pd.set_option('display.max_rows', None)\n",
    "\n",
    "import json # library to handle JSON files\n",
    "\n",
    "#!conda install -c conda-forge geopy --yes # uncomment this line if you haven't completed the Foursquare API lab\n",
    "from geopy.geocoders import Nominatim # convert an address into latitude and longitude values\n",
    "\n",
    "import requests # library to handle requests\n",
    "from pandas.io.json import json_normalize # tranform JSON file into a pandas dataframe\n",
    "\n",
    "# Matplotlib and associated plotting modules\n",
    "import matplotlib.cm as cm\n",
    "import matplotlib.colors as colors\n",
    "\n",
    "# import k-means from clustering stage\n",
    "from sklearn.cluster import KMeans\n",
    "\n",
    "#!conda install -c conda-forge folium=0.5.0 --yes # uncomment this line if you haven't completed the Foursquare API lab\n",
    "import folium # map rendering library\n",
    "\n",
    "import matplotlib.pyplot as plt\n",
    "import seaborn as sns\n",
    "%matplotlib inline \n",
    "\n",
    "print('Libraries imported.')"
   ]
  },
  {
   "cell_type": "markdown",
   "metadata": {},
   "source": [
    "### Methodology "
   ]
  },
  {
   "cell_type": "markdown",
   "metadata": {},
   "source": [
    "First, we are going to describe each area and select some potential boroughs for our shop. Then, we are doing a K-Means clustering of London boroughs according to this information (population, income and tourists). Afterwards, we are using Foursquare data to understand in the selected borough which neighborhoods have the most quantity of ice cream shops, and indirect competition shops (like Frozen Yoghurt), to finally decide the winner location. The idea is to find an opportunity, good location but not so many competitors. *See PDF for complete Methodology* "
   ]
  },
  {
   "cell_type": "markdown",
   "metadata": {},
   "source": [
    "### London Borough Candidates - Results"
   ]
  },
  {
   "cell_type": "markdown",
   "metadata": {},
   "source": [
    "#### Population"
   ]
  },
  {
   "cell_type": "markdown",
   "metadata": {},
   "source": [
    "Let's analize London population density by Borough. We are using the variable \"Population per square kilometre\""
   ]
  },
  {
   "cell_type": "code",
   "execution_count": 4,
   "metadata": {},
   "outputs": [],
   "source": [
    "# create a table with Population information. The source of this files is: https://data.london.gov.uk/dataset/earnings-place-residence-borough\n",
    "df_pop = pd.read_csv(\"housing-density-borough_v2.csv\", delimiter=\",\")"
   ]
  },
  {
   "cell_type": "code",
   "execution_count": 5,
   "metadata": {},
   "outputs": [
    {
     "data": {
      "text/html": [
       "<div>\n",
       "<style scoped>\n",
       "    .dataframe tbody tr th:only-of-type {\n",
       "        vertical-align: middle;\n",
       "    }\n",
       "\n",
       "    .dataframe tbody tr th {\n",
       "        vertical-align: top;\n",
       "    }\n",
       "\n",
       "    .dataframe thead th {\n",
       "        text-align: right;\n",
       "    }\n",
       "</style>\n",
       "<table border=\"1\" class=\"dataframe\">\n",
       "  <thead>\n",
       "    <tr style=\"text-align: right;\">\n",
       "      <th></th>\n",
       "      <th>Population_per_square_kilometre</th>\n",
       "    </tr>\n",
       "    <tr>\n",
       "      <th>Borough</th>\n",
       "      <th></th>\n",
       "    </tr>\n",
       "  </thead>\n",
       "  <tbody>\n",
       "    <tr>\n",
       "      <th>City of London</th>\n",
       "      <td>2770.7</td>\n",
       "    </tr>\n",
       "    <tr>\n",
       "      <th>Barking and Dagenham</th>\n",
       "      <td>6047.6</td>\n",
       "    </tr>\n",
       "    <tr>\n",
       "      <th>Barnet</th>\n",
       "      <td>4693.4</td>\n",
       "    </tr>\n",
       "    <tr>\n",
       "      <th>Bexley</th>\n",
       "      <td>4208.8</td>\n",
       "    </tr>\n",
       "    <tr>\n",
       "      <th>Brent</th>\n",
       "      <td>7953.6</td>\n",
       "    </tr>\n",
       "  </tbody>\n",
       "</table>\n",
       "</div>"
      ],
      "text/plain": [
       "                      Population_per_square_kilometre\n",
       "Borough                                              \n",
       "City of London                                 2770.7\n",
       "Barking and Dagenham                           6047.6\n",
       "Barnet                                         4693.4\n",
       "Bexley                                         4208.8\n",
       "Brent                                          7953.6"
      ]
     },
     "execution_count": 5,
     "metadata": {},
     "output_type": "execute_result"
    }
   ],
   "source": [
    "# select only 2020 population figures. Change columns names to generate cohesion with other tables\n",
    "df_pop = df_pop.loc[(df_pop.Year == 2020)]\n",
    "df_pop.rename(columns={'Name':'Borough'}, inplace=True)\n",
    "df_pop = df_pop[['Borough','Population_per_square_kilometre']]\n",
    "df_pop.set_index('Borough', inplace=True) \n",
    "df_pop.head()"
   ]
  },
  {
   "cell_type": "code",
   "execution_count": 6,
   "metadata": {},
   "outputs": [
    {
     "data": {
      "text/html": [
       "<div>\n",
       "<style scoped>\n",
       "    .dataframe tbody tr th:only-of-type {\n",
       "        vertical-align: middle;\n",
       "    }\n",
       "\n",
       "    .dataframe tbody tr th {\n",
       "        vertical-align: top;\n",
       "    }\n",
       "\n",
       "    .dataframe thead th {\n",
       "        text-align: right;\n",
       "    }\n",
       "</style>\n",
       "<table border=\"1\" class=\"dataframe\">\n",
       "  <thead>\n",
       "    <tr style=\"text-align: right;\">\n",
       "      <th></th>\n",
       "      <th>Population_per_square_kilometre</th>\n",
       "    </tr>\n",
       "  </thead>\n",
       "  <tbody>\n",
       "    <tr>\n",
       "      <th>count</th>\n",
       "      <td>33.00</td>\n",
       "    </tr>\n",
       "    <tr>\n",
       "      <th>mean</th>\n",
       "      <td>7767.07</td>\n",
       "    </tr>\n",
       "    <tr>\n",
       "      <th>std</th>\n",
       "      <td>4181.09</td>\n",
       "    </tr>\n",
       "    <tr>\n",
       "      <th>min</th>\n",
       "      <td>2240.60</td>\n",
       "    </tr>\n",
       "    <tr>\n",
       "      <th>25%</th>\n",
       "      <td>4693.40</td>\n",
       "    </tr>\n",
       "    <tr>\n",
       "      <th>50%</th>\n",
       "      <td>6178.80</td>\n",
       "    </tr>\n",
       "    <tr>\n",
       "      <th>75%</th>\n",
       "      <td>11443.80</td>\n",
       "    </tr>\n",
       "    <tr>\n",
       "      <th>max</th>\n",
       "      <td>16583.50</td>\n",
       "    </tr>\n",
       "  </tbody>\n",
       "</table>\n",
       "</div>"
      ],
      "text/plain": [
       "       Population_per_square_kilometre\n",
       "count                            33.00\n",
       "mean                           7767.07\n",
       "std                            4181.09\n",
       "min                            2240.60\n",
       "25%                            4693.40\n",
       "50%                            6178.80\n",
       "75%                           11443.80\n",
       "max                           16583.50"
      ]
     },
     "execution_count": 6,
     "metadata": {},
     "output_type": "execute_result"
    }
   ],
   "source": [
    "# Main statistics of Population_per_square_kilometre\n",
    "df_pop.describe().round(decimals=2)"
   ]
  },
  {
   "cell_type": "code",
   "execution_count": 25,
   "metadata": {},
   "outputs": [
    {
     "data": {
      "text/plain": [
       "<matplotlib.axes._subplots.AxesSubplot at 0x1e518eb47c8>"
      ]
     },
     "execution_count": 25,
     "metadata": {},
     "output_type": "execute_result"
    },
    {
     "data": {
      "image/png": "[encoded data removed]",
      "text/plain": [
       "<Figure size 432x288 with 1 Axes>"
      ]
     },
     "metadata": {
      "needs_background": "light"
     },
     "output_type": "display_data"
    }
   ],
   "source": [
    "sns.boxplot(y=\"Population_per_square_kilometre\", data=df_pop)"
   ]
  },
  {
   "cell_type": "code",
   "execution_count": 27,
   "metadata": {},
   "outputs": [
    {
     "data": {
      "image/png": "[encoded data removed]",
      "text/plain": [
       "<Figure size 576x360 with 1 Axes>"
      ]
     },
     "metadata": {
      "needs_background": "light"
     },
     "output_type": "display_data"
    }
   ],
   "source": [
    "# 'bin_edges' is a list of bin intervals\n",
    "count, bin_edges = np.histogram(df_pop['Population_per_square_kilometre'])\n",
    "\n",
    "df_pop['Population_per_square_kilometre'].plot(kind='hist', figsize=(8, 5), xticks=bin_edges)\n",
    "\n",
    "plt.ylabel('Number of Boroughs') # add y-label\n",
    "plt.xlabel('Population_per_square_kilometre') # add x-label\n",
    "\n",
    "plt.show()"
   ]
  },
  {
   "cell_type": "markdown",
   "metadata": {},
   "source": [
    "We are going to select the boroughs that are part of the fourth quartile. These are the ones that are in the top 25% or have a population above 11445.8 per square km."
   ]
  },
  {
   "cell_type": "code",
   "execution_count": 7,
   "metadata": {},
   "outputs": [],
   "source": [
    "newdf_pop = df_pop.loc[(df_pop.Population_per_square_kilometre > 11443.8)]"
   ]
  },
  {
   "cell_type": "code",
   "execution_count": 8,
   "metadata": {},
   "outputs": [
    {
     "data": {
      "text/html": [
       "<div>\n",
       "<style scoped>\n",
       "    .dataframe tbody tr th:only-of-type {\n",
       "        vertical-align: middle;\n",
       "    }\n",
       "\n",
       "    .dataframe tbody tr th {\n",
       "        vertical-align: top;\n",
       "    }\n",
       "\n",
       "    .dataframe thead th {\n",
       "        text-align: right;\n",
       "    }\n",
       "</style>\n",
       "<table border=\"1\" class=\"dataframe\">\n",
       "  <thead>\n",
       "    <tr style=\"text-align: right;\">\n",
       "      <th></th>\n",
       "      <th>Population_per_square_kilometre</th>\n",
       "    </tr>\n",
       "    <tr>\n",
       "      <th>Borough</th>\n",
       "      <th></th>\n",
       "    </tr>\n",
       "  </thead>\n",
       "  <tbody>\n",
       "    <tr>\n",
       "      <th>Tower Hamlets</th>\n",
       "      <td>16583.5</td>\n",
       "    </tr>\n",
       "    <tr>\n",
       "      <th>Islington</th>\n",
       "      <td>16344.7</td>\n",
       "    </tr>\n",
       "    <tr>\n",
       "      <th>Hackney</th>\n",
       "      <td>15197.0</td>\n",
       "    </tr>\n",
       "    <tr>\n",
       "      <th>Kensington and Chelsea</th>\n",
       "      <td>13262.4</td>\n",
       "    </tr>\n",
       "    <tr>\n",
       "      <th>Lambeth</th>\n",
       "      <td>12693.9</td>\n",
       "    </tr>\n",
       "    <tr>\n",
       "      <th>Westminster</th>\n",
       "      <td>12099.5</td>\n",
       "    </tr>\n",
       "    <tr>\n",
       "      <th>Camden</th>\n",
       "      <td>11812.4</td>\n",
       "    </tr>\n",
       "    <tr>\n",
       "      <th>Hammersmith and Fulham</th>\n",
       "      <td>11631.1</td>\n",
       "    </tr>\n",
       "  </tbody>\n",
       "</table>\n",
       "</div>"
      ],
      "text/plain": [
       "                        Population_per_square_kilometre\n",
       "Borough                                                \n",
       "Tower Hamlets                                   16583.5\n",
       "Islington                                       16344.7\n",
       "Hackney                                         15197.0\n",
       "Kensington and Chelsea                          13262.4\n",
       "Lambeth                                         12693.9\n",
       "Westminster                                     12099.5\n",
       "Camden                                          11812.4\n",
       "Hammersmith and Fulham                          11631.1"
      ]
     },
     "execution_count": 8,
     "metadata": {},
     "output_type": "execute_result"
    }
   ],
   "source": [
    "newdf_pop.sort_values(['Population_per_square_kilometre'],ascending=False)"
   ]
  },
  {
   "cell_type": "markdown",
   "metadata": {},
   "source": [
    "These are the most densely populated boroughs and that means a lot of potential clients. But how about income?"
   ]
  },
  {
   "cell_type": "markdown",
   "metadata": {},
   "source": [
    "#### Income"
   ]
  },
  {
   "cell_type": "code",
   "execution_count": 9,
   "metadata": {},
   "outputs": [],
   "source": [
    "# create a table with income information. The source of this files is: https://data.london.gov.uk/dataset/earnings-place-residence-borough\n",
    "df_pay = pd.read_csv(\"earnings-residence-borough_v3.csv\", delimiter=\";\")"
   ]
  },
  {
   "cell_type": "code",
   "execution_count": 10,
   "metadata": {},
   "outputs": [
    {
     "data": {
      "text/html": [
       "<div>\n",
       "<style scoped>\n",
       "    .dataframe tbody tr th:only-of-type {\n",
       "        vertical-align: middle;\n",
       "    }\n",
       "\n",
       "    .dataframe tbody tr th {\n",
       "        vertical-align: top;\n",
       "    }\n",
       "\n",
       "    .dataframe thead th {\n",
       "        text-align: right;\n",
       "    }\n",
       "</style>\n",
       "<table border=\"1\" class=\"dataframe\">\n",
       "  <thead>\n",
       "    <tr style=\"text-align: right;\">\n",
       "      <th></th>\n",
       "      <th>Pay</th>\n",
       "    </tr>\n",
       "    <tr>\n",
       "      <th>Borough</th>\n",
       "      <th></th>\n",
       "    </tr>\n",
       "  </thead>\n",
       "  <tbody>\n",
       "    <tr>\n",
       "      <th>City of London</th>\n",
       "      <td>902,0</td>\n",
       "    </tr>\n",
       "    <tr>\n",
       "      <th>Westminster</th>\n",
       "      <td>766,6</td>\n",
       "    </tr>\n",
       "    <tr>\n",
       "      <th>Wandsworth</th>\n",
       "      <td>689,9</td>\n",
       "    </tr>\n",
       "    <tr>\n",
       "      <th>Islington</th>\n",
       "      <td>687,6</td>\n",
       "    </tr>\n",
       "    <tr>\n",
       "      <th>Hammersmith and Fulham</th>\n",
       "      <td>681,3</td>\n",
       "    </tr>\n",
       "  </tbody>\n",
       "</table>\n",
       "</div>"
      ],
      "text/plain": [
       "                          Pay\n",
       "Borough                      \n",
       "City of London          902,0\n",
       "Westminster             766,6\n",
       "Wandsworth              689,9\n",
       "Islington               687,6\n",
       "Hammersmith and Fulham  681,3"
      ]
     },
     "execution_count": 10,
     "metadata": {},
     "output_type": "execute_result"
    }
   ],
   "source": [
    "# change columns names to generate cohesion with other tables\n",
    "df_pay.rename(columns={'Area':'Borough'}, inplace=True)\n",
    "df_pay = df_pay[['Borough','Pay']]\n",
    "df_pay.set_index('Borough', inplace=True) \n",
    "df_pay.head()"
   ]
  },
  {
   "cell_type": "code",
   "execution_count": 11,
   "metadata": {},
   "outputs": [
    {
     "data": {
      "text/plain": [
       "Pay    object\n",
       "dtype: object"
      ]
     },
     "execution_count": 11,
     "metadata": {},
     "output_type": "execute_result"
    }
   ],
   "source": [
    "# check and modify types to analyze quantitative variable income.\n",
    "df_pay.dtypes"
   ]
  },
  {
   "cell_type": "code",
   "execution_count": 12,
   "metadata": {},
   "outputs": [],
   "source": [
    "# check and modify types\n",
    "df_pay['Pay'] = [x.replace(',', '.') for x in df_pay['Pay']]"
   ]
  },
  {
   "cell_type": "code",
   "execution_count": 13,
   "metadata": {},
   "outputs": [],
   "source": [
    "# check and modify types\n",
    "df_pay[\"Pay\"] = pd.to_numeric(df_pay[\"Pay\"])"
   ]
  },
  {
   "cell_type": "code",
   "execution_count": 14,
   "metadata": {},
   "outputs": [
    {
     "data": {
      "text/html": [
       "<div>\n",
       "<style scoped>\n",
       "    .dataframe tbody tr th:only-of-type {\n",
       "        vertical-align: middle;\n",
       "    }\n",
       "\n",
       "    .dataframe tbody tr th {\n",
       "        vertical-align: top;\n",
       "    }\n",
       "\n",
       "    .dataframe thead th {\n",
       "        text-align: right;\n",
       "    }\n",
       "</style>\n",
       "<table border=\"1\" class=\"dataframe\">\n",
       "  <thead>\n",
       "    <tr style=\"text-align: right;\">\n",
       "      <th></th>\n",
       "      <th>Pay</th>\n",
       "    </tr>\n",
       "  </thead>\n",
       "  <tbody>\n",
       "    <tr>\n",
       "      <th>count</th>\n",
       "      <td>33.00</td>\n",
       "    </tr>\n",
       "    <tr>\n",
       "      <th>mean</th>\n",
       "      <td>589.35</td>\n",
       "    </tr>\n",
       "    <tr>\n",
       "      <th>std</th>\n",
       "      <td>90.94</td>\n",
       "    </tr>\n",
       "    <tr>\n",
       "      <th>min</th>\n",
       "      <td>479.10</td>\n",
       "    </tr>\n",
       "    <tr>\n",
       "      <th>25%</th>\n",
       "      <td>535.90</td>\n",
       "    </tr>\n",
       "    <tr>\n",
       "      <th>50%</th>\n",
       "      <td>554.70</td>\n",
       "    </tr>\n",
       "    <tr>\n",
       "      <th>75%</th>\n",
       "      <td>632.50</td>\n",
       "    </tr>\n",
       "    <tr>\n",
       "      <th>max</th>\n",
       "      <td>902.00</td>\n",
       "    </tr>\n",
       "  </tbody>\n",
       "</table>\n",
       "</div>"
      ],
      "text/plain": [
       "          Pay\n",
       "count   33.00\n",
       "mean   589.35\n",
       "std     90.94\n",
       "min    479.10\n",
       "25%    535.90\n",
       "50%    554.70\n",
       "75%    632.50\n",
       "max    902.00"
      ]
     },
     "execution_count": 14,
     "metadata": {},
     "output_type": "execute_result"
    }
   ],
   "source": [
    "# quick analysis of income \n",
    "df_pay.describe().round(decimals=2)"
   ]
  },
  {
   "cell_type": "markdown",
   "metadata": {},
   "source": [
    "Mean income for London boroughs is 589 pounds per week, with a minimum of 479 and a maximum of 902. This last figure for \"City of London\" is an outlier as we can see in the following Boxplot"
   ]
  },
  {
   "cell_type": "code",
   "execution_count": 15,
   "metadata": {},
   "outputs": [
    {
     "data": {
      "text/plain": [
       "<matplotlib.axes._subplots.AxesSubplot at 0x1e517bb8388>"
      ]
     },
     "execution_count": 15,
     "metadata": {},
     "output_type": "execute_result"
    },
    {
     "data": {
      "image/png": "[encoded data removed]",
      "text/plain": [
       "<Figure size 432x288 with 1 Axes>"
      ]
     },
     "metadata": {
      "needs_background": "light"
     },
     "output_type": "display_data"
    }
   ],
   "source": [
    "sns.boxplot(y=\"Pay\", data=df_pay)"
   ]
  },
  {
   "cell_type": "code",
   "execution_count": 23,
   "metadata": {},
   "outputs": [
    {
     "data": {
      "image/png": "[encoded data removed]",
      "text/plain": [
       "<Figure size 576x360 with 1 Axes>"
      ]
     },
     "metadata": {
      "needs_background": "light"
     },
     "output_type": "display_data"
    }
   ],
   "source": [
    "# 'bin_edges' is a list of bin intervals\n",
    "count, bin_edges = np.histogram(df_pay['Pay'])\n",
    "\n",
    "df_pay['Pay'].plot(kind='hist', figsize=(8, 5), xticks=bin_edges)\n",
    "\n",
    "plt.ylabel('Number of Boroughs') # add y-label\n",
    "plt.xlabel('Pay') # add x-label\n",
    "\n",
    "plt.show()"
   ]
  },
  {
   "cell_type": "markdown",
   "metadata": {},
   "source": [
    "We are going to select the boroughs that are part of the fourth quartile. These are the ones that are in the top 25% or have an income above 632.5"
   ]
  },
  {
   "cell_type": "code",
   "execution_count": 16,
   "metadata": {},
   "outputs": [],
   "source": [
    "new_df_pay = df_pay.loc[(df_pay.Pay > 632.5)]"
   ]
  },
  {
   "cell_type": "code",
   "execution_count": 17,
   "metadata": {},
   "outputs": [
    {
     "data": {
      "text/html": [
       "<div>\n",
       "<style scoped>\n",
       "    .dataframe tbody tr th:only-of-type {\n",
       "        vertical-align: middle;\n",
       "    }\n",
       "\n",
       "    .dataframe tbody tr th {\n",
       "        vertical-align: top;\n",
       "    }\n",
       "\n",
       "    .dataframe thead th {\n",
       "        text-align: right;\n",
       "    }\n",
       "</style>\n",
       "<table border=\"1\" class=\"dataframe\">\n",
       "  <thead>\n",
       "    <tr style=\"text-align: right;\">\n",
       "      <th></th>\n",
       "      <th>Pay</th>\n",
       "    </tr>\n",
       "    <tr>\n",
       "      <th>Borough</th>\n",
       "      <th></th>\n",
       "    </tr>\n",
       "  </thead>\n",
       "  <tbody>\n",
       "    <tr>\n",
       "      <th>City of London</th>\n",
       "      <td>902.0</td>\n",
       "    </tr>\n",
       "    <tr>\n",
       "      <th>Westminster</th>\n",
       "      <td>766.6</td>\n",
       "    </tr>\n",
       "    <tr>\n",
       "      <th>Wandsworth</th>\n",
       "      <td>689.9</td>\n",
       "    </tr>\n",
       "    <tr>\n",
       "      <th>Islington</th>\n",
       "      <td>687.6</td>\n",
       "    </tr>\n",
       "    <tr>\n",
       "      <th>Hammersmith and Fulham</th>\n",
       "      <td>681.3</td>\n",
       "    </tr>\n",
       "    <tr>\n",
       "      <th>Richmond upon Thames</th>\n",
       "      <td>678.2</td>\n",
       "    </tr>\n",
       "    <tr>\n",
       "      <th>Kensington and Chelsea</th>\n",
       "      <td>669.3</td>\n",
       "    </tr>\n",
       "    <tr>\n",
       "      <th>Camden</th>\n",
       "      <td>634.7</td>\n",
       "    </tr>\n",
       "  </tbody>\n",
       "</table>\n",
       "</div>"
      ],
      "text/plain": [
       "                          Pay\n",
       "Borough                      \n",
       "City of London          902.0\n",
       "Westminster             766.6\n",
       "Wandsworth              689.9\n",
       "Islington               687.6\n",
       "Hammersmith and Fulham  681.3\n",
       "Richmond upon Thames    678.2\n",
       "Kensington and Chelsea  669.3\n",
       "Camden                  634.7"
      ]
     },
     "execution_count": 17,
     "metadata": {},
     "output_type": "execute_result"
    }
   ],
   "source": [
    "new_df_pay"
   ]
  },
  {
   "cell_type": "markdown",
   "metadata": {},
   "source": [
    "If  we plan to target our sales to high income boroughs we should definately take into consideration this ones."
   ]
  },
  {
   "cell_type": "markdown",
   "metadata": {},
   "source": [
    "#### Tourism"
   ]
  },
  {
   "cell_type": "markdown",
   "metadata": {},
   "source": [
    "Now that we know which boroughs are the denser and wealthier let's revise which have more tourist. To do so we use public information of hotels rooms per borough. https://www.london.gov.uk/sites/default/files/visitor_accommodation_-_working_paper_88.pdf . The information has already been extracted from the PDF and saved in a csv file."
   ]
  },
  {
   "cell_type": "code",
   "execution_count": 18,
   "metadata": {},
   "outputs": [],
   "source": [
    "df_tourist = pd.read_csv(\"hotels_rooms_borough.csv\", delimiter=\";\")"
   ]
  },
  {
   "cell_type": "code",
   "execution_count": 19,
   "metadata": {},
   "outputs": [
    {
     "data": {
      "text/html": [
       "<div>\n",
       "<style scoped>\n",
       "    .dataframe tbody tr th:only-of-type {\n",
       "        vertical-align: middle;\n",
       "    }\n",
       "\n",
       "    .dataframe tbody tr th {\n",
       "        vertical-align: top;\n",
       "    }\n",
       "\n",
       "    .dataframe thead th {\n",
       "        text-align: right;\n",
       "    }\n",
       "</style>\n",
       "<table border=\"1\" class=\"dataframe\">\n",
       "  <thead>\n",
       "    <tr style=\"text-align: right;\">\n",
       "      <th></th>\n",
       "      <th>Number_of_bedrooms</th>\n",
       "    </tr>\n",
       "    <tr>\n",
       "      <th>Borough</th>\n",
       "      <th></th>\n",
       "    </tr>\n",
       "  </thead>\n",
       "  <tbody>\n",
       "    <tr>\n",
       "      <th>Westminster</th>\n",
       "      <td>38480</td>\n",
       "    </tr>\n",
       "    <tr>\n",
       "      <th>Camden</th>\n",
       "      <td>18038</td>\n",
       "    </tr>\n",
       "    <tr>\n",
       "      <th>Kensington and Chelsea</th>\n",
       "      <td>15151</td>\n",
       "    </tr>\n",
       "    <tr>\n",
       "      <th>Hillingdon</th>\n",
       "      <td>9885</td>\n",
       "    </tr>\n",
       "    <tr>\n",
       "      <th>Tower Hamlets</th>\n",
       "      <td>6757</td>\n",
       "    </tr>\n",
       "  </tbody>\n",
       "</table>\n",
       "</div>"
      ],
      "text/plain": [
       "                        Number_of_bedrooms\n",
       "Borough                                   \n",
       "Westminster                          38480\n",
       "Camden                               18038\n",
       "Kensington and Chelsea               15151\n",
       "Hillingdon                            9885\n",
       "Tower Hamlets                         6757"
      ]
     },
     "execution_count": 19,
     "metadata": {},
     "output_type": "execute_result"
    }
   ],
   "source": [
    "df_tourist.set_index('Borough', inplace=True) \n",
    "df_tourist.rename(columns={'Number of bedrooms':'Number_of_bedrooms'}, inplace=True)\n",
    "df_tourist.head()"
   ]
  },
  {
   "cell_type": "code",
   "execution_count": 20,
   "metadata": {},
   "outputs": [
    {
     "data": {
      "text/html": [
       "<div>\n",
       "<style scoped>\n",
       "    .dataframe tbody tr th:only-of-type {\n",
       "        vertical-align: middle;\n",
       "    }\n",
       "\n",
       "    .dataframe tbody tr th {\n",
       "        vertical-align: top;\n",
       "    }\n",
       "\n",
       "    .dataframe thead th {\n",
       "        text-align: right;\n",
       "    }\n",
       "</style>\n",
       "<table border=\"1\" class=\"dataframe\">\n",
       "  <thead>\n",
       "    <tr style=\"text-align: right;\">\n",
       "      <th></th>\n",
       "      <th>Number_of_bedrooms</th>\n",
       "    </tr>\n",
       "  </thead>\n",
       "  <tbody>\n",
       "    <tr>\n",
       "      <th>count</th>\n",
       "      <td>33.00</td>\n",
       "    </tr>\n",
       "    <tr>\n",
       "      <th>mean</th>\n",
       "      <td>4416.27</td>\n",
       "    </tr>\n",
       "    <tr>\n",
       "      <th>std</th>\n",
       "      <td>7365.71</td>\n",
       "    </tr>\n",
       "    <tr>\n",
       "      <th>min</th>\n",
       "      <td>235.00</td>\n",
       "    </tr>\n",
       "    <tr>\n",
       "      <th>25%</th>\n",
       "      <td>614.00</td>\n",
       "    </tr>\n",
       "    <tr>\n",
       "      <th>50%</th>\n",
       "      <td>1929.00</td>\n",
       "    </tr>\n",
       "    <tr>\n",
       "      <th>75%</th>\n",
       "      <td>4590.00</td>\n",
       "    </tr>\n",
       "    <tr>\n",
       "      <th>max</th>\n",
       "      <td>38480.00</td>\n",
       "    </tr>\n",
       "  </tbody>\n",
       "</table>\n",
       "</div>"
      ],
      "text/plain": [
       "       Number_of_bedrooms\n",
       "count               33.00\n",
       "mean              4416.27\n",
       "std               7365.71\n",
       "min                235.00\n",
       "25%                614.00\n",
       "50%               1929.00\n",
       "75%               4590.00\n",
       "max              38480.00"
      ]
     },
     "execution_count": 20,
     "metadata": {},
     "output_type": "execute_result"
    }
   ],
   "source": [
    "df_tourist.describe().round(decimals=2)"
   ]
  },
  {
   "cell_type": "code",
   "execution_count": 21,
   "metadata": {},
   "outputs": [
    {
     "data": {
      "text/html": [
       "<div>\n",
       "<style scoped>\n",
       "    .dataframe tbody tr th:only-of-type {\n",
       "        vertical-align: middle;\n",
       "    }\n",
       "\n",
       "    .dataframe tbody tr th {\n",
       "        vertical-align: top;\n",
       "    }\n",
       "\n",
       "    .dataframe thead th {\n",
       "        text-align: right;\n",
       "    }\n",
       "</style>\n",
       "<table border=\"1\" class=\"dataframe\">\n",
       "  <thead>\n",
       "    <tr style=\"text-align: right;\">\n",
       "      <th></th>\n",
       "      <th>Number_of_bedrooms</th>\n",
       "    </tr>\n",
       "    <tr>\n",
       "      <th>Borough</th>\n",
       "      <th></th>\n",
       "    </tr>\n",
       "  </thead>\n",
       "  <tbody>\n",
       "    <tr>\n",
       "      <th>Westminster</th>\n",
       "      <td>38480</td>\n",
       "    </tr>\n",
       "    <tr>\n",
       "      <th>Camden</th>\n",
       "      <td>18038</td>\n",
       "    </tr>\n",
       "    <tr>\n",
       "      <th>Kensington and Chelsea</th>\n",
       "      <td>15151</td>\n",
       "    </tr>\n",
       "    <tr>\n",
       "      <th>Hillingdon</th>\n",
       "      <td>9885</td>\n",
       "    </tr>\n",
       "    <tr>\n",
       "      <th>Tower Hamlets</th>\n",
       "      <td>6757</td>\n",
       "    </tr>\n",
       "    <tr>\n",
       "      <th>City of London</th>\n",
       "      <td>6064</td>\n",
       "    </tr>\n",
       "    <tr>\n",
       "      <th>Southwark</th>\n",
       "      <td>5802</td>\n",
       "    </tr>\n",
       "    <tr>\n",
       "      <th>Newham</th>\n",
       "      <td>4810</td>\n",
       "    </tr>\n",
       "  </tbody>\n",
       "</table>\n",
       "</div>"
      ],
      "text/plain": [
       "                        Number_of_bedrooms\n",
       "Borough                                   \n",
       "Westminster                          38480\n",
       "Camden                               18038\n",
       "Kensington and Chelsea               15151\n",
       "Hillingdon                            9885\n",
       "Tower Hamlets                         6757\n",
       "City of London                        6064\n",
       "Southwark                             5802\n",
       "Newham                                4810"
      ]
     },
     "execution_count": 21,
     "metadata": {},
     "output_type": "execute_result"
    }
   ],
   "source": [
    "df_tourist_new = df_tourist.loc[(df_tourist.Number_of_bedrooms > 4590)]\n",
    "df_tourist_new"
   ]
  },
  {
   "cell_type": "code",
   "execution_count": 22,
   "metadata": {},
   "outputs": [
    {
     "data": {
      "text/plain": [
       "<matplotlib.axes._subplots.AxesSubplot at 0x1e518c8dc48>"
      ]
     },
     "execution_count": 22,
     "metadata": {},
     "output_type": "execute_result"
    },
    {
     "data": {
      "image/png": "[encoded data removed]",
      "text/plain": [
       "<Figure size 432x288 with 1 Axes>"
      ]
     },
     "metadata": {
      "needs_background": "light"
     },
     "output_type": "display_data"
    }
   ],
   "source": [
    "sns.boxplot(y=\"Number_of_bedrooms\", data=df_tourist)"
   ]
  },
  {
   "cell_type": "code",
   "execution_count": 166,
   "metadata": {},
   "outputs": [
    {
     "data": {
      "image/png": "[encoded data removed]",
      "text/plain": [
       "<Figure size 576x360 with 1 Axes>"
      ]
     },
     "metadata": {
      "needs_background": "light"
     },
     "output_type": "display_data"
    }
   ],
   "source": [
    "# 'bin_edges' is a list of bin intervals\n",
    "count, bin_edges = np.histogram(df_tourist['Number_of_bedrooms'])\n",
    "\n",
    "df_tourist['Number_of_bedrooms'].plot(kind='hist', figsize=(8, 5), xticks=bin_edges)\n",
    "\n",
    "plt.ylabel('Number of Boroughs') # add y-label\n",
    "plt.xlabel('Number of bedrooms') # add x-label\n",
    "\n",
    "plt.show()"
   ]
  },
  {
   "cell_type": "markdown",
   "metadata": {},
   "source": [
    "Accomodation is quite concentrated in a few boroughs: Westminster, Camden and Kensington and Chelsea \t"
   ]
  },
  {
   "cell_type": "markdown",
   "metadata": {},
   "source": [
    "Join all the different tables."
   ]
  },
  {
   "cell_type": "code",
   "execution_count": 25,
   "metadata": {},
   "outputs": [],
   "source": [
    "df_merge = df_pop.merge(df_pay,on='Borough').merge(df_tourist,on='Borough')"
   ]
  },
  {
   "cell_type": "code",
   "execution_count": 26,
   "metadata": {},
   "outputs": [
    {
     "data": {
      "text/html": [
       "<div>\n",
       "<style scoped>\n",
       "    .dataframe tbody tr th:only-of-type {\n",
       "        vertical-align: middle;\n",
       "    }\n",
       "\n",
       "    .dataframe tbody tr th {\n",
       "        vertical-align: top;\n",
       "    }\n",
       "\n",
       "    .dataframe thead th {\n",
       "        text-align: right;\n",
       "    }\n",
       "</style>\n",
       "<table border=\"1\" class=\"dataframe\">\n",
       "  <thead>\n",
       "    <tr style=\"text-align: right;\">\n",
       "      <th></th>\n",
       "      <th>Population_per_square_kilometre</th>\n",
       "      <th>Pay</th>\n",
       "      <th>Number_of_bedrooms</th>\n",
       "    </tr>\n",
       "    <tr>\n",
       "      <th>Borough</th>\n",
       "      <th></th>\n",
       "      <th></th>\n",
       "      <th></th>\n",
       "    </tr>\n",
       "  </thead>\n",
       "  <tbody>\n",
       "    <tr>\n",
       "      <th>City of London</th>\n",
       "      <td>2770.7</td>\n",
       "      <td>902.0</td>\n",
       "      <td>6064</td>\n",
       "    </tr>\n",
       "    <tr>\n",
       "      <th>Barking and Dagenham</th>\n",
       "      <td>6047.6</td>\n",
       "      <td>479.1</td>\n",
       "      <td>562</td>\n",
       "    </tr>\n",
       "    <tr>\n",
       "      <th>Barnet</th>\n",
       "      <td>4693.4</td>\n",
       "      <td>536.6</td>\n",
       "      <td>1485</td>\n",
       "    </tr>\n",
       "    <tr>\n",
       "      <th>Bexley</th>\n",
       "      <td>4208.8</td>\n",
       "      <td>513.8</td>\n",
       "      <td>571</td>\n",
       "    </tr>\n",
       "    <tr>\n",
       "      <th>Brent</th>\n",
       "      <td>7953.6</td>\n",
       "      <td>480.0</td>\n",
       "      <td>2417</td>\n",
       "    </tr>\n",
       "  </tbody>\n",
       "</table>\n",
       "</div>"
      ],
      "text/plain": [
       "                      Population_per_square_kilometre    Pay  \\\n",
       "Borough                                                        \n",
       "City of London                                 2770.7  902.0   \n",
       "Barking and Dagenham                           6047.6  479.1   \n",
       "Barnet                                         4693.4  536.6   \n",
       "Bexley                                         4208.8  513.8   \n",
       "Brent                                          7953.6  480.0   \n",
       "\n",
       "                      Number_of_bedrooms  \n",
       "Borough                                   \n",
       "City of London                      6064  \n",
       "Barking and Dagenham                 562  \n",
       "Barnet                              1485  \n",
       "Bexley                               571  \n",
       "Brent                               2417  "
      ]
     },
     "execution_count": 26,
     "metadata": {},
     "output_type": "execute_result"
    }
   ],
   "source": [
    "df_merge.head()"
   ]
  },
  {
   "cell_type": "code",
   "execution_count": 27,
   "metadata": {},
   "outputs": [
    {
     "data": {
      "text/html": [
       "<div>\n",
       "<style scoped>\n",
       "    .dataframe tbody tr th:only-of-type {\n",
       "        vertical-align: middle;\n",
       "    }\n",
       "\n",
       "    .dataframe tbody tr th {\n",
       "        vertical-align: top;\n",
       "    }\n",
       "\n",
       "    .dataframe thead th {\n",
       "        text-align: right;\n",
       "    }\n",
       "</style>\n",
       "<table border=\"1\" class=\"dataframe\">\n",
       "  <thead>\n",
       "    <tr style=\"text-align: right;\">\n",
       "      <th></th>\n",
       "      <th>Population_per_square_kilometre</th>\n",
       "      <th>Pay</th>\n",
       "      <th>Number_of_bedrooms</th>\n",
       "    </tr>\n",
       "    <tr>\n",
       "      <th>Borough</th>\n",
       "      <th></th>\n",
       "      <th></th>\n",
       "      <th></th>\n",
       "    </tr>\n",
       "  </thead>\n",
       "  <tbody>\n",
       "    <tr>\n",
       "      <th>Camden</th>\n",
       "      <td>11812.4</td>\n",
       "      <td>634.7</td>\n",
       "      <td>18038</td>\n",
       "    </tr>\n",
       "    <tr>\n",
       "      <th>Kensington and Chelsea</th>\n",
       "      <td>13262.4</td>\n",
       "      <td>669.3</td>\n",
       "      <td>15151</td>\n",
       "    </tr>\n",
       "    <tr>\n",
       "      <th>Westminster</th>\n",
       "      <td>12099.5</td>\n",
       "      <td>766.6</td>\n",
       "      <td>38480</td>\n",
       "    </tr>\n",
       "  </tbody>\n",
       "</table>\n",
       "</div>"
      ],
      "text/plain": [
       "                        Population_per_square_kilometre    Pay  \\\n",
       "Borough                                                          \n",
       "Camden                                          11812.4  634.7   \n",
       "Kensington and Chelsea                          13262.4  669.3   \n",
       "Westminster                                     12099.5  766.6   \n",
       "\n",
       "                        Number_of_bedrooms  \n",
       "Borough                                     \n",
       "Camden                               18038  \n",
       "Kensington and Chelsea               15151  \n",
       "Westminster                          38480  "
      ]
     },
     "execution_count": 27,
     "metadata": {},
     "output_type": "execute_result"
    }
   ],
   "source": [
    "df_merge[(df_merge['Population_per_square_kilometre'] > 11443.8) & (df_merge['Pay'] > 632.5 ) & (df_merge['Number_of_bedrooms'] > 4590 )]"
   ]
  },
  {
   "cell_type": "markdown",
   "metadata": {},
   "source": [
    "Considering the three variables, these three boroughs are in the top 25% of each one. Good options for our shop."
   ]
  },
  {
   "cell_type": "markdown",
   "metadata": {},
   "source": [
    "### Cluster Analysis"
   ]
  },
  {
   "cell_type": "markdown",
   "metadata": {},
   "source": [
    "The objective of this analysis is to understand which boroughs are alike in terms of population density, income and tourism."
   ]
  },
  {
   "cell_type": "code",
   "execution_count": 28,
   "metadata": {},
   "outputs": [],
   "source": [
    "from sklearn.cluster import KMeans \n",
    "from sklearn.preprocessing import StandardScaler"
   ]
  },
  {
   "cell_type": "code",
   "execution_count": 29,
   "metadata": {},
   "outputs": [],
   "source": [
    "df_merge.reset_index(inplace=True)"
   ]
  },
  {
   "cell_type": "markdown",
   "metadata": {},
   "source": [
    "Normalize the dataset."
   ]
  },
  {
   "cell_type": "code",
   "execution_count": 30,
   "metadata": {},
   "outputs": [
    {
     "data": {
      "text/plain": [
       "array([[-1.21351810e+00,  3.49108412e+00,  2.27170991e-01],\n",
       "       [-4.17624258e-01, -1.23108645e+00, -5.31385848e-01],\n",
       "       [-7.46532506e-01, -5.89032047e-01, -4.04132493e-01],\n",
       "       [-8.64232209e-01, -8.43620577e-01, -5.30145025e-01],\n",
       "       [ 4.53052370e-02, -1.22103691e+00, -2.75638313e-01],\n",
       "       [-1.34226885e+00,  4.81803040e-01, -5.31110110e-01],\n",
       "       [ 9.82531016e-01,  5.06368600e-01,  1.87801788e+00],\n",
       "       [-7.62611170e-01, -4.17073128e-01, -2.53992835e-01],\n",
       "       [-3.04272109e-01, -7.40891872e-01, -2.95215753e-01],\n",
       "       [-8.55852845e-01, -1.23108645e+00, -4.99813781e-01],\n",
       "       [-3.85758387e-01, -1.74767378e-01, -3.26512082e-01],\n",
       "       [ 1.80458304e+00, -3.76874939e-01, -3.42918528e-01],\n",
       "       [ 9.38496851e-01,  1.02671182e+00,  2.39516559e-02],\n",
       "       [ 4.84311041e-01, -4.60621166e-01, -5.63509393e-01],\n",
       "       [-6.28589923e-01, -5.70049569e-01, -5.09878239e-01],\n",
       "       [-1.32043392e+00, -5.04169204e-01, -5.29455678e-01],\n",
       "       [-1.22257753e+00, -6.41513016e-01,  7.53969552e-01],\n",
       "       [-6.52683631e-01, -5.96848362e-01, -6.91101155e-02],\n",
       "       [ 2.08333655e+00,  1.09705865e+00, -1.07989256e-01],\n",
       "       [ 1.33470718e+00,  8.92717860e-01,  1.47998924e+00],\n",
       "       [-6.95381954e-01,  4.21505757e-01, -4.40943593e-01],\n",
       "       [ 1.19662983e+00,  3.46692461e-01, -2.03043865e-02],\n",
       "       [ 3.07202862e-01, -4.23772826e-01, -5.47102948e-01],\n",
       "       [-5.13683342e-01,  6.08386731e-02, -5.29179940e-01],\n",
       "       [ 5.52851808e-01, -1.23108645e+00,  5.42829000e-02],\n",
       "       [-5.42197467e-01, -3.86924486e-01, -4.29776181e-01],\n",
       "       [-1.03305817e+00,  9.92096715e-01, -3.71871079e-01],\n",
       "       [ 8.93005406e-01,  5.41389749e-04,  1.91049237e-01],\n",
       "       [-7.16026764e-01, -5.37667695e-01, -5.76469107e-01],\n",
       "       [ 2.14133632e+00,  4.30438687e-01,  3.22714410e-01],\n",
       "       [-7.13500811e-02, -6.71661658e-01, -5.24216645e-01],\n",
       "       [ 4.72094171e-01,  1.12274083e+00, -4.16816468e-01],\n",
       "       [ 1.05226190e+00,  1.97918558e+00,  4.69634193e+00]])"
      ]
     },
     "execution_count": 30,
     "metadata": {},
     "output_type": "execute_result"
    }
   ],
   "source": [
    "london_clustering = df_merge.drop('Borough', 1)\n",
    "X = london_clustering.values\n",
    "X = np.nan_to_num(X)\n",
    "cluster_dataset = StandardScaler().fit_transform(X)\n",
    "cluster_dataset"
   ]
  },
  {
   "cell_type": "markdown",
   "metadata": {},
   "source": [
    "### Modeling"
   ]
  },
  {
   "cell_type": "code",
   "execution_count": 178,
   "metadata": {},
   "outputs": [
    {
     "name": "stdout",
     "output_type": "stream",
     "text": [
      "[2 1 0 0 1 0 4 0 1 0 0 4 4 1 0 0 0 0 4 4 0 4 1 0 1 0 0 4 0 4 1 4 3]\n"
     ]
    }
   ],
   "source": [
    "num_clusters = 5\n",
    "\n",
    "k_means = KMeans(init=\"k-means++\", n_clusters=num_clusters, n_init=12)\n",
    "k_means.fit(cluster_dataset)\n",
    "labels = k_means.labels_\n",
    "\n",
    "print(labels)"
   ]
  },
  {
   "cell_type": "markdown",
   "metadata": {},
   "source": [
    "We assign the labels to each row in dataframe."
   ]
  },
  {
   "cell_type": "code",
   "execution_count": 185,
   "metadata": {},
   "outputs": [],
   "source": [
    "df_merge[\"Labels\"] = labels"
   ]
  },
  {
   "cell_type": "markdown",
   "metadata": {},
   "source": [
    "We can check the centroid values by averaging the features in each cluster."
   ]
  },
  {
   "cell_type": "code",
   "execution_count": 186,
   "metadata": {},
   "outputs": [
    {
     "data": {
      "text/html": [
       "<div>\n",
       "<style scoped>\n",
       "    .dataframe tbody tr th:only-of-type {\n",
       "        vertical-align: middle;\n",
       "    }\n",
       "\n",
       "    .dataframe tbody tr th {\n",
       "        vertical-align: top;\n",
       "    }\n",
       "\n",
       "    .dataframe thead th {\n",
       "        text-align: right;\n",
       "    }\n",
       "</style>\n",
       "<table border=\"1\" class=\"dataframe\">\n",
       "  <thead>\n",
       "    <tr style=\"text-align: right;\">\n",
       "      <th></th>\n",
       "      <th>Population_per_square_kilometre</th>\n",
       "      <th>Pay</th>\n",
       "      <th>Number_of_bedrooms</th>\n",
       "    </tr>\n",
       "    <tr>\n",
       "      <th>Labels</th>\n",
       "      <th></th>\n",
       "      <th></th>\n",
       "      <th></th>\n",
       "    </tr>\n",
       "  </thead>\n",
       "  <tbody>\n",
       "    <tr>\n",
       "      <th>0</th>\n",
       "      <td>4395.89</td>\n",
       "      <td>562.27</td>\n",
       "      <td>1878.40</td>\n",
       "    </tr>\n",
       "    <tr>\n",
       "      <th>1</th>\n",
       "      <td>8117.87</td>\n",
       "      <td>512.84</td>\n",
       "      <td>1636.43</td>\n",
       "    </tr>\n",
       "    <tr>\n",
       "      <th>2</th>\n",
       "      <td>2770.70</td>\n",
       "      <td>902.00</td>\n",
       "      <td>6064.00</td>\n",
       "    </tr>\n",
       "    <tr>\n",
       "      <th>3</th>\n",
       "      <td>12099.50</td>\n",
       "      <td>766.60</td>\n",
       "      <td>38480.00</td>\n",
       "    </tr>\n",
       "    <tr>\n",
       "      <th>4</th>\n",
       "      <td>13186.62</td>\n",
       "      <td>639.57</td>\n",
       "      <td>6840.22</td>\n",
       "    </tr>\n",
       "  </tbody>\n",
       "</table>\n",
       "</div>"
      ],
      "text/plain": [
       "        Population_per_square_kilometre     Pay  Number_of_bedrooms\n",
       "Labels                                                             \n",
       "0                               4395.89  562.27             1878.40\n",
       "1                               8117.87  512.84             1636.43\n",
       "2                               2770.70  902.00             6064.00\n",
       "3                              12099.50  766.60            38480.00\n",
       "4                              13186.62  639.57             6840.22"
      ]
     },
     "execution_count": 186,
     "metadata": {},
     "output_type": "execute_result"
    }
   ],
   "source": [
    "df_merge.groupby('Labels').mean().round(decimals=2)"
   ]
  },
  {
   "cell_type": "code",
   "execution_count": 187,
   "metadata": {},
   "outputs": [
    {
     "data": {
      "text/html": [
       "<div>\n",
       "<style scoped>\n",
       "    .dataframe tbody tr th:only-of-type {\n",
       "        vertical-align: middle;\n",
       "    }\n",
       "\n",
       "    .dataframe tbody tr th {\n",
       "        vertical-align: top;\n",
       "    }\n",
       "\n",
       "    .dataframe thead th {\n",
       "        text-align: right;\n",
       "    }\n",
       "</style>\n",
       "<table border=\"1\" class=\"dataframe\">\n",
       "  <thead>\n",
       "    <tr style=\"text-align: right;\">\n",
       "      <th></th>\n",
       "      <th>Borough</th>\n",
       "      <th>Population_per_square_kilometre</th>\n",
       "      <th>Pay</th>\n",
       "      <th>Number_of_bedrooms</th>\n",
       "      <th>Labels</th>\n",
       "    </tr>\n",
       "  </thead>\n",
       "  <tbody>\n",
       "    <tr>\n",
       "      <th>32</th>\n",
       "      <td>Westminster</td>\n",
       "      <td>12099.5</td>\n",
       "      <td>766.6</td>\n",
       "      <td>38480</td>\n",
       "      <td>3</td>\n",
       "    </tr>\n",
       "  </tbody>\n",
       "</table>\n",
       "</div>"
      ],
      "text/plain": [
       "        Borough  Population_per_square_kilometre    Pay  Number_of_bedrooms  \\\n",
       "32  Westminster                          12099.5  766.6               38480   \n",
       "\n",
       "    Labels  \n",
       "32       3  "
      ]
     },
     "execution_count": 187,
     "metadata": {},
     "output_type": "execute_result"
    }
   ],
   "source": [
    "# Analyze some interesting Clusters:\n",
    "df_merge.sort_values(by=['Labels']).loc[(df_merge.Labels == 3)]"
   ]
  },
  {
   "cell_type": "markdown",
   "metadata": {},
   "source": [
    "Westminster is the only borough in this cluster, with high income, huge population density and plenty of hotels rooms. It is a good option for our shop. The competition will be intense, but in the correct neighbourhood, we could succeed!"
   ]
  },
  {
   "cell_type": "code",
   "execution_count": 188,
   "metadata": {},
   "outputs": [
    {
     "data": {
      "text/html": [
       "<div>\n",
       "<style scoped>\n",
       "    .dataframe tbody tr th:only-of-type {\n",
       "        vertical-align: middle;\n",
       "    }\n",
       "\n",
       "    .dataframe tbody tr th {\n",
       "        vertical-align: top;\n",
       "    }\n",
       "\n",
       "    .dataframe thead th {\n",
       "        text-align: right;\n",
       "    }\n",
       "</style>\n",
       "<table border=\"1\" class=\"dataframe\">\n",
       "  <thead>\n",
       "    <tr style=\"text-align: right;\">\n",
       "      <th></th>\n",
       "      <th>Borough</th>\n",
       "      <th>Population_per_square_kilometre</th>\n",
       "      <th>Pay</th>\n",
       "      <th>Number_of_bedrooms</th>\n",
       "      <th>Labels</th>\n",
       "    </tr>\n",
       "  </thead>\n",
       "  <tbody>\n",
       "    <tr>\n",
       "      <th>0</th>\n",
       "      <td>City of London</td>\n",
       "      <td>2770.7</td>\n",
       "      <td>902.0</td>\n",
       "      <td>6064</td>\n",
       "      <td>2</td>\n",
       "    </tr>\n",
       "  </tbody>\n",
       "</table>\n",
       "</div>"
      ],
      "text/plain": [
       "          Borough  Population_per_square_kilometre    Pay  Number_of_bedrooms  \\\n",
       "0  City of London                           2770.7  902.0                6064   \n",
       "\n",
       "   Labels  \n",
       "0       2  "
      ]
     },
     "execution_count": 188,
     "metadata": {},
     "output_type": "execute_result"
    }
   ],
   "source": [
    "# Analyze some interesting Clusters:\n",
    "df_merge.sort_values(by=['Labels']).loc[(df_merge.Labels == 2)]"
   ]
  },
  {
   "cell_type": "markdown",
   "metadata": {},
   "source": [
    "This cluster has some relation with the last one in terms of income, but the City hasn't got so many hotels rooms and people living there. "
   ]
  },
  {
   "cell_type": "code",
   "execution_count": 189,
   "metadata": {},
   "outputs": [
    {
     "data": {
      "text/html": [
       "<div>\n",
       "<style scoped>\n",
       "    .dataframe tbody tr th:only-of-type {\n",
       "        vertical-align: middle;\n",
       "    }\n",
       "\n",
       "    .dataframe tbody tr th {\n",
       "        vertical-align: top;\n",
       "    }\n",
       "\n",
       "    .dataframe thead th {\n",
       "        text-align: right;\n",
       "    }\n",
       "</style>\n",
       "<table border=\"1\" class=\"dataframe\">\n",
       "  <thead>\n",
       "    <tr style=\"text-align: right;\">\n",
       "      <th></th>\n",
       "      <th>Borough</th>\n",
       "      <th>Population_per_square_kilometre</th>\n",
       "      <th>Pay</th>\n",
       "      <th>Number_of_bedrooms</th>\n",
       "      <th>Labels</th>\n",
       "    </tr>\n",
       "  </thead>\n",
       "  <tbody>\n",
       "    <tr>\n",
       "      <th>19</th>\n",
       "      <td>Kensington and Chelsea</td>\n",
       "      <td>13262.4</td>\n",
       "      <td>669.3</td>\n",
       "      <td>15151</td>\n",
       "      <td>4</td>\n",
       "    </tr>\n",
       "    <tr>\n",
       "      <th>18</th>\n",
       "      <td>Islington</td>\n",
       "      <td>16344.7</td>\n",
       "      <td>687.6</td>\n",
       "      <td>3633</td>\n",
       "      <td>4</td>\n",
       "    </tr>\n",
       "    <tr>\n",
       "      <th>31</th>\n",
       "      <td>Wandsworth</td>\n",
       "      <td>9710.8</td>\n",
       "      <td>689.9</td>\n",
       "      <td>1393</td>\n",
       "      <td>4</td>\n",
       "    </tr>\n",
       "    <tr>\n",
       "      <th>12</th>\n",
       "      <td>Hammersmith and Fulham</td>\n",
       "      <td>11631.1</td>\n",
       "      <td>681.3</td>\n",
       "      <td>4590</td>\n",
       "      <td>4</td>\n",
       "    </tr>\n",
       "    <tr>\n",
       "      <th>27</th>\n",
       "      <td>Southwark</td>\n",
       "      <td>11443.8</td>\n",
       "      <td>589.4</td>\n",
       "      <td>5802</td>\n",
       "      <td>4</td>\n",
       "    </tr>\n",
       "    <tr>\n",
       "      <th>11</th>\n",
       "      <td>Hackney</td>\n",
       "      <td>15197.0</td>\n",
       "      <td>555.6</td>\n",
       "      <td>1929</td>\n",
       "      <td>4</td>\n",
       "    </tr>\n",
       "    <tr>\n",
       "      <th>29</th>\n",
       "      <td>Tower Hamlets</td>\n",
       "      <td>16583.5</td>\n",
       "      <td>627.9</td>\n",
       "      <td>6757</td>\n",
       "      <td>4</td>\n",
       "    </tr>\n",
       "    <tr>\n",
       "      <th>6</th>\n",
       "      <td>Camden</td>\n",
       "      <td>11812.4</td>\n",
       "      <td>634.7</td>\n",
       "      <td>18038</td>\n",
       "      <td>4</td>\n",
       "    </tr>\n",
       "    <tr>\n",
       "      <th>21</th>\n",
       "      <td>Lambeth</td>\n",
       "      <td>12693.9</td>\n",
       "      <td>620.4</td>\n",
       "      <td>4269</td>\n",
       "      <td>4</td>\n",
       "    </tr>\n",
       "  </tbody>\n",
       "</table>\n",
       "</div>"
      ],
      "text/plain": [
       "                   Borough  Population_per_square_kilometre    Pay  \\\n",
       "19  Kensington and Chelsea                          13262.4  669.3   \n",
       "18               Islington                          16344.7  687.6   \n",
       "31              Wandsworth                           9710.8  689.9   \n",
       "12  Hammersmith and Fulham                          11631.1  681.3   \n",
       "27               Southwark                          11443.8  589.4   \n",
       "11                 Hackney                          15197.0  555.6   \n",
       "29           Tower Hamlets                          16583.5  627.9   \n",
       "6                   Camden                          11812.4  634.7   \n",
       "21                 Lambeth                          12693.9  620.4   \n",
       "\n",
       "    Number_of_bedrooms  Labels  \n",
       "19               15151       4  \n",
       "18                3633       4  \n",
       "31                1393       4  \n",
       "12                4590       4  \n",
       "27                5802       4  \n",
       "11                1929       4  \n",
       "29                6757       4  \n",
       "6                18038       4  \n",
       "21                4269       4  "
      ]
     },
     "execution_count": 189,
     "metadata": {},
     "output_type": "execute_result"
    }
   ],
   "source": [
    "# Analyze some interesting Clusters:\n",
    "df_merge.sort_values(by=['Labels']).loc[(df_merge.Labels == 4)]"
   ]
  },
  {
   "cell_type": "markdown",
   "metadata": {},
   "source": [
    "Cluster 4 is also a valid option. There are some very touristic boroughs with a large number of wealthy residents."
   ]
  },
  {
   "cell_type": "markdown",
   "metadata": {},
   "source": [
    "The other two clusters are not good options for our shop. They might be considered for a niche alternative."
   ]
  },
  {
   "cell_type": "markdown",
   "metadata": {},
   "source": [
    "**Please take into consideration that cluster numbers might change once you run the analysis.*"
   ]
  },
  {
   "cell_type": "markdown",
   "metadata": {},
   "source": [
    "### The first winner: Westminster"
   ]
  },
  {
   "cell_type": "markdown",
   "metadata": {},
   "source": [
    "We chose this borough to put our shop, but where? The borough is quite extended and has many districts. According to Wikipedia (https://en.wikipedia.org/wiki/List_of_districts_in_the_City_of_Westminster) there are more than 30 different districts. Let's analyze where they are located."
   ]
  },
  {
   "cell_type": "code",
   "execution_count": 34,
   "metadata": {},
   "outputs": [
    {
     "name": "stdout",
     "output_type": "stream",
     "text": [
      "The geograpical coordinate of Westminster are 51.4973206, -0.137149.\n"
     ]
    }
   ],
   "source": [
    "address = 'City of Westminster, London'\n",
    "\n",
    "geolocator = Nominatim(user_agent=\"london_explorer\")\n",
    "location = geolocator.geocode(address)\n",
    "latitude = location.latitude\n",
    "longitude = location.longitude\n",
    "print('The geograpical coordinate of Westminster are {}, {}.'.format(latitude, longitude))"
   ]
  },
  {
   "cell_type": "code",
   "execution_count": 38,
   "metadata": {},
   "outputs": [],
   "source": [
    "df_west = pd.read_csv(\"westminster.csv\", delimiter=\";\")"
   ]
  },
  {
   "cell_type": "code",
   "execution_count": 41,
   "metadata": {},
   "outputs": [
    {
     "data": {
      "text/html": [
       "<div>\n",
       "<style scoped>\n",
       "    .dataframe tbody tr th:only-of-type {\n",
       "        vertical-align: middle;\n",
       "    }\n",
       "\n",
       "    .dataframe tbody tr th {\n",
       "        vertical-align: top;\n",
       "    }\n",
       "\n",
       "    .dataframe thead th {\n",
       "        text-align: right;\n",
       "    }\n",
       "</style>\n",
       "<table border=\"1\" class=\"dataframe\">\n",
       "  <thead>\n",
       "    <tr style=\"text-align: right;\">\n",
       "      <th></th>\n",
       "      <th>Neighborhood</th>\n",
       "      <th>Latitude</th>\n",
       "      <th>Longitude</th>\n",
       "    </tr>\n",
       "  </thead>\n",
       "  <tbody>\n",
       "    <tr>\n",
       "      <th>0</th>\n",
       "      <td>Adelphi</td>\n",
       "      <td>51.509167</td>\n",
       "      <td>-0.12250</td>\n",
       "    </tr>\n",
       "    <tr>\n",
       "      <th>1</th>\n",
       "      <td>Aldwych</td>\n",
       "      <td>51.513200</td>\n",
       "      <td>-0.11670</td>\n",
       "    </tr>\n",
       "    <tr>\n",
       "      <th>2</th>\n",
       "      <td>Bayswater</td>\n",
       "      <td>51.509500</td>\n",
       "      <td>-0.19290</td>\n",
       "    </tr>\n",
       "    <tr>\n",
       "      <th>3</th>\n",
       "      <td>Belgravia</td>\n",
       "      <td>51.497950</td>\n",
       "      <td>-0.15453</td>\n",
       "    </tr>\n",
       "    <tr>\n",
       "      <th>4</th>\n",
       "      <td>Charing Cross</td>\n",
       "      <td>51.507300</td>\n",
       "      <td>-0.12755</td>\n",
       "    </tr>\n",
       "  </tbody>\n",
       "</table>\n",
       "</div>"
      ],
      "text/plain": [
       "    Neighborhood   Latitude  Longitude\n",
       "0        Adelphi  51.509167   -0.12250\n",
       "1        Aldwych  51.513200   -0.11670\n",
       "2      Bayswater  51.509500   -0.19290\n",
       "3      Belgravia  51.497950   -0.15453\n",
       "4  Charing Cross  51.507300   -0.12755"
      ]
     },
     "execution_count": 41,
     "metadata": {},
     "output_type": "execute_result"
    }
   ],
   "source": [
    "df_west.head()"
   ]
  },
  {
   "cell_type": "code",
   "execution_count": 39,
   "metadata": {},
   "outputs": [
    {
     "data": {
      "text/html": [
       "<div style=\"width:100%;\"><div style=\"position:relative;width:100%;height:0;padding-bottom:60%;\"><iframe src=\"about:blank\" style=\"position:absolute;width:100%;height:100%;left:0;top:0;border:none !important;\" data-html=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 onload=\"this.contentDocument.open();this.contentDocument.write(atob(this.getAttribute('data-html')));this.contentDocument.close();\" allowfullscreen webkitallowfullscreen mozallowfullscreen></iframe></div></div>"
      ],
      "text/plain": [
       "<folium.folium.Map at 0x1eacaadf688>"
      ]
     },
     "execution_count": 39,
     "metadata": {},
     "output_type": "execute_result"
    }
   ],
   "source": [
    "# create map of Westminster using latitude and longitude values\n",
    "map_west = folium.Map(location=[latitude, longitude], zoom_start=12)\n",
    "\n",
    "# add markers to map\n",
    "for lat, lng, borough in zip(df_west['Latitude'], df_west['Longitude'], df_west['Neighborhood']):\n",
    "    label = '{}'.format(borough)\n",
    "    label = folium.Popup(label, parse_html=True)\n",
    "    folium.CircleMarker(\n",
    "        [lat, lng],\n",
    "        radius=5,\n",
    "        popup=label,\n",
    "        color='blue',\n",
    "        fill=True,\n",
    "        fill_color='#3186cc',\n",
    "        fill_opacity=0.7,\n",
    "        parse_html=False).add_to(map_west)  \n",
    "    \n",
    "map_west"
   ]
  },
  {
   "cell_type": "markdown",
   "metadata": {},
   "source": [
    "### Foursquare - Westminster Ice Cream Shops\n",
    "We have our location candidates, let's use Foursquare API to get info on ice-cream shops in each neighborhood"
   ]
  },
  {
   "cell_type": "code",
   "execution_count": 92,
   "metadata": {},
   "outputs": [
    {
     "name": "stdout",
     "output_type": "stream",
     "text": [
      "Your credentails:\n",
      "CLIENT_ID: 5VJ44BEITBESYOZPPQVOENNO4QW2T22FCLL5OOWDHGK2RG0Z\n",
      "CLIENT_SECRET:CSBGMT3XQ3GN0OJIPYXYTKBLX2NAP42OWFTMZM1BIO4ZLCCB\n"
     ]
    }
   ],
   "source": [
    "CLIENT_ID = '5VJ44BEITBESYOZPPQVOENNO4QW2T22FCLL5OOWDHGK2RG0Z' # your Foursquare ID\n",
    "CLIENT_SECRET = 'CSBGMT3XQ3GN0OJIPYXYTKBLX2NAP42OWFTMZM1BIO4ZLCCB' # your Foursquare Secret\n",
    "VERSION = '20180323' # Foursquare API version\n",
    "LIMIT = 100\n",
    "\n",
    "print('Your credentails:')\n",
    "print('CLIENT_ID: ' + CLIENT_ID)\n",
    "print('CLIENT_SECRET:' + CLIENT_SECRET)"
   ]
  },
  {
   "cell_type": "markdown",
   "metadata": {},
   "source": [
    "Now lets search for ice cream shops in this neighborhoods"
   ]
  },
  {
   "cell_type": "code",
   "execution_count": 205,
   "metadata": {},
   "outputs": [],
   "source": [
    "categoryId = '4bf58dd8d48988d1c9941735' # this is the classification code for this type of shops (https://developer.foursquare.com/docs/build-with-foursquare/categories/)"
   ]
  },
  {
   "cell_type": "code",
   "execution_count": 206,
   "metadata": {},
   "outputs": [],
   "source": [
    "def getNearbyHelado(names, latitudes, longitudes, radius=500):\n",
    "    \n",
    "    venues_list=[]\n",
    "    for name, lat, lng in zip(names, latitudes, longitudes):\n",
    "        print(name)\n",
    "            \n",
    "        # create the API request URL\n",
    "        url = 'https://api.foursquare.com/v2/venues/search?client_id={}&client_secret={}&ll={},{}&v={}&categoryId={}&radius={}&limit={}'.format(\n",
    "            CLIENT_ID, \n",
    "            CLIENT_SECRET, \n",
    "            lat, \n",
    "            lng,\n",
    "            VERSION, \n",
    "            categoryId,\n",
    "            radius, \n",
    "            LIMIT)\n",
    "            \n",
    "        # make the GET request\n",
    "        results = requests.get(url).json()['response']['venues']\n",
    "        \n",
    "        # return only relevant information for each nearby venue\n",
    "        venues_list.append([(\n",
    "            name, \n",
    "            lat, \n",
    "            lng, \n",
    "            v['name'], \n",
    "            v['location']['lat'], \n",
    "            v['location']['lng']) for v in results])\n",
    "\n",
    "    nearby_venues = pd.DataFrame([item for venue_list in venues_list for item in venue_list])\n",
    "    nearby_venues.columns = ['Neighborhood', \n",
    "                  'Neighborhood Latitude', \n",
    "                  'Neighborhood Longitude', \n",
    "                  'Venue', \n",
    "                  'Venue Latitude', \n",
    "                  'Venue Longitude']\n",
    "    \n",
    "    return(nearby_venues)"
   ]
  },
  {
   "cell_type": "code",
   "execution_count": 207,
   "metadata": {},
   "outputs": [
    {
     "name": "stdout",
     "output_type": "stream",
     "text": [
      "Adelphi\n",
      "Aldwych\n",
      "Bayswater\n",
      "Belgravia\n",
      "Charing Cross\n",
      "Chinatown\n",
      "Covent Garden\n",
      "Fitzrovia\n",
      "Kensal Town\n",
      "Hyde Park\n",
      "Knightsbridge\n",
      "Lisson Grove\n",
      "Maida Vale\n",
      "Marylebone\n",
      "Mayfair\n",
      "Millbank\n",
      "Paddington\n",
      "Paddington Green\n",
      "Pimlico\n",
      "Portman Estate\n",
      "Queen's Park\n",
      "Soho\n",
      "St James's\n",
      "St John's Wood\n",
      "Strand\n",
      "Temple\n",
      "Victoria\n",
      "Westbourne\n",
      "Westbourne Green\n",
      "Westminster\n"
     ]
    }
   ],
   "source": [
    "westminster_ice = getNearbyHelado(names=df_west['Neighborhood'],\n",
    "                                   latitudes=df_west['Latitude'],\n",
    "                                   longitudes=df_west['Longitude']\n",
    "                                  )"
   ]
  },
  {
   "cell_type": "code",
   "execution_count": 208,
   "metadata": {},
   "outputs": [
    {
     "name": "stdout",
     "output_type": "stream",
     "text": [
      "(157, 6)\n"
     ]
    },
    {
     "data": {
      "text/html": [
       "<div>\n",
       "<style scoped>\n",
       "    .dataframe tbody tr th:only-of-type {\n",
       "        vertical-align: middle;\n",
       "    }\n",
       "\n",
       "    .dataframe tbody tr th {\n",
       "        vertical-align: top;\n",
       "    }\n",
       "\n",
       "    .dataframe thead th {\n",
       "        text-align: right;\n",
       "    }\n",
       "</style>\n",
       "<table border=\"1\" class=\"dataframe\">\n",
       "  <thead>\n",
       "    <tr style=\"text-align: right;\">\n",
       "      <th></th>\n",
       "      <th>Neighborhood</th>\n",
       "      <th>Neighborhood Latitude</th>\n",
       "      <th>Neighborhood Longitude</th>\n",
       "      <th>Venue</th>\n",
       "      <th>Venue Latitude</th>\n",
       "      <th>Venue Longitude</th>\n",
       "    </tr>\n",
       "  </thead>\n",
       "  <tbody>\n",
       "    <tr>\n",
       "      <th>0</th>\n",
       "      <td>Adelphi</td>\n",
       "      <td>51.509167</td>\n",
       "      <td>-0.1225</td>\n",
       "      <td>Milk Train</td>\n",
       "      <td>51.511577</td>\n",
       "      <td>-0.121568</td>\n",
       "    </tr>\n",
       "    <tr>\n",
       "      <th>1</th>\n",
       "      <td>Adelphi</td>\n",
       "      <td>51.509167</td>\n",
       "      <td>-0.1225</td>\n",
       "      <td>Venchi</td>\n",
       "      <td>51.511888</td>\n",
       "      <td>-0.122484</td>\n",
       "    </tr>\n",
       "    <tr>\n",
       "      <th>2</th>\n",
       "      <td>Adelphi</td>\n",
       "      <td>51.509167</td>\n",
       "      <td>-0.1225</td>\n",
       "      <td>Amorino</td>\n",
       "      <td>51.511510</td>\n",
       "      <td>-0.125794</td>\n",
       "    </tr>\n",
       "    <tr>\n",
       "      <th>3</th>\n",
       "      <td>Adelphi</td>\n",
       "      <td>51.509167</td>\n",
       "      <td>-0.1225</td>\n",
       "      <td>Gelatorino</td>\n",
       "      <td>51.512737</td>\n",
       "      <td>-0.120977</td>\n",
       "    </tr>\n",
       "    <tr>\n",
       "      <th>4</th>\n",
       "      <td>Adelphi</td>\n",
       "      <td>51.509167</td>\n",
       "      <td>-0.1225</td>\n",
       "      <td>La Gelatiera</td>\n",
       "      <td>51.511046</td>\n",
       "      <td>-0.126828</td>\n",
       "    </tr>\n",
       "  </tbody>\n",
       "</table>\n",
       "</div>"
      ],
      "text/plain": [
       "  Neighborhood  Neighborhood Latitude  Neighborhood Longitude         Venue  \\\n",
       "0      Adelphi              51.509167                 -0.1225    Milk Train   \n",
       "1      Adelphi              51.509167                 -0.1225        Venchi   \n",
       "2      Adelphi              51.509167                 -0.1225       Amorino   \n",
       "3      Adelphi              51.509167                 -0.1225    Gelatorino   \n",
       "4      Adelphi              51.509167                 -0.1225  La Gelatiera   \n",
       "\n",
       "   Venue Latitude  Venue Longitude  \n",
       "0       51.511577        -0.121568  \n",
       "1       51.511888        -0.122484  \n",
       "2       51.511510        -0.125794  \n",
       "3       51.512737        -0.120977  \n",
       "4       51.511046        -0.126828  "
      ]
     },
     "execution_count": 208,
     "metadata": {},
     "output_type": "execute_result"
    }
   ],
   "source": [
    "print(westminster_ice.shape)\n",
    "westminster_ice.head()"
   ]
  },
  {
   "cell_type": "markdown",
   "metadata": {},
   "source": [
    "Some neighborhoods are very close, so there might be some ice cream shops that appear duplicated in the list."
   ]
  },
  {
   "cell_type": "code",
   "execution_count": 209,
   "metadata": {},
   "outputs": [
    {
     "data": {
      "text/html": [
       "<div>\n",
       "<style scoped>\n",
       "    .dataframe tbody tr th:only-of-type {\n",
       "        vertical-align: middle;\n",
       "    }\n",
       "\n",
       "    .dataframe tbody tr th {\n",
       "        vertical-align: top;\n",
       "    }\n",
       "\n",
       "    .dataframe thead th {\n",
       "        text-align: right;\n",
       "    }\n",
       "</style>\n",
       "<table border=\"1\" class=\"dataframe\">\n",
       "  <thead>\n",
       "    <tr style=\"text-align: right;\">\n",
       "      <th></th>\n",
       "      <th>counts</th>\n",
       "    </tr>\n",
       "    <tr>\n",
       "      <th>unique_values</th>\n",
       "      <th></th>\n",
       "    </tr>\n",
       "  </thead>\n",
       "  <tbody>\n",
       "    <tr>\n",
       "      <th>Chinatown</th>\n",
       "      <td>26</td>\n",
       "    </tr>\n",
       "    <tr>\n",
       "      <th>Soho</th>\n",
       "      <td>25</td>\n",
       "    </tr>\n",
       "    <tr>\n",
       "      <th>St James's</th>\n",
       "      <td>18</td>\n",
       "    </tr>\n",
       "    <tr>\n",
       "      <th>Covent Garden</th>\n",
       "      <td>14</td>\n",
       "    </tr>\n",
       "    <tr>\n",
       "      <th>Adelphi</th>\n",
       "      <td>9</td>\n",
       "    </tr>\n",
       "    <tr>\n",
       "      <th>Strand</th>\n",
       "      <td>8</td>\n",
       "    </tr>\n",
       "    <tr>\n",
       "      <th>Bayswater</th>\n",
       "      <td>8</td>\n",
       "    </tr>\n",
       "    <tr>\n",
       "      <th>Aldwych</th>\n",
       "      <td>7</td>\n",
       "    </tr>\n",
       "    <tr>\n",
       "      <th>Westbourne</th>\n",
       "      <td>6</td>\n",
       "    </tr>\n",
       "    <tr>\n",
       "      <th>Marylebone</th>\n",
       "      <td>6</td>\n",
       "    </tr>\n",
       "    <tr>\n",
       "      <th>Portman Estate</th>\n",
       "      <td>5</td>\n",
       "    </tr>\n",
       "    <tr>\n",
       "      <th>Fitzrovia</th>\n",
       "      <td>5</td>\n",
       "    </tr>\n",
       "    <tr>\n",
       "      <th>Charing Cross</th>\n",
       "      <td>4</td>\n",
       "    </tr>\n",
       "    <tr>\n",
       "      <th>Mayfair</th>\n",
       "      <td>3</td>\n",
       "    </tr>\n",
       "    <tr>\n",
       "      <th>Temple</th>\n",
       "      <td>2</td>\n",
       "    </tr>\n",
       "    <tr>\n",
       "      <th>Paddington</th>\n",
       "      <td>2</td>\n",
       "    </tr>\n",
       "    <tr>\n",
       "      <th>Victoria</th>\n",
       "      <td>2</td>\n",
       "    </tr>\n",
       "    <tr>\n",
       "      <th>St John's Wood</th>\n",
       "      <td>2</td>\n",
       "    </tr>\n",
       "    <tr>\n",
       "      <th>Maida Vale</th>\n",
       "      <td>1</td>\n",
       "    </tr>\n",
       "    <tr>\n",
       "      <th>Paddington Green</th>\n",
       "      <td>1</td>\n",
       "    </tr>\n",
       "    <tr>\n",
       "      <th>Belgravia</th>\n",
       "      <td>1</td>\n",
       "    </tr>\n",
       "    <tr>\n",
       "      <th>Knightsbridge</th>\n",
       "      <td>1</td>\n",
       "    </tr>\n",
       "    <tr>\n",
       "      <th>Hyde Park</th>\n",
       "      <td>1</td>\n",
       "    </tr>\n",
       "  </tbody>\n",
       "</table>\n",
       "</div>"
      ],
      "text/plain": [
       "                  counts\n",
       "unique_values           \n",
       "Chinatown             26\n",
       "Soho                  25\n",
       "St James's            18\n",
       "Covent Garden         14\n",
       "Adelphi                9\n",
       "Strand                 8\n",
       "Bayswater              8\n",
       "Aldwych                7\n",
       "Westbourne             6\n",
       "Marylebone             6\n",
       "Portman Estate         5\n",
       "Fitzrovia              5\n",
       "Charing Cross          4\n",
       "Mayfair                3\n",
       "Temple                 2\n",
       "Paddington             2\n",
       "Victoria               2\n",
       "St John's Wood         2\n",
       "Maida Vale             1\n",
       "Paddington Green       1\n",
       "Belgravia              1\n",
       "Knightsbridge          1\n",
       "Hyde Park              1"
      ]
     },
     "execution_count": 209,
     "metadata": {},
     "output_type": "execute_result"
    }
   ],
   "source": [
    "top_ice = westminster_ice['Neighborhood'].value_counts().rename_axis('unique_values').to_frame('counts')\n",
    "top_ice"
   ]
  },
  {
   "cell_type": "code",
   "execution_count": 215,
   "metadata": {},
   "outputs": [
    {
     "data": {
      "image/png": "[encoded data removed]",
      "text/plain": [
       "<Figure size 720x432 with 1 Axes>"
      ]
     },
     "metadata": {
      "needs_background": "light"
     },
     "output_type": "display_data"
    }
   ],
   "source": [
    "# step 2: plot data\n",
    "top_ice.plot(kind='bar', figsize=(10, 6))\n",
    "\n",
    "plt.xlabel('Neighborhood') # add to x-label to the plot\n",
    "plt.ylabel('Ice Cream Shops') # add y-label to the plot\n",
    "plt.title('Ice Cream Shops per neighborhood') # add title to the plot\n",
    "\n",
    "plt.show()"
   ]
  },
  {
   "cell_type": "markdown",
   "metadata": {},
   "source": [
    "Let's see them in a map."
   ]
  },
  {
   "cell_type": "code",
   "execution_count": 211,
   "metadata": {},
   "outputs": [
    {
     "data": {
      "text/html": [
       "<div style=\"width:100%;\"><div style=\"position:relative;width:100%;height:0;padding-bottom:60%;\"><iframe src=\"about:blank\" style=\"position:absolute;width:100%;height:100%;left:0;top:0;border:none !important;\" data-html=PCFET0NUWVBFIGh0bWw+CjxoZWFkPiAgICAKICAgIDxtZXRhIGh0dHAtZXF1aXY9ImNvbnRlbnQtdHlwZSIgY29udGVudD0idGV4dC9odG1sOyBjaGFyc2V0PVVURi04IiAvPgogICAgPHNjcmlwdD5MX1BSRUZFUl9DQU5WQVMgPSBmYWxzZTsgTF9OT19UT1VDSCA9IGZhbHNlOyBMX0RJU0FCTEVfM0QgPSBmYWxzZTs8L3NjcmlwdD4KICAgIDxzY3JpcHQgc3JjPSJodHRwczovL2Nkbi5qc2RlbGl2ci5uZXQvbnBtL2xlYWZsZXRAMS4yLjAvZGlzdC9sZWFmbGV0LmpzIj48L3NjcmlwdD4KICAgIDxzY3JpcHQgc3JjPSJodHRwczovL2FqYXguZ29vZ2xlYXBpcy5jb20vYWpheC9saWJzL2pxdWVyeS8xLjExLjEvanF1ZXJ5Lm1pbi5qcyI+PC9zY3JpcHQ+CiAgICA8c2NyaXB0IHNyYz0iaHR0cHM6Ly9tYXhjZG4uYm9vdHN0cmFwY2RuLmNvbS9ib290c3RyYXAvMy4yLjAvanMvYm9vdHN0cmFwLm1pbi5qcyI+PC9zY3JpcHQ+CiAgICA8c2NyaXB0IHNyYz0iaHR0cHM6Ly9jZG5qcy5jbG91ZGZsYXJlLmNvbS9hamF4L2xpYnMvTGVhZmxldC5hd2Vzb21lLW1hcmtlcnMvMi4wLjIvbGVhZmxldC5hd2Vzb21lLW1hcmtlcnMuanMiPjwvc2NyaXB0PgogICAgPGxpbmsgcmVsPSJzdHlsZXNoZWV0IiBocmVmPSJodHRwczovL2Nkbi5qc2RlbGl2ci5uZXQvbnBtL2xlYWZsZXRAMS4yLjAvZGlzdC9sZWFmbGV0LmNzcyIvPgogICAgPGxpbmsgcmVsPSJzdHlsZXNoZWV0IiBocmVmPSJodHRwczovL21heGNkbi5ib290c3RyYXBjZG4uY29tL2Jvb3RzdHJhcC8zLjIuMC9jc3MvYm9vdHN0cmFwLm1pbi5jc3MiLz4KICAgIDxsaW5rIHJlbD0ic3R5bGVzaGVldCIgaHJlZj0iaHR0cHM6Ly9tYXhjZG4uYm9vdHN0cmFwY2RuLmNvbS9ib290c3RyYXAvMy4yLjAvY3NzL2Jvb3RzdHJhcC10aGVtZS5taW4uY3NzIi8+CiAgICA8bGluayByZWw9InN0eWxlc2hlZXQiIGhyZWY9Imh0dHBzOi8vbWF4Y2RuLmJvb3RzdHJhcGNkbi5jb20vZm9udC1hd2Vzb21lLzQuNi4zL2Nzcy9mb250LWF3ZXNvbWUubWluLmNzcyIvPgogICAgPGxpbmsgcmVsPSJzdHlsZXNoZWV0IiBocmVmPSJodHRwczovL2NkbmpzLmNsb3VkZmxhcmUuY29tL2FqYXgvbGlicy9MZWFmbGV0LmF3ZXNvbWUtbWFya2Vycy8yLjAuMi9sZWFmbGV0LmF3ZXNvbWUtbWFya2Vycy5jc3MiLz4KICAgIDxsaW5rIHJlbD0ic3R5bGVzaGVldCIgaHJlZj0iaHR0cHM6Ly9yYXdnaXQuY29tL3B5dGhvbi12aXN1YWxpemF0aW9uL2ZvbGl1bS9tYXN0ZXIvZm9saXVtL3RlbXBsYXRlcy9sZWFmbGV0LmF3ZXNvbWUucm90YXRlLmNzcyIvPgogICAgPHN0eWxlPmh0bWwsIGJvZHkge3dpZHRoOiAxMDAlO2hlaWdodDogMTAwJTttYXJnaW46IDA7cGFkZGluZzogMDt9PC9zdHlsZT4KICAgIDxzdHlsZT4jbWFwIHtwb3NpdGlvbjphYnNvbHV0ZTt0b3A6MDtib3R0b206MDtyaWdodDowO2xlZnQ6MDt9PC9zdHlsZT4KICAgIAogICAgICAgICAgICA8c3R5bGU+ICNtYXBfZjkzOTdkOWI2MDFjNGZhMjk2OTZlYWQ4MjRkOTIzMDggewogICAgICAgICAgICAgICAgcG9zaXRpb24gOiByZWxhdGl2ZTsKICAgICAgICAgICAgICAgIHdpZHRoIDogMTAwLjAlOwogICAgICAgICAgICAgICAgaGVpZ2h0OiAxMDAuMCU7CiAgICAgICAgICAgICAgICBsZWZ0OiAwLjAlOwogICAgICAgICAgICAgICAgdG9wOiAwLjAlOwogICAgICAgICAgICAgICAgfQogICAgICAgICAgICA8L3N0eWxlPgogICAgICAgIAo8L2hlYWQ+Cjxib2R5PiAgICAKICAgIAogICAgICAgICAgICA8ZGl2IGNsYXNzPSJmb2xpdW0tbWFwIiBpZD0ibWFwX2Y5Mzk3ZDliNjAxYzRmYTI5Njk2ZWFkODI0ZDkyMzA4IiA+PC9kaXY+CiAgICAgICAgCjwvYm9keT4KPHNjcmlwdD4gICAgCiAgICAKCiAgICAgICAgICAgIAogICAgICAgICAgICAgICAgdmFyIGJvdW5kcyA9IG51bGw7CiAgICAgICAgICAgIAoKICAgICAgICAgICAgdmFyIG1hcF9mOTM5N2Q5YjYwMWM0ZmEyOTY5NmVhZDgyNGQ5MjMwOCA9IEwubWFwKAogICAgICAgICAgICAgICAgICAgICAgICAgICAgICAgICAgJ21hcF9mOTM5N2Q5YjYwMWM0ZmEyOTY5NmVhZDgyNGQ5MjMwOCcsCiAgICAgICAgICAgICAgICAgICAgICAgICAgICAgICAgICB7Y2VudGVyOiBbNTEuNDk3MzIwNiwtMC4xMzcxNDldLAogICAgICAgICAgICAgICAgICAgICAgICAgICAgICAgICAgem9vbTogMTMsCiAgICAgICAgICAgICAgICAgICAgICAgICAgICAgICAgICBtYXhCb3VuZHM6IGJvdW5kcywKICAgICAgICAgICAgICAgICAgICAgICAgICAgICAgICAgIGxheWVyczogW10sCiAgICAgICAgICAgICAgICAgICAgICAgICAgICAgICAgICB3b3JsZENvcHlKdW1wOiBmYWxzZSwKICAgICAgICAgICAgICAgICAgICAgICAgICAgICAgICAgIGNyczogTC5DUlMuRVBTRzM4NTcKICAgICAgICAgICAgICAgICAgICAgICAgICAgICAgICAgfSk7CiAgICAgICAgICAgIAogICAgICAgIAogICAgCiAgICAgICAgICAgIHZhciB0aWxlX2xheWVyX2IwODRiYzM5NzNlYTQ5ZDg5NDdiZGVmYjQwY2U5MDMxID0gTC50aWxlTGF5ZXIoCiAgICAgICAgICAgICAgICAnaHR0cHM6Ly97c30udGlsZS5vcGVuc3RyZWV0bWFwLm9yZy97en0ve3h9L3t5fS5wbmcnLAogICAgICAgICAgICAgICAgewogICJhdHRyaWJ1dGlvbiI6IG51bGwsCiAgImRldGVjdFJldGluYSI6IGZhbHNlLAogICJtYXhab29tIjogMTgsCiAgIm1pblpvb20iOiAxLAogICJub1dyYXAiOiBmYWxzZSwKICAic3ViZG9tYWlucyI6ICJhYmMiCn0KICAgICAgICAgICAgICAgICkuYWRkVG8obWFwX2Y5Mzk3ZDliNjAxYzRmYTI5Njk2ZWFkODI0ZDkyMzA4KTsKICAgICAgICAKICAgIAogICAgICAgICAgICB2YXIgY2lyY2xlX21hcmtlcl8zMWI5ZjFkNDM1Mjk0MDIzODE2MDBmZGQ3MjUwZmY5NCA9IEwuY2lyY2xlTWFya2VyKAogICAgICAgICAgICAgICAgWzUxLjUxMTU3NzM5MzA5NTI5LC0wLjEyMTU2ODI1MzE2NjY1MDldLAogICAgICAgICAgICAgICAgewogICJidWJibGluZ01vdXNlRXZlbnRzIjogdHJ1ZSwKICAiY29sb3IiOiAicmVkIiwKICAiZGFzaEFycmF5IjogbnVsbCwKICAiZGFzaE9mZnNldCI6IG51bGwsCiAgImZpbGwiOiB0cnVlLAogICJmaWxsQ29sb3IiOiAiI0U5NDk3NSIsCiAgImZpbGxPcGFjaXR5IjogMC43LAogICJmaWxsUnVsZSI6ICJldmVub2RkIiwKICAibGluZUNhcCI6ICJyb3VuZCIsCiAgImxpbmVKb2luIjogInJvdW5kIiwKICAib3BhY2l0eSI6IDEuMCwKICAicmFkaXVzIjogNSwKICAic3Ryb2tlIjogdHJ1ZSwKICAid2VpZ2h0IjogMwp9CiAgICAgICAgICAgICAgICApLmFkZFRvKG1hcF9mOTM5N2Q5YjYwMWM0ZmEyOTY5NmVhZDgyNGQ5MjMwOCk7CiAgICAgICAgICAgIAogICAgCiAgICAgICAgICAgIHZhciBwb3B1cF8zMDllNmJhMjljMGY0ODUzYjgzYzBmNjlhMTE1OTIwYSA9IEwucG9wdXAoe21heFdpZHRoOiAnMzAwJ30pOwoKICAgICAgICAgICAgCiAgICAgICAgICAgICAgICB2YXIgaHRtbF9kM2U2YjQ2MDk3ZjA0YWU0YjYwZjgwY2UxZTZmZDU1ZiA9ICQoJzxkaXYgaWQ9Imh0bWxfZDNlNmI0NjA5N2YwNGFlNGI2MGY4MGNlMWU2ZmQ1NWYiIHN0eWxlPSJ3aWR0aDogMTAwLjAlOyBoZWlnaHQ6IDEwMC4wJTsiPk1pbGsgVHJhaW48L2Rpdj4nKVswXTsKICAgICAgICAgICAgICAgIHBvcHVwXzMwOWU2YmEyOWMwZjQ4NTNiODNjMGY2OWExMTU5MjBhLnNldENvbnRlbnQoaHRtbF9kM2U2YjQ2MDk3ZjA0YWU0YjYwZjgwY2UxZTZmZDU1Zik7CiAgICAgICAgICAgIAoKICAgICAgICAgICAgY2lyY2xlX21hcmtlcl8zMWI5ZjFkNDM1Mjk0MDIzODE2MDBmZGQ3MjUwZmY5NC5iaW5kUG9wdXAocG9wdXBfMzA5ZTZiYTI5YzBmNDg1M2I4M2MwZjY5YTExNTkyMGEpOwoKICAgICAgICAgICAgCiAgICAgICAgCiAgICAKICAgICAgICAgICAgdmFyIGNpcmNsZV9tYXJrZXJfODZlMDZjNWMwMDY0NGE2OGJlZWQ5Y2M5YzI5ODg3NzggPSBMLmNpcmNsZU1hcmtlcigKICAgICAgICAgICAgICAgIFs1MS41MTE4ODgzNzcyNzc4MiwtMC4xMjI0ODM2NDIyMTI5NDU1M10sCiAgICAgICAgICAgICAgICB7CiAgImJ1YmJsaW5nTW91c2VFdmVudHMiOiB0cnVlLAogICJjb2xvciI6ICJyZWQiLAogICJkYXNoQXJyYXkiOiBudWxsLAogICJkYXNoT2Zmc2V0IjogbnVsbCwKICAiZmlsbCI6IHRydWUsCiAgImZpbGxDb2xvciI6ICIjRTk0OTc1IiwKICAiZmlsbE9wYWNpdHkiOiAwLjcsCiAgImZpbGxSdWxlIjogImV2ZW5vZGQiLAogICJsaW5lQ2FwIjogInJvdW5kIiwKICAibGluZUpvaW4iOiAicm91bmQiLAogICJvcGFjaXR5IjogMS4wLAogICJyYWRpdXMiOiA1LAogICJzdHJva2UiOiB0cnVlLAogICJ3ZWlnaHQiOiAzCn0KICAgICAgICAgICAgICAgICkuYWRkVG8obWFwX2Y5Mzk3ZDliNjAxYzRmYTI5Njk2ZWFkODI0ZDkyMzA4KTsKICAgICAgICAgICAgCiAgICAKICAgICAgICAgICAgdmFyIHBvcHVwXzQ3Nzg5YWI1NWEyODQ5MTQ4OTM1YWQ2ZjE0MmMwNGE3ID0gTC5wb3B1cCh7bWF4V2lkdGg6ICczMDAnfSk7CgogICAgICAgICAgICAKICAgICAgICAgICAgICAgIHZhciBodG1sX2I1OTQzNzQ3ZjM0NDQxNTNhZDU4MGYwZmQzZWMxNmFkID0gJCgnPGRpdiBpZD0iaHRtbF9iNTk0Mzc0N2YzNDQ0MTUzYWQ1ODBmMGZkM2VjMTZhZCIgc3R5bGU9IndpZHRoOiAxMDAuMCU7IGhlaWdodDogMTAwLjAlOyI+VmVuY2hpPC9kaXY+JylbMF07CiAgICAgICAgICAgICAgICBwb3B1cF80Nzc4OWFiNTVhMjg0OTE0ODkzNWFkNmYxNDJjMDRhNy5zZXRDb250ZW50KGh0bWxfYjU5NDM3NDdmMzQ0NDE1M2FkNTgwZjBmZDNlYzE2YWQpOwogICAgICAgICAgICAKCiAgICAgICAgICAgIGNpcmNsZV9tYXJrZXJfODZlMDZjNWMwMDY0NGE2OGJlZWQ5Y2M5YzI5ODg3NzguYmluZFBvcHVwKHBvcHVwXzQ3Nzg5YWI1NWEyODQ5MTQ4OTM1YWQ2ZjE0MmMwNGE3KTsKCiAgICAgICAgICAgIAogICAgICAgIAogICAgCiAgICAgICAgICAgIHZhciBjaXJjbGVfbWFya2VyX2QxODQxOWJhMjE4ZTQ3NWRiOGEwM2E5YmE2NTJkMDEzID0gTC5jaXJjbGVNYXJrZXIoCiAgICAgICAgICAgICAgICBbNTEuNTExNTA5NzEzMzc3OTgsLTAuMTI1Nzk0NDYzNDE3OTQxOF0sCiAgICAgICAgICAgICAgICB7CiAgImJ1YmJsaW5nTW91c2VFdmVudHMiOiB0cnVlLAogICJjb2xvciI6ICJyZWQiLAogICJkYXNoQXJyYXkiOiBudWxsLAogICJkYXNoT2Zmc2V0IjogbnVsbCwKICAiZmlsbCI6IHRydWUsCiAgImZpbGxDb2xvciI6ICIjRTk0OTc1IiwKICAiZmlsbE9wYWNpdHkiOiAwLjcsCiAgImZpbGxSdWxlIjogImV2ZW5vZGQiLAogICJsaW5lQ2FwIjogInJvdW5kIiwKICAibGluZUpvaW4iOiAicm91bmQiLAogICJvcGFjaXR5IjogMS4wLAogICJyYWRpdXMiOiA1LAogICJzdHJva2UiOiB0cnVlLAogICJ3ZWlnaHQiOiAzCn0KICAgICAgICAgICAgICAgICkuYWRkVG8obWFwX2Y5Mzk3ZDliNjAxYzRmYTI5Njk2ZWFkODI0ZDkyMzA4KTsKICAgICAgICAgICAgCiAgICAKICAgICAgICAgICAgdmFyIHBvcHVwXzU2ZWYzM2Y0ZWUxOTQyNDdhMmVhMzE5ODc5NTQ2NjliID0gTC5wb3B1cCh7bWF4V2lkdGg6ICczMDAnfSk7CgogICAgICAgICAgICAKICAgICAgICAgICAgICAgIHZhciBodG1sX2M1MzRhMmExMDA3OTQwZGJhMWZiNDE1MjdjNWJiOTc1ID0gJCgnPGRpdiBpZD0iaHRtbF9jNTM0YTJhMTAwNzk0MGRiYTFmYjQxNTI3YzViYjk3NSIgc3R5bGU9IndpZHRoOiAxMDAuMCU7IGhlaWdodDogMTAwLjAlOyI+QW1vcmlubzwvZGl2PicpWzBdOwogICAgICAgICAgICAgICAgcG9wdXBfNTZlZjMzZjRlZTE5NDI0N2EyZWEzMTk4Nzk1NDY2OWIuc2V0Q29udGVudChodG1sX2M1MzRhMmExMDA3OTQwZGJhMWZiNDE1MjdjNWJiOTc1KTsKICAgICAgICAgICAgCgogICAgICAgICAgICBjaXJjbGVfbWFya2VyX2QxODQxOWJhMjE4ZTQ3NWRiOGEwM2E5YmE2NTJkMDEzLmJpbmRQb3B1cChwb3B1cF81NmVmMzNmNGVlMTk0MjQ3YTJlYTMxOTg3OTU0NjY5Yik7CgogICAgICAgICAgICAKICAgICAgICAKICAgIAogICAgICAgICAgICB2YXIgY2lyY2xlX21hcmtlcl8wYmM3YjRmZTg3YTQ0YmI0ODMwMjQyMjE4ZDgxODExYiA9IEwuY2lyY2xlTWFya2VyKAogICAgICAgICAgICAgICAgWzUxLjUxMjczNywtMC4xMjA5NzcwMTRdLAogICAgICAgICAgICAgICAgewogICJidWJibGluZ01vdXNlRXZlbnRzIjogdHJ1ZSwKICAiY29sb3IiOiAicmVkIiwKICAiZGFzaEFycmF5IjogbnVsbCwKICAiZGFzaE9mZnNldCI6IG51bGwsCiAgImZpbGwiOiB0cnVlLAogICJmaWxsQ29sb3IiOiAiI0U5NDk3NSIsCiAgImZpbGxPcGFjaXR5IjogMC43LAogICJmaWxsUnVsZSI6ICJldmVub2RkIiwKICAibGluZUNhcCI6ICJyb3VuZCIsCiAgImxpbmVKb2luIjogInJvdW5kIiwKICAib3BhY2l0eSI6IDEuMCwKICAicmFkaXVzIjogNSwKICAic3Ryb2tlIjogdHJ1ZSwKICAid2VpZ2h0IjogMwp9CiAgICAgICAgICAgICAgICApLmFkZFRvKG1hcF9mOTM5N2Q5YjYwMWM0ZmEyOTY5NmVhZDgyNGQ5MjMwOCk7CiAgICAgICAgICAgIAogICAgCiAgICAgICAgICAgIHZhciBwb3B1cF9jMjhmZDYzNWUxMDM0NWM2ODdmYWZkMjc2NTJlODIzNyA9IEwucG9wdXAoe21heFdpZHRoOiAnMzAwJ30pOwoKICAgICAgICAgICAgCiAgICAgICAgICAgICAgICB2YXIgaHRtbF80OTcxYmRlMzZlMWY0MGZlYWI1NzEzOGQzOThmMGNmMSA9ICQoJzxkaXYgaWQ9Imh0bWxfNDk3MWJkZTM2ZTFmNDBmZWFiNTcxMzhkMzk4ZjBjZjEiIHN0eWxlPSJ3aWR0aDogMTAwLjAlOyBoZWlnaHQ6IDEwMC4wJTsiPkdlbGF0b3Jpbm88L2Rpdj4nKVswXTsKICAgICAgICAgICAgICAgIHBvcHVwX2MyOGZkNjM1ZTEwMzQ1YzY4N2ZhZmQyNzY1MmU4MjM3LnNldENvbnRlbnQoaHRtbF80OTcxYmRlMzZlMWY0MGZlYWI1NzEzOGQzOThmMGNmMSk7CiAgICAgICAgICAgIAoKICAgICAgICAgICAgY2lyY2xlX21hcmtlcl8wYmM3YjRmZTg3YTQ0YmI0ODMwMjQyMjE4ZDgxODExYi5iaW5kUG9wdXAocG9wdXBfYzI4ZmQ2MzVlMTAzNDVjNjg3ZmFmZDI3NjUyZTgyMzcpOwoKICAgICAgICAgICAgCiAgICAgICAgCiAgICAKICAgICAgICAgICAgdmFyIGNpcmNsZV9tYXJrZXJfYjM2NDkwYjExNjE4NDlmZjk2Y2M0YWI2NTNiMjNkOWMgPSBMLmNpcmNsZU1hcmtlcigKICAgICAgICAgICAgICAgIFs1MS41MTEwNDYwMzMxOTU2NSwtMC4xMjY4MjgwMjY2OTIwNDM1XSwKICAgICAgICAgICAgICAgIHsKICAiYnViYmxpbmdNb3VzZUV2ZW50cyI6IHRydWUsCiAgImNvbG9yIjogInJlZCIsCiAgImRhc2hBcnJheSI6IG51bGwsCiAgImRhc2hPZmZzZXQiOiBudWxsLAogICJmaWxsIjogdHJ1ZSwKICAiZmlsbENvbG9yIjogIiNFOTQ5NzUiLAogICJmaWxsT3BhY2l0eSI6IDAuNywKICAiZmlsbFJ1bGUiOiAiZXZlbm9kZCIsCiAgImxpbmVDYXAiOiAicm91bmQiLAogICJsaW5lSm9pbiI6ICJyb3VuZCIsCiAgIm9wYWNpdHkiOiAxLjAsCiAgInJhZGl1cyI6IDUsCiAgInN0cm9rZSI6IHRydWUsCiAgIndlaWdodCI6IDMKfQogICAgICAgICAgICAgICAgKS5hZGRUbyhtYXBfZjkzOTdkOWI2MDFjNGZhMjk2OTZlYWQ4MjRkOTIzMDgpOwogICAgICAgICAgICAKICAgIAogICAgICAgICAgICB2YXIgcG9wdXBfNWRlMjYwZWQ5ODUzNDQxMjk2MjU1OGZmZjA0MmYxMzUgPSBMLnBvcHVwKHttYXhXaWR0aDogJzMwMCd9KTsKCiAgICAgICAgICAgIAogICAgICAgICAgICAgICAgdmFyIGh0bWxfZWE1MjJiZWJjM2M5NDc1MTljZjg0ZWE5OGFlZGRkYWYgPSAkKCc8ZGl2IGlkPSJodG1sX2VhNTIyYmViYzNjOTQ3NTE5Y2Y4NGVhOThhZWRkZGFmIiBzdHlsZT0id2lkdGg6IDEwMC4wJTsgaGVpZ2h0OiAxMDAuMCU7Ij5MYSBHZWxhdGllcmE8L2Rpdj4nKVswXTsKICAgICAgICAgICAgICAgIHBvcHVwXzVkZTI2MGVkOTg1MzQ0MTI5NjI1NThmZmYwNDJmMTM1LnNldENvbnRlbnQoaHRtbF9lYTUyMmJlYmMzYzk0NzUxOWNmODRlYTk4YWVkZGRhZik7CiAgICAgICAgICAgIAoKICAgICAgICAgICAgY2lyY2xlX21hcmtlcl9iMzY0OTBiMTE2MTg0OWZmOTZjYzRhYjY1M2IyM2Q5Yy5iaW5kUG9wdXAocG9wdXBfNWRlMjYwZWQ5ODUzNDQxMjk2MjU1OGZmZjA0MmYxMzUpOwoKICAgICAgICAgICAgCiAgICAgICAgCiAgICAKICAgICAgICAgICAgdmFyIGNpcmNsZV9tYXJrZXJfZDZlYTZjM2ZjMWYwNGE5Njk4OGUxMmY0YWRlYmU0YTQgPSBMLmNpcmNsZU1hcmtlcigKICAgICAgICAgICAgICAgIFs1MS41MTM2MDU3ODg3MTAxNywtMC4xMjM0MTE5OTkzNDQ1MDY2XSwKICAgICAgICAgICAgICAgIHsKICAiYnViYmxpbmdNb3VzZUV2ZW50cyI6IHRydWUsCiAgImNvbG9yIjogInJlZCIsCiAgImRhc2hBcnJheSI6IG51bGwsCiAgImRhc2hPZmZzZXQiOiBudWxsLAogICJmaWxsIjogdHJ1ZSwKICAiZmlsbENvbG9yIjogIiNFOTQ5NzUiLAogICJmaWxsT3BhY2l0eSI6IDAuNywKICAiZmlsbFJ1bGUiOiAiZXZlbm9kZCIsCiAgImxpbmVDYXAiOiAicm91bmQiLAogICJsaW5lSm9pbiI6ICJyb3VuZCIsCiAgIm9wYWNpdHkiOiAxLjAsCiAgInJhZGl1cyI6IDUsCiAgInN0cm9rZSI6IHRydWUsCiAgIndlaWdodCI6IDMKfQogICAgICAgICAgICAgICAgKS5hZGRUbyhtYXBfZjkzOTdkOWI2MDFjNGZhMjk2OTZlYWQ4MjRkOTIzMDgpOwogICAgICAgICAgICAKICAgIAogICAgICAgICAgICB2YXIgcG9wdXBfYTQ0NzNlNTg3NTJmNDFiMmJmNDc0ZWRkMmExNTI2MjAgPSBMLnBvcHVwKHttYXhXaWR0aDogJzMwMCd9KTsKCiAgICAgICAgICAgIAogICAgICAgICAgICAgICAgdmFyIGh0bWxfOGVhZmU1MjUxMTAzNDRhNTg0ZjVjODc4NGQ2ZjcyZjQgPSAkKCc8ZGl2IGlkPSJodG1sXzhlYWZlNTI1MTEwMzQ0YTU4NGY1Yzg3ODRkNmY3MmY0IiBzdHlsZT0id2lkdGg6IDEwMC4wJTsgaGVpZ2h0OiAxMDAuMCU7Ij5CZWFuaWNlPC9kaXY+JylbMF07CiAgICAgICAgICAgICAgICBwb3B1cF9hNDQ3M2U1ODc1MmY0MWIyYmY0NzRlZGQyYTE1MjYyMC5zZXRDb250ZW50KGh0bWxfOGVhZmU1MjUxMTAzNDRhNTg0ZjVjODc4NGQ2ZjcyZjQpOwogICAgICAgICAgICAKCiAgICAgICAgICAgIGNpcmNsZV9tYXJrZXJfZDZlYTZjM2ZjMWYwNGE5Njk4OGUxMmY0YWRlYmU0YTQuYmluZFBvcHVwKHBvcHVwX2E0NDczZTU4NzUyZjQxYjJiZjQ3NGVkZDJhMTUyNjIwKTsKCiAgICAgICAgICAgIAogICAgICAgIAogICAgCiAgICAgICAgICAgIHZhciBjaXJjbGVfbWFya2VyXzBkNWI5ODBiNzEyZTQzMjg5Zjc5OTk1MDViMTI2NmY3ID0gTC5jaXJjbGVNYXJrZXIoCiAgICAgICAgICAgICAgICBbNTEuNTEyMTYyNzU1NjI4NDcsLTAuMTIyMzU5MTU1NDY3MDgxODddLAogICAgICAgICAgICAgICAgewogICJidWJibGluZ01vdXNlRXZlbnRzIjogdHJ1ZSwKICAiY29sb3IiOiAicmVkIiwKICAiZGFzaEFycmF5IjogbnVsbCwKICAiZGFzaE9mZnNldCI6IG51bGwsCiAgImZpbGwiOiB0cnVlLAogICJmaWxsQ29sb3IiOiAiI0U5NDk3NSIsCiAgImZpbGxPcGFjaXR5IjogMC43LAogICJmaWxsUnVsZSI6ICJldmVub2RkIiwKICAibGluZUNhcCI6ICJyb3VuZCIsCiAgImxpbmVKb2luIjogInJvdW5kIiwKICAib3BhY2l0eSI6IDEuMCwKICAicmFkaXVzIjogNSwKICAic3Ryb2tlIjogdHJ1ZSwKICAid2VpZ2h0IjogMwp9CiAgICAgICAgICAgICAgICApLmFkZFRvKG1hcF9mOTM5N2Q5YjYwMWM0ZmEyOTY5NmVhZDgyNGQ5MjMwOCk7CiAgICAgICAgICAgIAogICAgCiAgICAgICAgICAgIHZhciBwb3B1cF80MzY3ZmFiODFlMWI0Mzk1YmNjNmYyNDQ2ODk1NTEwOCA9IEwucG9wdXAoe21heFdpZHRoOiAnMzAwJ30pOwoKICAgICAgICAgICAgCiAgICAgICAgICAgICAgICB2YXIgaHRtbF85MDcwNTY0OGUxYTY0ZDhjOTI2Y2I0NWMxMWM5NzJmYSA9ICQoJzxkaXYgaWQ9Imh0bWxfOTA3MDU2NDhlMWE2NGQ4YzkyNmNiNDVjMTFjOTcyZmEiIHN0eWxlPSJ3aWR0aDogMTAwLjAlOyBoZWlnaHQ6IDEwMC4wJTsiPk1vcmVsbGkmIzM5O3MgR2VsYXRvPC9kaXY+JylbMF07CiAgICAgICAgICAgICAgICBwb3B1cF80MzY3ZmFiODFlMWI0Mzk1YmNjNmYyNDQ2ODk1NTEwOC5zZXRDb250ZW50KGh0bWxfOTA3MDU2NDhlMWE2NGQ4YzkyNmNiNDVjMTFjOTcyZmEpOwogICAgICAgICAgICAKCiAgICAgICAgICAgIGNpcmNsZV9tYXJrZXJfMGQ1Yjk4MGI3MTJlNDMyODlmNzk5OTUwNWIxMjY2ZjcuYmluZFBvcHVwKHBvcHVwXzQzNjdmYWI4MWUxYjQzOTViY2M2ZjI0NDY4OTU1MTA4KTsKCiAgICAgICAgICAgIAogICAgICAgIAogICAgCiAgICAgICAgICAgIHZhciBjaXJjbGVfbWFya2VyXzE3OTgyN2U4ZGY0ODQ3YTJhNDdhYWM2N2NmOWEzNDBhID0gTC5jaXJjbGVNYXJrZXIoCiAgICAgICAgICAgICAgICBbNTEuNTEwNDI3MjY2MjE0MTksLTAuMTI4NDAwODE0OTI5MjE2MzddLAogICAgICAgICAgICAgICAgewogICJidWJibGluZ01vdXNlRXZlbnRzIjogdHJ1ZSwKICAiY29sb3IiOiAicmVkIiwKICAiZGFzaEFycmF5IjogbnVsbCwKICAiZGFzaE9mZnNldCI6IG51bGwsCiAgImZpbGwiOiB0cnVlLAogICJmaWxsQ29sb3IiOiAiI0U5NDk3NSIsCiAgImZpbGxPcGFjaXR5IjogMC43LAogICJmaWxsUnVsZSI6ICJldmVub2RkIiwKICAibGluZUNhcCI6ICJyb3VuZCIsCiAgImxpbmVKb2luIjogInJvdW5kIiwKICAib3BhY2l0eSI6IDEuMCwKICAicmFkaXVzIjogNSwKICAic3Ryb2tlIjogdHJ1ZSwKICAid2VpZ2h0IjogMwp9CiAgICAgICAgICAgICAgICApLmFkZFRvKG1hcF9mOTM5N2Q5YjYwMWM0ZmEyOTY5NmVhZDgyNGQ5MjMwOCk7CiAgICAgICAgICAgIAogICAgCiAgICAgICAgICAgIHZhciBwb3B1cF83YTI2ZTkxODVjYWU0OTI2YTY5MDNjNjUwZDU5NDhkYiA9IEwucG9wdXAoe21heFdpZHRoOiAnMzAwJ30pOwoKICAgICAgICAgICAgCiAgICAgICAgICAgICAgICB2YXIgaHRtbF8xZjA4YTI2ZDIxODU0NTczYmUxMDJhZDBkMmMxZjZkMiA9ICQoJzxkaXYgaWQ9Imh0bWxfMWYwOGEyNmQyMTg1NDU3M2JlMTAyYWQwZDJjMWY2ZDIiIHN0eWxlPSJ3aWR0aDogMTAwLjAlOyBoZWlnaHQ6IDEwMC4wJTsiPkFtb3Jpbm88L2Rpdj4nKVswXTsKICAgICAgICAgICAgICAgIHBvcHVwXzdhMjZlOTE4NWNhZTQ5MjZhNjkwM2M2NTBkNTk0OGRiLnNldENvbnRlbnQoaHRtbF8xZjA4YTI2ZDIxODU0NTczYmUxMDJhZDBkMmMxZjZkMik7CiAgICAgICAgICAgIAoKICAgICAgICAgICAgY2lyY2xlX21hcmtlcl8xNzk4MjdlOGRmNDg0N2EyYTQ3YWFjNjdjZjlhMzQwYS5iaW5kUG9wdXAocG9wdXBfN2EyNmU5MTg1Y2FlNDkyNmE2OTAzYzY1MGQ1OTQ4ZGIpOwoKICAgICAgICAgICAgCiAgICAgICAgCiAgICAKICAgICAgICAgICAgdmFyIGNpcmNsZV9tYXJrZXJfYzViZmNjZDM2YmMyNGJmM2JkYWU1MzdjOTgxZDNmNDQgPSBMLmNpcmNsZU1hcmtlcigKICAgICAgICAgICAgICAgIFs1MS41MTM1OTg0MzE1MjY1NzQsLTAuMTIzNTA4OTk0MjQwODk2OThdLAogICAgICAgICAgICAgICAgewogICJidWJibGluZ01vdXNlRXZlbnRzIjogdHJ1ZSwKICAiY29sb3IiOiAicmVkIiwKICAiZGFzaEFycmF5IjogbnVsbCwKICAiZGFzaE9mZnNldCI6IG51bGwsCiAgImZpbGwiOiB0cnVlLAogICJmaWxsQ29sb3IiOiAiI0U5NDk3NSIsCiAgImZpbGxPcGFjaXR5IjogMC43LAogICJmaWxsUnVsZSI6ICJldmVub2RkIiwKICAibGluZUNhcCI6ICJyb3VuZCIsCiAgImxpbmVKb2luIjogInJvdW5kIiwKICAib3BhY2l0eSI6IDEuMCwKICAicmFkaXVzIjogNSwKICAic3Ryb2tlIjogdHJ1ZSwKICAid2VpZ2h0IjogMwp9CiAgICAgICAgICAgICAgICApLmFkZFRvKG1hcF9mOTM5N2Q5YjYwMWM0ZmEyOTY5NmVhZDgyNGQ5MjMwOCk7CiAgICAgICAgICAgIAogICAgCiAgICAgICAgICAgIHZhciBwb3B1cF83OWFhNjI1ZTkyNzI0MTNiYTE1Y2E2YjhlY2M0MDk3NCA9IEwucG9wdXAoe21heFdpZHRoOiAnMzAwJ30pOwoKICAgICAgICAgICAgCiAgICAgICAgICAgICAgICB2YXIgaHRtbF83MGQ2MzAyYWYzMzY0ODJlOGFiMjE1YTllMjg5MWQwOCA9ICQoJzxkaXYgaWQ9Imh0bWxfNzBkNjMwMmFmMzM2NDgyZThhYjIxNWE5ZTI4OTFkMDgiIHN0eWxlPSJ3aWR0aDogMTAwLjAlOyBoZWlnaHQ6IDEwMC4wJTsiPkFtb3Jpbm88L2Rpdj4nKVswXTsKICAgICAgICAgICAgICAgIHBvcHVwXzc5YWE2MjVlOTI3MjQxM2JhMTVjYTZiOGVjYzQwOTc0LnNldENvbnRlbnQoaHRtbF83MGQ2MzAyYWYzMzY0ODJlOGFiMjE1YTllMjg5MWQwOCk7CiAgICAgICAgICAgIAoKICAgICAgICAgICAgY2lyY2xlX21hcmtlcl9jNWJmY2NkMzZiYzI0YmYzYmRhZTUzN2M5ODFkM2Y0NC5iaW5kUG9wdXAocG9wdXBfNzlhYTYyNWU5MjcyNDEzYmExNWNhNmI4ZWNjNDA5NzQpOwoKICAgICAgICAgICAgCiAgICAgICAgCiAgICAKICAgICAgICAgICAgdmFyIGNpcmNsZV9tYXJrZXJfOTkxNTYwYjI4NGU2NDgwNmI4NjQ3MzZhMzZkNjM0YTkgPSBMLmNpcmNsZU1hcmtlcigKICAgICAgICAgICAgICAgIFs1MS41MTI3MzcsLTAuMTIwOTc3MDE0XSwKICAgICAgICAgICAgICAgIHsKICAiYnViYmxpbmdNb3VzZUV2ZW50cyI6IHRydWUsCiAgImNvbG9yIjogInJlZCIsCiAgImRhc2hBcnJheSI6IG51bGwsCiAgImRhc2hPZmZzZXQiOiBudWxsLAogICJmaWxsIjogdHJ1ZSwKICAiZmlsbENvbG9yIjogIiNFOTQ5NzUiLAogICJmaWxsT3BhY2l0eSI6IDAuNywKICAiZmlsbFJ1bGUiOiAiZXZlbm9kZCIsCiAgImxpbmVDYXAiOiAicm91bmQiLAogICJsaW5lSm9pbiI6ICJyb3VuZCIsCiAgIm9wYWNpdHkiOiAxLjAsCiAgInJhZGl1cyI6IDUsCiAgInN0cm9rZSI6IHRydWUsCiAgIndlaWdodCI6IDMKfQogICAgICAgICAgICAgICAgKS5hZGRUbyhtYXBfZjkzOTdkOWI2MDFjNGZhMjk2OTZlYWQ4MjRkOTIzMDgpOwogICAgICAgICAgICAKICAgIAogICAgICAgICAgICB2YXIgcG9wdXBfNjgzMGMxYTExY2YwNGRhOTllMTM4MzljNWE0NDljNjcgPSBMLnBvcHVwKHttYXhXaWR0aDogJzMwMCd9KTsKCiAgICAgICAgICAgIAogICAgICAgICAgICAgICAgdmFyIGh0bWxfNjM0YjRhMzMxOGVhNDBhMjk1ZjI3Zjg2NGMyMTJiMzcgPSAkKCc8ZGl2IGlkPSJodG1sXzYzNGI0YTMzMThlYTQwYTI5NWYyN2Y4NjRjMjEyYjM3IiBzdHlsZT0id2lkdGg6IDEwMC4wJTsgaGVpZ2h0OiAxMDAuMCU7Ij5HZWxhdG9yaW5vPC9kaXY+JylbMF07CiAgICAgICAgICAgICAgICBwb3B1cF82ODMwYzFhMTFjZjA0ZGE5OWUxMzgzOWM1YTQ0OWM2Ny5zZXRDb250ZW50KGh0bWxfNjM0YjRhMzMxOGVhNDBhMjk1ZjI3Zjg2NGMyMTJiMzcpOwogICAgICAgICAgICAKCiAgICAgICAgICAgIGNpcmNsZV9tYXJrZXJfOTkxNTYwYjI4NGU2NDgwNmI4NjQ3MzZhMzZkNjM0YTkuYmluZFBvcHVwKHBvcHVwXzY4MzBjMWExMWNmMDRkYTk5ZTEzODM5YzVhNDQ5YzY3KTsKCiAgICAgICAgICAgIAogICAgICAgIAogICAgCiAgICAgICAgICAgIHZhciBjaXJjbGVfbWFya2VyX2E0ODc0MzM0YWRlMzRjNGZhOWQ4YTQwOGY2OGZmZTQ3ID0gTC5jaXJjbGVNYXJrZXIoCiAgICAgICAgICAgICAgICBbNTEuNTExNTc3MzkzMDk1MjksLTAuMTIxNTY4MjUzMTY2NjUwOV0sCiAgICAgICAgICAgICAgICB7CiAgImJ1YmJsaW5nTW91c2VFdmVudHMiOiB0cnVlLAogICJjb2xvciI6ICJyZWQiLAogICJkYXNoQXJyYXkiOiBudWxsLAogICJkYXNoT2Zmc2V0IjogbnVsbCwKICAiZmlsbCI6IHRydWUsCiAgImZpbGxDb2xvciI6ICIjRTk0OTc1IiwKICAiZmlsbE9wYWNpdHkiOiAwLjcsCiAgImZpbGxSdWxlIjogImV2ZW5vZGQiLAogICJsaW5lQ2FwIjogInJvdW5kIiwKICAibGluZUpvaW4iOiAicm91bmQiLAogICJvcGFjaXR5IjogMS4wLAogICJyYWRpdXMiOiA1LAogICJzdHJva2UiOiB0cnVlLAogICJ3ZWlnaHQiOiAzCn0KICAgICAgICAgICAgICAgICkuYWRkVG8obWFwX2Y5Mzk3ZDliNjAxYzRmYTI5Njk2ZWFkODI0ZDkyMzA4KTsKICAgICAgICAgICAgCiAgICAKICAgICAgICAgICAgdmFyIHBvcHVwX2RkMjliNzQyYmVkOTQwNDNiM2E5NTNlODg4MzcyZTUwID0gTC5wb3B1cCh7bWF4V2lkdGg6ICczMDAnfSk7CgogICAgICAgICAgICAKICAgICAgICAgICAgICAgIHZhciBodG1sX2RjYTU5ZjFhOWZlODRkODc4MDg1ZTczNDA5ODI1MzhmID0gJCgnPGRpdiBpZD0iaHRtbF9kY2E1OWYxYTlmZTg0ZDg3ODA4NWU3MzQwOTgyNTM4ZiIgc3R5bGU9IndpZHRoOiAxMDAuMCU7IGhlaWdodDogMTAwLjAlOyI+TWlsayBUcmFpbjwvZGl2PicpWzBdOwogICAgICAgICAgICAgICAgcG9wdXBfZGQyOWI3NDJiZWQ5NDA0M2IzYTk1M2U4ODgzNzJlNTAuc2V0Q29udGVudChodG1sX2RjYTU5ZjFhOWZlODRkODc4MDg1ZTczNDA5ODI1MzhmKTsKICAgICAgICAgICAgCgogICAgICAgICAgICBjaXJjbGVfbWFya2VyX2E0ODc0MzM0YWRlMzRjNGZhOWQ4YTQwOGY2OGZmZTQ3LmJpbmRQb3B1cChwb3B1cF9kZDI5Yjc0MmJlZDk0MDQzYjNhOTUzZTg4ODM3MmU1MCk7CgogICAgICAgICAgICAKICAgICAgICAKICAgIAogICAgICAgICAgICB2YXIgY2lyY2xlX21hcmtlcl80MjAzNzg2MTdlMjU0NGM2YWY3ZjM4MWMxOTBmYzlmYiA9IEwuY2lyY2xlTWFya2VyKAogICAgICAgICAgICAgICAgWzUxLjUxMzYwNTc4ODcxMDE3LC0wLjEyMzQxMTk5OTM0NDUwNjZdLAogICAgICAgICAgICAgICAgewogICJidWJibGluZ01vdXNlRXZlbnRzIjogdHJ1ZSwKICAiY29sb3IiOiAicmVkIiwKICAiZGFzaEFycmF5IjogbnVsbCwKICAiZGFzaE9mZnNldCI6IG51bGwsCiAgImZpbGwiOiB0cnVlLAogICJmaWxsQ29sb3IiOiAiI0U5NDk3NSIsCiAgImZpbGxPcGFjaXR5IjogMC43LAogICJmaWxsUnVsZSI6ICJldmVub2RkIiwKICAibGluZUNhcCI6ICJyb3VuZCIsCiAgImxpbmVKb2luIjogInJvdW5kIiwKICAib3BhY2l0eSI6IDEuMCwKICAicmFkaXVzIjogNSwKICAic3Ryb2tlIjogdHJ1ZSwKICAid2VpZ2h0IjogMwp9CiAgICAgICAgICAgICAgICApLmFkZFRvKG1hcF9mOTM5N2Q5YjYwMWM0ZmEyOTY5NmVhZDgyNGQ5MjMwOCk7CiAgICAgICAgICAgIAogICAgCiAgICAgICAgICAgIHZhciBwb3B1cF80M2FjYzkxMTg1M2I0ZmZmYjM4YzEzMDZjOWUwMjY4NCA9IEwucG9wdXAoe21heFdpZHRoOiAnMzAwJ30pOwoKICAgICAgICAgICAgCiAgICAgICAgICAgICAgICB2YXIgaHRtbF85NGFiZDgzNDBiMmI0MjBiOTQ4NWRjNjFlZGVlOGJkNiA9ICQoJzxkaXYgaWQ9Imh0bWxfOTRhYmQ4MzQwYjJiNDIwYjk0ODVkYzYxZWRlZThiZDYiIHN0eWxlPSJ3aWR0aDogMTAwLjAlOyBoZWlnaHQ6IDEwMC4wJTsiPkJlYW5pY2U8L2Rpdj4nKVswXTsKICAgICAgICAgICAgICAgIHBvcHVwXzQzYWNjOTExODUzYjRmZmZiMzhjMTMwNmM5ZTAyNjg0LnNldENvbnRlbnQoaHRtbF85NGFiZDgzNDBiMmI0MjBiOTQ4NWRjNjFlZGVlOGJkNik7CiAgICAgICAgICAgIAoKICAgICAgICAgICAgY2lyY2xlX21hcmtlcl80MjAzNzg2MTdlMjU0NGM2YWY3ZjM4MWMxOTBmYzlmYi5iaW5kUG9wdXAocG9wdXBfNDNhY2M5MTE4NTNiNGZmZmIzOGMxMzA2YzllMDI2ODQpOwoKICAgICAgICAgICAgCiAgICAgICAgCiAgICAKICAgICAgICAgICAgdmFyIGNpcmNsZV9tYXJrZXJfNTk5N2RiMTAyY2Q0NGY2MGJhNWQyOTI0M2ZhNzdiN2UgPSBMLmNpcmNsZU1hcmtlcigKICAgICAgICAgICAgICAgIFs1MS41MTE4ODgzNzcyNzc4MiwtMC4xMjI0ODM2NDIyMTI5NDU1M10sCiAgICAgICAgICAgICAgICB7CiAgImJ1YmJsaW5nTW91c2VFdmVudHMiOiB0cnVlLAogICJjb2xvciI6ICJyZWQiLAogICJkYXNoQXJyYXkiOiBudWxsLAogICJkYXNoT2Zmc2V0IjogbnVsbCwKICAiZmlsbCI6IHRydWUsCiAgImZpbGxDb2xvciI6ICIjRTk0OTc1IiwKICAiZmlsbE9wYWNpdHkiOiAwLjcsCiAgImZpbGxSdWxlIjogImV2ZW5vZGQiLAogICJsaW5lQ2FwIjogInJvdW5kIiwKICAibGluZUpvaW4iOiAicm91bmQiLAogICJvcGFjaXR5IjogMS4wLAogICJyYWRpdXMiOiA1LAogICJzdHJva2UiOiB0cnVlLAogICJ3ZWlnaHQiOiAzCn0KICAgICAgICAgICAgICAgICkuYWRkVG8obWFwX2Y5Mzk3ZDliNjAxYzRmYTI5Njk2ZWFkODI0ZDkyMzA4KTsKICAgICAgICAgICAgCiAgICAKICAgICAgICAgICAgdmFyIHBvcHVwXzMxZDdjODMxYTkyMDRhMTQ4YjZmOWRkYWU2MjU5YWQ5ID0gTC5wb3B1cCh7bWF4V2lkdGg6ICczMDAnfSk7CgogICAgICAgICAgICAKICAgICAgICAgICAgICAgIHZhciBodG1sXzQ5NzliNGFkNDM1MTQzNDQ4OTlkMjRiOTYxNmEwNzBmID0gJCgnPGRpdiBpZD0iaHRtbF80OTc5YjRhZDQzNTE0MzQ0ODk5ZDI0Yjk2MTZhMDcwZiIgc3R5bGU9IndpZHRoOiAxMDAuMCU7IGhlaWdodDogMTAwLjAlOyI+VmVuY2hpPC9kaXY+JylbMF07CiAgICAgICAgICAgICAgICBwb3B1cF8zMWQ3YzgzMWE5MjA0YTE0OGI2ZjlkZGFlNjI1OWFkOS5zZXRDb250ZW50KGh0bWxfNDk3OWI0YWQ0MzUxNDM0NDg5OWQyNGI5NjE2YTA3MGYpOwogICAgICAgICAgICAKCiAgICAgICAgICAgIGNpcmNsZV9tYXJrZXJfNTk5N2RiMTAyY2Q0NGY2MGJhNWQyOTI0M2ZhNzdiN2UuYmluZFBvcHVwKHBvcHVwXzMxZDdjODMxYTkyMDRhMTQ4YjZmOWRkYWU2MjU5YWQ5KTsKCiAgICAgICAgICAgIAogICAgICAgIAogICAgCiAgICAgICAgICAgIHZhciBjaXJjbGVfbWFya2VyXzk4MzNlOWYzMTU0ZTQyZDNhYjg0YjQ3NTJhMTFjMGFlID0gTC5jaXJjbGVNYXJrZXIoCiAgICAgICAgICAgICAgICBbNTEuNTEzODk4MjYyNzU0NjE2LC0wLjEyMzQwMTEwNTUxMDU5OTM1XSwKICAgICAgICAgICAgICAgIHsKICAiYnViYmxpbmdNb3VzZUV2ZW50cyI6IHRydWUsCiAgImNvbG9yIjogInJlZCIsCiAgImRhc2hBcnJheSI6IG51bGwsCiAgImRhc2hPZmZzZXQiOiBudWxsLAogICJmaWxsIjogdHJ1ZSwKICAiZmlsbENvbG9yIjogIiNFOTQ5NzUiLAogICJmaWxsT3BhY2l0eSI6IDAuNywKICAiZmlsbFJ1bGUiOiAiZXZlbm9kZCIsCiAgImxpbmVDYXAiOiAicm91bmQiLAogICJsaW5lSm9pbiI6ICJyb3VuZCIsCiAgIm9wYWNpdHkiOiAxLjAsCiAgInJhZGl1cyI6IDUsCiAgInN0cm9rZSI6IHRydWUsCiAgIndlaWdodCI6IDMKfQogICAgICAgICAgICAgICAgKS5hZGRUbyhtYXBfZjkzOTdkOWI2MDFjNGZhMjk2OTZlYWQ4MjRkOTIzMDgpOwogICAgICAgICAgICAKICAgIAogICAgICAgICAgICB2YXIgcG9wdXBfMTYzMjhlOWFmZGY4NDJkZDljMGE5ZTkzOTcwMjU4YTUgPSBMLnBvcHVwKHttYXhXaWR0aDogJzMwMCd9KTsKCiAgICAgICAgICAgIAogICAgICAgICAgICAgICAgdmFyIGh0bWxfNzdiODEzZjUxZDk0NDY3ODg1ZjY3MmZiZmNjOTQ5NDEgPSAkKCc8ZGl2IGlkPSJodG1sXzc3YjgxM2Y1MWQ5NDQ2Nzg4NWY2NzJmYmZjYzk0OTQxIiBzdHlsZT0id2lkdGg6IDEwMC4wJTsgaGVpZ2h0OiAxMDAuMCU7Ij5CZWEgTmljZTwvZGl2PicpWzBdOwogICAgICAgICAgICAgICAgcG9wdXBfMTYzMjhlOWFmZGY4NDJkZDljMGE5ZTkzOTcwMjU4YTUuc2V0Q29udGVudChodG1sXzc3YjgxM2Y1MWQ5NDQ2Nzg4NWY2NzJmYmZjYzk0OTQxKTsKICAgICAgICAgICAgCgogICAgICAgICAgICBjaXJjbGVfbWFya2VyXzk4MzNlOWYzMTU0ZTQyZDNhYjg0YjQ3NTJhMTFjMGFlLmJpbmRQb3B1cChwb3B1cF8xNjMyOGU5YWZkZjg0MmRkOWMwYTllOTM5NzAyNThhNSk7CgogICAgICAgICAgICAKICAgICAgICAKICAgIAogICAgICAgICAgICB2YXIgY2lyY2xlX21hcmtlcl8xN2RiMmYwYzgyNjc0OWUzYTJhMDAwNWYwYmY4ZDMwYyA9IEwuY2lyY2xlTWFya2VyKAogICAgICAgICAgICAgICAgWzUxLjUxMjE2Mjc1NTYyODQ3LC0wLjEyMjM1OTE1NTQ2NzA4MTg3XSwKICAgICAgICAgICAgICAgIHsKICAiYnViYmxpbmdNb3VzZUV2ZW50cyI6IHRydWUsCiAgImNvbG9yIjogInJlZCIsCiAgImRhc2hBcnJheSI6IG51bGwsCiAgImRhc2hPZmZzZXQiOiBudWxsLAogICJmaWxsIjogdHJ1ZSwKICAiZmlsbENvbG9yIjogIiNFOTQ5NzUiLAogICJmaWxsT3BhY2l0eSI6IDAuNywKICAiZmlsbFJ1bGUiOiAiZXZlbm9kZCIsCiAgImxpbmVDYXAiOiAicm91bmQiLAogICJsaW5lSm9pbiI6ICJyb3VuZCIsCiAgIm9wYWNpdHkiOiAxLjAsCiAgInJhZGl1cyI6IDUsCiAgInN0cm9rZSI6IHRydWUsCiAgIndlaWdodCI6IDMKfQogICAgICAgICAgICAgICAgKS5hZGRUbyhtYXBfZjkzOTdkOWI2MDFjNGZhMjk2OTZlYWQ4MjRkOTIzMDgpOwogICAgICAgICAgICAKICAgIAogICAgICAgICAgICB2YXIgcG9wdXBfMDE4NjUzMTJlOGQ1NGZhODhjNDVjMzhkZTI0YzlhNTcgPSBMLnBvcHVwKHttYXhXaWR0aDogJzMwMCd9KTsKCiAgICAgICAgICAgIAogICAgICAgICAgICAgICAgdmFyIGh0bWxfYjQ4MTVmMTUzYTJlNGRjNmFhOTFhYzM0NWNhNDk1NzQgPSAkKCc8ZGl2IGlkPSJodG1sX2I0ODE1ZjE1M2EyZTRkYzZhYTkxYWMzNDVjYTQ5NTc0IiBzdHlsZT0id2lkdGg6IDEwMC4wJTsgaGVpZ2h0OiAxMDAuMCU7Ij5Nb3JlbGxpJiMzOTtzIEdlbGF0bzwvZGl2PicpWzBdOwogICAgICAgICAgICAgICAgcG9wdXBfMDE4NjUzMTJlOGQ1NGZhODhjNDVjMzhkZTI0YzlhNTcuc2V0Q29udGVudChodG1sX2I0ODE1ZjE1M2EyZTRkYzZhYTkxYWMzNDVjYTQ5NTc0KTsKICAgICAgICAgICAgCgogICAgICAgICAgICBjaXJjbGVfbWFya2VyXzE3ZGIyZjBjODI2NzQ5ZTNhMmEwMDA1ZjBiZjhkMzBjLmJpbmRQb3B1cChwb3B1cF8wMTg2NTMxMmU4ZDU0ZmE4OGM0NWMzOGRlMjRjOWE1Nyk7CgogICAgICAgICAgICAKICAgICAgICAKICAgIAogICAgICAgICAgICB2YXIgY2lyY2xlX21hcmtlcl9iNDZiZWIyZmU3ZWY0OTllOTljNTg4MDM0NjJlODcwNyA9IEwuY2lyY2xlTWFya2VyKAogICAgICAgICAgICAgICAgWzUxLjUxMzU5ODQzMTUyNjU3NCwtMC4xMjM1MDg5OTQyNDA4OTY5OF0sCiAgICAgICAgICAgICAgICB7CiAgImJ1YmJsaW5nTW91c2VFdmVudHMiOiB0cnVlLAogICJjb2xvciI6ICJyZWQiLAogICJkYXNoQXJyYXkiOiBudWxsLAogICJkYXNoT2Zmc2V0IjogbnVsbCwKICAiZmlsbCI6IHRydWUsCiAgImZpbGxDb2xvciI6ICIjRTk0OTc1IiwKICAiZmlsbE9wYWNpdHkiOiAwLjcsCiAgImZpbGxSdWxlIjogImV2ZW5vZGQiLAogICJsaW5lQ2FwIjogInJvdW5kIiwKICAibGluZUpvaW4iOiAicm91bmQiLAogICJvcGFjaXR5IjogMS4wLAogICJyYWRpdXMiOiA1LAogICJzdHJva2UiOiB0cnVlLAogICJ3ZWlnaHQiOiAzCn0KICAgICAgICAgICAgICAgICkuYWRkVG8obWFwX2Y5Mzk3ZDliNjAxYzRmYTI5Njk2ZWFkODI0ZDkyMzA4KTsKICAgICAgICAgICAgCiAgICAKICAgICAgICAgICAgdmFyIHBvcHVwXzIzZGQ4YThhNjdkOTQ3MGY5ODM1ZTEwMTE3MzM3YTg0ID0gTC5wb3B1cCh7bWF4V2lkdGg6ICczMDAnfSk7CgogICAgICAgICAgICAKICAgICAgICAgICAgICAgIHZhciBodG1sX2U0YjE4NjJiZDBmYjQxZGI5ZWMwNWExMDg5ZjZlMGE3ID0gJCgnPGRpdiBpZD0iaHRtbF9lNGIxODYyYmQwZmI0MWRiOWVjMDVhMTA4OWY2ZTBhNyIgc3R5bGU9IndpZHRoOiAxMDAuMCU7IGhlaWdodDogMTAwLjAlOyI+QW1vcmlubzwvZGl2PicpWzBdOwogICAgICAgICAgICAgICAgcG9wdXBfMjNkZDhhOGE2N2Q5NDcwZjk4MzVlMTAxMTczMzdhODQuc2V0Q29udGVudChodG1sX2U0YjE4NjJiZDBmYjQxZGI5ZWMwNWExMDg5ZjZlMGE3KTsKICAgICAgICAgICAgCgogICAgICAgICAgICBjaXJjbGVfbWFya2VyX2I0NmJlYjJmZTdlZjQ5OWU5OWM1ODgwMzQ2MmU4NzA3LmJpbmRQb3B1cChwb3B1cF8yM2RkOGE4YTY3ZDk0NzBmOTgzNWUxMDExNzMzN2E4NCk7CgogICAgICAgICAgICAKICAgICAgICAKICAgIAogICAgICAgICAgICB2YXIgY2lyY2xlX21hcmtlcl80Mjg1MWM3Zjg1ZjE0NGVkOGIzNzBhYmVkNGUwMmYwMyA9IEwuY2lyY2xlTWFya2VyKAogICAgICAgICAgICAgICAgWzUxLjUwOTMxNSwtMC4xOTQ2OTc1M10sCiAgICAgICAgICAgICAgICB7CiAgImJ1YmJsaW5nTW91c2VFdmVudHMiOiB0cnVlLAogICJjb2xvciI6ICJyZWQiLAogICJkYXNoQXJyYXkiOiBudWxsLAogICJkYXNoT2Zmc2V0IjogbnVsbCwKICAiZmlsbCI6IHRydWUsCiAgImZpbGxDb2xvciI6ICIjRTk0OTc1IiwKICAiZmlsbE9wYWNpdHkiOiAwLjcsCiAgImZpbGxSdWxlIjogImV2ZW5vZGQiLAogICJsaW5lQ2FwIjogInJvdW5kIiwKICAibGluZUpvaW4iOiAicm91bmQiLAogICJvcGFjaXR5IjogMS4wLAogICJyYWRpdXMiOiA1LAogICJzdHJva2UiOiB0cnVlLAogICJ3ZWlnaHQiOiAzCn0KICAgICAgICAgICAgICAgICkuYWRkVG8obWFwX2Y5Mzk3ZDliNjAxYzRmYTI5Njk2ZWFkODI0ZDkyMzA4KTsKICAgICAgICAgICAgCiAgICAKICAgICAgICAgICAgdmFyIHBvcHVwXzNmNTUwOGZkODg1MzQxMzM5MDcxZmM5YzNjMGNlNDk1ID0gTC5wb3B1cCh7bWF4V2lkdGg6ICczMDAnfSk7CgogICAgICAgICAgICAKICAgICAgICAgICAgICAgIHZhciBodG1sXzBmNTEzMDM1ZTE3MjQzOGJiMmQ5MzEzYjNjZWM0Y2E3ID0gJCgnPGRpdiBpZD0iaHRtbF8wZjUxMzAzNWUxNzI0MzhiYjJkOTMxM2IzY2VjNGNhNyIgc3R5bGU9IndpZHRoOiAxMDAuMCU7IGhlaWdodDogMTAwLjAlOyI+QmFkaWFuaSAxOTMyIE5vdHRpbmcgSGlsbDwvZGl2PicpWzBdOwogICAgICAgICAgICAgICAgcG9wdXBfM2Y1NTA4ZmQ4ODUzNDEzMzkwNzFmYzljM2MwY2U0OTUuc2V0Q29udGVudChodG1sXzBmNTEzMDM1ZTE3MjQzOGJiMmQ5MzEzYjNjZWM0Y2E3KTsKICAgICAgICAgICAgCgogICAgICAgICAgICBjaXJjbGVfbWFya2VyXzQyODUxYzdmODVmMTQ0ZWQ4YjM3MGFiZWQ0ZTAyZjAzLmJpbmRQb3B1cChwb3B1cF8zZjU1MDhmZDg4NTM0MTMzOTA3MWZjOWMzYzBjZTQ5NSk7CgogICAgICAgICAgICAKICAgICAgICAKICAgIAogICAgICAgICAgICB2YXIgY2lyY2xlX21hcmtlcl9kMGJkNTVjODMyY2Q0MjA5YmFhY2M1MGZkYTYzMmM3MSA9IEwuY2lyY2xlTWFya2VyKAogICAgICAgICAgICAgICAgWzUxLjUxMDk3MTY1NDE1ODI5LC0wLjE4NzE3MjE5MzM5MzQzMjIyXSwKICAgICAgICAgICAgICAgIHsKICAiYnViYmxpbmdNb3VzZUV2ZW50cyI6IHRydWUsCiAgImNvbG9yIjogInJlZCIsCiAgImRhc2hBcnJheSI6IG51bGwsCiAgImRhc2hPZmZzZXQiOiBudWxsLAogICJmaWxsIjogdHJ1ZSwKICAiZmlsbENvbG9yIjogIiNFOTQ5NzUiLAogICJmaWxsT3BhY2l0eSI6IDAuNywKICAiZmlsbFJ1bGUiOiAiZXZlbm9kZCIsCiAgImxpbmVDYXAiOiAicm91bmQiLAogICJsaW5lSm9pbiI6ICJyb3VuZCIsCiAgIm9wYWNpdHkiOiAxLjAsCiAgInJhZGl1cyI6IDUsCiAgInN0cm9rZSI6IHRydWUsCiAgIndlaWdodCI6IDMKfQogICAgICAgICAgICAgICAgKS5hZGRUbyhtYXBfZjkzOTdkOWI2MDFjNGZhMjk2OTZlYWQ4MjRkOTIzMDgpOwogICAgICAgICAgICAKICAgIAogICAgICAgICAgICB2YXIgcG9wdXBfMzhmZjhlZmU3ZDQ4NGM5OGJkOWVlYWExYzVjMmY0ZjYgPSBMLnBvcHVwKHttYXhXaWR0aDogJzMwMCd9KTsKCiAgICAgICAgICAgIAogICAgICAgICAgICAgICAgdmFyIGh0bWxfZTlmMGVkOTkzMWI4NGY5YWIzNGVmOWQ2ODJlOGI3OGIgPSAkKCc8ZGl2IGlkPSJodG1sX2U5ZjBlZDk5MzFiODRmOWFiMzRlZjlkNjgyZThiNzhiIiBzdHlsZT0id2lkdGg6IDEwMC4wJTsgaGVpZ2h0OiAxMDAuMCU7Ij5BbW9yaW5vPC9kaXY+JylbMF07CiAgICAgICAgICAgICAgICBwb3B1cF8zOGZmOGVmZTdkNDg0Yzk4YmQ5ZWVhYTFjNWMyZjRmNi5zZXRDb250ZW50KGh0bWxfZTlmMGVkOTkzMWI4NGY5YWIzNGVmOWQ2ODJlOGI3OGIpOwogICAgICAgICAgICAKCiAgICAgICAgICAgIGNpcmNsZV9tYXJrZXJfZDBiZDU1YzgzMmNkNDIwOWJhYWNjNTBmZGE2MzJjNzEuYmluZFBvcHVwKHBvcHVwXzM4ZmY4ZWZlN2Q0ODRjOThiZDllZWFhMWM1YzJmNGY2KTsKCiAgICAgICAgICAgIAogICAgICAgIAogICAgCiAgICAgICAgICAgIHZhciBjaXJjbGVfbWFya2VyXzM4OWExNDA2MzRlODQyZWRhODMxOGRkOTM3ZDY2YjQ1ID0gTC5jaXJjbGVNYXJrZXIoCiAgICAgICAgICAgICAgICBbNTEuNTA5NjM2NjM1Mjg3MDk0LC0wLjE5NzMxNTkyNjY1OTQ4ODVdLAogICAgICAgICAgICAgICAgewogICJidWJibGluZ01vdXNlRXZlbnRzIjogdHJ1ZSwKICAiY29sb3IiOiAicmVkIiwKICAiZGFzaEFycmF5IjogbnVsbCwKICAiZGFzaE9mZnNldCI6IG51bGwsCiAgImZpbGwiOiB0cnVlLAogICJmaWxsQ29sb3IiOiAiI0U5NDk3NSIsCiAgImZpbGxPcGFjaXR5IjogMC43LAogICJmaWxsUnVsZSI6ICJldmVub2RkIiwKICAibGluZUNhcCI6ICJyb3VuZCIsCiAgImxpbmVKb2luIjogInJvdW5kIiwKICAib3BhY2l0eSI6IDEuMCwKICAicmFkaXVzIjogNSwKICAic3Ryb2tlIjogdHJ1ZSwKICAid2VpZ2h0IjogMwp9CiAgICAgICAgICAgICAgICApLmFkZFRvKG1hcF9mOTM5N2Q5YjYwMWM0ZmEyOTY5NmVhZDgyNGQ5MjMwOCk7CiAgICAgICAgICAgIAogICAgCiAgICAgICAgICAgIHZhciBwb3B1cF8zODdmNDUyMTYyZWQ0ZmYzODMwNWM2MDA5Yjc0OThmZSA9IEwucG9wdXAoe21heFdpZHRoOiAnMzAwJ30pOwoKICAgICAgICAgICAgCiAgICAgICAgICAgICAgICB2YXIgaHRtbF81N2FjMjhkYmVjMjg0NDU5OWRhMzlkYjcwY2IzNzlhMCA9ICQoJzxkaXYgaWQ9Imh0bWxfNTdhYzI4ZGJlYzI4NDQ1OTlkYTM5ZGI3MGNiMzc5YTAiIHN0eWxlPSJ3aWR0aDogMTAwLjAlOyBoZWlnaHQ6IDEwMC4wJTsiPkFtb3Jpbm88L2Rpdj4nKVswXTsKICAgICAgICAgICAgICAgIHBvcHVwXzM4N2Y0NTIxNjJlZDRmZjM4MzA1YzYwMDliNzQ5OGZlLnNldENvbnRlbnQoaHRtbF81N2FjMjhkYmVjMjg0NDU5OWRhMzlkYjcwY2IzNzlhMCk7CiAgICAgICAgICAgIAoKICAgICAgICAgICAgY2lyY2xlX21hcmtlcl8zODlhMTQwNjM0ZTg0MmVkYTgzMThkZDkzN2Q2NmI0NS5iaW5kUG9wdXAocG9wdXBfMzg3ZjQ1MjE2MmVkNGZmMzgzMDVjNjAwOWI3NDk4ZmUpOwoKICAgICAgICAgICAgCiAgICAgICAgCiAgICAKICAgICAgICAgICAgdmFyIGNpcmNsZV9tYXJrZXJfZjc2Y2IxOTRkN2VmNDQ4YmJlNGMzNTZlNTcyNTg2MzQgPSBMLmNpcmNsZU1hcmtlcigKICAgICAgICAgICAgICAgIFs1MS41MTAzNjU0NTA5MzU4ODYsLTAuMTg3MjQyMDA0MDY5NjUzNzJdLAogICAgICAgICAgICAgICAgewogICJidWJibGluZ01vdXNlRXZlbnRzIjogdHJ1ZSwKICAiY29sb3IiOiAicmVkIiwKICAiZGFzaEFycmF5IjogbnVsbCwKICAiZGFzaE9mZnNldCI6IG51bGwsCiAgImZpbGwiOiB0cnVlLAogICJmaWxsQ29sb3IiOiAiI0U5NDk3NSIsCiAgImZpbGxPcGFjaXR5IjogMC43LAogICJmaWxsUnVsZSI6ICJldmVub2RkIiwKICAibGluZUNhcCI6ICJyb3VuZCIsCiAgImxpbmVKb2luIjogInJvdW5kIiwKICAib3BhY2l0eSI6IDEuMCwKICAicmFkaXVzIjogNSwKICAic3Ryb2tlIjogdHJ1ZSwKICAid2VpZ2h0IjogMwp9CiAgICAgICAgICAgICAgICApLmFkZFRvKG1hcF9mOTM5N2Q5YjYwMWM0ZmEyOTY5NmVhZDgyNGQ5MjMwOCk7CiAgICAgICAgICAgIAogICAgCiAgICAgICAgICAgIHZhciBwb3B1cF80NGI5ZDMxMTM3N2Q0YzE3YTQzYzRlNjNhNjEwMjMyMCA9IEwucG9wdXAoe21heFdpZHRoOiAnMzAwJ30pOwoKICAgICAgICAgICAgCiAgICAgICAgICAgICAgICB2YXIgaHRtbF8yOGE5YjI0OTU4M2U0OTk1OWMzYjdiYjExZjA0NjFmNyA9ICQoJzxkaXYgaWQ9Imh0bWxfMjhhOWIyNDk1ODNlNDk5NTljM2I3YmIxMWYwNDYxZjciIHN0eWxlPSJ3aWR0aDogMTAwLjAlOyBoZWlnaHQ6IDEwMC4wJTsiPkZlbnRvbnMgSWNlIENyZWFtPC9kaXY+JylbMF07CiAgICAgICAgICAgICAgICBwb3B1cF80NGI5ZDMxMTM3N2Q0YzE3YTQzYzRlNjNhNjEwMjMyMC5zZXRDb250ZW50KGh0bWxfMjhhOWIyNDk1ODNlNDk5NTljM2I3YmIxMWYwNDYxZjcpOwogICAgICAgICAgICAKCiAgICAgICAgICAgIGNpcmNsZV9tYXJrZXJfZjc2Y2IxOTRkN2VmNDQ4YmJlNGMzNTZlNTcyNTg2MzQuYmluZFBvcHVwKHBvcHVwXzQ0YjlkMzExMzc3ZDRjMTdhNDNjNGU2M2E2MTAyMzIwKTsKCiAgICAgICAgICAgIAogICAgICAgIAogICAgCiAgICAgICAgICAgIHZhciBjaXJjbGVfbWFya2VyXzliZjA2NzdlNjdjZjQ5OTY5ZTRiZDFhNWM4ZTVhYTFmID0gTC5jaXJjbGVNYXJrZXIoCiAgICAgICAgICAgICAgICBbNTEuNTEwNjA5LC0wLjE5NzQ3NV0sCiAgICAgICAgICAgICAgICB7CiAgImJ1YmJsaW5nTW91c2VFdmVudHMiOiB0cnVlLAogICJjb2xvciI6ICJyZWQiLAogICJkYXNoQXJyYXkiOiBudWxsLAogICJkYXNoT2Zmc2V0IjogbnVsbCwKICAiZmlsbCI6IHRydWUsCiAgImZpbGxDb2xvciI6ICIjRTk0OTc1IiwKICAiZmlsbE9wYWNpdHkiOiAwLjcsCiAgImZpbGxSdWxlIjogImV2ZW5vZGQiLAogICJsaW5lQ2FwIjogInJvdW5kIiwKICAibGluZUpvaW4iOiAicm91bmQiLAogICJvcGFjaXR5IjogMS4wLAogICJyYWRpdXMiOiA1LAogICJzdHJva2UiOiB0cnVlLAogICJ3ZWlnaHQiOiAzCn0KICAgICAgICAgICAgICAgICkuYWRkVG8obWFwX2Y5Mzk3ZDliNjAxYzRmYTI5Njk2ZWFkODI0ZDkyMzA4KTsKICAgICAgICAgICAgCiAgICAKICAgICAgICAgICAgdmFyIHBvcHVwXzc0NWIzNWNmMWQwZDQ4Y2M5NzA1NDU4MGEwZjgwYTdhID0gTC5wb3B1cCh7bWF4V2lkdGg6ICczMDAnfSk7CgogICAgICAgICAgICAKICAgICAgICAgICAgICAgIHZhciBodG1sXzEzOTQ1YWY1MGEyYjQ2OTNhZDViYjNhMjk2MjQ5NTZjID0gJCgnPGRpdiBpZD0iaHRtbF8xMzk0NWFmNTBhMmI0NjkzYWQ1YmIzYTI5NjI0OTU2YyIgc3R5bGU9IndpZHRoOiAxMDAuMCU7IGhlaWdodDogMTAwLjAlOyI+TWlsayBDb29sPC9kaXY+JylbMF07CiAgICAgICAgICAgICAgICBwb3B1cF83NDViMzVjZjFkMGQ0OGNjOTcwNTQ1ODBhMGY4MGE3YS5zZXRDb250ZW50KGh0bWxfMTM5NDVhZjUwYTJiNDY5M2FkNWJiM2EyOTYyNDk1NmMpOwogICAgICAgICAgICAKCiAgICAgICAgICAgIGNpcmNsZV9tYXJrZXJfOWJmMDY3N2U2N2NmNDk5NjllNGJkMWE1YzhlNWFhMWYuYmluZFBvcHVwKHBvcHVwXzc0NWIzNWNmMWQwZDQ4Y2M5NzA1NDU4MGEwZjgwYTdhKTsKCiAgICAgICAgICAgIAogICAgICAgIAogICAgCiAgICAgICAgICAgIHZhciBjaXJjbGVfbWFya2VyX2FjM2ZmNjEzYmIzMDQxMWY4ODNmZTdmMTVmY2Q0ZjZiID0gTC5jaXJjbGVNYXJrZXIoCiAgICAgICAgICAgICAgICBbNTEuNTExNzQ4ODM5MzM3MjQsLTAuMTg3NDM5NDg1Mzg5NTk4MThdLAogICAgICAgICAgICAgICAgewogICJidWJibGluZ01vdXNlRXZlbnRzIjogdHJ1ZSwKICAiY29sb3IiOiAicmVkIiwKICAiZGFzaEFycmF5IjogbnVsbCwKICAiZGFzaE9mZnNldCI6IG51bGwsCiAgImZpbGwiOiB0cnVlLAogICJmaWxsQ29sb3IiOiAiI0U5NDk3NSIsCiAgImZpbGxPcGFjaXR5IjogMC43LAogICJmaWxsUnVsZSI6ICJldmVub2RkIiwKICAibGluZUNhcCI6ICJyb3VuZCIsCiAgImxpbmVKb2luIjogInJvdW5kIiwKICAib3BhY2l0eSI6IDEuMCwKICAicmFkaXVzIjogNSwKICAic3Ryb2tlIjogdHJ1ZSwKICAid2VpZ2h0IjogMwp9CiAgICAgICAgICAgICAgICApLmFkZFRvKG1hcF9mOTM5N2Q5YjYwMWM0ZmEyOTY5NmVhZDgyNGQ5MjMwOCk7CiAgICAgICAgICAgIAogICAgCiAgICAgICAgICAgIHZhciBwb3B1cF85NWQzOThmYmM4ZjA0NGMzOTYwMGYwODVlZDlmNzRkZSA9IEwucG9wdXAoe21heFdpZHRoOiAnMzAwJ30pOwoKICAgICAgICAgICAgCiAgICAgICAgICAgICAgICB2YXIgaHRtbF8yNmIyYmViNzg3OGU0MDc3OWJlZjlmOTQ0ZTBkZTA3YiA9ICQoJzxkaXYgaWQ9Imh0bWxfMjZiMmJlYjc4NzhlNDA3NzliZWY5Zjk0NGUwZGUwN2IiIHN0eWxlPSJ3aWR0aDogMTAwLjAlOyBoZWlnaHQ6IDEwMC4wJTsiPllvZ2xhbmQ8L2Rpdj4nKVswXTsKICAgICAgICAgICAgICAgIHBvcHVwXzk1ZDM5OGZiYzhmMDQ0YzM5NjAwZjA4NWVkOWY3NGRlLnNldENvbnRlbnQoaHRtbF8yNmIyYmViNzg3OGU0MDc3OWJlZjlmOTQ0ZTBkZTA3Yik7CiAgICAgICAgICAgIAoKICAgICAgICAgICAgY2lyY2xlX21hcmtlcl9hYzNmZjYxM2JiMzA0MTFmODgzZmU3ZjE1ZmNkNGY2Yi5iaW5kUG9wdXAocG9wdXBfOTVkMzk4ZmJjOGYwNDRjMzk2MDBmMDg1ZWQ5Zjc0ZGUpOwoKICAgICAgICAgICAgCiAgICAgICAgCiAgICAKICAgICAgICAgICAgdmFyIGNpcmNsZV9tYXJrZXJfM2FhM2YwN2M1YzU4NDdjY2FiNjIxZjc0NmMyM2QwNmYgPSBMLmNpcmNsZU1hcmtlcigKICAgICAgICAgICAgICAgIFs1MS41MTA0MjMwNTA4MzA2MjQsLTAuMTk3MzkyMzAzNjcyOTA1OTJdLAogICAgICAgICAgICAgICAgewogICJidWJibGluZ01vdXNlRXZlbnRzIjogdHJ1ZSwKICAiY29sb3IiOiAicmVkIiwKICAiZGFzaEFycmF5IjogbnVsbCwKICAiZGFzaE9mZnNldCI6IG51bGwsCiAgImZpbGwiOiB0cnVlLAogICJmaWxsQ29sb3IiOiAiI0U5NDk3NSIsCiAgImZpbGxPcGFjaXR5IjogMC43LAogICJmaWxsUnVsZSI6ICJldmVub2RkIiwKICAibGluZUNhcCI6ICJyb3VuZCIsCiAgImxpbmVKb2luIjogInJvdW5kIiwKICAib3BhY2l0eSI6IDEuMCwKICAicmFkaXVzIjogNSwKICAic3Ryb2tlIjogdHJ1ZSwKICAid2VpZ2h0IjogMwp9CiAgICAgICAgICAgICAgICApLmFkZFRvKG1hcF9mOTM5N2Q5YjYwMWM0ZmEyOTY5NmVhZDgyNGQ5MjMwOCk7CiAgICAgICAgICAgIAogICAgCiAgICAgICAgICAgIHZhciBwb3B1cF9kOWJhYmQyYjgxNTQ0MjdhOTRiN2Y4OTMxYzQ2NjQ5NyA9IEwucG9wdXAoe21heFdpZHRoOiAnMzAwJ30pOwoKICAgICAgICAgICAgCiAgICAgICAgICAgICAgICB2YXIgaHRtbF8zMmI0NTQ2NWM5NGM0MDMyYWY4OTE4YzUxMzljNTc1NSA9ICQoJzxkaXYgaWQ9Imh0bWxfMzJiNDU0NjVjOTRjNDAzMmFmODkxOGM1MTM5YzU3NTUiIHN0eWxlPSJ3aWR0aDogMTAwLjAlOyBoZWlnaHQ6IDEwMC4wJTsiPlVuaWNvPC9kaXY+JylbMF07CiAgICAgICAgICAgICAgICBwb3B1cF9kOWJhYmQyYjgxNTQ0MjdhOTRiN2Y4OTMxYzQ2NjQ5Ny5zZXRDb250ZW50KGh0bWxfMzJiNDU0NjVjOTRjNDAzMmFmODkxOGM1MTM5YzU3NTUpOwogICAgICAgICAgICAKCiAgICAgICAgICAgIGNpcmNsZV9tYXJrZXJfM2FhM2YwN2M1YzU4NDdjY2FiNjIxZjc0NmMyM2QwNmYuYmluZFBvcHVwKHBvcHVwX2Q5YmFiZDJiODE1NDQyN2E5NGI3Zjg5MzFjNDY2NDk3KTsKCiAgICAgICAgICAgIAogICAgICAgIAogICAgCiAgICAgICAgICAgIHZhciBjaXJjbGVfbWFya2VyX2FmMGU5M2M5M2FmYzQ1M2Y4OGE1Y2E4YTAyYWU2NWM3ID0gTC5jaXJjbGVNYXJrZXIoCiAgICAgICAgICAgICAgICBbNTEuNTEyMTkxODAzMjc2NTIsLTAuMTg3NTMxOTA3Njc1NzkwMjhdLAogICAgICAgICAgICAgICAgewogICJidWJibGluZ01vdXNlRXZlbnRzIjogdHJ1ZSwKICAiY29sb3IiOiAicmVkIiwKICAiZGFzaEFycmF5IjogbnVsbCwKICAiZGFzaE9mZnNldCI6IG51bGwsCiAgImZpbGwiOiB0cnVlLAogICJmaWxsQ29sb3IiOiAiI0U5NDk3NSIsCiAgImZpbGxPcGFjaXR5IjogMC43LAogICJmaWxsUnVsZSI6ICJldmVub2RkIiwKICAibGluZUNhcCI6ICJyb3VuZCIsCiAgImxpbmVKb2luIjogInJvdW5kIiwKICAib3BhY2l0eSI6IDEuMCwKICAicmFkaXVzIjogNSwKICAic3Ryb2tlIjogdHJ1ZSwKICAid2VpZ2h0IjogMwp9CiAgICAgICAgICAgICAgICApLmFkZFRvKG1hcF9mOTM5N2Q5YjYwMWM0ZmEyOTY5NmVhZDgyNGQ5MjMwOCk7CiAgICAgICAgICAgIAogICAgCiAgICAgICAgICAgIHZhciBwb3B1cF9mMDFhODY1ODE0YmU0YjFlOTc0ZjE5MjUxNzI1NDBkYyA9IEwucG9wdXAoe21heFdpZHRoOiAnMzAwJ30pOwoKICAgICAgICAgICAgCiAgICAgICAgICAgICAgICB2YXIgaHRtbF8zZGE0MzViOTI5OGY0Mzc1YWI4ZDU1NTllYjA4Y2IwZCA9ICQoJzxkaXYgaWQ9Imh0bWxfM2RhNDM1YjkyOThmNDM3NWFiOGQ1NTU5ZWIwOGNiMGQiIHN0eWxlPSJ3aWR0aDogMTAwLjAlOyBoZWlnaHQ6IDEwMC4wJTsiPkZyb2c8L2Rpdj4nKVswXTsKICAgICAgICAgICAgICAgIHBvcHVwX2YwMWE4NjU4MTRiZTRiMWU5NzRmMTkyNTE3MjU0MGRjLnNldENvbnRlbnQoaHRtbF8zZGE0MzViOTI5OGY0Mzc1YWI4ZDU1NTllYjA4Y2IwZCk7CiAgICAgICAgICAgIAoKICAgICAgICAgICAgY2lyY2xlX21hcmtlcl9hZjBlOTNjOTNhZmM0NTNmODhhNWNhOGEwMmFlNjVjNy5iaW5kUG9wdXAocG9wdXBfZjAxYTg2NTgxNGJlNGIxZTk3NGYxOTI1MTcyNTQwZGMpOwoKICAgICAgICAgICAgCiAgICAgICAgCiAgICAKICAgICAgICAgICAgdmFyIGNpcmNsZV9tYXJrZXJfMGU4OTM5Zjk2OGEyNDVkODlkYWRhNGNhYTdiNjc4NWEgPSBMLmNpcmNsZU1hcmtlcigKICAgICAgICAgICAgICAgIFs1MS40OTg1NDkzMTMwNjY5NDUsLTAuMTYyMzk0NjE0NjUwOTAzMjddLAogICAgICAgICAgICAgICAgewogICJidWJibGluZ01vdXNlRXZlbnRzIjogdHJ1ZSwKICAiY29sb3IiOiAicmVkIiwKICAiZGFzaEFycmF5IjogbnVsbCwKICAiZGFzaE9mZnNldCI6IG51bGwsCiAgImZpbGwiOiB0cnVlLAogICJmaWxsQ29sb3IiOiAiI0U5NDk3NSIsCiAgImZpbGxPcGFjaXR5IjogMC43LAogICJmaWxsUnVsZSI6ICJldmVub2RkIiwKICAibGluZUNhcCI6ICJyb3VuZCIsCiAgImxpbmVKb2luIjogInJvdW5kIiwKICAib3BhY2l0eSI6IDEuMCwKICAicmFkaXVzIjogNSwKICAic3Ryb2tlIjogdHJ1ZSwKICAid2VpZ2h0IjogMwp9CiAgICAgICAgICAgICAgICApLmFkZFRvKG1hcF9mOTM5N2Q5YjYwMWM0ZmEyOTY5NmVhZDgyNGQ5MjMwOCk7CiAgICAgICAgICAgIAogICAgCiAgICAgICAgICAgIHZhciBwb3B1cF9jMzE1ZGNmYWU0Y2M0NmY5YjZmYjJmNzcxYTViOGZjZiA9IEwucG9wdXAoe21heFdpZHRoOiAnMzAwJ30pOwoKICAgICAgICAgICAgCiAgICAgICAgICAgICAgICB2YXIgaHRtbF84ODc3YmVmNTIzMDY0MWJlODE4YmZhNWM3NzE1OTZmYSA9ICQoJzxkaXYgaWQ9Imh0bWxfODg3N2JlZjUyMzA2NDFiZTgxOGJmYTVjNzcxNTk2ZmEiIHN0eWxlPSJ3aWR0aDogMTAwLjAlOyBoZWlnaHQ6IDEwMC4wJTsiPkljZSBDcmVhbSBQYXJsb3VyPC9kaXY+JylbMF07CiAgICAgICAgICAgICAgICBwb3B1cF9jMzE1ZGNmYWU0Y2M0NmY5YjZmYjJmNzcxYTViOGZjZi5zZXRDb250ZW50KGh0bWxfODg3N2JlZjUyMzA2NDFiZTgxOGJmYTVjNzcxNTk2ZmEpOwogICAgICAgICAgICAKCiAgICAgICAgICAgIGNpcmNsZV9tYXJrZXJfMGU4OTM5Zjk2OGEyNDVkODlkYWRhNGNhYTdiNjc4NWEuYmluZFBvcHVwKHBvcHVwX2MzMTVkY2ZhZTRjYzQ2ZjliNmZiMmY3NzFhNWI4ZmNmKTsKCiAgICAgICAgICAgIAogICAgICAgIAogICAgCiAgICAgICAgICAgIHZhciBjaXJjbGVfbWFya2VyX2ZiYWI4ZmJhY2EzYTRkYTFhOTFlN2ZkMDlhZmVkYzRkID0gTC5jaXJjbGVNYXJrZXIoCiAgICAgICAgICAgICAgICBbNTEuNTEwNDI3MjY2MjE0MTksLTAuMTI4NDAwODE0OTI5MjE2MzddLAogICAgICAgICAgICAgICAgewogICJidWJibGluZ01vdXNlRXZlbnRzIjogdHJ1ZSwKICAiY29sb3IiOiAicmVkIiwKICAiZGFzaEFycmF5IjogbnVsbCwKICAiZGFzaE9mZnNldCI6IG51bGwsCiAgImZpbGwiOiB0cnVlLAogICJmaWxsQ29sb3IiOiAiI0U5NDk3NSIsCiAgImZpbGxPcGFjaXR5IjogMC43LAogICJmaWxsUnVsZSI6ICJldmVub2RkIiwKICAibGluZUNhcCI6ICJyb3VuZCIsCiAgImxpbmVKb2luIjogInJvdW5kIiwKICAib3BhY2l0eSI6IDEuMCwKICAicmFkaXVzIjogNSwKICAic3Ryb2tlIjogdHJ1ZSwKICAid2VpZ2h0IjogMwp9CiAgICAgICAgICAgICAgICApLmFkZFRvKG1hcF9mOTM5N2Q5YjYwMWM0ZmEyOTY5NmVhZDgyNGQ5MjMwOCk7CiAgICAgICAgICAgIAogICAgCiAgICAgICAgICAgIHZhciBwb3B1cF9iYTAxOWMzMGViZmY0ZGI2YWQxOTJkODY4MDczMjAyMCA9IEwucG9wdXAoe21heFdpZHRoOiAnMzAwJ30pOwoKICAgICAgICAgICAgCiAgICAgICAgICAgICAgICB2YXIgaHRtbF9hMmM2MmY4YmM5MjE0NGFhOTRkODJiNmU2N2E3ZmU5MCA9ICQoJzxkaXYgaWQ9Imh0bWxfYTJjNjJmOGJjOTIxNDRhYTk0ZDgyYjZlNjdhN2ZlOTAiIHN0eWxlPSJ3aWR0aDogMTAwLjAlOyBoZWlnaHQ6IDEwMC4wJTsiPkFtb3Jpbm88L2Rpdj4nKVswXTsKICAgICAgICAgICAgICAgIHBvcHVwX2JhMDE5YzMwZWJmZjRkYjZhZDE5MmQ4NjgwNzMyMDIwLnNldENvbnRlbnQoaHRtbF9hMmM2MmY4YmM5MjE0NGFhOTRkODJiNmU2N2E3ZmU5MCk7CiAgICAgICAgICAgIAoKICAgICAgICAgICAgY2lyY2xlX21hcmtlcl9mYmFiOGZiYWNhM2E0ZGExYTkxZTdmZDA5YWZlZGM0ZC5iaW5kUG9wdXAocG9wdXBfYmEwMTljMzBlYmZmNGRiNmFkMTkyZDg2ODA3MzIwMjApOwoKICAgICAgICAgICAgCiAgICAgICAgCiAgICAKICAgICAgICAgICAgdmFyIGNpcmNsZV9tYXJrZXJfOWZlZmIyYjQ2NjhkNDJkNmFlZWRmZTQ5ZmQxNmFlMmYgPSBMLmNpcmNsZU1hcmtlcigKICAgICAgICAgICAgICAgIFs1MS41MTEwNDYwMzMxOTU2NSwtMC4xMjY4MjgwMjY2OTIwNDM1XSwKICAgICAgICAgICAgICAgIHsKICAiYnViYmxpbmdNb3VzZUV2ZW50cyI6IHRydWUsCiAgImNvbG9yIjogInJlZCIsCiAgImRhc2hBcnJheSI6IG51bGwsCiAgImRhc2hPZmZzZXQiOiBudWxsLAogICJmaWxsIjogdHJ1ZSwKICAiZmlsbENvbG9yIjogIiNFOTQ5NzUiLAogICJmaWxsT3BhY2l0eSI6IDAuNywKICAiZmlsbFJ1bGUiOiAiZXZlbm9kZCIsCiAgImxpbmVDYXAiOiAicm91bmQiLAogICJsaW5lSm9pbiI6ICJyb3VuZCIsCiAgIm9wYWNpdHkiOiAxLjAsCiAgInJhZGl1cyI6IDUsCiAgInN0cm9rZSI6IHRydWUsCiAgIndlaWdodCI6IDMKfQogICAgICAgICAgICAgICAgKS5hZGRUbyhtYXBfZjkzOTdkOWI2MDFjNGZhMjk2OTZlYWQ4MjRkOTIzMDgpOwogICAgICAgICAgICAKICAgIAogICAgICAgICAgICB2YXIgcG9wdXBfMTdiODY4NzlmZjUwNDJiNGI1NzZjYWI2YmFjZGI3MTYgPSBMLnBvcHVwKHttYXhXaWR0aDogJzMwMCd9KTsKCiAgICAgICAgICAgIAogICAgICAgICAgICAgICAgdmFyIGh0bWxfODJmNDllYjdmYWM4NDk0MDlhNzNjOGM2Y2Y1YjU4NTcgPSAkKCc8ZGl2IGlkPSJodG1sXzgyZjQ5ZWI3ZmFjODQ5NDA5YTczYzhjNmNmNWI1ODU3IiBzdHlsZT0id2lkdGg6IDEwMC4wJTsgaGVpZ2h0OiAxMDAuMCU7Ij5MYSBHZWxhdGllcmE8L2Rpdj4nKVswXTsKICAgICAgICAgICAgICAgIHBvcHVwXzE3Yjg2ODc5ZmY1MDQyYjRiNTc2Y2FiNmJhY2RiNzE2LnNldENvbnRlbnQoaHRtbF84MmY0OWViN2ZhYzg0OTQwOWE3M2M4YzZjZjViNTg1Nyk7CiAgICAgICAgICAgIAoKICAgICAgICAgICAgY2lyY2xlX21hcmtlcl85ZmVmYjJiNDY2OGQ0MmQ2YWVlZGZlNDlmZDE2YWUyZi5iaW5kUG9wdXAocG9wdXBfMTdiODY4NzlmZjUwNDJiNGI1NzZjYWI2YmFjZGI3MTYpOwoKICAgICAgICAgICAgCiAgICAgICAgCiAgICAKICAgICAgICAgICAgdmFyIGNpcmNsZV9tYXJrZXJfMzBjZmRhNDg4MzkwNGY5OTlhNjhiMjJhZDcxNDk2NTQgPSBMLmNpcmNsZU1hcmtlcigKICAgICAgICAgICAgICAgIFs1MS41MTE1MDk3MTMzNzc5OCwtMC4xMjU3OTQ0NjM0MTc5NDE4XSwKICAgICAgICAgICAgICAgIHsKICAiYnViYmxpbmdNb3VzZUV2ZW50cyI6IHRydWUsCiAgImNvbG9yIjogInJlZCIsCiAgImRhc2hBcnJheSI6IG51bGwsCiAgImRhc2hPZmZzZXQiOiBudWxsLAogICJmaWxsIjogdHJ1ZSwKICAiZmlsbENvbG9yIjogIiNFOTQ5NzUiLAogICJmaWxsT3BhY2l0eSI6IDAuNywKICAiZmlsbFJ1bGUiOiAiZXZlbm9kZCIsCiAgImxpbmVDYXAiOiAicm91bmQiLAogICJsaW5lSm9pbiI6ICJyb3VuZCIsCiAgIm9wYWNpdHkiOiAxLjAsCiAgInJhZGl1cyI6IDUsCiAgInN0cm9rZSI6IHRydWUsCiAgIndlaWdodCI6IDMKfQogICAgICAgICAgICAgICAgKS5hZGRUbyhtYXBfZjkzOTdkOWI2MDFjNGZhMjk2OTZlYWQ4MjRkOTIzMDgpOwogICAgICAgICAgICAKICAgIAogICAgICAgICAgICB2YXIgcG9wdXBfZTYwOGQ5NTEzY2UxNDZjMzlmYjBkMTk2ZmU3MWI0ODcgPSBMLnBvcHVwKHttYXhXaWR0aDogJzMwMCd9KTsKCiAgICAgICAgICAgIAogICAgICAgICAgICAgICAgdmFyIGh0bWxfMTg4YTVkNTI2ZjBhNGVjN2I3YTVjNzZkOTgzNGQxNGQgPSAkKCc8ZGl2IGlkPSJodG1sXzE4OGE1ZDUyNmYwYTRlYzdiN2E1Yzc2ZDk4MzRkMTRkIiBzdHlsZT0id2lkdGg6IDEwMC4wJTsgaGVpZ2h0OiAxMDAuMCU7Ij5BbW9yaW5vPC9kaXY+JylbMF07CiAgICAgICAgICAgICAgICBwb3B1cF9lNjA4ZDk1MTNjZTE0NmMzOWZiMGQxOTZmZTcxYjQ4Ny5zZXRDb250ZW50KGh0bWxfMTg4YTVkNTI2ZjBhNGVjN2I3YTVjNzZkOTgzNGQxNGQpOwogICAgICAgICAgICAKCiAgICAgICAgICAgIGNpcmNsZV9tYXJrZXJfMzBjZmRhNDg4MzkwNGY5OTlhNjhiMjJhZDcxNDk2NTQuYmluZFBvcHVwKHBvcHVwX2U2MDhkOTUxM2NlMTQ2YzM5ZmIwZDE5NmZlNzFiNDg3KTsKCiAgICAgICAgICAgIAogICAgICAgIAogICAgCiAgICAgICAgICAgIHZhciBjaXJjbGVfbWFya2VyXzAzNDBiYTgxZjc1ZjRkYmI5M2U2MjU5MzVhNDA2NzFhID0gTC5jaXJjbGVNYXJrZXIoCiAgICAgICAgICAgICAgICBbNTEuNTEwODU5NDQzMzk4LC0wLjEzMTYzMTMwMzUwMTA0NDldLAogICAgICAgICAgICAgICAgewogICJidWJibGluZ01vdXNlRXZlbnRzIjogdHJ1ZSwKICAiY29sb3IiOiAicmVkIiwKICAiZGFzaEFycmF5IjogbnVsbCwKICAiZGFzaE9mZnNldCI6IG51bGwsCiAgImZpbGwiOiB0cnVlLAogICJmaWxsQ29sb3IiOiAiI0U5NDk3NSIsCiAgImZpbGxPcGFjaXR5IjogMC43LAogICJmaWxsUnVsZSI6ICJldmVub2RkIiwKICAibGluZUNhcCI6ICJyb3VuZCIsCiAgImxpbmVKb2luIjogInJvdW5kIiwKICAib3BhY2l0eSI6IDEuMCwKICAicmFkaXVzIjogNSwKICAic3Ryb2tlIjogdHJ1ZSwKICAid2VpZ2h0IjogMwp9CiAgICAgICAgICAgICAgICApLmFkZFRvKG1hcF9mOTM5N2Q5YjYwMWM0ZmEyOTY5NmVhZDgyNGQ5MjMwOCk7CiAgICAgICAgICAgIAogICAgCiAgICAgICAgICAgIHZhciBwb3B1cF9jOTcwZDUxYmQ3Nzk0NTdmYWZiYmE1ZTM5MTlmN2ZmZCA9IEwucG9wdXAoe21heFdpZHRoOiAnMzAwJ30pOwoKICAgICAgICAgICAgCiAgICAgICAgICAgICAgICB2YXIgaHRtbF8zZDQ0Yzk1ZjE5YTM0NjYzYWExZjZlOGY1NTM2MjUyMCA9ICQoJzxkaXYgaWQ9Imh0bWxfM2Q0NGM5NWYxOWEzNDY2M2FhMWY2ZThmNTUzNjI1MjAiIHN0eWxlPSJ3aWR0aDogMTAwLjAlOyBoZWlnaHQ6IDEwMC4wJTsiPkJha2Ug6bq15YyF5bGLPC9kaXY+JylbMF07CiAgICAgICAgICAgICAgICBwb3B1cF9jOTcwZDUxYmQ3Nzk0NTdmYWZiYmE1ZTM5MTlmN2ZmZC5zZXRDb250ZW50KGh0bWxfM2Q0NGM5NWYxOWEzNDY2M2FhMWY2ZThmNTUzNjI1MjApOwogICAgICAgICAgICAKCiAgICAgICAgICAgIGNpcmNsZV9tYXJrZXJfMDM0MGJhODFmNzVmNGRiYjkzZTYyNTkzNWE0MDY3MWEuYmluZFBvcHVwKHBvcHVwX2M5NzBkNTFiZDc3OTQ1N2ZhZmJiYTVlMzkxOWY3ZmZkKTsKCiAgICAgICAgICAgIAogICAgICAgIAogICAgCiAgICAgICAgICAgIHZhciBjaXJjbGVfbWFya2VyX2Y2ZTVlMzMzM2U2ZDQwNjA4ZDgzNjY2MGFkZDRiOTM4ID0gTC5jaXJjbGVNYXJrZXIoCiAgICAgICAgICAgICAgICBbNTEuNTExNjAzNDA3OTU1MTcsLTAuMTMzODIyNzk3OTkwMjI3Ml0sCiAgICAgICAgICAgICAgICB7CiAgImJ1YmJsaW5nTW91c2VFdmVudHMiOiB0cnVlLAogICJjb2xvciI6ICJyZWQiLAogICJkYXNoQXJyYXkiOiBudWxsLAogICJkYXNoT2Zmc2V0IjogbnVsbCwKICAiZmlsbCI6IHRydWUsCiAgImZpbGxDb2xvciI6ICIjRTk0OTc1IiwKICAiZmlsbE9wYWNpdHkiOiAwLjcsCiAgImZpbGxSdWxlIjogImV2ZW5vZGQiLAogICJsaW5lQ2FwIjogInJvdW5kIiwKICAibGluZUpvaW4iOiAicm91bmQiLAogICJvcGFjaXR5IjogMS4wLAogICJyYWRpdXMiOiA1LAogICJzdHJva2UiOiB0cnVlLAogICJ3ZWlnaHQiOiAzCn0KICAgICAgICAgICAgICAgICkuYWRkVG8obWFwX2Y5Mzk3ZDliNjAxYzRmYTI5Njk2ZWFkODI0ZDkyMzA4KTsKICAgICAgICAgICAgCiAgICAKICAgICAgICAgICAgdmFyIHBvcHVwX2JlZWFjYWE2YjdkMzQwMTg5YjdhNDNjNzExOTBlYzIxID0gTC5wb3B1cCh7bWF4V2lkdGg6ICczMDAnfSk7CgogICAgICAgICAgICAKICAgICAgICAgICAgICAgIHZhciBodG1sX2IyOTM2MjM2MjM3OTQ2MDY5ZWM5OGZjYTQxNzY2YWUzID0gJCgnPGRpdiBpZD0iaHRtbF9iMjkzNjIzNjIzNzk0NjA2OWVjOThmY2E0MTc2NmFlMyIgc3R5bGU9IndpZHRoOiAxMDAuMCU7IGhlaWdodDogMTAwLjAlOyI+R2VsdXBvPC9kaXY+JylbMF07CiAgICAgICAgICAgICAgICBwb3B1cF9iZWVhY2FhNmI3ZDM0MDE4OWI3YTQzYzcxMTkwZWMyMS5zZXRDb250ZW50KGh0bWxfYjI5MzYyMzYyMzc5NDYwNjllYzk4ZmNhNDE3NjZhZTMpOwogICAgICAgICAgICAKCiAgICAgICAgICAgIGNpcmNsZV9tYXJrZXJfZjZlNWUzMzMzZTZkNDA2MDhkODM2NjYwYWRkNGI5MzguYmluZFBvcHVwKHBvcHVwX2JlZWFjYWE2YjdkMzQwMTg5YjdhNDNjNzExOTBlYzIxKTsKCiAgICAgICAgICAgIAogICAgICAgIAogICAgCiAgICAgICAgICAgIHZhciBjaXJjbGVfbWFya2VyXzkwMWZjZGQ5MGVkYjRhYThiN2FmNzFiMTk3MmQyZmE1ID0gTC5jaXJjbGVNYXJrZXIoCiAgICAgICAgICAgICAgICBbNTEuNTExOTU5OTk4OTc1NTgsLTAuMTI5MDMzMjg0NzY3MjQwMzVdLAogICAgICAgICAgICAgICAgewogICJidWJibGluZ01vdXNlRXZlbnRzIjogdHJ1ZSwKICAiY29sb3IiOiAicmVkIiwKICAiZGFzaEFycmF5IjogbnVsbCwKICAiZGFzaE9mZnNldCI6IG51bGwsCiAgImZpbGwiOiB0cnVlLAogICJmaWxsQ29sb3IiOiAiI0U5NDk3NSIsCiAgImZpbGxPcGFjaXR5IjogMC43LAogICJmaWxsUnVsZSI6ICJldmVub2RkIiwKICAibGluZUNhcCI6ICJyb3VuZCIsCiAgImxpbmVKb2luIjogInJvdW5kIiwKICAib3BhY2l0eSI6IDEuMCwKICAicmFkaXVzIjogNSwKICAic3Ryb2tlIjogdHJ1ZSwKICAid2VpZ2h0IjogMwp9CiAgICAgICAgICAgICAgICApLmFkZFRvKG1hcF9mOTM5N2Q5YjYwMWM0ZmEyOTY5NmVhZDgyNGQ5MjMwOCk7CiAgICAgICAgICAgIAogICAgCiAgICAgICAgICAgIHZhciBwb3B1cF9mMGU0YjkxODA3M2I0ODQ3OWZhMGYyM2M0ZTMwZWIzMyA9IEwucG9wdXAoe21heFdpZHRoOiAnMzAwJ30pOwoKICAgICAgICAgICAgCiAgICAgICAgICAgICAgICB2YXIgaHRtbF9jYjJkMTIwYWM2Yzk0NGIxODUwZjRjOGFkNDNkODRlMCA9ICQoJzxkaXYgaWQ9Imh0bWxfY2IyZDEyMGFjNmM5NDRiMTg1MGY0YzhhZDQzZDg0ZTAiIHN0eWxlPSJ3aWR0aDogMTAwLjAlOyBoZWlnaHQ6IDEwMC4wJTsiPk1hbWFzb25zPC9kaXY+JylbMF07CiAgICAgICAgICAgICAgICBwb3B1cF9mMGU0YjkxODA3M2I0ODQ3OWZhMGYyM2M0ZTMwZWIzMy5zZXRDb250ZW50KGh0bWxfY2IyZDEyMGFjNmM5NDRiMTg1MGY0YzhhZDQzZDg0ZTApOwogICAgICAgICAgICAKCiAgICAgICAgICAgIGNpcmNsZV9tYXJrZXJfOTAxZmNkZDkwZWRiNGFhOGI3YWY3MWIxOTcyZDJmYTUuYmluZFBvcHVwKHBvcHVwX2YwZTRiOTE4MDczYjQ4NDc5ZmEwZjIzYzRlMzBlYjMzKTsKCiAgICAgICAgICAgIAogICAgICAgIAogICAgCiAgICAgICAgICAgIHZhciBjaXJjbGVfbWFya2VyX2QyMzVmNDUwZGU3OTQ0MjVhZmNjNzMyMzgzZGEwOTRiID0gTC5jaXJjbGVNYXJrZXIoCiAgICAgICAgICAgICAgICBbNTEuNTEwODU5NDQzMzk4LC0wLjEzMTYzMTMwMzUwMTA0NDldLAogICAgICAgICAgICAgICAgewogICJidWJibGluZ01vdXNlRXZlbnRzIjogdHJ1ZSwKICAiY29sb3IiOiAicmVkIiwKICAiZGFzaEFycmF5IjogbnVsbCwKICAiZGFzaE9mZnNldCI6IG51bGwsCiAgImZpbGwiOiB0cnVlLAogICJmaWxsQ29sb3IiOiAiI0U5NDk3NSIsCiAgImZpbGxPcGFjaXR5IjogMC43LAogICJmaWxsUnVsZSI6ICJldmVub2RkIiwKICAibGluZUNhcCI6ICJyb3VuZCIsCiAgImxpbmVKb2luIjogInJvdW5kIiwKICAib3BhY2l0eSI6IDEuMCwKICAicmFkaXVzIjogNSwKICAic3Ryb2tlIjogdHJ1ZSwKICAid2VpZ2h0IjogMwp9CiAgICAgICAgICAgICAgICApLmFkZFRvKG1hcF9mOTM5N2Q5YjYwMWM0ZmEyOTY5NmVhZDgyNGQ5MjMwOCk7CiAgICAgICAgICAgIAogICAgCiAgICAgICAgICAgIHZhciBwb3B1cF82MzYxNTc0MTVjMjg0Mjg1ODdlNGEzM2FlODAwZGMxYyA9IEwucG9wdXAoe21heFdpZHRoOiAnMzAwJ30pOwoKICAgICAgICAgICAgCiAgICAgICAgICAgICAgICB2YXIgaHRtbF9iY2UyYTE4ZDM3Yzg0Njc5YWI3N2E3YmEzYTBkMjRjZCA9ICQoJzxkaXYgaWQ9Imh0bWxfYmNlMmExOGQzN2M4NDY3OWFiNzdhN2JhM2EwZDI0Y2QiIHN0eWxlPSJ3aWR0aDogMTAwLjAlOyBoZWlnaHQ6IDEwMC4wJTsiPkJha2Ug6bq15YyF5bGLPC9kaXY+JylbMF07CiAgICAgICAgICAgICAgICBwb3B1cF82MzYxNTc0MTVjMjg0Mjg1ODdlNGEzM2FlODAwZGMxYy5zZXRDb250ZW50KGh0bWxfYmNlMmExOGQzN2M4NDY3OWFiNzdhN2JhM2EwZDI0Y2QpOwogICAgICAgICAgICAKCiAgICAgICAgICAgIGNpcmNsZV9tYXJrZXJfZDIzNWY0NTBkZTc5NDQyNWFmY2M3MzIzODNkYTA5NGIuYmluZFBvcHVwKHBvcHVwXzYzNjE1NzQxNWMyODQyODU4N2U0YTMzYWU4MDBkYzFjKTsKCiAgICAgICAgICAgIAogICAgICAgIAogICAgCiAgICAgICAgICAgIHZhciBjaXJjbGVfbWFya2VyXzJkMjIxMjQ4ZGE3ZjRjYjZhNTAzZmM4NmNkNmQ2YjU5ID0gTC5jaXJjbGVNYXJrZXIoCiAgICAgICAgICAgICAgICBbNTEuNTExOTc2Mjc3NjI4MTksLTAuMTI4OTg5NDU0NzUwNzY5NF0sCiAgICAgICAgICAgICAgICB7CiAgImJ1YmJsaW5nTW91c2VFdmVudHMiOiB0cnVlLAogICJjb2xvciI6ICJyZWQiLAogICJkYXNoQXJyYXkiOiBudWxsLAogICJkYXNoT2Zmc2V0IjogbnVsbCwKICAiZmlsbCI6IHRydWUsCiAgImZpbGxDb2xvciI6ICIjRTk0OTc1IiwKICAiZmlsbE9wYWNpdHkiOiAwLjcsCiAgImZpbGxSdWxlIjogImV2ZW5vZGQiLAogICJsaW5lQ2FwIjogInJvdW5kIiwKICAibGluZUpvaW4iOiAicm91bmQiLAogICJvcGFjaXR5IjogMS4wLAogICJyYWRpdXMiOiA1LAogICJzdHJva2UiOiB0cnVlLAogICJ3ZWlnaHQiOiAzCn0KICAgICAgICAgICAgICAgICkuYWRkVG8obWFwX2Y5Mzk3ZDliNjAxYzRmYTI5Njk2ZWFkODI0ZDkyMzA4KTsKICAgICAgICAgICAgCiAgICAKICAgICAgICAgICAgdmFyIHBvcHVwXzA5OTIyMzM2YjBjNjRlMjQ4YzQxYzJmNGE1YjZhZGIzID0gTC5wb3B1cCh7bWF4V2lkdGg6ICczMDAnfSk7CgogICAgICAgICAgICAKICAgICAgICAgICAgICAgIHZhciBodG1sXzFjY2Y1MjZjM2Q5YTQ2NTY5ZjM2MzhiMjhmZjU4YTE2ID0gJCgnPGRpdiBpZD0iaHRtbF8xY2NmNTI2YzNkOWE0NjU2OWYzNjM4YjI4ZmY1OGExNiIgc3R5bGU9IndpZHRoOiAxMDAuMCU7IGhlaWdodDogMTAwLjAlOyI+VHN1amlyaTwvZGl2PicpWzBdOwogICAgICAgICAgICAgICAgcG9wdXBfMDk5MjIzMzZiMGM2NGUyNDhjNDFjMmY0YTViNmFkYjMuc2V0Q29udGVudChodG1sXzFjY2Y1MjZjM2Q5YTQ2NTY5ZjM2MzhiMjhmZjU4YTE2KTsKICAgICAgICAgICAgCgogICAgICAgICAgICBjaXJjbGVfbWFya2VyXzJkMjIxMjQ4ZGE3ZjRjYjZhNTAzZmM4NmNkNmQ2YjU5LmJpbmRQb3B1cChwb3B1cF8wOTkyMjMzNmIwYzY0ZTI0OGM0MWMyZjRhNWI2YWRiMyk7CgogICAgICAgICAgICAKICAgICAgICAKICAgIAogICAgICAgICAgICB2YXIgY2lyY2xlX21hcmtlcl81Y2Q5YWY0Mjk3NWU0YWVjYWM4ZmQ4ZWYwODJhN2NmOCA9IEwuY2lyY2xlTWFya2VyKAogICAgICAgICAgICAgICAgWzUxLjUxMjg2ODE0OTQ4MDgsLTAuMTMyMTYwOTgxMjQ5NDI4MDJdLAogICAgICAgICAgICAgICAgewogICJidWJibGluZ01vdXNlRXZlbnRzIjogdHJ1ZSwKICAiY29sb3IiOiAicmVkIiwKICAiZGFzaEFycmF5IjogbnVsbCwKICAiZGFzaE9mZnNldCI6IG51bGwsCiAgImZpbGwiOiB0cnVlLAogICJmaWxsQ29sb3IiOiAiI0U5NDk3NSIsCiAgImZpbGxPcGFjaXR5IjogMC43LAogICJmaWxsUnVsZSI6ICJldmVub2RkIiwKICAibGluZUNhcCI6ICJyb3VuZCIsCiAgImxpbmVKb2luIjogInJvdW5kIiwKICAib3BhY2l0eSI6IDEuMCwKICAicmFkaXVzIjogNSwKICAic3Ryb2tlIjogdHJ1ZSwKICAid2VpZ2h0IjogMwp9CiAgICAgICAgICAgICAgICApLmFkZFRvKG1hcF9mOTM5N2Q5YjYwMWM0ZmEyOTY5NmVhZDgyNGQ5MjMwOCk7CiAgICAgICAgICAgIAogICAgCiAgICAgICAgICAgIHZhciBwb3B1cF84NGI2MDNhYTMzMWY0MTEwYmEwZDkxZTYyZThkZmNjMCA9IEwucG9wdXAoe21heFdpZHRoOiAnMzAwJ30pOwoKICAgICAgICAgICAgCiAgICAgICAgICAgICAgICB2YXIgaHRtbF9iYjcyZjA1NjI4NWQ0MTVhYWY4ZWNhMDI3M2RkNmU4OCA9ICQoJzxkaXYgaWQ9Imh0bWxfYmI3MmYwNTYyODVkNDE1YWFmOGVjYTAyNzNkZDZlODgiIHN0eWxlPSJ3aWR0aDogMTAwLjAlOyBoZWlnaHQ6IDEwMC4wJTsiPkFtb3Jpbm88L2Rpdj4nKVswXTsKICAgICAgICAgICAgICAgIHBvcHVwXzg0YjYwM2FhMzMxZjQxMTBiYTBkOTFlNjJlOGRmY2MwLnNldENvbnRlbnQoaHRtbF9iYjcyZjA1NjI4NWQ0MTVhYWY4ZWNhMDI3M2RkNmU4OCk7CiAgICAgICAgICAgIAoKICAgICAgICAgICAgY2lyY2xlX21hcmtlcl81Y2Q5YWY0Mjk3NWU0YWVjYWM4ZmQ4ZWYwODJhN2NmOC5iaW5kUG9wdXAocG9wdXBfODRiNjAzYWEzMzFmNDExMGJhMGQ5MWU2MmU4ZGZjYzApOwoKICAgICAgICAgICAgCiAgICAgICAgCiAgICAKICAgICAgICAgICAgdmFyIGNpcmNsZV9tYXJrZXJfYzM3MWQ2YTQyMGE0NDMzOWI2Yzk5MjNiY2MwMjYyMTYgPSBMLmNpcmNsZU1hcmtlcigKICAgICAgICAgICAgICAgIFs1MS41MTE3MTg0NzI4NDQ4NTUsLTAuMTMzNjExOTA1NTAwNDQzMV0sCiAgICAgICAgICAgICAgICB7CiAgImJ1YmJsaW5nTW91c2VFdmVudHMiOiB0cnVlLAogICJjb2xvciI6ICJyZWQiLAogICJkYXNoQXJyYXkiOiBudWxsLAogICJkYXNoT2Zmc2V0IjogbnVsbCwKICAiZmlsbCI6IHRydWUsCiAgImZpbGxDb2xvciI6ICIjRTk0OTc1IiwKICAiZmlsbE9wYWNpdHkiOiAwLjcsCiAgImZpbGxSdWxlIjogImV2ZW5vZGQiLAogICJsaW5lQ2FwIjogInJvdW5kIiwKICAibGluZUpvaW4iOiAicm91bmQiLAogICJvcGFjaXR5IjogMS4wLAogICJyYWRpdXMiOiA1LAogICJzdHJva2UiOiB0cnVlLAogICJ3ZWlnaHQiOiAzCn0KICAgICAgICAgICAgICAgICkuYWRkVG8obWFwX2Y5Mzk3ZDliNjAxYzRmYTI5Njk2ZWFkODI0ZDkyMzA4KTsKICAgICAgICAgICAgCiAgICAKICAgICAgICAgICAgdmFyIHBvcHVwXzVkYTg1NjdhMjAzMTQxNWJhMjQ4NGU0NGNiZjFkNGU3ID0gTC5wb3B1cCh7bWF4V2lkdGg6ICczMDAnfSk7CgogICAgICAgICAgICAKICAgICAgICAgICAgICAgIHZhciBodG1sXzQ3OWQ1ZjIwYWY0MjRkZDJiM2UzYTA1ZDk0NWUwYzcyID0gJCgnPGRpdiBpZD0iaHRtbF80NzlkNWYyMGFmNDI0ZGQyYjNlM2EwNWQ5NDVlMGM3MiIgc3R5bGU9IndpZHRoOiAxMDAuMCU7IGhlaWdodDogMTAwLjAlOyI+R2VsYXRvLCBBcmNoZXIgU3RyZWV0LCBTb2hvPC9kaXY+JylbMF07CiAgICAgICAgICAgICAgICBwb3B1cF81ZGE4NTY3YTIwMzE0MTViYTI0ODRlNDRjYmYxZDRlNy5zZXRDb250ZW50KGh0bWxfNDc5ZDVmMjBhZjQyNGRkMmIzZTNhMDVkOTQ1ZTBjNzIpOwogICAgICAgICAgICAKCiAgICAgICAgICAgIGNpcmNsZV9tYXJrZXJfYzM3MWQ2YTQyMGE0NDMzOWI2Yzk5MjNiY2MwMjYyMTYuYmluZFBvcHVwKHBvcHVwXzVkYTg1NjdhMjAzMTQxNWJhMjQ4NGU0NGNiZjFkNGU3KTsKCiAgICAgICAgICAgIAogICAgICAgIAogICAgCiAgICAgICAgICAgIHZhciBjaXJjbGVfbWFya2VyX2I1YzU5ZTNkODlkODRjN2I5NDFkM2RjMDgzNDI5Y2IzID0gTC5jaXJjbGVNYXJrZXIoCiAgICAgICAgICAgICAgICBbNTEuNTEwOTI2MTkzMjg4NjEsLTAuMTMyNjg1NTI3Mjk5OTczMDddLAogICAgICAgICAgICAgICAgewogICJidWJibGluZ01vdXNlRXZlbnRzIjogdHJ1ZSwKICAiY29sb3IiOiAicmVkIiwKICAiZGFzaEFycmF5IjogbnVsbCwKICAiZGFzaE9mZnNldCI6IG51bGwsCiAgImZpbGwiOiB0cnVlLAogICJmaWxsQ29sb3IiOiAiI0U5NDk3NSIsCiAgImZpbGxPcGFjaXR5IjogMC43LAogICJmaWxsUnVsZSI6ICJldmVub2RkIiwKICAibGluZUNhcCI6ICJyb3VuZCIsCiAgImxpbmVKb2luIjogInJvdW5kIiwKICAib3BhY2l0eSI6IDEuMCwKICAicmFkaXVzIjogNSwKICAic3Ryb2tlIjogdHJ1ZSwKICAid2VpZ2h0IjogMwp9CiAgICAgICAgICAgICAgICApLmFkZFRvKG1hcF9mOTM5N2Q5YjYwMWM0ZmEyOTY5NmVhZDgyNGQ5MjMwOCk7CiAgICAgICAgICAgIAogICAgCiAgICAgICAgICAgIHZhciBwb3B1cF9hMGYzNjI0MjQxMDE0ZmYwOGJhMmIyYmJiZWJjZTU1MSA9IEwucG9wdXAoe21heFdpZHRoOiAnMzAwJ30pOwoKICAgICAgICAgICAgCiAgICAgICAgICAgICAgICB2YXIgaHRtbF80NDI3YzdjNzQzMzM0NzM3YmY2MjMyOTRlNjI4ZmUxMSA9ICQoJzxkaXYgaWQ9Imh0bWxfNDQyN2M3Yzc0MzMzNDczN2JmNjIzMjk0ZTYyOGZlMTEiIHN0eWxlPSJ3aWR0aDogMTAwLjAlOyBoZWlnaHQ6IDEwMC4wJTsiPllvbGtpbjwvZGl2PicpWzBdOwogICAgICAgICAgICAgICAgcG9wdXBfYTBmMzYyNDI0MTAxNGZmMDhiYTJiMmJiYmViY2U1NTEuc2V0Q29udGVudChodG1sXzQ0MjdjN2M3NDMzMzQ3MzdiZjYyMzI5NGU2MjhmZTExKTsKICAgICAgICAgICAgCgogICAgICAgICAgICBjaXJjbGVfbWFya2VyX2I1YzU5ZTNkODlkODRjN2I5NDFkM2RjMDgzNDI5Y2IzLmJpbmRQb3B1cChwb3B1cF9hMGYzNjI0MjQxMDE0ZmYwOGJhMmIyYmJiZWJjZTU1MSk7CgogICAgICAgICAgICAKICAgICAgICAKICAgIAogICAgICAgICAgICB2YXIgY2lyY2xlX21hcmtlcl81Njg0NjA1ODkxNzA0MGFkYTUyYTFkNjYwZmUzN2FjNSA9IEwuY2lyY2xlTWFya2VyKAogICAgICAgICAgICAgICAgWzUxLjUxMTk5NzYxMzIzNzIwNiwtMC4xMzMzOTIxMDkzNTA4NzEyOV0sCiAgICAgICAgICAgICAgICB7CiAgImJ1YmJsaW5nTW91c2VFdmVudHMiOiB0cnVlLAogICJjb2xvciI6ICJyZWQiLAogICJkYXNoQXJyYXkiOiBudWxsLAogICJkYXNoT2Zmc2V0IjogbnVsbCwKICAiZmlsbCI6IHRydWUsCiAgImZpbGxDb2xvciI6ICIjRTk0OTc1IiwKICAiZmlsbE9wYWNpdHkiOiAwLjcsCiAgImZpbGxSdWxlIjogImV2ZW5vZGQiLAogICJsaW5lQ2FwIjogInJvdW5kIiwKICAibGluZUpvaW4iOiAicm91bmQiLAogICJvcGFjaXR5IjogMS4wLAogICJyYWRpdXMiOiA1LAogICJzdHJva2UiOiB0cnVlLAogICJ3ZWlnaHQiOiAzCn0KICAgICAgICAgICAgICAgICkuYWRkVG8obWFwX2Y5Mzk3ZDliNjAxYzRmYTI5Njk2ZWFkODI0ZDkyMzA4KTsKICAgICAgICAgICAgCiAgICAKICAgICAgICAgICAgdmFyIHBvcHVwXzQ2NGNkNjU4MjYxMzQ4ZDc4NmM0NDZkMjE1ZTU4NjkzID0gTC5wb3B1cCh7bWF4V2lkdGg6ICczMDAnfSk7CgogICAgICAgICAgICAKICAgICAgICAgICAgICAgIHZhciBodG1sX2MzNmMzMjY2YTg1NTQ1NzhiNDViMDhmMDkzMGVlYTQyID0gJCgnPGRpdiBpZD0iaHRtbF9jMzZjMzI2NmE4NTU0NTc4YjQ1YjA4ZjA5MzBlZWE0MiIgc3R5bGU9IndpZHRoOiAxMDAuMCU7IGhlaWdodDogMTAwLjAlOyI+VHN1amlyaTwvZGl2PicpWzBdOwogICAgICAgICAgICAgICAgcG9wdXBfNDY0Y2Q2NTgyNjEzNDhkNzg2YzQ0NmQyMTVlNTg2OTMuc2V0Q29udGVudChodG1sX2MzNmMzMjY2YTg1NTQ1NzhiNDViMDhmMDkzMGVlYTQyKTsKICAgICAgICAgICAgCgogICAgICAgICAgICBjaXJjbGVfbWFya2VyXzU2ODQ2MDU4OTE3MDQwYWRhNTJhMWQ2NjBmZTM3YWM1LmJpbmRQb3B1cChwb3B1cF80NjRjZDY1ODI2MTM0OGQ3ODZjNDQ2ZDIxNWU1ODY5Myk7CgogICAgICAgICAgICAKICAgICAgICAKICAgIAogICAgICAgICAgICB2YXIgY2lyY2xlX21hcmtlcl9hM2UwZDA3MmQwYzU0ODkxYWY2ZjBjN2M0YzlhNGUzZiA9IEwuY2lyY2xlTWFya2VyKAogICAgICAgICAgICAgICAgWzUxLjUxMTUwOTcxMzM3Nzk4LC0wLjEyNTc5NDQ2MzQxNzk0MThdLAogICAgICAgICAgICAgICAgewogICJidWJibGluZ01vdXNlRXZlbnRzIjogdHJ1ZSwKICAiY29sb3IiOiAicmVkIiwKICAiZGFzaEFycmF5IjogbnVsbCwKICAiZGFzaE9mZnNldCI6IG51bGwsCiAgImZpbGwiOiB0cnVlLAogICJmaWxsQ29sb3IiOiAiI0U5NDk3NSIsCiAgImZpbGxPcGFjaXR5IjogMC43LAogICJmaWxsUnVsZSI6ICJldmVub2RkIiwKICAibGluZUNhcCI6ICJyb3VuZCIsCiAgImxpbmVKb2luIjogInJvdW5kIiwKICAib3BhY2l0eSI6IDEuMCwKICAicmFkaXVzIjogNSwKICAic3Ryb2tlIjogdHJ1ZSwKICAid2VpZ2h0IjogMwp9CiAgICAgICAgICAgICAgICApLmFkZFRvKG1hcF9mOTM5N2Q5YjYwMWM0ZmEyOTY5NmVhZDgyNGQ5MjMwOCk7CiAgICAgICAgICAgIAogICAgCiAgICAgICAgICAgIHZhciBwb3B1cF9iOTE3NTY5YzE2NDk0ZTY0ODgxNzNjM2Q0NzM0M2NkMCA9IEwucG9wdXAoe21heFdpZHRoOiAnMzAwJ30pOwoKICAgICAgICAgICAgCiAgICAgICAgICAgICAgICB2YXIgaHRtbF80MzA0NjFiOWNmYjE0ODFlOTBlMDAxYTMwMzg4NTllNSA9ICQoJzxkaXYgaWQ9Imh0bWxfNDMwNDYxYjljZmIxNDgxZTkwZTAwMWEzMDM4ODU5ZTUiIHN0eWxlPSJ3aWR0aDogMTAwLjAlOyBoZWlnaHQ6IDEwMC4wJTsiPkFtb3Jpbm88L2Rpdj4nKVswXTsKICAgICAgICAgICAgICAgIHBvcHVwX2I5MTc1NjljMTY0OTRlNjQ4ODE3M2MzZDQ3MzQzY2QwLnNldENvbnRlbnQoaHRtbF80MzA0NjFiOWNmYjE0ODFlOTBlMDAxYTMwMzg4NTllNSk7CiAgICAgICAgICAgIAoKICAgICAgICAgICAgY2lyY2xlX21hcmtlcl9hM2UwZDA3MmQwYzU0ODkxYWY2ZjBjN2M0YzlhNGUzZi5iaW5kUG9wdXAocG9wdXBfYjkxNzU2OWMxNjQ5NGU2NDg4MTczYzNkNDczNDNjZDApOwoKICAgICAgICAgICAgCiAgICAgICAgCiAgICAKICAgICAgICAgICAgdmFyIGNpcmNsZV9tYXJrZXJfNTMwNDkyOTg1NzUwNDIxZjlkYjM0NmQwNTFiMzFjYmYgPSBMLmNpcmNsZU1hcmtlcigKICAgICAgICAgICAgICAgIFs1MS41MTE5NSwtMC4xMjkwNTI0OF0sCiAgICAgICAgICAgICAgICB7CiAgImJ1YmJsaW5nTW91c2VFdmVudHMiOiB0cnVlLAogICJjb2xvciI6ICJyZWQiLAogICJkYXNoQXJyYXkiOiBudWxsLAogICJkYXNoT2Zmc2V0IjogbnVsbCwKICAiZmlsbCI6IHRydWUsCiAgImZpbGxDb2xvciI6ICIjRTk0OTc1IiwKICAiZmlsbE9wYWNpdHkiOiAwLjcsCiAgImZpbGxSdWxlIjogImV2ZW5vZGQiLAogICJsaW5lQ2FwIjogInJvdW5kIiwKICAibGluZUpvaW4iOiAicm91bmQiLAogICJvcGFjaXR5IjogMS4wLAogICJyYWRpdXMiOiA1LAogICJzdHJva2UiOiB0cnVlLAogICJ3ZWlnaHQiOiAzCn0KICAgICAgICAgICAgICAgICkuYWRkVG8obWFwX2Y5Mzk3ZDliNjAxYzRmYTI5Njk2ZWFkODI0ZDkyMzA4KTsKICAgICAgICAgICAgCiAgICAKICAgICAgICAgICAgdmFyIHBvcHVwX2JmYzdjODNlMWE3YTRhYWRhMzU1NTUzMjFhYzhjNzI0ID0gTC5wb3B1cCh7bWF4V2lkdGg6ICczMDAnfSk7CgogICAgICAgICAgICAKICAgICAgICAgICAgICAgIHZhciBodG1sXzI1Mjc3ZGQwYWViNzQ5ZTA4YzE1Zjk1Y2E0ZmQxOTBlID0gJCgnPGRpdiBpZD0iaHRtbF8yNTI3N2RkMGFlYjc0OWUwOGMxNWY5NWNhNGZkMTkwZSIgc3R5bGU9IndpZHRoOiAxMDAuMCU7IGhlaWdodDogMTAwLjAlOyI+RGlydHkgSWNlIENyZWFtPC9kaXY+JylbMF07CiAgICAgICAgICAgICAgICBwb3B1cF9iZmM3YzgzZTFhN2E0YWFkYTM1NTU1MzIxYWM4YzcyNC5zZXRDb250ZW50KGh0bWxfMjUyNzdkZDBhZWI3NDllMDhjMTVmOTVjYTRmZDE5MGUpOwogICAgICAgICAgICAKCiAgICAgICAgICAgIGNpcmNsZV9tYXJrZXJfNTMwNDkyOTg1NzUwNDIxZjlkYjM0NmQwNTFiMzFjYmYuYmluZFBvcHVwKHBvcHVwX2JmYzdjODNlMWE3YTRhYWRhMzU1NTUzMjFhYzhjNzI0KTsKCiAgICAgICAgICAgIAogICAgICAgIAogICAgCiAgICAgICAgICAgIHZhciBjaXJjbGVfbWFya2VyX2U5MjkxMTI0MmMyODQxNzNhYjIwYWE2NWQ5OTQ4OWZlID0gTC5jaXJjbGVNYXJrZXIoCiAgICAgICAgICAgICAgICBbNTEuNTEyOTIzNjU5OTkyNDcsLTAuMTMyMzAzOTE0MzE4NjM3OTRdLAogICAgICAgICAgICAgICAgewogICJidWJibGluZ01vdXNlRXZlbnRzIjogdHJ1ZSwKICAiY29sb3IiOiAicmVkIiwKICAiZGFzaEFycmF5IjogbnVsbCwKICAiZGFzaE9mZnNldCI6IG51bGwsCiAgImZpbGwiOiB0cnVlLAogICJmaWxsQ29sb3IiOiAiI0U5NDk3NSIsCiAgImZpbGxPcGFjaXR5IjogMC43LAogICJmaWxsUnVsZSI6ICJldmVub2RkIiwKICAibGluZUNhcCI6ICJyb3VuZCIsCiAgImxpbmVKb2luIjogInJvdW5kIiwKICAib3BhY2l0eSI6IDEuMCwKICAicmFkaXVzIjogNSwKICAic3Ryb2tlIjogdHJ1ZSwKICAid2VpZ2h0IjogMwp9CiAgICAgICAgICAgICAgICApLmFkZFRvKG1hcF9mOTM5N2Q5YjYwMWM0ZmEyOTY5NmVhZDgyNGQ5MjMwOCk7CiAgICAgICAgICAgIAogICAgCiAgICAgICAgICAgIHZhciBwb3B1cF9jMzUyYzA3OTJhYzg0NWZhODk2MzMxMjI0Mjk2ZmIyNSA9IEwucG9wdXAoe21heFdpZHRoOiAnMzAwJ30pOwoKICAgICAgICAgICAgCiAgICAgICAgICAgICAgICB2YXIgaHRtbF83ZTE1NWE2NWJlOTY0ZTAyYWQyNWU5YTA5OTM2OWYzMSA9ICQoJzxkaXYgaWQ9Imh0bWxfN2UxNTVhNjViZTk2NGUwMmFkMjVlOWEwOTkzNjlmMzEiIHN0eWxlPSJ3aWR0aDogMTAwLjAlOyBoZWlnaHQ6IDEwMC4wJTsiPkdlbGF0b2wgQWwgTmF0dXJhbGU8L2Rpdj4nKVswXTsKICAgICAgICAgICAgICAgIHBvcHVwX2MzNTJjMDc5MmFjODQ1ZmE4OTYzMzEyMjQyOTZmYjI1LnNldENvbnRlbnQoaHRtbF83ZTE1NWE2NWJlOTY0ZTAyYWQyNWU5YTA5OTM2OWYzMSk7CiAgICAgICAgICAgIAoKICAgICAgICAgICAgY2lyY2xlX21hcmtlcl9lOTI5MTEyNDJjMjg0MTczYWIyMGFhNjVkOTk0ODlmZS5iaW5kUG9wdXAocG9wdXBfYzM1MmMwNzkyYWM4NDVmYTg5NjMzMTIyNDI5NmZiMjUpOwoKICAgICAgICAgICAgCiAgICAgICAgCiAgICAKICAgICAgICAgICAgdmFyIGNpcmNsZV9tYXJrZXJfODg3MmQ1ZjgwYzBlNDRlZWE5YTIwNjFkNDNiMjA1NDYgPSBMLmNpcmNsZU1hcmtlcigKICAgICAgICAgICAgICAgIFs1MS41MTA0MTE4MjIyNzY4NCwtMC4xMzUxMjk2OTAxNzAyODgwOV0sCiAgICAgICAgICAgICAgICB7CiAgImJ1YmJsaW5nTW91c2VFdmVudHMiOiB0cnVlLAogICJjb2xvciI6ICJyZWQiLAogICJkYXNoQXJyYXkiOiBudWxsLAogICJkYXNoT2Zmc2V0IjogbnVsbCwKICAiZmlsbCI6IHRydWUsCiAgImZpbGxDb2xvciI6ICIjRTk0OTc1IiwKICAiZmlsbE9wYWNpdHkiOiAwLjcsCiAgImZpbGxSdWxlIjogImV2ZW5vZGQiLAogICJsaW5lQ2FwIjogInJvdW5kIiwKICAibGluZUpvaW4iOiAicm91bmQiLAogICJvcGFjaXR5IjogMS4wLAogICJyYWRpdXMiOiA1LAogICJzdHJva2UiOiB0cnVlLAogICJ3ZWlnaHQiOiAzCn0KICAgICAgICAgICAgICAgICkuYWRkVG8obWFwX2Y5Mzk3ZDliNjAxYzRmYTI5Njk2ZWFkODI0ZDkyMzA4KTsKICAgICAgICAgICAgCiAgICAKICAgICAgICAgICAgdmFyIHBvcHVwXzYyZDhhZjMzMzYxZDRmMGNhZmU3ZjM5N2UzZGRhYTY5ID0gTC5wb3B1cCh7bWF4V2lkdGg6ICczMDAnfSk7CgogICAgICAgICAgICAKICAgICAgICAgICAgICAgIHZhciBodG1sXzM3ZjI5MzgzNTUxMDRlNzc5MjZlNDU4ZjBlMWM0ZDg3ID0gJCgnPGRpdiBpZD0iaHRtbF8zN2YyOTM4MzU1MTA0ZTc3OTI2ZTQ1OGYwZTFjNGQ4NyIgc3R5bGU9IndpZHRoOiAxMDAuMCU7IGhlaWdodDogMTAwLjAlOyI+VmFuaW5pPC9kaXY+JylbMF07CiAgICAgICAgICAgICAgICBwb3B1cF82MmQ4YWYzMzM2MWQ0ZjBjYWZlN2YzOTdlM2RkYWE2OS5zZXRDb250ZW50KGh0bWxfMzdmMjkzODM1NTEwNGU3NzkyNmU0NThmMGUxYzRkODcpOwogICAgICAgICAgICAKCiAgICAgICAgICAgIGNpcmNsZV9tYXJrZXJfODg3MmQ1ZjgwYzBlNDRlZWE5YTIwNjFkNDNiMjA1NDYuYmluZFBvcHVwKHBvcHVwXzYyZDhhZjMzMzYxZDRmMGNhZmU3ZjM5N2UzZGRhYTY5KTsKCiAgICAgICAgICAgIAogICAgICAgIAogICAgCiAgICAgICAgICAgIHZhciBjaXJjbGVfbWFya2VyXzZiZjg5Mjc0ZjdkZjQyOGY4OWQwNDA3ZGRlZDk3YjIxID0gTC5jaXJjbGVNYXJrZXIoCiAgICAgICAgICAgICAgICBbNTEuNTExNTkzMTUzMjU3MzcsLTAuMTM1NDg5NTk5MDA1MTg3MTJdLAogICAgICAgICAgICAgICAgewogICJidWJibGluZ01vdXNlRXZlbnRzIjogdHJ1ZSwKICAiY29sb3IiOiAicmVkIiwKICAiZGFzaEFycmF5IjogbnVsbCwKICAiZGFzaE9mZnNldCI6IG51bGwsCiAgImZpbGwiOiB0cnVlLAogICJmaWxsQ29sb3IiOiAiI0U5NDk3NSIsCiAgImZpbGxPcGFjaXR5IjogMC43LAogICJmaWxsUnVsZSI6ICJldmVub2RkIiwKICAibGluZUNhcCI6ICJyb3VuZCIsCiAgImxpbmVKb2luIjogInJvdW5kIiwKICAib3BhY2l0eSI6IDEuMCwKICAicmFkaXVzIjogNSwKICAic3Ryb2tlIjogdHJ1ZSwKICAid2VpZ2h0IjogMwp9CiAgICAgICAgICAgICAgICApLmFkZFRvKG1hcF9mOTM5N2Q5YjYwMWM0ZmEyOTY5NmVhZDgyNGQ5MjMwOCk7CiAgICAgICAgICAgIAogICAgCiAgICAgICAgICAgIHZhciBwb3B1cF85MTUyODdkMGVjNDU0ZTQ5YWZiMmNhM2RiNzFkMjBlMSA9IEwucG9wdXAoe21heFdpZHRoOiAnMzAwJ30pOwoKICAgICAgICAgICAgCiAgICAgICAgICAgICAgICB2YXIgaHRtbF83NjQxMzA2YjRhYjg0OTA0ODFkOWU1NDc3N2Y2NmY3ZCA9ICQoJzxkaXYgaWQ9Imh0bWxfNzY0MTMwNmI0YWI4NDkwNDgxZDllNTQ3NzdmNjZmN2QiIHN0eWxlPSJ3aWR0aDogMTAwLjAlOyBoZWlnaHQ6IDEwMC4wJTsiPkZvdXIgV2ludGVyczwvZGl2PicpWzBdOwogICAgICAgICAgICAgICAgcG9wdXBfOTE1Mjg3ZDBlYzQ1NGU0OWFmYjJjYTNkYjcxZDIwZTEuc2V0Q29udGVudChodG1sXzc2NDEzMDZiNGFiODQ5MDQ4MWQ5ZTU0Nzc3ZjY2ZjdkKTsKICAgICAgICAgICAgCgogICAgICAgICAgICBjaXJjbGVfbWFya2VyXzZiZjg5Mjc0ZjdkZjQyOGY4OWQwNDA3ZGRlZDk3YjIxLmJpbmRQb3B1cChwb3B1cF85MTUyODdkMGVjNDU0ZTQ5YWZiMmNhM2RiNzFkMjBlMSk7CgogICAgICAgICAgICAKICAgICAgICAKICAgIAogICAgICAgICAgICB2YXIgY2lyY2xlX21hcmtlcl8xNjljZWY2ZWNjYjI0ZDE1YWJmOGFlM2FmNTgxNzMxMiA9IEwuY2lyY2xlTWFya2VyKAogICAgICAgICAgICAgICAgWzUxLjUxMDc3NywtMC4xMzcwMjRdLAogICAgICAgICAgICAgICAgewogICJidWJibGluZ01vdXNlRXZlbnRzIjogdHJ1ZSwKICAiY29sb3IiOiAicmVkIiwKICAiZGFzaEFycmF5IjogbnVsbCwKICAiZGFzaE9mZnNldCI6IG51bGwsCiAgImZpbGwiOiB0cnVlLAogICJmaWxsQ29sb3IiOiAiI0U5NDk3NSIsCiAgImZpbGxPcGFjaXR5IjogMC43LAogICJmaWxsUnVsZSI6ICJldmVub2RkIiwKICAibGluZUNhcCI6ICJyb3VuZCIsCiAgImxpbmVKb2luIjogInJvdW5kIiwKICAib3BhY2l0eSI6IDEuMCwKICAicmFkaXVzIjogNSwKICAic3Ryb2tlIjogdHJ1ZSwKICAid2VpZ2h0IjogMwp9CiAgICAgICAgICAgICAgICApLmFkZFRvKG1hcF9mOTM5N2Q5YjYwMWM0ZmEyOTY5NmVhZDgyNGQ5MjMwOCk7CiAgICAgICAgICAgIAogICAgCiAgICAgICAgICAgIHZhciBwb3B1cF82ZmQ2NzlhMGMzZWY0ZGE4YjViMDJkMDUzZDczNWQ4MiA9IEwucG9wdXAoe21heFdpZHRoOiAnMzAwJ30pOwoKICAgICAgICAgICAgCiAgICAgICAgICAgICAgICB2YXIgaHRtbF9kZjM1ZDJiNjVhNGE0Y2NkODM3ZjhjZGExNDdmODFiYiA9ICQoJzxkaXYgaWQ9Imh0bWxfZGYzNWQyYjY1YTRhNGNjZDgzN2Y4Y2RhMTQ3ZjgxYmIiIHN0eWxlPSJ3aWR0aDogMTAwLjAlOyBoZWlnaHQ6IDEwMC4wJTsiPlBpbXAgTXkgSWNlY3JlYW08L2Rpdj4nKVswXTsKICAgICAgICAgICAgICAgIHBvcHVwXzZmZDY3OWEwYzNlZjRkYThiNWIwMmQwNTNkNzM1ZDgyLnNldENvbnRlbnQoaHRtbF9kZjM1ZDJiNjVhNGE0Y2NkODM3ZjhjZGExNDdmODFiYik7CiAgICAgICAgICAgIAoKICAgICAgICAgICAgY2lyY2xlX21hcmtlcl8xNjljZWY2ZWNjYjI0ZDE1YWJmOGFlM2FmNTgxNzMxMi5iaW5kUG9wdXAocG9wdXBfNmZkNjc5YTBjM2VmNGRhOGI1YjAyZDA1M2Q3MzVkODIpOwoKICAgICAgICAgICAgCiAgICAgICAgCiAgICAKICAgICAgICAgICAgdmFyIGNpcmNsZV9tYXJrZXJfYzg5MTI1NWZiNWE3NDgwNGIyZjRhN2U4Y2QxY2EwMWMgPSBMLmNpcmNsZU1hcmtlcigKICAgICAgICAgICAgICAgIFs1MS41MTI5OTc1NDU1NDA4NywtMC4xMzM1MjU3MjkxNzkzODIzMl0sCiAgICAgICAgICAgICAgICB7CiAgImJ1YmJsaW5nTW91c2VFdmVudHMiOiB0cnVlLAogICJjb2xvciI6ICJyZWQiLAogICJkYXNoQXJyYXkiOiBudWxsLAogICJkYXNoT2Zmc2V0IjogbnVsbCwKICAiZmlsbCI6IHRydWUsCiAgImZpbGxDb2xvciI6ICIjRTk0OTc1IiwKICAiZmlsbE9wYWNpdHkiOiAwLjcsCiAgImZpbGxSdWxlIjogImV2ZW5vZGQiLAogICJsaW5lQ2FwIjogInJvdW5kIiwKICAibGluZUpvaW4iOiAicm91bmQiLAogICJvcGFjaXR5IjogMS4wLAogICJyYWRpdXMiOiA1LAogICJzdHJva2UiOiB0cnVlLAogICJ3ZWlnaHQiOiAzCn0KICAgICAgICAgICAgICAgICkuYWRkVG8obWFwX2Y5Mzk3ZDliNjAxYzRmYTI5Njk2ZWFkODI0ZDkyMzA4KTsKICAgICAgICAgICAgCiAgICAKICAgICAgICAgICAgdmFyIHBvcHVwXzFlMjAwMzg4YWVlMTQ4OGJhOGI0MWZmY2NjZjljOGRhID0gTC5wb3B1cCh7bWF4V2lkdGg6ICczMDAnfSk7CgogICAgICAgICAgICAKICAgICAgICAgICAgICAgIHZhciBodG1sXzI0ZDgyNWRjZTQzODRkOWNhMjJhMTZmYmJlZWZlZWRiID0gJCgnPGRpdiBpZD0iaHRtbF8yNGQ4MjVkY2U0Mzg0ZDljYTIyYTE2ZmJiZWVmZWVkYiIgc3R5bGU9IndpZHRoOiAxMDAuMCU7IGhlaWdodDogMTAwLjAlOyI+QmVuICZhbXA7IEplcnJ5JiMzOTtzPC9kaXY+JylbMF07CiAgICAgICAgICAgICAgICBwb3B1cF8xZTIwMDM4OGFlZTE0ODhiYThiNDFmZmNjY2Y5YzhkYS5zZXRDb250ZW50KGh0bWxfMjRkODI1ZGNlNDM4NGQ5Y2EyMmExNmZiYmVlZmVlZGIpOwogICAgICAgICAgICAKCiAgICAgICAgICAgIGNpcmNsZV9tYXJrZXJfYzg5MTI1NWZiNWE3NDgwNGIyZjRhN2U4Y2QxY2EwMWMuYmluZFBvcHVwKHBvcHVwXzFlMjAwMzg4YWVlMTQ4OGJhOGI0MWZmY2NjZjljOGRhKTsKCiAgICAgICAgICAgIAogICAgICAgIAogICAgCiAgICAgICAgICAgIHZhciBjaXJjbGVfbWFya2VyXzM5YmM3OWZhNDMzOTQxMmM5YjZkNGVlYTE1NDEyN2RiID0gTC5jaXJjbGVNYXJrZXIoCiAgICAgICAgICAgICAgICBbNTEuNTExNTM4LC0wLjEzNDQ5NV0sCiAgICAgICAgICAgICAgICB7CiAgImJ1YmJsaW5nTW91c2VFdmVudHMiOiB0cnVlLAogICJjb2xvciI6ICJyZWQiLAogICJkYXNoQXJyYXkiOiBudWxsLAogICJkYXNoT2Zmc2V0IjogbnVsbCwKICAiZmlsbCI6IHRydWUsCiAgImZpbGxDb2xvciI6ICIjRTk0OTc1IiwKICAiZmlsbE9wYWNpdHkiOiAwLjcsCiAgImZpbGxSdWxlIjogImV2ZW5vZGQiLAogICJsaW5lQ2FwIjogInJvdW5kIiwKICAibGluZUpvaW4iOiAicm91bmQiLAogICJvcGFjaXR5IjogMS4wLAogICJyYWRpdXMiOiA1LAogICJzdHJva2UiOiB0cnVlLAogICJ3ZWlnaHQiOiAzCn0KICAgICAgICAgICAgICAgICkuYWRkVG8obWFwX2Y5Mzk3ZDliNjAxYzRmYTI5Njk2ZWFkODI0ZDkyMzA4KTsKICAgICAgICAgICAgCiAgICAKICAgICAgICAgICAgdmFyIHBvcHVwXzg3YzkyNzQ4ZGRhZDQyOGZiOGY3MTQ2ZThmZTkwMjZhID0gTC5wb3B1cCh7bWF4V2lkdGg6ICczMDAnfSk7CgogICAgICAgICAgICAKICAgICAgICAgICAgICAgIHZhciBodG1sX2ZmMmQ5YzhlNjg3MzRmODU5NGMzMGIyNWIxMjQwYzhhID0gJCgnPGRpdiBpZD0iaHRtbF9mZjJkOWM4ZTY4NzM0Zjg1OTRjMzBiMjViMTI0MGM4YSIgc3R5bGU9IndpZHRoOiAxMDAuMCU7IGhlaWdodDogMTAwLjAlOyI+TWlzdGVyIEZpdHo8L2Rpdj4nKVswXTsKICAgICAgICAgICAgICAgIHBvcHVwXzg3YzkyNzQ4ZGRhZDQyOGZiOGY3MTQ2ZThmZTkwMjZhLnNldENvbnRlbnQoaHRtbF9mZjJkOWM4ZTY4NzM0Zjg1OTRjMzBiMjViMTI0MGM4YSk7CiAgICAgICAgICAgIAoKICAgICAgICAgICAgY2lyY2xlX21hcmtlcl8zOWJjNzlmYTQzMzk0MTJjOWI2ZDRlZWExNTQxMjdkYi5iaW5kUG9wdXAocG9wdXBfODdjOTI3NDhkZGFkNDI4ZmI4ZjcxNDZlOGZlOTAyNmEpOwoKICAgICAgICAgICAgCiAgICAgICAgCiAgICAKICAgICAgICAgICAgdmFyIGNpcmNsZV9tYXJrZXJfOGQ5NTIyMDc5N2U4NDQ4NGIyODZjODExMWQxMDc3YjAgPSBMLmNpcmNsZU1hcmtlcigKICAgICAgICAgICAgICAgIFs1MS41MTA0MjcyNjYyMTQxOSwtMC4xMjg0MDA4MTQ5MjkyMTYzN10sCiAgICAgICAgICAgICAgICB7CiAgImJ1YmJsaW5nTW91c2VFdmVudHMiOiB0cnVlLAogICJjb2xvciI6ICJyZWQiLAogICJkYXNoQXJyYXkiOiBudWxsLAogICJkYXNoT2Zmc2V0IjogbnVsbCwKICAiZmlsbCI6IHRydWUsCiAgImZpbGxDb2xvciI6ICIjRTk0OTc1IiwKICAiZmlsbE9wYWNpdHkiOiAwLjcsCiAgImZpbGxSdWxlIjogImV2ZW5vZGQiLAogICJsaW5lQ2FwIjogInJvdW5kIiwKICAibGluZUpvaW4iOiAicm91bmQiLAogICJvcGFjaXR5IjogMS4wLAogICJyYWRpdXMiOiA1LAogICJzdHJva2UiOiB0cnVlLAogICJ3ZWlnaHQiOiAzCn0KICAgICAgICAgICAgICAgICkuYWRkVG8obWFwX2Y5Mzk3ZDliNjAxYzRmYTI5Njk2ZWFkODI0ZDkyMzA4KTsKICAgICAgICAgICAgCiAgICAKICAgICAgICAgICAgdmFyIHBvcHVwX2Q0NWZmMThhZmZhMzRkYzM5Njk3NzU3MjkxYWVlMTc2ID0gTC5wb3B1cCh7bWF4V2lkdGg6ICczMDAnfSk7CgogICAgICAgICAgICAKICAgICAgICAgICAgICAgIHZhciBodG1sXzRjMDQ2Y2UyMTc0NjRmOGY4YzIwNjE0MzIyN2M2NzlhID0gJCgnPGRpdiBpZD0iaHRtbF80YzA0NmNlMjE3NDY0ZjhmOGMyMDYxNDMyMjdjNjc5YSIgc3R5bGU9IndpZHRoOiAxMDAuMCU7IGhlaWdodDogMTAwLjAlOyI+QW1vcmlubzwvZGl2PicpWzBdOwogICAgICAgICAgICAgICAgcG9wdXBfZDQ1ZmYxOGFmZmEzNGRjMzk2OTc3NTcyOTFhZWUxNzYuc2V0Q29udGVudChodG1sXzRjMDQ2Y2UyMTc0NjRmOGY4YzIwNjE0MzIyN2M2NzlhKTsKICAgICAgICAgICAgCgogICAgICAgICAgICBjaXJjbGVfbWFya2VyXzhkOTUyMjA3OTdlODQ0ODRiMjg2YzgxMTFkMTA3N2IwLmJpbmRQb3B1cChwb3B1cF9kNDVmZjE4YWZmYTM0ZGMzOTY5Nzc1NzI5MWFlZTE3Nik7CgogICAgICAgICAgICAKICAgICAgICAKICAgIAogICAgICAgICAgICB2YXIgY2lyY2xlX21hcmtlcl8yYjI4YjE0ZjY3Zjk0NmFhYTIxZWU2ZjJiNTdiMzdjMCA9IEwuY2lyY2xlTWFya2VyKAogICAgICAgICAgICAgICAgWzUxLjUxMTA0NjAzMzE5NTY1LC0wLjEyNjgyODAyNjY5MjA0MzVdLAogICAgICAgICAgICAgICAgewogICJidWJibGluZ01vdXNlRXZlbnRzIjogdHJ1ZSwKICAiY29sb3IiOiAicmVkIiwKICAiZGFzaEFycmF5IjogbnVsbCwKICAiZGFzaE9mZnNldCI6IG51bGwsCiAgImZpbGwiOiB0cnVlLAogICJmaWxsQ29sb3IiOiAiI0U5NDk3NSIsCiAgImZpbGxPcGFjaXR5IjogMC43LAogICJmaWxsUnVsZSI6ICJldmVub2RkIiwKICAibGluZUNhcCI6ICJyb3VuZCIsCiAgImxpbmVKb2luIjogInJvdW5kIiwKICAib3BhY2l0eSI6IDEuMCwKICAicmFkaXVzIjogNSwKICAic3Ryb2tlIjogdHJ1ZSwKICAid2VpZ2h0IjogMwp9CiAgICAgICAgICAgICAgICApLmFkZFRvKG1hcF9mOTM5N2Q5YjYwMWM0ZmEyOTY5NmVhZDgyNGQ5MjMwOCk7CiAgICAgICAgICAgIAogICAgCiAgICAgICAgICAgIHZhciBwb3B1cF84ODFkZDhhOTUzMTE0YmY1OGViYTM4MzYzOTliZmM4NyA9IEwucG9wdXAoe21heFdpZHRoOiAnMzAwJ30pOwoKICAgICAgICAgICAgCiAgICAgICAgICAgICAgICB2YXIgaHRtbF83M2ViMmIxNjBmZmM0NWY1OTc1ODg2ZGU5NzkyZjEzMCA9ICQoJzxkaXYgaWQ9Imh0bWxfNzNlYjJiMTYwZmZjNDVmNTk3NTg4NmRlOTc5MmYxMzAiIHN0eWxlPSJ3aWR0aDogMTAwLjAlOyBoZWlnaHQ6IDEwMC4wJTsiPkxhIEdlbGF0aWVyYTwvZGl2PicpWzBdOwogICAgICAgICAgICAgICAgcG9wdXBfODgxZGQ4YTk1MzExNGJmNThlYmEzODM2Mzk5YmZjODcuc2V0Q29udGVudChodG1sXzczZWIyYjE2MGZmYzQ1ZjU5NzU4ODZkZTk3OTJmMTMwKTsKICAgICAgICAgICAgCgogICAgICAgICAgICBjaXJjbGVfbWFya2VyXzJiMjhiMTRmNjdmOTQ2YWFhMjFlZTZmMmI1N2IzN2MwLmJpbmRQb3B1cChwb3B1cF84ODFkZDhhOTUzMTE0YmY1OGViYTM4MzYzOTliZmM4Nyk7CgogICAgICAgICAgICAKICAgICAgICAKICAgIAogICAgICAgICAgICB2YXIgY2lyY2xlX21hcmtlcl9hZTU3MTYzZTY1M2E0ZTU0OWM3MWM3MmYwNzA1OWE0MyA9IEwuY2lyY2xlTWFya2VyKAogICAgICAgICAgICAgICAgWzUxLjUxNDI3MjgwODkzNTYyLC0wLjEzNDYzMzM0NjkzOTEwNjQ1XSwKICAgICAgICAgICAgICAgIHsKICAiYnViYmxpbmdNb3VzZUV2ZW50cyI6IHRydWUsCiAgImNvbG9yIjogInJlZCIsCiAgImRhc2hBcnJheSI6IG51bGwsCiAgImRhc2hPZmZzZXQiOiBudWxsLAogICJmaWxsIjogdHJ1ZSwKICAiZmlsbENvbG9yIjogIiNFOTQ5NzUiLAogICJmaWxsT3BhY2l0eSI6IDAuNywKICAiZmlsbFJ1bGUiOiAiZXZlbm9kZCIsCiAgImxpbmVDYXAiOiAicm91bmQiLAogICJsaW5lSm9pbiI6ICJyb3VuZCIsCiAgIm9wYWNpdHkiOiAxLjAsCiAgInJhZGl1cyI6IDUsCiAgInN0cm9rZSI6IHRydWUsCiAgIndlaWdodCI6IDMKfQogICAgICAgICAgICAgICAgKS5hZGRUbyhtYXBfZjkzOTdkOWI2MDFjNGZhMjk2OTZlYWQ4MjRkOTIzMDgpOwogICAgICAgICAgICAKICAgIAogICAgICAgICAgICB2YXIgcG9wdXBfMWZlYWQ4ZWNiMzk4NDdlODgyMjkxZDVkM2RmMTgwNzggPSBMLnBvcHVwKHttYXhXaWR0aDogJzMwMCd9KTsKCiAgICAgICAgICAgIAogICAgICAgICAgICAgICAgdmFyIGh0bWxfYmZlYWE1MTM5N2Q2NDY2MzhkYWYzMjNkMWUzNmUwYTAgPSAkKCc8ZGl2IGlkPSJodG1sX2JmZWFhNTEzOTdkNjQ2NjM4ZGFmMzIzZDFlMzZlMGEwIiBzdHlsZT0id2lkdGg6IDEwMC4wJTsgaGVpZ2h0OiAxMDAuMCU7Ij5Zb3JpY2E8L2Rpdj4nKVswXTsKICAgICAgICAgICAgICAgIHBvcHVwXzFmZWFkOGVjYjM5ODQ3ZTg4MjI5MWQ1ZDNkZjE4MDc4LnNldENvbnRlbnQoaHRtbF9iZmVhYTUxMzk3ZDY0NjYzOGRhZjMyM2QxZTM2ZTBhMCk7CiAgICAgICAgICAgIAoKICAgICAgICAgICAgY2lyY2xlX21hcmtlcl9hZTU3MTYzZTY1M2E0ZTU0OWM3MWM3MmYwNzA1OWE0My5iaW5kUG9wdXAocG9wdXBfMWZlYWQ4ZWNiMzk4NDdlODgyMjkxZDVkM2RmMTgwNzgpOwoKICAgICAgICAgICAgCiAgICAgICAgCiAgICAKICAgICAgICAgICAgdmFyIGNpcmNsZV9tYXJrZXJfOGRkYzc4OTY1YmM3NDEwZThhNDRmZDFlYjk2ZjhjYzkgPSBMLmNpcmNsZU1hcmtlcigKICAgICAgICAgICAgICAgIFs1MS41MTM3MjAxMTU2NDI3MywtMC4xMjc0MTExMTA4MDg1MzMwN10sCiAgICAgICAgICAgICAgICB7CiAgImJ1YmJsaW5nTW91c2VFdmVudHMiOiB0cnVlLAogICJjb2xvciI6ICJyZWQiLAogICJkYXNoQXJyYXkiOiBudWxsLAogICJkYXNoT2Zmc2V0IjogbnVsbCwKICAiZmlsbCI6IHRydWUsCiAgImZpbGxDb2xvciI6ICIjRTk0OTc1IiwKICAiZmlsbE9wYWNpdHkiOiAwLjcsCiAgImZpbGxSdWxlIjogImV2ZW5vZGQiLAogICJsaW5lQ2FwIjogInJvdW5kIiwKICAibGluZUpvaW4iOiAicm91bmQiLAogICJvcGFjaXR5IjogMS4wLAogICJyYWRpdXMiOiA1LAogICJzdHJva2UiOiB0cnVlLAogICJ3ZWlnaHQiOiAzCn0KICAgICAgICAgICAgICAgICkuYWRkVG8obWFwX2Y5Mzk3ZDliNjAxYzRmYTI5Njk2ZWFkODI0ZDkyMzA4KTsKICAgICAgICAgICAgCiAgICAKICAgICAgICAgICAgdmFyIHBvcHVwXzk2MTQxYzgzM2Q1OTRkM2Q4OTc0ZjE0NTFkODAzNTc4ID0gTC5wb3B1cCh7bWF4V2lkdGg6ICczMDAnfSk7CgogICAgICAgICAgICAKICAgICAgICAgICAgICAgIHZhciBodG1sXzNkODFlZjExNmI2MTQ3NjViNWEyODc3NWNkNTNiODJhID0gJCgnPGRpdiBpZD0iaHRtbF8zZDgxZWYxMTZiNjE0NzY1YjVhMjg3NzVjZDUzYjgyYSIgc3R5bGU9IndpZHRoOiAxMDAuMCU7IGhlaWdodDogMTAwLjAlOyI+VWRkZXJsaWNpb3VzPC9kaXY+JylbMF07CiAgICAgICAgICAgICAgICBwb3B1cF85NjE0MWM4MzNkNTk0ZDNkODk3NGYxNDUxZDgwMzU3OC5zZXRDb250ZW50KGh0bWxfM2Q4MWVmMTE2YjYxNDc2NWI1YTI4Nzc1Y2Q1M2I4MmEpOwogICAgICAgICAgICAKCiAgICAgICAgICAgIGNpcmNsZV9tYXJrZXJfOGRkYzc4OTY1YmM3NDEwZThhNDRmZDFlYjk2ZjhjYzkuYmluZFBvcHVwKHBvcHVwXzk2MTQxYzgzM2Q1OTRkM2Q4OTc0ZjE0NTFkODAzNTc4KTsKCiAgICAgICAgICAgIAogICAgICAgIAogICAgCiAgICAgICAgICAgIHZhciBjaXJjbGVfbWFya2VyX2U1NjdhNGU0MmNjMzRhMmI5NjQyMGUzNDgwNDdjNGFmID0gTC5jaXJjbGVNYXJrZXIoCiAgICAgICAgICAgICAgICBbNTEuNTE0MzIyMDM2OTgxMjEsLTAuMTMxMTEzNDE4MzU0OTM3NV0sCiAgICAgICAgICAgICAgICB7CiAgImJ1YmJsaW5nTW91c2VFdmVudHMiOiB0cnVlLAogICJjb2xvciI6ICJyZWQiLAogICJkYXNoQXJyYXkiOiBudWxsLAogICJkYXNoT2Zmc2V0IjogbnVsbCwKICAiZmlsbCI6IHRydWUsCiAgImZpbGxDb2xvciI6ICIjRTk0OTc1IiwKICAiZmlsbE9wYWNpdHkiOiAwLjcsCiAgImZpbGxSdWxlIjogImV2ZW5vZGQiLAogICJsaW5lQ2FwIjogInJvdW5kIiwKICAibGluZUpvaW4iOiAicm91bmQiLAogICJvcGFjaXR5IjogMS4wLAogICJyYWRpdXMiOiA1LAogICJzdHJva2UiOiB0cnVlLAogICJ3ZWlnaHQiOiAzCn0KICAgICAgICAgICAgICAgICkuYWRkVG8obWFwX2Y5Mzk3ZDliNjAxYzRmYTI5Njk2ZWFkODI0ZDkyMzA4KTsKICAgICAgICAgICAgCiAgICAKICAgICAgICAgICAgdmFyIHBvcHVwXzE2ZTU4NjQ5OGE1ZTQ2YmRiZjE2YzJjYzY5NDNkOGNkID0gTC5wb3B1cCh7bWF4V2lkdGg6ICczMDAnfSk7CgogICAgICAgICAgICAKICAgICAgICAgICAgICAgIHZhciBodG1sX2Y3ODhkZGY3ZDZkZDQ4OGRhMWQ4NzY1ZGRkY2YzN2Q4ID0gJCgnPGRpdiBpZD0iaHRtbF9mNzg4ZGRmN2Q2ZGQ0ODhkYTFkODc2NWRkZGNmMzdkOCIgc3R5bGU9IndpZHRoOiAxMDAuMCU7IGhlaWdodDogMTAwLjAlOyI+Q2hpbiBDaGluIENsdWI8L2Rpdj4nKVswXTsKICAgICAgICAgICAgICAgIHBvcHVwXzE2ZTU4NjQ5OGE1ZTQ2YmRiZjE2YzJjYzY5NDNkOGNkLnNldENvbnRlbnQoaHRtbF9mNzg4ZGRmN2Q2ZGQ0ODhkYTFkODc2NWRkZGNmMzdkOCk7CiAgICAgICAgICAgIAoKICAgICAgICAgICAgY2lyY2xlX21hcmtlcl9lNTY3YTRlNDJjYzM0YTJiOTY0MjBlMzQ4MDQ3YzRhZi5iaW5kUG9wdXAocG9wdXBfMTZlNTg2NDk4YTVlNDZiZGJmMTZjMmNjNjk0M2Q4Y2QpOwoKICAgICAgICAgICAgCiAgICAgICAgCiAgICAKICAgICAgICAgICAgdmFyIGNpcmNsZV9tYXJrZXJfZThiM2UwZjkwMDU1NGE5NmIzNjgyYzgxNDkzYThiZmIgPSBMLmNpcmNsZU1hcmtlcigKICAgICAgICAgICAgICAgIFs1MS41MDk0NzI3MjI1NjEzMiwtMC4xMzU4NTM0NDgzNTUyNzM3XSwKICAgICAgICAgICAgICAgIHsKICAiYnViYmxpbmdNb3VzZUV2ZW50cyI6IHRydWUsCiAgImNvbG9yIjogInJlZCIsCiAgImRhc2hBcnJheSI6IG51bGwsCiAgImRhc2hPZmZzZXQiOiBudWxsLAogICJmaWxsIjogdHJ1ZSwKICAiZmlsbENvbG9yIjogIiNFOTQ5NzUiLAogICJmaWxsT3BhY2l0eSI6IDAuNywKICAiZmlsbFJ1bGUiOiAiZXZlbm9kZCIsCiAgImxpbmVDYXAiOiAicm91bmQiLAogICJsaW5lSm9pbiI6ICJyb3VuZCIsCiAgIm9wYWNpdHkiOiAxLjAsCiAgInJhZGl1cyI6IDUsCiAgInN0cm9rZSI6IHRydWUsCiAgIndlaWdodCI6IDMKfQogICAgICAgICAgICAgICAgKS5hZGRUbyhtYXBfZjkzOTdkOWI2MDFjNGZhMjk2OTZlYWQ4MjRkOTIzMDgpOwogICAgICAgICAgICAKICAgIAogICAgICAgICAgICB2YXIgcG9wdXBfNTg5NWY4MWJkMTU2NDIwZTkwM2Y1YzlhNmQ4YjNjNTggPSBMLnBvcHVwKHttYXhXaWR0aDogJzMwMCd9KTsKCiAgICAgICAgICAgIAogICAgICAgICAgICAgICAgdmFyIGh0bWxfYTAyMjI4MTNmNjY1NGIyYjkxYjNhM2RhYTllZDBlOTMgPSAkKCc8ZGl2IGlkPSJodG1sX2EwMjIyODEzZjY2NTRiMmI5MWIzYTNkYWE5ZWQwZTkzIiBzdHlsZT0id2lkdGg6IDEwMC4wJTsgaGVpZ2h0OiAxMDAuMCU7Ij5Hcm9tPC9kaXY+JylbMF07CiAgICAgICAgICAgICAgICBwb3B1cF81ODk1ZjgxYmQxNTY0MjBlOTAzZjVjOWE2ZDhiM2M1OC5zZXRDb250ZW50KGh0bWxfYTAyMjI4MTNmNjY1NGIyYjkxYjNhM2RhYTllZDBlOTMpOwogICAgICAgICAgICAKCiAgICAgICAgICAgIGNpcmNsZV9tYXJrZXJfZThiM2UwZjkwMDU1NGE5NmIzNjgyYzgxNDkzYThiZmIuYmluZFBvcHVwKHBvcHVwXzU4OTVmODFiZDE1NjQyMGU5MDNmNWM5YTZkOGIzYzU4KTsKCiAgICAgICAgICAgIAogICAgICAgIAogICAgCiAgICAgICAgICAgIHZhciBjaXJjbGVfbWFya2VyX2MxYjI3ZmI5ODQ5ZjRjNWM4NzRhMzhlNGJjMWIxOWExID0gTC5jaXJjbGVNYXJrZXIoCiAgICAgICAgICAgICAgICBbNTEuNTEzNjYwNDk1NTc2NzMsLTAuMTM0MTk3Mjc4MTAzMDg1OF0sCiAgICAgICAgICAgICAgICB7CiAgImJ1YmJsaW5nTW91c2VFdmVudHMiOiB0cnVlLAogICJjb2xvciI6ICJyZWQiLAogICJkYXNoQXJyYXkiOiBudWxsLAogICJkYXNoT2Zmc2V0IjogbnVsbCwKICAiZmlsbCI6IHRydWUsCiAgImZpbGxDb2xvciI6ICIjRTk0OTc1IiwKICAiZmlsbE9wYWNpdHkiOiAwLjcsCiAgImZpbGxSdWxlIjogImV2ZW5vZGQiLAogICJsaW5lQ2FwIjogInJvdW5kIiwKICAibGluZUpvaW4iOiAicm91bmQiLAogICJvcGFjaXR5IjogMS4wLAogICJyYWRpdXMiOiA1LAogICJzdHJva2UiOiB0cnVlLAogICJ3ZWlnaHQiOiAzCn0KICAgICAgICAgICAgICAgICkuYWRkVG8obWFwX2Y5Mzk3ZDliNjAxYzRmYTI5Njk2ZWFkODI0ZDkyMzA4KTsKICAgICAgICAgICAgCiAgICAKICAgICAgICAgICAgdmFyIHBvcHVwXzJmMGUxNmFkMGViNzRhOTM4NjllZDg2ODRhZmEzYWM2ID0gTC5wb3B1cCh7bWF4V2lkdGg6ICczMDAnfSk7CgogICAgICAgICAgICAKICAgICAgICAgICAgICAgIHZhciBodG1sX2JlNWYxNDhiMjY4MjQ2MjU5YjUzZWYwYzE2MzliNmMxID0gJCgnPGRpdiBpZD0iaHRtbF9iZTVmMTQ4YjI2ODI0NjI1OWI1M2VmMGMxNjM5YjZjMSIgc3R5bGU9IndpZHRoOiAxMDAuMCU7IGhlaWdodDogMTAwLjAlOyI+U25vd2ZsYWtlIEx1eHVyeSBHZWxhdG88L2Rpdj4nKVswXTsKICAgICAgICAgICAgICAgIHBvcHVwXzJmMGUxNmFkMGViNzRhOTM4NjllZDg2ODRhZmEzYWM2LnNldENvbnRlbnQoaHRtbF9iZTVmMTQ4YjI2ODI0NjI1OWI1M2VmMGMxNjM5YjZjMSk7CiAgICAgICAgICAgIAoKICAgICAgICAgICAgY2lyY2xlX21hcmtlcl9jMWIyN2ZiOTg0OWY0YzVjODc0YTM4ZTRiYzFiMTlhMS5iaW5kUG9wdXAocG9wdXBfMmYwZTE2YWQwZWI3NGE5Mzg2OWVkODY4NGFmYTNhYzYpOwoKICAgICAgICAgICAgCiAgICAgICAgCiAgICAKICAgICAgICAgICAgdmFyIGNpcmNsZV9tYXJrZXJfOWEzN2YyYTc5NGU1NDlkNzk0MjFhYThlMzJmNmFkOWYgPSBMLmNpcmNsZU1hcmtlcigKICAgICAgICAgICAgICAgIFs1MS41MDk5MjYxMTQxNzMyNTQsLTAuMTM3Njg2ODQzODM3MjkwOF0sCiAgICAgICAgICAgICAgICB7CiAgImJ1YmJsaW5nTW91c2VFdmVudHMiOiB0cnVlLAogICJjb2xvciI6ICJyZWQiLAogICJkYXNoQXJyYXkiOiBudWxsLAogICJkYXNoT2Zmc2V0IjogbnVsbCwKICAiZmlsbCI6IHRydWUsCiAgImZpbGxDb2xvciI6ICIjRTk0OTc1IiwKICAiZmlsbE9wYWNpdHkiOiAwLjcsCiAgImZpbGxSdWxlIjogImV2ZW5vZGQiLAogICJsaW5lQ2FwIjogInJvdW5kIiwKICAibGluZUpvaW4iOiAicm91bmQiLAogICJvcGFjaXR5IjogMS4wLAogICJyYWRpdXMiOiA1LAogICJzdHJva2UiOiB0cnVlLAogICJ3ZWlnaHQiOiAzCn0KICAgICAgICAgICAgICAgICkuYWRkVG8obWFwX2Y5Mzk3ZDliNjAxYzRmYTI5Njk2ZWFkODI0ZDkyMzA4KTsKICAgICAgICAgICAgCiAgICAKICAgICAgICAgICAgdmFyIHBvcHVwX2UwMGNhODU4M2IwMTRiNWU4ZThkNjE1YWNmMTUwNGUxID0gTC5wb3B1cCh7bWF4V2lkdGg6ICczMDAnfSk7CgogICAgICAgICAgICAKICAgICAgICAgICAgICAgIHZhciBodG1sX2MwN2ZkMjEyNzM5ZDQ2OWNiZjg5ZTFmMjRhYWQzNjM0ID0gJCgnPGRpdiBpZD0iaHRtbF9jMDdmZDIxMjczOWQ0NjljYmY4OWUxZjI0YWFkMzYzNCIgc3R5bGU9IndpZHRoOiAxMDAuMCU7IGhlaWdodDogMTAwLjAlOyI+RnJlZ2dvPC9kaXY+JylbMF07CiAgICAgICAgICAgICAgICBwb3B1cF9lMDBjYTg1ODNiMDE0YjVlOGU4ZDYxNWFjZjE1MDRlMS5zZXRDb250ZW50KGh0bWxfYzA3ZmQyMTI3MzlkNDY5Y2JmODllMWYyNGFhZDM2MzQpOwogICAgICAgICAgICAKCiAgICAgICAgICAgIGNpcmNsZV9tYXJrZXJfOWEzN2YyYTc5NGU1NDlkNzk0MjFhYThlMzJmNmFkOWYuYmluZFBvcHVwKHBvcHVwX2UwMGNhODU4M2IwMTRiNWU4ZThkNjE1YWNmMTUwNGUxKTsKCiAgICAgICAgICAgIAogICAgICAgIAogICAgCiAgICAgICAgICAgIHZhciBjaXJjbGVfbWFya2VyXzIwMzlkODc0MDc0YzRjNDg4ZDg0MzQyYzhkNmEwMjQ3ID0gTC5jaXJjbGVNYXJrZXIoCiAgICAgICAgICAgICAgICBbNTEuNTA5MDE3OTY2NjM2MjUsLTAuMTI3MjIxMTM5MTUzNTMxOTVdLAogICAgICAgICAgICAgICAgewogICJidWJibGluZ01vdXNlRXZlbnRzIjogdHJ1ZSwKICAiY29sb3IiOiAicmVkIiwKICAiZGFzaEFycmF5IjogbnVsbCwKICAiZGFzaE9mZnNldCI6IG51bGwsCiAgImZpbGwiOiB0cnVlLAogICJmaWxsQ29sb3IiOiAiI0U5NDk3NSIsCiAgImZpbGxPcGFjaXR5IjogMC43LAogICJmaWxsUnVsZSI6ICJldmVub2RkIiwKICAibGluZUNhcCI6ICJyb3VuZCIsCiAgImxpbmVKb2luIjogInJvdW5kIiwKICAib3BhY2l0eSI6IDEuMCwKICAicmFkaXVzIjogNSwKICAic3Ryb2tlIjogdHJ1ZSwKICAid2VpZ2h0IjogMwp9CiAgICAgICAgICAgICAgICApLmFkZFRvKG1hcF9mOTM5N2Q5YjYwMWM0ZmEyOTY5NmVhZDgyNGQ5MjMwOCk7CiAgICAgICAgICAgIAogICAgCiAgICAgICAgICAgIHZhciBwb3B1cF9lZTA5NmJkNTljNjM0NmMzODE4MDc4MWEzNzA3NDAxMSA9IEwucG9wdXAoe21heFdpZHRoOiAnMzAwJ30pOwoKICAgICAgICAgICAgCiAgICAgICAgICAgICAgICB2YXIgaHRtbF9iYzZlOWNhM2JiYjk0ZTc2OTM2YjY0YjJlYTYzMzY0NiA9ICQoJzxkaXYgaWQ9Imh0bWxfYmM2ZTljYTNiYmI5NGU3NjkzNmI2NGIyZWE2MzM2NDYiIHN0eWxlPSJ3aWR0aDogMTAwLjAlOyBoZWlnaHQ6IDEwMC4wJTsiPkljZSBDcmVhbSBGcm96ZW4gWW9naHVydDwvZGl2PicpWzBdOwogICAgICAgICAgICAgICAgcG9wdXBfZWUwOTZiZDU5YzYzNDZjMzgxODA3ODFhMzcwNzQwMTEuc2V0Q29udGVudChodG1sX2JjNmU5Y2EzYmJiOTRlNzY5MzZiNjRiMmVhNjMzNjQ2KTsKICAgICAgICAgICAgCgogICAgICAgICAgICBjaXJjbGVfbWFya2VyXzIwMzlkODc0MDc0YzRjNDg4ZDg0MzQyYzhkNmEwMjQ3LmJpbmRQb3B1cChwb3B1cF9lZTA5NmJkNTljNjM0NmMzODE4MDc4MWEzNzA3NDAxMSk7CgogICAgICAgICAgICAKICAgICAgICAKICAgIAogICAgICAgICAgICB2YXIgY2lyY2xlX21hcmtlcl85YzU1Mzg3YmQ2NTY0ZWQwODZhYmZhN2JmZTcyYmJjZiA9IEwuY2lyY2xlTWFya2VyKAogICAgICAgICAgICAgICAgWzUxLjUxNDQwMTgwNTgyMjM2LC0wLjEzMTA4MjA5ODA1NjgwMjU3XSwKICAgICAgICAgICAgICAgIHsKICAiYnViYmxpbmdNb3VzZUV2ZW50cyI6IHRydWUsCiAgImNvbG9yIjogInJlZCIsCiAgImRhc2hBcnJheSI6IG51bGwsCiAgImRhc2hPZmZzZXQiOiBudWxsLAogICJmaWxsIjogdHJ1ZSwKICAiZmlsbENvbG9yIjogIiNFOTQ5NzUiLAogICJmaWxsT3BhY2l0eSI6IDAuNywKICAiZmlsbFJ1bGUiOiAiZXZlbm9kZCIsCiAgImxpbmVDYXAiOiAicm91bmQiLAogICJsaW5lSm9pbiI6ICJyb3VuZCIsCiAgIm9wYWNpdHkiOiAxLjAsCiAgInJhZGl1cyI6IDUsCiAgInN0cm9rZSI6IHRydWUsCiAgIndlaWdodCI6IDMKfQogICAgICAgICAgICAgICAgKS5hZGRUbyhtYXBfZjkzOTdkOWI2MDFjNGZhMjk2OTZlYWQ4MjRkOTIzMDgpOwogICAgICAgICAgICAKICAgIAogICAgICAgICAgICB2YXIgcG9wdXBfYWNkZDcyYWI3MWU5NDFiZGIyNDg0ODQxZDExNjc0MTIgPSBMLnBvcHVwKHttYXhXaWR0aDogJzMwMCd9KTsKCiAgICAgICAgICAgIAogICAgICAgICAgICAgICAgdmFyIGh0bWxfZjRiZGRiN2RhYTFjNDMwNGIxNDU1MmY5MGUyY2ZkNzEgPSAkKCc8ZGl2IGlkPSJodG1sX2Y0YmRkYjdkYWExYzQzMDRiMTQ1NTJmOTBlMmNmZDcxIiBzdHlsZT0id2lkdGg6IDEwMC4wJTsgaGVpZ2h0OiAxMDAuMCU7Ij5MaWNrPC9kaXY+JylbMF07CiAgICAgICAgICAgICAgICBwb3B1cF9hY2RkNzJhYjcxZTk0MWJkYjI0ODQ4NDFkMTE2NzQxMi5zZXRDb250ZW50KGh0bWxfZjRiZGRiN2RhYTFjNDMwNGIxNDU1MmY5MGUyY2ZkNzEpOwogICAgICAgICAgICAKCiAgICAgICAgICAgIGNpcmNsZV9tYXJrZXJfOWM1NTM4N2JkNjU2NGVkMDg2YWJmYTdiZmU3MmJiY2YuYmluZFBvcHVwKHBvcHVwX2FjZGQ3MmFiNzFlOTQxYmRiMjQ4NDg0MWQxMTY3NDEyKTsKCiAgICAgICAgICAgIAogICAgICAgIAogICAgCiAgICAgICAgICAgIHZhciBjaXJjbGVfbWFya2VyX2JiMzkwNGI5MDFhNTQxOTc5NTI0YzFlY2FiNGM4MzJjID0gTC5jaXJjbGVNYXJrZXIoCiAgICAgICAgICAgICAgICBbNTEuNTExODg4Mzc3Mjc3ODIsLTAuMTIyNDgzNjQyMjEyOTQ1NTNdLAogICAgICAgICAgICAgICAgewogICJidWJibGluZ01vdXNlRXZlbnRzIjogdHJ1ZSwKICAiY29sb3IiOiAicmVkIiwKICAiZGFzaEFycmF5IjogbnVsbCwKICAiZGFzaE9mZnNldCI6IG51bGwsCiAgImZpbGwiOiB0cnVlLAogICJmaWxsQ29sb3IiOiAiI0U5NDk3NSIsCiAgImZpbGxPcGFjaXR5IjogMC43LAogICJmaWxsUnVsZSI6ICJldmVub2RkIiwKICAibGluZUNhcCI6ICJyb3VuZCIsCiAgImxpbmVKb2luIjogInJvdW5kIiwKICAib3BhY2l0eSI6IDEuMCwKICAicmFkaXVzIjogNSwKICAic3Ryb2tlIjogdHJ1ZSwKICAid2VpZ2h0IjogMwp9CiAgICAgICAgICAgICAgICApLmFkZFRvKG1hcF9mOTM5N2Q5YjYwMWM0ZmEyOTY5NmVhZDgyNGQ5MjMwOCk7CiAgICAgICAgICAgIAogICAgCiAgICAgICAgICAgIHZhciBwb3B1cF9hYTE1NTFjNDY2NjY0OGFlYmQ1YzlhMjZiOWYwOWY3MyA9IEwucG9wdXAoe21heFdpZHRoOiAnMzAwJ30pOwoKICAgICAgICAgICAgCiAgICAgICAgICAgICAgICB2YXIgaHRtbF9kYjQ0NGYyZTIzNDc0MmYzODMwMzNhNTNkMDIyYjExNCA9ICQoJzxkaXYgaWQ9Imh0bWxfZGI0NDRmMmUyMzQ3NDJmMzgzMDMzYTUzZDAyMmIxMTQiIHN0eWxlPSJ3aWR0aDogMTAwLjAlOyBoZWlnaHQ6IDEwMC4wJTsiPlZlbmNoaTwvZGl2PicpWzBdOwogICAgICAgICAgICAgICAgcG9wdXBfYWExNTUxYzQ2NjY2NDhhZWJkNWM5YTI2YjlmMDlmNzMuc2V0Q29udGVudChodG1sX2RiNDQ0ZjJlMjM0NzQyZjM4MzAzM2E1M2QwMjJiMTE0KTsKICAgICAgICAgICAgCgogICAgICAgICAgICBjaXJjbGVfbWFya2VyX2JiMzkwNGI5MDFhNTQxOTc5NTI0YzFlY2FiNGM4MzJjLmJpbmRQb3B1cChwb3B1cF9hYTE1NTFjNDY2NjY0OGFlYmQ1YzlhMjZiOWYwOWY3Myk7CgogICAgICAgICAgICAKICAgICAgICAKICAgIAogICAgICAgICAgICB2YXIgY2lyY2xlX21hcmtlcl8xOWNmODViYzIwMGE0NzlkOTc1YjViYjRiNjkzMjRjZiA9IEwuY2lyY2xlTWFya2VyKAogICAgICAgICAgICAgICAgWzUxLjUxMjE2Mjc1NTYyODQ3LC0wLjEyMjM1OTE1NTQ2NzA4MTg3XSwKICAgICAgICAgICAgICAgIHsKICAiYnViYmxpbmdNb3VzZUV2ZW50cyI6IHRydWUsCiAgImNvbG9yIjogInJlZCIsCiAgImRhc2hBcnJheSI6IG51bGwsCiAgImRhc2hPZmZzZXQiOiBudWxsLAogICJmaWxsIjogdHJ1ZSwKICAiZmlsbENvbG9yIjogIiNFOTQ5NzUiLAogICJmaWxsT3BhY2l0eSI6IDAuNywKICAiZmlsbFJ1bGUiOiAiZXZlbm9kZCIsCiAgImxpbmVDYXAiOiAicm91bmQiLAogICJsaW5lSm9pbiI6ICJyb3VuZCIsCiAgIm9wYWNpdHkiOiAxLjAsCiAgInJhZGl1cyI6IDUsCiAgInN0cm9rZSI6IHRydWUsCiAgIndlaWdodCI6IDMKfQogICAgICAgICAgICAgICAgKS5hZGRUbyhtYXBfZjkzOTdkOWI2MDFjNGZhMjk2OTZlYWQ4MjRkOTIzMDgpOwogICAgICAgICAgICAKICAgIAogICAgICAgICAgICB2YXIgcG9wdXBfNWI4NGRhYzM2ODRkNDk1YzllMzUzNzE1ZWJmMmNlNDcgPSBMLnBvcHVwKHttYXhXaWR0aDogJzMwMCd9KTsKCiAgICAgICAgICAgIAogICAgICAgICAgICAgICAgdmFyIGh0bWxfZjc5NWIwY2QwMGJkNDM5ZmFlZGFmODkwM2FlNjkwZDAgPSAkKCc8ZGl2IGlkPSJodG1sX2Y3OTViMGNkMDBiZDQzOWZhZWRhZjg5MDNhZTY5MGQwIiBzdHlsZT0id2lkdGg6IDEwMC4wJTsgaGVpZ2h0OiAxMDAuMCU7Ij5Nb3JlbGxpJiMzOTtzIEdlbGF0bzwvZGl2PicpWzBdOwogICAgICAgICAgICAgICAgcG9wdXBfNWI4NGRhYzM2ODRkNDk1YzllMzUzNzE1ZWJmMmNlNDcuc2V0Q29udGVudChodG1sX2Y3OTViMGNkMDBiZDQzOWZhZWRhZjg5MDNhZTY5MGQwKTsKICAgICAgICAgICAgCgogICAgICAgICAgICBjaXJjbGVfbWFya2VyXzE5Y2Y4NWJjMjAwYTQ3OWQ5NzViNWJiNGI2OTMyNGNmLmJpbmRQb3B1cChwb3B1cF81Yjg0ZGFjMzY4NGQ0OTVjOWUzNTM3MTVlYmYyY2U0Nyk7CgogICAgICAgICAgICAKICAgICAgICAKICAgIAogICAgICAgICAgICB2YXIgY2lyY2xlX21hcmtlcl85MDllMDdkYWE3ZWQ0NGFkOWVlZTJhNTA0ODY3OGE0YSA9IEwuY2lyY2xlTWFya2VyKAogICAgICAgICAgICAgICAgWzUxLjUxMTU3NzM5MzA5NTI5LC0wLjEyMTU2ODI1MzE2NjY1MDldLAogICAgICAgICAgICAgICAgewogICJidWJibGluZ01vdXNlRXZlbnRzIjogdHJ1ZSwKICAiY29sb3IiOiAicmVkIiwKICAiZGFzaEFycmF5IjogbnVsbCwKICAiZGFzaE9mZnNldCI6IG51bGwsCiAgImZpbGwiOiB0cnVlLAogICJmaWxsQ29sb3IiOiAiI0U5NDk3NSIsCiAgImZpbGxPcGFjaXR5IjogMC43LAogICJmaWxsUnVsZSI6ICJldmVub2RkIiwKICAibGluZUNhcCI6ICJyb3VuZCIsCiAgImxpbmVKb2luIjogInJvdW5kIiwKICAib3BhY2l0eSI6IDEuMCwKICAicmFkaXVzIjogNSwKICAic3Ryb2tlIjogdHJ1ZSwKICAid2VpZ2h0IjogMwp9CiAgICAgICAgICAgICAgICApLmFkZFRvKG1hcF9mOTM5N2Q5YjYwMWM0ZmEyOTY5NmVhZDgyNGQ5MjMwOCk7CiAgICAgICAgICAgIAogICAgCiAgICAgICAgICAgIHZhciBwb3B1cF9iMjNjMWZlYmQ5MzY0NDA0YjgzMTQzMmI4NGJiZjY0NSA9IEwucG9wdXAoe21heFdpZHRoOiAnMzAwJ30pOwoKICAgICAgICAgICAgCiAgICAgICAgICAgICAgICB2YXIgaHRtbF9hNjk3NTM3ZmI1YWY0YzJlYWI4MTZjNzAzNzE2OTc3ZCA9ICQoJzxkaXYgaWQ9Imh0bWxfYTY5NzUzN2ZiNWFmNGMyZWFiODE2YzcwMzcxNjk3N2QiIHN0eWxlPSJ3aWR0aDogMTAwLjAlOyBoZWlnaHQ6IDEwMC4wJTsiPk1pbGsgVHJhaW48L2Rpdj4nKVswXTsKICAgICAgICAgICAgICAgIHBvcHVwX2IyM2MxZmViZDkzNjQ0MDRiODMxNDMyYjg0YmJmNjQ1LnNldENvbnRlbnQoaHRtbF9hNjk3NTM3ZmI1YWY0YzJlYWI4MTZjNzAzNzE2OTc3ZCk7CiAgICAgICAgICAgIAoKICAgICAgICAgICAgY2lyY2xlX21hcmtlcl85MDllMDdkYWE3ZWQ0NGFkOWVlZTJhNTA0ODY3OGE0YS5iaW5kUG9wdXAocG9wdXBfYjIzYzFmZWJkOTM2NDQwNGI4MzE0MzJiODRiYmY2NDUpOwoKICAgICAgICAgICAgCiAgICAgICAgCiAgICAKICAgICAgICAgICAgdmFyIGNpcmNsZV9tYXJrZXJfNWZmZTY0MTFmOWU0NDdmZWFiZDZkZmFmNWRjNTkxNWUgPSBMLmNpcmNsZU1hcmtlcigKICAgICAgICAgICAgICAgIFs1MS41MTE1MDk3MTMzNzc5OCwtMC4xMjU3OTQ0NjM0MTc5NDE4XSwKICAgICAgICAgICAgICAgIHsKICAiYnViYmxpbmdNb3VzZUV2ZW50cyI6IHRydWUsCiAgImNvbG9yIjogInJlZCIsCiAgImRhc2hBcnJheSI6IG51bGwsCiAgImRhc2hPZmZzZXQiOiBudWxsLAogICJmaWxsIjogdHJ1ZSwKICAiZmlsbENvbG9yIjogIiNFOTQ5NzUiLAogICJmaWxsT3BhY2l0eSI6IDAuNywKICAiZmlsbFJ1bGUiOiAiZXZlbm9kZCIsCiAgImxpbmVDYXAiOiAicm91bmQiLAogICJsaW5lSm9pbiI6ICJyb3VuZCIsCiAgIm9wYWNpdHkiOiAxLjAsCiAgInJhZGl1cyI6IDUsCiAgInN0cm9rZSI6IHRydWUsCiAgIndlaWdodCI6IDMKfQogICAgICAgICAgICAgICAgKS5hZGRUbyhtYXBfZjkzOTdkOWI2MDFjNGZhMjk2OTZlYWQ4MjRkOTIzMDgpOwogICAgICAgICAgICAKICAgIAogICAgICAgICAgICB2YXIgcG9wdXBfYWM3N2RhZjI3MWNhNGYwNGJhYTAyMmM2MDJhOTgyNjMgPSBMLnBvcHVwKHttYXhXaWR0aDogJzMwMCd9KTsKCiAgICAgICAgICAgIAogICAgICAgICAgICAgICAgdmFyIGh0bWxfY2Y2NDVmOTU4NzllNGIzNWE2ZmVjOWE1MGNlOGIxYjUgPSAkKCc8ZGl2IGlkPSJodG1sX2NmNjQ1Zjk1ODc5ZTRiMzVhNmZlYzlhNTBjZThiMWI1IiBzdHlsZT0id2lkdGg6IDEwMC4wJTsgaGVpZ2h0OiAxMDAuMCU7Ij5BbW9yaW5vPC9kaXY+JylbMF07CiAgICAgICAgICAgICAgICBwb3B1cF9hYzc3ZGFmMjcxY2E0ZjA0YmFhMDIyYzYwMmE5ODI2My5zZXRDb250ZW50KGh0bWxfY2Y2NDVmOTU4NzllNGIzNWE2ZmVjOWE1MGNlOGIxYjUpOwogICAgICAgICAgICAKCiAgICAgICAgICAgIGNpcmNsZV9tYXJrZXJfNWZmZTY0MTFmOWU0NDdmZWFiZDZkZmFmNWRjNTkxNWUuYmluZFBvcHVwKHBvcHVwX2FjNzdkYWYyNzFjYTRmMDRiYWEwMjJjNjAyYTk4MjYzKTsKCiAgICAgICAgICAgIAogICAgICAgIAogICAgCiAgICAgICAgICAgIHZhciBjaXJjbGVfbWFya2VyXzdiN2QyZjNjNmVmYjQyYzJiYzFlZWQxMjYzNzVhNjZiID0gTC5jaXJjbGVNYXJrZXIoCiAgICAgICAgICAgICAgICBbNTEuNTEzNTk4NDMxNTI2NTc0LC0wLjEyMzUwODk5NDI0MDg5Njk4XSwKICAgICAgICAgICAgICAgIHsKICAiYnViYmxpbmdNb3VzZUV2ZW50cyI6IHRydWUsCiAgImNvbG9yIjogInJlZCIsCiAgImRhc2hBcnJheSI6IG51bGwsCiAgImRhc2hPZmZzZXQiOiBudWxsLAogICJmaWxsIjogdHJ1ZSwKICAiZmlsbENvbG9yIjogIiNFOTQ5NzUiLAogICJmaWxsT3BhY2l0eSI6IDAuNywKICAiZmlsbFJ1bGUiOiAiZXZlbm9kZCIsCiAgImxpbmVDYXAiOiAicm91bmQiLAogICJsaW5lSm9pbiI6ICJyb3VuZCIsCiAgIm9wYWNpdHkiOiAxLjAsCiAgInJhZGl1cyI6IDUsCiAgInN0cm9rZSI6IHRydWUsCiAgIndlaWdodCI6IDMKfQogICAgICAgICAgICAgICAgKS5hZGRUbyhtYXBfZjkzOTdkOWI2MDFjNGZhMjk2OTZlYWQ4MjRkOTIzMDgpOwogICAgICAgICAgICAKICAgIAogICAgICAgICAgICB2YXIgcG9wdXBfNGMyMjI1ZmEyZDVhNGUzMWJiMjBhMGY3NDJmNGFhYzEgPSBMLnBvcHVwKHttYXhXaWR0aDogJzMwMCd9KTsKCiAgICAgICAgICAgIAogICAgICAgICAgICAgICAgdmFyIGh0bWxfMzhlYjkxZjE4MGRkNDViYmJkNzc5ZWE5ZDYyYzUxN2UgPSAkKCc8ZGl2IGlkPSJodG1sXzM4ZWI5MWYxODBkZDQ1YmJiZDc3OWVhOWQ2MmM1MTdlIiBzdHlsZT0id2lkdGg6IDEwMC4wJTsgaGVpZ2h0OiAxMDAuMCU7Ij5BbW9yaW5vPC9kaXY+JylbMF07CiAgICAgICAgICAgICAgICBwb3B1cF80YzIyMjVmYTJkNWE0ZTMxYmIyMGEwZjc0MmY0YWFjMS5zZXRDb250ZW50KGh0bWxfMzhlYjkxZjE4MGRkNDViYmJkNzc5ZWE5ZDYyYzUxN2UpOwogICAgICAgICAgICAKCiAgICAgICAgICAgIGNpcmNsZV9tYXJrZXJfN2I3ZDJmM2M2ZWZiNDJjMmJjMWVlZDEyNjM3NWE2NmIuYmluZFBvcHVwKHBvcHVwXzRjMjIyNWZhMmQ1YTRlMzFiYjIwYTBmNzQyZjRhYWMxKTsKCiAgICAgICAgICAgIAogICAgICAgIAogICAgCiAgICAgICAgICAgIHZhciBjaXJjbGVfbWFya2VyXzRhZjI4YmM2OTMyNDQ1YjJiY2JjMmE3NWVkNDhiNWI1ID0gTC5jaXJjbGVNYXJrZXIoCiAgICAgICAgICAgICAgICBbNTEuNTEyNzM3LC0wLjEyMDk3NzAxNF0sCiAgICAgICAgICAgICAgICB7CiAgImJ1YmJsaW5nTW91c2VFdmVudHMiOiB0cnVlLAogICJjb2xvciI6ICJyZWQiLAogICJkYXNoQXJyYXkiOiBudWxsLAogICJkYXNoT2Zmc2V0IjogbnVsbCwKICAiZmlsbCI6IHRydWUsCiAgImZpbGxDb2xvciI6ICIjRTk0OTc1IiwKICAiZmlsbE9wYWNpdHkiOiAwLjcsCiAgImZpbGxSdWxlIjogImV2ZW5vZGQiLAogICJsaW5lQ2FwIjogInJvdW5kIiwKICAibGluZUpvaW4iOiAicm91bmQiLAogICJvcGFjaXR5IjogMS4wLAogICJyYWRpdXMiOiA1LAogICJzdHJva2UiOiB0cnVlLAogICJ3ZWlnaHQiOiAzCn0KICAgICAgICAgICAgICAgICkuYWRkVG8obWFwX2Y5Mzk3ZDliNjAxYzRmYTI5Njk2ZWFkODI0ZDkyMzA4KTsKICAgICAgICAgICAgCiAgICAKICAgICAgICAgICAgdmFyIHBvcHVwXzA1ZGUyN2Y3MTdjODQxMTg5ZTYyMjA5OThhZDM0OGU2ID0gTC5wb3B1cCh7bWF4V2lkdGg6ICczMDAnfSk7CgogICAgICAgICAgICAKICAgICAgICAgICAgICAgIHZhciBodG1sXzMwZjA5ZmZiN2VhODQ3NjJhYmRjNzk4ZDllM2Y2Mjg4ID0gJCgnPGRpdiBpZD0iaHRtbF8zMGYwOWZmYjdlYTg0NzYyYWJkYzc5OGQ5ZTNmNjI4OCIgc3R5bGU9IndpZHRoOiAxMDAuMCU7IGhlaWdodDogMTAwLjAlOyI+R2VsYXRvcmlubzwvZGl2PicpWzBdOwogICAgICAgICAgICAgICAgcG9wdXBfMDVkZTI3ZjcxN2M4NDExODllNjIyMDk5OGFkMzQ4ZTYuc2V0Q29udGVudChodG1sXzMwZjA5ZmZiN2VhODQ3NjJhYmRjNzk4ZDllM2Y2Mjg4KTsKICAgICAgICAgICAgCgogICAgICAgICAgICBjaXJjbGVfbWFya2VyXzRhZjI4YmM2OTMyNDQ1YjJiY2JjMmE3NWVkNDhiNWI1LmJpbmRQb3B1cChwb3B1cF8wNWRlMjdmNzE3Yzg0MTE4OWU2MjIwOTk4YWQzNDhlNik7CgogICAgICAgICAgICAKICAgICAgICAKICAgIAogICAgICAgICAgICB2YXIgY2lyY2xlX21hcmtlcl9hZGFlZTM2NjAyY2Q0YzIyYmE1MzAyZWFlYmYzOWYxZCA9IEwuY2lyY2xlTWFya2VyKAogICAgICAgICAgICAgICAgWzUxLjUxMTA0NjAzMzE5NTY1LC0wLjEyNjgyODAyNjY5MjA0MzVdLAogICAgICAgICAgICAgICAgewogICJidWJibGluZ01vdXNlRXZlbnRzIjogdHJ1ZSwKICAiY29sb3IiOiAicmVkIiwKICAiZGFzaEFycmF5IjogbnVsbCwKICAiZGFzaE9mZnNldCI6IG51bGwsCiAgImZpbGwiOiB0cnVlLAogICJmaWxsQ29sb3IiOiAiI0U5NDk3NSIsCiAgImZpbGxPcGFjaXR5IjogMC43LAogICJmaWxsUnVsZSI6ICJldmVub2RkIiwKICAibGluZUNhcCI6ICJyb3VuZCIsCiAgImxpbmVKb2luIjogInJvdW5kIiwKICAib3BhY2l0eSI6IDEuMCwKICAicmFkaXVzIjogNSwKICAic3Ryb2tlIjogdHJ1ZSwKICAid2VpZ2h0IjogMwp9CiAgICAgICAgICAgICAgICApLmFkZFRvKG1hcF9mOTM5N2Q5YjYwMWM0ZmEyOTY5NmVhZDgyNGQ5MjMwOCk7CiAgICAgICAgICAgIAogICAgCiAgICAgICAgICAgIHZhciBwb3B1cF83MTg4ZjA5ZWRjMDg0ZGU3ODQ0MTYwODhjNzg2NTc3ZiA9IEwucG9wdXAoe21heFdpZHRoOiAnMzAwJ30pOwoKICAgICAgICAgICAgCiAgICAgICAgICAgICAgICB2YXIgaHRtbF9kYWRiNGNlNzlkY2M0MzkzYjM1ZWNkNjczMGI4NTQ2NyA9ICQoJzxkaXYgaWQ9Imh0bWxfZGFkYjRjZTc5ZGNjNDM5M2IzNWVjZDY3MzBiODU0NjciIHN0eWxlPSJ3aWR0aDogMTAwLjAlOyBoZWlnaHQ6IDEwMC4wJTsiPkxhIEdlbGF0aWVyYTwvZGl2PicpWzBdOwogICAgICAgICAgICAgICAgcG9wdXBfNzE4OGYwOWVkYzA4NGRlNzg0NDE2MDg4Yzc4NjU3N2Yuc2V0Q29udGVudChodG1sX2RhZGI0Y2U3OWRjYzQzOTNiMzVlY2Q2NzMwYjg1NDY3KTsKICAgICAgICAgICAgCgogICAgICAgICAgICBjaXJjbGVfbWFya2VyX2FkYWVlMzY2MDJjZDRjMjJiYTUzMDJlYWViZjM5ZjFkLmJpbmRQb3B1cChwb3B1cF83MTg4ZjA5ZWRjMDg0ZGU3ODQ0MTYwODhjNzg2NTc3Zik7CgogICAgICAgICAgICAKICAgICAgICAKICAgIAogICAgICAgICAgICB2YXIgY2lyY2xlX21hcmtlcl9jMDdkNDM1ZDYyN2I0MmU3OGQwNWU5MDI5ZDhhYzI4YSA9IEwuY2lyY2xlTWFya2VyKAogICAgICAgICAgICAgICAgWzUxLjUxMTk1OTk5ODk3NTU4LC0wLjEyOTAzMzI4NDc2NzI0MDM1XSwKICAgICAgICAgICAgICAgIHsKICAiYnViYmxpbmdNb3VzZUV2ZW50cyI6IHRydWUsCiAgImNvbG9yIjogInJlZCIsCiAgImRhc2hBcnJheSI6IG51bGwsCiAgImRhc2hPZmZzZXQiOiBudWxsLAogICJmaWxsIjogdHJ1ZSwKICAiZmlsbENvbG9yIjogIiNFOTQ5NzUiLAogICJmaWxsT3BhY2l0eSI6IDAuNywKICAiZmlsbFJ1bGUiOiAiZXZlbm9kZCIsCiAgImxpbmVDYXAiOiAicm91bmQiLAogICJsaW5lSm9pbiI6ICJyb3VuZCIsCiAgIm9wYWNpdHkiOiAxLjAsCiAgInJhZGl1cyI6IDUsCiAgInN0cm9rZSI6IHRydWUsCiAgIndlaWdodCI6IDMKfQogICAgICAgICAgICAgICAgKS5hZGRUbyhtYXBfZjkzOTdkOWI2MDFjNGZhMjk2OTZlYWQ4MjRkOTIzMDgpOwogICAgICAgICAgICAKICAgIAogICAgICAgICAgICB2YXIgcG9wdXBfN2I3ZjJjNTNmYzIwNDRkYTlmYWY3NGNiYWUxY2NjZjYgPSBMLnBvcHVwKHttYXhXaWR0aDogJzMwMCd9KTsKCiAgICAgICAgICAgIAogICAgICAgICAgICAgICAgdmFyIGh0bWxfMmIzMjJjYTNmZThmNDJhZmExMTlmZjQ3ZDk5N2NmY2QgPSAkKCc8ZGl2IGlkPSJodG1sXzJiMzIyY2EzZmU4ZjQyYWZhMTE5ZmY0N2Q5OTdjZmNkIiBzdHlsZT0id2lkdGg6IDEwMC4wJTsgaGVpZ2h0OiAxMDAuMCU7Ij5NYW1hc29uczwvZGl2PicpWzBdOwogICAgICAgICAgICAgICAgcG9wdXBfN2I3ZjJjNTNmYzIwNDRkYTlmYWY3NGNiYWUxY2NjZjYuc2V0Q29udGVudChodG1sXzJiMzIyY2EzZmU4ZjQyYWZhMTE5ZmY0N2Q5OTdjZmNkKTsKICAgICAgICAgICAgCgogICAgICAgICAgICBjaXJjbGVfbWFya2VyX2MwN2Q0MzVkNjI3YjQyZTc4ZDA1ZTkwMjlkOGFjMjhhLmJpbmRQb3B1cChwb3B1cF83YjdmMmM1M2ZjMjA0NGRhOWZhZjc0Y2JhZTFjY2NmNik7CgogICAgICAgICAgICAKICAgICAgICAKICAgIAogICAgICAgICAgICB2YXIgY2lyY2xlX21hcmtlcl9mNDYzMjgwZTcyN2I0ZmYzYmNkMTk1NjEwNTllNjMwOCA9IEwuY2lyY2xlTWFya2VyKAogICAgICAgICAgICAgICAgWzUxLjUxMTk1LC0wLjEyOTA1MjQ4XSwKICAgICAgICAgICAgICAgIHsKICAiYnViYmxpbmdNb3VzZUV2ZW50cyI6IHRydWUsCiAgImNvbG9yIjogInJlZCIsCiAgImRhc2hBcnJheSI6IG51bGwsCiAgImRhc2hPZmZzZXQiOiBudWxsLAogICJmaWxsIjogdHJ1ZSwKICAiZmlsbENvbG9yIjogIiNFOTQ5NzUiLAogICJmaWxsT3BhY2l0eSI6IDAuNywKICAiZmlsbFJ1bGUiOiAiZXZlbm9kZCIsCiAgImxpbmVDYXAiOiAicm91bmQiLAogICJsaW5lSm9pbiI6ICJyb3VuZCIsCiAgIm9wYWNpdHkiOiAxLjAsCiAgInJhZGl1cyI6IDUsCiAgInN0cm9rZSI6IHRydWUsCiAgIndlaWdodCI6IDMKfQogICAgICAgICAgICAgICAgKS5hZGRUbyhtYXBfZjkzOTdkOWI2MDFjNGZhMjk2OTZlYWQ4MjRkOTIzMDgpOwogICAgICAgICAgICAKICAgIAogICAgICAgICAgICB2YXIgcG9wdXBfNDk4NmNhNDkwODdmNDU3ZjllYjU5NzNhM2ZjMTAwODggPSBMLnBvcHVwKHttYXhXaWR0aDogJzMwMCd9KTsKCiAgICAgICAgICAgIAogICAgICAgICAgICAgICAgdmFyIGh0bWxfY2YxMDg2MThkOGRlNDJhOWFjOGUyOWJlZDg0MmY0ZjYgPSAkKCc8ZGl2IGlkPSJodG1sX2NmMTA4NjE4ZDhkZTQyYTlhYzhlMjliZWQ4NDJmNGY2IiBzdHlsZT0id2lkdGg6IDEwMC4wJTsgaGVpZ2h0OiAxMDAuMCU7Ij5EaXJ0eSBJY2UgQ3JlYW08L2Rpdj4nKVswXTsKICAgICAgICAgICAgICAgIHBvcHVwXzQ5ODZjYTQ5MDg3ZjQ1N2Y5ZWI1OTczYTNmYzEwMDg4LnNldENvbnRlbnQoaHRtbF9jZjEwODYxOGQ4ZGU0MmE5YWM4ZTI5YmVkODQyZjRmNik7CiAgICAgICAgICAgIAoKICAgICAgICAgICAgY2lyY2xlX21hcmtlcl9mNDYzMjgwZTcyN2I0ZmYzYmNkMTk1NjEwNTllNjMwOC5iaW5kUG9wdXAocG9wdXBfNDk4NmNhNDkwODdmNDU3ZjllYjU5NzNhM2ZjMTAwODgpOwoKICAgICAgICAgICAgCiAgICAgICAgCiAgICAKICAgICAgICAgICAgdmFyIGNpcmNsZV9tYXJrZXJfMmZmOWViMWQ4Zjk3NGU4MGI1OWIyOWM3NWRhYzIyN2EgPSBMLmNpcmNsZU1hcmtlcigKICAgICAgICAgICAgICAgIFs1MS41MTE5NzYyNzc2MjgxOSwtMC4xMjg5ODk0NTQ3NTA3Njk0XSwKICAgICAgICAgICAgICAgIHsKICAiYnViYmxpbmdNb3VzZUV2ZW50cyI6IHRydWUsCiAgImNvbG9yIjogInJlZCIsCiAgImRhc2hBcnJheSI6IG51bGwsCiAgImRhc2hPZmZzZXQiOiBudWxsLAogICJmaWxsIjogdHJ1ZSwKICAiZmlsbENvbG9yIjogIiNFOTQ5NzUiLAogICJmaWxsT3BhY2l0eSI6IDAuNywKICAiZmlsbFJ1bGUiOiAiZXZlbm9kZCIsCiAgImxpbmVDYXAiOiAicm91bmQiLAogICJsaW5lSm9pbiI6ICJyb3VuZCIsCiAgIm9wYWNpdHkiOiAxLjAsCiAgInJhZGl1cyI6IDUsCiAgInN0cm9rZSI6IHRydWUsCiAgIndlaWdodCI6IDMKfQogICAgICAgICAgICAgICAgKS5hZGRUbyhtYXBfZjkzOTdkOWI2MDFjNGZhMjk2OTZlYWQ4MjRkOTIzMDgpOwogICAgICAgICAgICAKICAgIAogICAgICAgICAgICB2YXIgcG9wdXBfODAxNzIzNjUzYWViNGZlZjlmOGJkOWM4Yzk1MWJmNDEgPSBMLnBvcHVwKHttYXhXaWR0aDogJzMwMCd9KTsKCiAgICAgICAgICAgIAogICAgICAgICAgICAgICAgdmFyIGh0bWxfNzkyZTczNmRhYzRkNGRhNGE4OTQ4MjU5ZWJjYTVmMzIgPSAkKCc8ZGl2IGlkPSJodG1sXzc5MmU3MzZkYWM0ZDRkYTRhODk0ODI1OWViY2E1ZjMyIiBzdHlsZT0id2lkdGg6IDEwMC4wJTsgaGVpZ2h0OiAxMDAuMCU7Ij5Uc3VqaXJpPC9kaXY+JylbMF07CiAgICAgICAgICAgICAgICBwb3B1cF84MDE3MjM2NTNhZWI0ZmVmOWY4YmQ5YzhjOTUxYmY0MS5zZXRDb250ZW50KGh0bWxfNzkyZTczNmRhYzRkNGRhNGE4OTQ4MjU5ZWJjYTVmMzIpOwogICAgICAgICAgICAKCiAgICAgICAgICAgIGNpcmNsZV9tYXJrZXJfMmZmOWViMWQ4Zjk3NGU4MGI1OWIyOWM3NWRhYzIyN2EuYmluZFBvcHVwKHBvcHVwXzgwMTcyMzY1M2FlYjRmZWY5ZjhiZDljOGM5NTFiZjQxKTsKCiAgICAgICAgICAgIAogICAgICAgIAogICAgCiAgICAgICAgICAgIHZhciBjaXJjbGVfbWFya2VyX2JjYzc4Y2E0MDA2ODRkNDI4N2VjYjFhM2I4NjgxYWJlID0gTC5jaXJjbGVNYXJrZXIoCiAgICAgICAgICAgICAgICBbNTEuNTEzNzIwMTE1NjQyNzMsLTAuMTI3NDExMTEwODA4NTMzMDddLAogICAgICAgICAgICAgICAgewogICJidWJibGluZ01vdXNlRXZlbnRzIjogdHJ1ZSwKICAiY29sb3IiOiAicmVkIiwKICAiZGFzaEFycmF5IjogbnVsbCwKICAiZGFzaE9mZnNldCI6IG51bGwsCiAgImZpbGwiOiB0cnVlLAogICJmaWxsQ29sb3IiOiAiI0U5NDk3NSIsCiAgImZpbGxPcGFjaXR5IjogMC43LAogICJmaWxsUnVsZSI6ICJldmVub2RkIiwKICAibGluZUNhcCI6ICJyb3VuZCIsCiAgImxpbmVKb2luIjogInJvdW5kIiwKICAib3BhY2l0eSI6IDEuMCwKICAicmFkaXVzIjogNSwKICAic3Ryb2tlIjogdHJ1ZSwKICAid2VpZ2h0IjogMwp9CiAgICAgICAgICAgICAgICApLmFkZFRvKG1hcF9mOTM5N2Q5YjYwMWM0ZmEyOTY5NmVhZDgyNGQ5MjMwOCk7CiAgICAgICAgICAgIAogICAgCiAgICAgICAgICAgIHZhciBwb3B1cF8zOGQyNGQ0ZjY1M2U0NDEwODUyZTFiNWQ0Zjk4OGMyOCA9IEwucG9wdXAoe21heFdpZHRoOiAnMzAwJ30pOwoKICAgICAgICAgICAgCiAgICAgICAgICAgICAgICB2YXIgaHRtbF9jOWY3MTk4OGZmYzA0ZmFkYjllMjVlYjc0YmMxZmY2MCA9ICQoJzxkaXYgaWQ9Imh0bWxfYzlmNzE5ODhmZmMwNGZhZGI5ZTI1ZWI3NGJjMWZmNjAiIHN0eWxlPSJ3aWR0aDogMTAwLjAlOyBoZWlnaHQ6IDEwMC4wJTsiPlVkZGVybGljaW91czwvZGl2PicpWzBdOwogICAgICAgICAgICAgICAgcG9wdXBfMzhkMjRkNGY2NTNlNDQxMDg1MmUxYjVkNGY5ODhjMjguc2V0Q29udGVudChodG1sX2M5ZjcxOTg4ZmZjMDRmYWRiOWUyNWViNzRiYzFmZjYwKTsKICAgICAgICAgICAgCgogICAgICAgICAgICBjaXJjbGVfbWFya2VyX2JjYzc4Y2E0MDA2ODRkNDI4N2VjYjFhM2I4NjgxYWJlLmJpbmRQb3B1cChwb3B1cF8zOGQyNGQ0ZjY1M2U0NDEwODUyZTFiNWQ0Zjk4OGMyOCk7CgogICAgICAgICAgICAKICAgICAgICAKICAgIAogICAgICAgICAgICB2YXIgY2lyY2xlX21hcmtlcl81NzZlMDYyNTdkZjQ0YWQ1YWQ5ZmVjZmI4MzIzZDAzMCA9IEwuY2lyY2xlTWFya2VyKAogICAgICAgICAgICAgICAgWzUxLjUxMzYwNTc4ODcxMDE3LC0wLjEyMzQxMTk5OTM0NDUwNjZdLAogICAgICAgICAgICAgICAgewogICJidWJibGluZ01vdXNlRXZlbnRzIjogdHJ1ZSwKICAiY29sb3IiOiAicmVkIiwKICAiZGFzaEFycmF5IjogbnVsbCwKICAiZGFzaE9mZnNldCI6IG51bGwsCiAgImZpbGwiOiB0cnVlLAogICJmaWxsQ29sb3IiOiAiI0U5NDk3NSIsCiAgImZpbGxPcGFjaXR5IjogMC43LAogICJmaWxsUnVsZSI6ICJldmVub2RkIiwKICAibGluZUNhcCI6ICJyb3VuZCIsCiAgImxpbmVKb2luIjogInJvdW5kIiwKICAib3BhY2l0eSI6IDEuMCwKICAicmFkaXVzIjogNSwKICAic3Ryb2tlIjogdHJ1ZSwKICAid2VpZ2h0IjogMwp9CiAgICAgICAgICAgICAgICApLmFkZFRvKG1hcF9mOTM5N2Q5YjYwMWM0ZmEyOTY5NmVhZDgyNGQ5MjMwOCk7CiAgICAgICAgICAgIAogICAgCiAgICAgICAgICAgIHZhciBwb3B1cF9mZmZkNGZmNGEyYTY0MjM0YmUyZWZkOGNhMTI5NTU3NiA9IEwucG9wdXAoe21heFdpZHRoOiAnMzAwJ30pOwoKICAgICAgICAgICAgCiAgICAgICAgICAgICAgICB2YXIgaHRtbF84ZGVhMGVmYmE3ZTQ0ZjViOWJkMDg1OTMxNTQ0M2QzMCA9ICQoJzxkaXYgaWQ9Imh0bWxfOGRlYTBlZmJhN2U0NGY1YjliZDA4NTkzMTU0NDNkMzAiIHN0eWxlPSJ3aWR0aDogMTAwLjAlOyBoZWlnaHQ6IDEwMC4wJTsiPkJlYW5pY2U8L2Rpdj4nKVswXTsKICAgICAgICAgICAgICAgIHBvcHVwX2ZmZmQ0ZmY0YTJhNjQyMzRiZTJlZmQ4Y2ExMjk1NTc2LnNldENvbnRlbnQoaHRtbF84ZGVhMGVmYmE3ZTQ0ZjViOWJkMDg1OTMxNTQ0M2QzMCk7CiAgICAgICAgICAgIAoKICAgICAgICAgICAgY2lyY2xlX21hcmtlcl81NzZlMDYyNTdkZjQ0YWQ1YWQ5ZmVjZmI4MzIzZDAzMC5iaW5kUG9wdXAocG9wdXBfZmZmZDRmZjRhMmE2NDIzNGJlMmVmZDhjYTEyOTU1NzYpOwoKICAgICAgICAgICAgCiAgICAgICAgCiAgICAKICAgICAgICAgICAgdmFyIGNpcmNsZV9tYXJrZXJfODIwZTBjMzY3ZjdjNGZkYzgzZGZlNmEwNmY4NDc4NjIgPSBMLmNpcmNsZU1hcmtlcigKICAgICAgICAgICAgICAgIFs1MS41MTA0MjcyNjYyMTQxOSwtMC4xMjg0MDA4MTQ5MjkyMTYzN10sCiAgICAgICAgICAgICAgICB7CiAgImJ1YmJsaW5nTW91c2VFdmVudHMiOiB0cnVlLAogICJjb2xvciI6ICJyZWQiLAogICJkYXNoQXJyYXkiOiBudWxsLAogICJkYXNoT2Zmc2V0IjogbnVsbCwKICAiZmlsbCI6IHRydWUsCiAgImZpbGxDb2xvciI6ICIjRTk0OTc1IiwKICAiZmlsbE9wYWNpdHkiOiAwLjcsCiAgImZpbGxSdWxlIjogImV2ZW5vZGQiLAogICJsaW5lQ2FwIjogInJvdW5kIiwKICAibGluZUpvaW4iOiAicm91bmQiLAogICJvcGFjaXR5IjogMS4wLAogICJyYWRpdXMiOiA1LAogICJzdHJva2UiOiB0cnVlLAogICJ3ZWlnaHQiOiAzCn0KICAgICAgICAgICAgICAgICkuYWRkVG8obWFwX2Y5Mzk3ZDliNjAxYzRmYTI5Njk2ZWFkODI0ZDkyMzA4KTsKICAgICAgICAgICAgCiAgICAKICAgICAgICAgICAgdmFyIHBvcHVwXzY0ZGRjZmFkYmViOTQ1YWFhNTBlODY5NmUzYmIyZTdmID0gTC5wb3B1cCh7bWF4V2lkdGg6ICczMDAnfSk7CgogICAgICAgICAgICAKICAgICAgICAgICAgICAgIHZhciBodG1sXzg5ZWUwOTkxOWJlODRkY2M4M2RjNGQ0NWM1MzkyOWYzID0gJCgnPGRpdiBpZD0iaHRtbF84OWVlMDk5MTliZTg0ZGNjODNkYzRkNDVjNTM5MjlmMyIgc3R5bGU9IndpZHRoOiAxMDAuMCU7IGhlaWdodDogMTAwLjAlOyI+QW1vcmlubzwvZGl2PicpWzBdOwogICAgICAgICAgICAgICAgcG9wdXBfNjRkZGNmYWRiZWI5NDVhYWE1MGU4Njk2ZTNiYjJlN2Yuc2V0Q29udGVudChodG1sXzg5ZWUwOTkxOWJlODRkY2M4M2RjNGQ0NWM1MzkyOWYzKTsKICAgICAgICAgICAgCgogICAgICAgICAgICBjaXJjbGVfbWFya2VyXzgyMGUwYzM2N2Y3YzRmZGM4M2RmZTZhMDZmODQ3ODYyLmJpbmRQb3B1cChwb3B1cF82NGRkY2ZhZGJlYjk0NWFhYTUwZTg2OTZlM2JiMmU3Zik7CgogICAgICAgICAgICAKICAgICAgICAKICAgIAogICAgICAgICAgICB2YXIgY2lyY2xlX21hcmtlcl81YTIzOGFmMjRiYWE0NDY4YTk2MzIzNjkzMTc2YTE3ZSA9IEwuY2lyY2xlTWFya2VyKAogICAgICAgICAgICAgICAgWzUxLjUxMzg5ODI2Mjc1NDYxNiwtMC4xMjM0MDExMDU1MTA1OTkzNV0sCiAgICAgICAgICAgICAgICB7CiAgImJ1YmJsaW5nTW91c2VFdmVudHMiOiB0cnVlLAogICJjb2xvciI6ICJyZWQiLAogICJkYXNoQXJyYXkiOiBudWxsLAogICJkYXNoT2Zmc2V0IjogbnVsbCwKICAiZmlsbCI6IHRydWUsCiAgImZpbGxDb2xvciI6ICIjRTk0OTc1IiwKICAiZmlsbE9wYWNpdHkiOiAwLjcsCiAgImZpbGxSdWxlIjogImV2ZW5vZGQiLAogICJsaW5lQ2FwIjogInJvdW5kIiwKICAibGluZUpvaW4iOiAicm91bmQiLAogICJvcGFjaXR5IjogMS4wLAogICJyYWRpdXMiOiA1LAogICJzdHJva2UiOiB0cnVlLAogICJ3ZWlnaHQiOiAzCn0KICAgICAgICAgICAgICAgICkuYWRkVG8obWFwX2Y5Mzk3ZDliNjAxYzRmYTI5Njk2ZWFkODI0ZDkyMzA4KTsKICAgICAgICAgICAgCiAgICAKICAgICAgICAgICAgdmFyIHBvcHVwX2E4ZjY3N2ExNjY1MzRjMDRiMjQwMGJjNmUwNzJmZDE0ID0gTC5wb3B1cCh7bWF4V2lkdGg6ICczMDAnfSk7CgogICAgICAgICAgICAKICAgICAgICAgICAgICAgIHZhciBodG1sXzllMjRmYzY1YjIzMjQxMjJhMWQxZDcyNDdhYzljMTQzID0gJCgnPGRpdiBpZD0iaHRtbF85ZTI0ZmM2NWIyMzI0MTIyYTFkMWQ3MjQ3YWM5YzE0MyIgc3R5bGU9IndpZHRoOiAxMDAuMCU7IGhlaWdodDogMTAwLjAlOyI+QmVhIE5pY2U8L2Rpdj4nKVswXTsKICAgICAgICAgICAgICAgIHBvcHVwX2E4ZjY3N2ExNjY1MzRjMDRiMjQwMGJjNmUwNzJmZDE0LnNldENvbnRlbnQoaHRtbF85ZTI0ZmM2NWIyMzI0MTIyYTFkMWQ3MjQ3YWM5YzE0Myk7CiAgICAgICAgICAgIAoKICAgICAgICAgICAgY2lyY2xlX21hcmtlcl81YTIzOGFmMjRiYWE0NDY4YTk2MzIzNjkzMTc2YTE3ZS5iaW5kUG9wdXAocG9wdXBfYThmNjc3YTE2NjUzNGMwNGIyNDAwYmM2ZTA3MmZkMTQpOwoKICAgICAgICAgICAgCiAgICAgICAgCiAgICAKICAgICAgICAgICAgdmFyIGNpcmNsZV9tYXJrZXJfMDc3MmQ4Y2E4M2Y5NGQzYzliYWYxNzlkMDUyNWU0MTYgPSBMLmNpcmNsZU1hcmtlcigKICAgICAgICAgICAgICAgIFs1MS41MTk3NTY4MjcxMDg1LC0wLjEzNDcyNzE3NzY1Mzg3NTU0XSwKICAgICAgICAgICAgICAgIHsKICAiYnViYmxpbmdNb3VzZUV2ZW50cyI6IHRydWUsCiAgImNvbG9yIjogInJlZCIsCiAgImRhc2hBcnJheSI6IG51bGwsCiAgImRhc2hPZmZzZXQiOiBudWxsLAogICJmaWxsIjogdHJ1ZSwKICAiZmlsbENvbG9yIjogIiNFOTQ5NzUiLAogICJmaWxsT3BhY2l0eSI6IDAuNywKICAiZmlsbFJ1bGUiOiAiZXZlbm9kZCIsCiAgImxpbmVDYXAiOiAicm91bmQiLAogICJsaW5lSm9pbiI6ICJyb3VuZCIsCiAgIm9wYWNpdHkiOiAxLjAsCiAgInJhZGl1cyI6IDUsCiAgInN0cm9rZSI6IHRydWUsCiAgIndlaWdodCI6IDMKfQogICAgICAgICAgICAgICAgKS5hZGRUbyhtYXBfZjkzOTdkOWI2MDFjNGZhMjk2OTZlYWQ4MjRkOTIzMDgpOwogICAgICAgICAgICAKICAgIAogICAgICAgICAgICB2YXIgcG9wdXBfOWNiMzg2NTY1ZWJiNDY0NWJmZjU2NzQwZGY1MTVkNTAgPSBMLnBvcHVwKHttYXhXaWR0aDogJzMwMCd9KTsKCiAgICAgICAgICAgIAogICAgICAgICAgICAgICAgdmFyIGh0bWxfODZjMTNmNGIxODQyNDU0Yjk0YzRjMzAxNTY1ZGFhZmUgPSAkKCc8ZGl2IGlkPSJodG1sXzg2YzEzZjRiMTg0MjQ1NGI5NGM0YzMwMTU2NWRhYWZlIiBzdHlsZT0id2lkdGg6IDEwMC4wJTsgaGVpZ2h0OiAxMDAuMCU7Ij5BbW9yaW5vPC9kaXY+JylbMF07CiAgICAgICAgICAgICAgICBwb3B1cF85Y2IzODY1NjVlYmI0NjQ1YmZmNTY3NDBkZjUxNWQ1MC5zZXRDb250ZW50KGh0bWxfODZjMTNmNGIxODQyNDU0Yjk0YzRjMzAxNTY1ZGFhZmUpOwogICAgICAgICAgICAKCiAgICAgICAgICAgIGNpcmNsZV9tYXJrZXJfMDc3MmQ4Y2E4M2Y5NGQzYzliYWYxNzlkMDUyNWU0MTYuYmluZFBvcHVwKHBvcHVwXzljYjM4NjU2NWViYjQ2NDViZmY1Njc0MGRmNTE1ZDUwKTsKCiAgICAgICAgICAgIAogICAgICAgIAogICAgCiAgICAgICAgICAgIHZhciBjaXJjbGVfbWFya2VyX2NiNGQ2MGRiZDgwNzQzYTJhNzRhYjVlOTNmNGFjNzIxID0gTC5jaXJjbGVNYXJrZXIoCiAgICAgICAgICAgICAgICBbNTEuNTIxODA2LC0wLjEzNTUxMV0sCiAgICAgICAgICAgICAgICB7CiAgImJ1YmJsaW5nTW91c2VFdmVudHMiOiB0cnVlLAogICJjb2xvciI6ICJyZWQiLAogICJkYXNoQXJyYXkiOiBudWxsLAogICJkYXNoT2Zmc2V0IjogbnVsbCwKICAiZmlsbCI6IHRydWUsCiAgImZpbGxDb2xvciI6ICIjRTk0OTc1IiwKICAiZmlsbE9wYWNpdHkiOiAwLjcsCiAgImZpbGxSdWxlIjogImV2ZW5vZGQiLAogICJsaW5lQ2FwIjogInJvdW5kIiwKICAibGluZUpvaW4iOiAicm91bmQiLAogICJvcGFjaXR5IjogMS4wLAogICJyYWRpdXMiOiA1LAogICJzdHJva2UiOiB0cnVlLAogICJ3ZWlnaHQiOiAzCn0KICAgICAgICAgICAgICAgICkuYWRkVG8obWFwX2Y5Mzk3ZDliNjAxYzRmYTI5Njk2ZWFkODI0ZDkyMzA4KTsKICAgICAgICAgICAgCiAgICAKICAgICAgICAgICAgdmFyIHBvcHVwXzJkY2FiMDkwZjJkNjRiNTNiYTdkYzIwNjkzOTgwZjQzID0gTC5wb3B1cCh7bWF4V2lkdGg6ICczMDAnfSk7CgogICAgICAgICAgICAKICAgICAgICAgICAgICAgIHZhciBodG1sXzQ2MTYyODU5MjgyZTQ2MDlhNTcxYjUzNWI0OGY5YTZiID0gJCgnPGRpdiBpZD0iaHRtbF80NjE2Mjg1OTI4MmU0NjA5YTU3MWI1MzViNDhmOWE2YiIgc3R5bGU9IndpZHRoOiAxMDAuMCU7IGhlaWdodDogMTAwLjAlOyI+R2VsYXRvIEFydGlnaWFuYWxlIEl0YWxpYW5vPC9kaXY+JylbMF07CiAgICAgICAgICAgICAgICBwb3B1cF8yZGNhYjA5MGYyZDY0YjUzYmE3ZGMyMDY5Mzk4MGY0My5zZXRDb250ZW50KGh0bWxfNDYxNjI4NTkyODJlNDYwOWE1NzFiNTM1YjQ4ZjlhNmIpOwogICAgICAgICAgICAKCiAgICAgICAgICAgIGNpcmNsZV9tYXJrZXJfY2I0ZDYwZGJkODA3NDNhMmE3NGFiNWU5M2Y0YWM3MjEuYmluZFBvcHVwKHBvcHVwXzJkY2FiMDkwZjJkNjRiNTNiYTdkYzIwNjkzOTgwZjQzKTsKCiAgICAgICAgICAgIAogICAgICAgIAogICAgCiAgICAgICAgICAgIHZhciBjaXJjbGVfbWFya2VyXzBmNDNlMWY4NGUzYTQ0N2U5N2Y3ODIwOTU4NTdiY2U3ID0gTC5jaXJjbGVNYXJrZXIoCiAgICAgICAgICAgICAgICBbNTEuNTE5NTE2LC0wLjEzNTM3Nl0sCiAgICAgICAgICAgICAgICB7CiAgImJ1YmJsaW5nTW91c2VFdmVudHMiOiB0cnVlLAogICJjb2xvciI6ICJyZWQiLAogICJkYXNoQXJyYXkiOiBudWxsLAogICJkYXNoT2Zmc2V0IjogbnVsbCwKICAiZmlsbCI6IHRydWUsCiAgImZpbGxDb2xvciI6ICIjRTk0OTc1IiwKICAiZmlsbE9wYWNpdHkiOiAwLjcsCiAgImZpbGxSdWxlIjogImV2ZW5vZGQiLAogICJsaW5lQ2FwIjogInJvdW5kIiwKICAibGluZUpvaW4iOiAicm91bmQiLAogICJvcGFjaXR5IjogMS4wLAogICJyYWRpdXMiOiA1LAogICJzdHJva2UiOiB0cnVlLAogICJ3ZWlnaHQiOiAzCn0KICAgICAgICAgICAgICAgICkuYWRkVG8obWFwX2Y5Mzk3ZDliNjAxYzRmYTI5Njk2ZWFkODI0ZDkyMzA4KTsKICAgICAgICAgICAgCiAgICAKICAgICAgICAgICAgdmFyIHBvcHVwXzk0YTBkNTBlZTQ5MzQxMmRiYzlmNDBkZWI1MzBiOTIxID0gTC5wb3B1cCh7bWF4V2lkdGg6ICczMDAnfSk7CgogICAgICAgICAgICAKICAgICAgICAgICAgICAgIHZhciBodG1sXzBhY2RkYTA4MmQwZDRlNDJiMDE5MzEzMDY2OTU4YzNkID0gJCgnPGRpdiBpZD0iaHRtbF8wYWNkZGEwODJkMGQ0ZTQyYjAxOTMxMzA2Njk1OGMzZCIgc3R5bGU9IndpZHRoOiAxMDAuMCU7IGhlaWdodDogMTAwLjAlOyI+VGVzb3JvIEdlbGF0ZXJpYTwvZGl2PicpWzBdOwogICAgICAgICAgICAgICAgcG9wdXBfOTRhMGQ1MGVlNDkzNDEyZGJjOWY0MGRlYjUzMGI5MjEuc2V0Q29udGVudChodG1sXzBhY2RkYTA4MmQwZDRlNDJiMDE5MzEzMDY2OTU4YzNkKTsKICAgICAgICAgICAgCgogICAgICAgICAgICBjaXJjbGVfbWFya2VyXzBmNDNlMWY4NGUzYTQ0N2U5N2Y3ODIwOTU4NTdiY2U3LmJpbmRQb3B1cChwb3B1cF85NGEwZDUwZWU0OTM0MTJkYmM5ZjQwZGViNTMwYjkyMSk7CgogICAgICAgICAgICAKICAgICAgICAKICAgIAogICAgICAgICAgICB2YXIgY2lyY2xlX21hcmtlcl84NzYzNjMzYjIzNDY0YWUwOGZiNGY1MjUxNzkyY2Y4YiA9IEwuY2lyY2xlTWFya2VyKAogICAgICAgICAgICAgICAgWzUxLjUxNDI3MjgwODkzNTYyLC0wLjEzNDYzMzM0NjkzOTEwNjQ1XSwKICAgICAgICAgICAgICAgIHsKICAiYnViYmxpbmdNb3VzZUV2ZW50cyI6IHRydWUsCiAgImNvbG9yIjogInJlZCIsCiAgImRhc2hBcnJheSI6IG51bGwsCiAgImRhc2hPZmZzZXQiOiBudWxsLAogICJmaWxsIjogdHJ1ZSwKICAiZmlsbENvbG9yIjogIiNFOTQ5NzUiLAogICJmaWxsT3BhY2l0eSI6IDAuNywKICAiZmlsbFJ1bGUiOiAiZXZlbm9kZCIsCiAgImxpbmVDYXAiOiAicm91bmQiLAogICJsaW5lSm9pbiI6ICJyb3VuZCIsCiAgIm9wYWNpdHkiOiAxLjAsCiAgInJhZGl1cyI6IDUsCiAgInN0cm9rZSI6IHRydWUsCiAgIndlaWdodCI6IDMKfQogICAgICAgICAgICAgICAgKS5hZGRUbyhtYXBfZjkzOTdkOWI2MDFjNGZhMjk2OTZlYWQ4MjRkOTIzMDgpOwogICAgICAgICAgICAKICAgIAogICAgICAgICAgICB2YXIgcG9wdXBfZGRjNzAzOGU4NGJhNDk2MWE3YjU5NTJiZmVhODk2MGQgPSBMLnBvcHVwKHttYXhXaWR0aDogJzMwMCd9KTsKCiAgICAgICAgICAgIAogICAgICAgICAgICAgICAgdmFyIGh0bWxfM2Q3MDNlMzA1N2I4NDg2YTlhZWMzNjQxZjg3ODg4NDYgPSAkKCc8ZGl2IGlkPSJodG1sXzNkNzAzZTMwNTdiODQ4NmE5YWVjMzY0MWY4Nzg4ODQ2IiBzdHlsZT0id2lkdGg6IDEwMC4wJTsgaGVpZ2h0OiAxMDAuMCU7Ij5Zb3JpY2E8L2Rpdj4nKVswXTsKICAgICAgICAgICAgICAgIHBvcHVwX2RkYzcwMzhlODRiYTQ5NjFhN2I1OTUyYmZlYTg5NjBkLnNldENvbnRlbnQoaHRtbF8zZDcwM2UzMDU3Yjg0ODZhOWFlYzM2NDFmODc4ODg0Nik7CiAgICAgICAgICAgIAoKICAgICAgICAgICAgY2lyY2xlX21hcmtlcl84NzYzNjMzYjIzNDY0YWUwOGZiNGY1MjUxNzkyY2Y4Yi5iaW5kUG9wdXAocG9wdXBfZGRjNzAzOGU4NGJhNDk2MWE3YjU5NTJiZmVhODk2MGQpOwoKICAgICAgICAgICAgCiAgICAgICAgCiAgICAKICAgICAgICAgICAgdmFyIGNpcmNsZV9tYXJrZXJfMWVmYjNhM2ZjNDA4NGU3MDhmNWIwZjUzYWNkNDU1YjIgPSBMLmNpcmNsZU1hcmtlcigKICAgICAgICAgICAgICAgIFs1MS41MTM2NjA0OTU1NzY3MywtMC4xMzQxOTcyNzgxMDMwODU4XSwKICAgICAgICAgICAgICAgIHsKICAiYnViYmxpbmdNb3VzZUV2ZW50cyI6IHRydWUsCiAgImNvbG9yIjogInJlZCIsCiAgImRhc2hBcnJheSI6IG51bGwsCiAgImRhc2hPZmZzZXQiOiBudWxsLAogICJmaWxsIjogdHJ1ZSwKICAiZmlsbENvbG9yIjogIiNFOTQ5NzUiLAogICJmaWxsT3BhY2l0eSI6IDAuNywKICAiZmlsbFJ1bGUiOiAiZXZlbm9kZCIsCiAgImxpbmVDYXAiOiAicm91bmQiLAogICJsaW5lSm9pbiI6ICJyb3VuZCIsCiAgIm9wYWNpdHkiOiAxLjAsCiAgInJhZGl1cyI6IDUsCiAgInN0cm9rZSI6IHRydWUsCiAgIndlaWdodCI6IDMKfQogICAgICAgICAgICAgICAgKS5hZGRUbyhtYXBfZjkzOTdkOWI2MDFjNGZhMjk2OTZlYWQ4MjRkOTIzMDgpOwogICAgICAgICAgICAKICAgIAogICAgICAgICAgICB2YXIgcG9wdXBfNWQ0ZjU2ZDQ4YmQ1NDZmOWFkNzJiYjk2NmM0MjFlMDMgPSBMLnBvcHVwKHttYXhXaWR0aDogJzMwMCd9KTsKCiAgICAgICAgICAgIAogICAgICAgICAgICAgICAgdmFyIGh0bWxfOWUwYTU1ZTU0ZjAwNGVmZWE2YjUzODUyNDM1MjQ0NWIgPSAkKCc8ZGl2IGlkPSJodG1sXzllMGE1NWU1NGYwMDRlZmVhNmI1Mzg1MjQzNTI0NDViIiBzdHlsZT0id2lkdGg6IDEwMC4wJTsgaGVpZ2h0OiAxMDAuMCU7Ij5Tbm93Zmxha2UgTHV4dXJ5IEdlbGF0bzwvZGl2PicpWzBdOwogICAgICAgICAgICAgICAgcG9wdXBfNWQ0ZjU2ZDQ4YmQ1NDZmOWFkNzJiYjk2NmM0MjFlMDMuc2V0Q29udGVudChodG1sXzllMGE1NWU1NGYwMDRlZmVhNmI1Mzg1MjQzNTI0NDViKTsKICAgICAgICAgICAgCgogICAgICAgICAgICBjaXJjbGVfbWFya2VyXzFlZmIzYTNmYzQwODRlNzA4ZjViMGY1M2FjZDQ1NWIyLmJpbmRQb3B1cChwb3B1cF81ZDRmNTZkNDhiZDU0NmY5YWQ3MmJiOTY2YzQyMWUwMyk7CgogICAgICAgICAgICAKICAgICAgICAKICAgIAogICAgICAgICAgICB2YXIgY2lyY2xlX21hcmtlcl9jZTk5Y2NhNmFkZjQ0M2I3YmQzNmQyYjdmOTkzMzM2YiA9IEwuY2lyY2xlTWFya2VyKAogICAgICAgICAgICAgICAgWzUxLjUxNDU3NTQ5NzY5NjA0LC0wLjE2MjA2OTAyMDU1NjkxMDddLAogICAgICAgICAgICAgICAgewogICJidWJibGluZ01vdXNlRXZlbnRzIjogdHJ1ZSwKICAiY29sb3IiOiAicmVkIiwKICAiZGFzaEFycmF5IjogbnVsbCwKICAiZGFzaE9mZnNldCI6IG51bGwsCiAgImZpbGwiOiB0cnVlLAogICJmaWxsQ29sb3IiOiAiI0U5NDk3NSIsCiAgImZpbGxPcGFjaXR5IjogMC43LAogICJmaWxsUnVsZSI6ICJldmVub2RkIiwKICAibGluZUNhcCI6ICJyb3VuZCIsCiAgImxpbmVKb2luIjogInJvdW5kIiwKICAib3BhY2l0eSI6IDEuMCwKICAicmFkaXVzIjogNSwKICAic3Ryb2tlIjogdHJ1ZSwKICAid2VpZ2h0IjogMwp9CiAgICAgICAgICAgICAgICApLmFkZFRvKG1hcF9mOTM5N2Q5YjYwMWM0ZmEyOTY5NmVhZDgyNGQ5MjMwOCk7CiAgICAgICAgICAgIAogICAgCiAgICAgICAgICAgIHZhciBwb3B1cF83MmM4MmM4ZjAyY2U0MDgzOGZlNjgzMjg4ZjMxNzlkYiA9IEwucG9wdXAoe21heFdpZHRoOiAnMzAwJ30pOwoKICAgICAgICAgICAgCiAgICAgICAgICAgICAgICB2YXIgaHRtbF8xNzQ1Y2NhNGJiYjc0YWEwODZmM2JjYzcxOGJmYTEwZSA9ICQoJzxkaXYgaWQ9Imh0bWxfMTc0NWNjYTRiYmI3NGFhMDg2ZjNiY2M3MThiZmExMGUiIHN0eWxlPSJ3aWR0aDogMTAwLjAlOyBoZWlnaHQ6IDEwMC4wJTsiPlNub3dmbGFrZSBMdXh1cnkgR2VsYXRvPC9kaXY+JylbMF07CiAgICAgICAgICAgICAgICBwb3B1cF83MmM4MmM4ZjAyY2U0MDgzOGZlNjgzMjg4ZjMxNzlkYi5zZXRDb250ZW50KGh0bWxfMTc0NWNjYTRiYmI3NGFhMDg2ZjNiY2M3MThiZmExMGUpOwogICAgICAgICAgICAKCiAgICAgICAgICAgIGNpcmNsZV9tYXJrZXJfY2U5OWNjYTZhZGY0NDNiN2JkMzZkMmI3Zjk5MzMzNmIuYmluZFBvcHVwKHBvcHVwXzcyYzgyYzhmMDJjZTQwODM4ZmU2ODMyODhmMzE3OWRiKTsKCiAgICAgICAgICAgIAogICAgICAgIAogICAgCiAgICAgICAgICAgIHZhciBjaXJjbGVfbWFya2VyX2QyNWVmZWQ1YzYyYTQyMWQ5ZTI5ZmQ1NGNiNDYyMTZlID0gTC5jaXJjbGVNYXJrZXIoCiAgICAgICAgICAgICAgICBbNTEuNDk4NTQ5MzEzMDY2OTQ1LC0wLjE2MjM5NDYxNDY1MDkwMzI3XSwKICAgICAgICAgICAgICAgIHsKICAiYnViYmxpbmdNb3VzZUV2ZW50cyI6IHRydWUsCiAgImNvbG9yIjogInJlZCIsCiAgImRhc2hBcnJheSI6IG51bGwsCiAgImRhc2hPZmZzZXQiOiBudWxsLAogICJmaWxsIjogdHJ1ZSwKICAiZmlsbENvbG9yIjogIiNFOTQ5NzUiLAogICJmaWxsT3BhY2l0eSI6IDAuNywKICAiZmlsbFJ1bGUiOiAiZXZlbm9kZCIsCiAgImxpbmVDYXAiOiAicm91bmQiLAogICJsaW5lSm9pbiI6ICJyb3VuZCIsCiAgIm9wYWNpdHkiOiAxLjAsCiAgInJhZGl1cyI6IDUsCiAgInN0cm9rZSI6IHRydWUsCiAgIndlaWdodCI6IDMKfQogICAgICAgICAgICAgICAgKS5hZGRUbyhtYXBfZjkzOTdkOWI2MDFjNGZhMjk2OTZlYWQ4MjRkOTIzMDgpOwogICAgICAgICAgICAKICAgIAogICAgICAgICAgICB2YXIgcG9wdXBfNmViMjhlYTZiYzdjNDlhYzg2OWQ1MzNjZTE4NmY4OGEgPSBMLnBvcHVwKHttYXhXaWR0aDogJzMwMCd9KTsKCiAgICAgICAgICAgIAogICAgICAgICAgICAgICAgdmFyIGh0bWxfN2I5Y2JmM2ZhZmU1NDVlY2I4NGE1YjczNGJlYmU0M2YgPSAkKCc8ZGl2IGlkPSJodG1sXzdiOWNiZjNmYWZlNTQ1ZWNiODRhNWI3MzRiZWJlNDNmIiBzdHlsZT0id2lkdGg6IDEwMC4wJTsgaGVpZ2h0OiAxMDAuMCU7Ij5JY2UgQ3JlYW0gUGFybG91cjwvZGl2PicpWzBdOwogICAgICAgICAgICAgICAgcG9wdXBfNmViMjhlYTZiYzdjNDlhYzg2OWQ1MzNjZTE4NmY4OGEuc2V0Q29udGVudChodG1sXzdiOWNiZjNmYWZlNTQ1ZWNiODRhNWI3MzRiZWJlNDNmKTsKICAgICAgICAgICAgCgogICAgICAgICAgICBjaXJjbGVfbWFya2VyX2QyNWVmZWQ1YzYyYTQyMWQ5ZTI5ZmQ1NGNiNDYyMTZlLmJpbmRQb3B1cChwb3B1cF82ZWIyOGVhNmJjN2M0OWFjODY5ZDUzM2NlMTg2Zjg4YSk7CgogICAgICAgICAgICAKICAgICAgICAKICAgIAogICAgICAgICAgICB2YXIgY2lyY2xlX21hcmtlcl80OTRlNGY4OGZjZjk0MzBmYjdjMGZkNjI4MzYyZmM3ZCA9IEwuY2lyY2xlTWFya2VyKAogICAgICAgICAgICAgICAgWzUxLjUyNzM2OTA4NzU1ODg0NiwtMC4xODY3NzgzMDY5NjEwNTk1N10sCiAgICAgICAgICAgICAgICB7CiAgImJ1YmJsaW5nTW91c2VFdmVudHMiOiB0cnVlLAogICJjb2xvciI6ICJyZWQiLAogICJkYXNoQXJyYXkiOiBudWxsLAogICJkYXNoT2Zmc2V0IjogbnVsbCwKICAiZmlsbCI6IHRydWUsCiAgImZpbGxDb2xvciI6ICIjRTk0OTc1IiwKICAiZmlsbE9wYWNpdHkiOiAwLjcsCiAgImZpbGxSdWxlIjogImV2ZW5vZGQiLAogICJsaW5lQ2FwIjogInJvdW5kIiwKICAibGluZUpvaW4iOiAicm91bmQiLAogICJvcGFjaXR5IjogMS4wLAogICJyYWRpdXMiOiA1LAogICJzdHJva2UiOiB0cnVlLAogICJ3ZWlnaHQiOiAzCn0KICAgICAgICAgICAgICAgICkuYWRkVG8obWFwX2Y5Mzk3ZDliNjAxYzRmYTI5Njk2ZWFkODI0ZDkyMzA4KTsKICAgICAgICAgICAgCiAgICAKICAgICAgICAgICAgdmFyIHBvcHVwX2Q2MDA5MGE4OGY1MTQyMzc4OTU2YTAwNmYwMzU2MjNjID0gTC5wb3B1cCh7bWF4V2lkdGg6ICczMDAnfSk7CgogICAgICAgICAgICAKICAgICAgICAgICAgICAgIHZhciBodG1sX2IxMTg0MjAyMDljZDQ0YjFiYTk5ODY5MzE5MGIyYWFmID0gJCgnPGRpdiBpZD0iaHRtbF9iMTE4NDIwMjA5Y2Q0NGIxYmE5OTg2OTMxOTBiMmFhZiIgc3R5bGU9IndpZHRoOiAxMDAuMCU7IGhlaWdodDogMTAwLjAlOyI+WXVtbXkgTGlja3M8L2Rpdj4nKVswXTsKICAgICAgICAgICAgICAgIHBvcHVwX2Q2MDA5MGE4OGY1MTQyMzc4OTU2YTAwNmYwMzU2MjNjLnNldENvbnRlbnQoaHRtbF9iMTE4NDIwMjA5Y2Q0NGIxYmE5OTg2OTMxOTBiMmFhZik7CiAgICAgICAgICAgIAoKICAgICAgICAgICAgY2lyY2xlX21hcmtlcl80OTRlNGY4OGZjZjk0MzBmYjdjMGZkNjI4MzYyZmM3ZC5iaW5kUG9wdXAocG9wdXBfZDYwMDkwYTg4ZjUxNDIzNzg5NTZhMDA2ZjAzNTYyM2MpOwoKICAgICAgICAgICAgCiAgICAgICAgCiAgICAKICAgICAgICAgICAgdmFyIGNpcmNsZV9tYXJrZXJfNDI5YjNhYzg2YTY2NDc4YzkyZGRlZDM3YmI0ZjA1MTQgPSBMLmNpcmNsZU1hcmtlcigKICAgICAgICAgICAgICAgIFs1MS41MTUwMTEyNTQ0NTU5NywtMC4xNTA2Njk2ODI3MzQ5Njk0Ml0sCiAgICAgICAgICAgICAgICB7CiAgImJ1YmJsaW5nTW91c2VFdmVudHMiOiB0cnVlLAogICJjb2xvciI6ICJyZWQiLAogICJkYXNoQXJyYXkiOiBudWxsLAogICJkYXNoT2Zmc2V0IjogbnVsbCwKICAiZmlsbCI6IHRydWUsCiAgImZpbGxDb2xvciI6ICIjRTk0OTc1IiwKICAiZmlsbE9wYWNpdHkiOiAwLjcsCiAgImZpbGxSdWxlIjogImV2ZW5vZGQiLAogICJsaW5lQ2FwIjogInJvdW5kIiwKICAibGluZUpvaW4iOiAicm91bmQiLAogICJvcGFjaXR5IjogMS4wLAogICJyYWRpdXMiOiA1LAogICJzdHJva2UiOiB0cnVlLAogICJ3ZWlnaHQiOiAzCn0KICAgICAgICAgICAgICAgICkuYWRkVG8obWFwX2Y5Mzk3ZDliNjAxYzRmYTI5Njk2ZWFkODI0ZDkyMzA4KTsKICAgICAgICAgICAgCiAgICAKICAgICAgICAgICAgdmFyIHBvcHVwXzQzYjY1OGI1ZTk3ZDQ4MjA5NWJlOTU4ZTRjZTEwNDRjID0gTC5wb3B1cCh7bWF4V2lkdGg6ICczMDAnfSk7CgogICAgICAgICAgICAKICAgICAgICAgICAgICAgIHZhciBodG1sX2MzOWQ3YjNjZTVlMzRiYjJiYzFlMTJiMDVjMzkyMGYwID0gJCgnPGRpdiBpZD0iaHRtbF9jMzlkN2IzY2U1ZTM0YmIyYmMxZTEyYjA1YzM5MjBmMCIgc3R5bGU9IndpZHRoOiAxMDAuMCU7IGhlaWdodDogMTAwLjAlOyI+S3VsYTwvZGl2PicpWzBdOwogICAgICAgICAgICAgICAgcG9wdXBfNDNiNjU4YjVlOTdkNDgyMDk1YmU5NThlNGNlMTA0NGMuc2V0Q29udGVudChodG1sX2MzOWQ3YjNjZTVlMzRiYjJiYzFlMTJiMDVjMzkyMGYwKTsKICAgICAgICAgICAgCgogICAgICAgICAgICBjaXJjbGVfbWFya2VyXzQyOWIzYWM4NmE2NjQ3OGM5MmRkZWQzN2JiNGYwNTE0LmJpbmRQb3B1cChwb3B1cF80M2I2NThiNWU5N2Q0ODIwOTViZTk1OGU0Y2UxMDQ0Yyk7CgogICAgICAgICAgICAKICAgICAgICAKICAgIAogICAgICAgICAgICB2YXIgY2lyY2xlX21hcmtlcl9jNWJlZDk4NmViZDA0MTFkOTYyMDI3NThjZjU0Mjc1ZiA9IEwuY2lyY2xlTWFya2VyKAogICAgICAgICAgICAgICAgWzUxLjUxNTExLC0wLjE1MDU5N10sCiAgICAgICAgICAgICAgICB7CiAgImJ1YmJsaW5nTW91c2VFdmVudHMiOiB0cnVlLAogICJjb2xvciI6ICJyZWQiLAogICJkYXNoQXJyYXkiOiBudWxsLAogICJkYXNoT2Zmc2V0IjogbnVsbCwKICAiZmlsbCI6IHRydWUsCiAgImZpbGxDb2xvciI6ICIjRTk0OTc1IiwKICAiZmlsbE9wYWNpdHkiOiAwLjcsCiAgImZpbGxSdWxlIjogImV2ZW5vZGQiLAogICJsaW5lQ2FwIjogInJvdW5kIiwKICAibGluZUpvaW4iOiAicm91bmQiLAogICJvcGFjaXR5IjogMS4wLAogICJyYWRpdXMiOiA1LAogICJzdHJva2UiOiB0cnVlLAogICJ3ZWlnaHQiOiAzCn0KICAgICAgICAgICAgICAgICkuYWRkVG8obWFwX2Y5Mzk3ZDliNjAxYzRmYTI5Njk2ZWFkODI0ZDkyMzA4KTsKICAgICAgICAgICAgCiAgICAKICAgICAgICAgICAgdmFyIHBvcHVwXzFiM2JkZTYzZWQwNjQzZTdiOGNlOTYzZDllOWEzODI4ID0gTC5wb3B1cCh7bWF4V2lkdGg6ICczMDAnfSk7CgogICAgICAgICAgICAKICAgICAgICAgICAgICAgIHZhciBodG1sXzc1MDRlYTAwMjM0ZjQ0OThiNGJkNTg3M2I4NzE2YWU5ID0gJCgnPGRpdiBpZD0iaHRtbF83NTA0ZWEwMDIzNGY0NDk4YjRiZDU4NzNiODcxNmFlOSIgc3R5bGU9IndpZHRoOiAxMDAuMCU7IGhlaWdodDogMTAwLjAlOyI+RHljZTwvZGl2PicpWzBdOwogICAgICAgICAgICAgICAgcG9wdXBfMWIzYmRlNjNlZDA2NDNlN2I4Y2U5NjNkOWU5YTM4Mjguc2V0Q29udGVudChodG1sXzc1MDRlYTAwMjM0ZjQ0OThiNGJkNTg3M2I4NzE2YWU5KTsKICAgICAgICAgICAgCgogICAgICAgICAgICBjaXJjbGVfbWFya2VyX2M1YmVkOTg2ZWJkMDQxMWQ5NjIwMjc1OGNmNTQyNzVmLmJpbmRQb3B1cChwb3B1cF8xYjNiZGU2M2VkMDY0M2U3YjhjZTk2M2Q5ZTlhMzgyOCk7CgogICAgICAgICAgICAKICAgICAgICAKICAgIAogICAgICAgICAgICB2YXIgY2lyY2xlX21hcmtlcl80YWYwMDViOGQ2ZWE0MmJlYTljYmM0NDk5NWZhYTU2MCA9IEwuY2lyY2xlTWFya2VyKAogICAgICAgICAgICAgICAgWzUxLjUxNDUyLC0wLjE1MTg0MV0sCiAgICAgICAgICAgICAgICB7CiAgImJ1YmJsaW5nTW91c2VFdmVudHMiOiB0cnVlLAogICJjb2xvciI6ICJyZWQiLAogICJkYXNoQXJyYXkiOiBudWxsLAogICJkYXNoT2Zmc2V0IjogbnVsbCwKICAiZmlsbCI6IHRydWUsCiAgImZpbGxDb2xvciI6ICIjRTk0OTc1IiwKICAiZmlsbE9wYWNpdHkiOiAwLjcsCiAgImZpbGxSdWxlIjogImV2ZW5vZGQiLAogICJsaW5lQ2FwIjogInJvdW5kIiwKICAibGluZUpvaW4iOiAicm91bmQiLAogICJvcGFjaXR5IjogMS4wLAogICJyYWRpdXMiOiA1LAogICJzdHJva2UiOiB0cnVlLAogICJ3ZWlnaHQiOiAzCn0KICAgICAgICAgICAgICAgICkuYWRkVG8obWFwX2Y5Mzk3ZDliNjAxYzRmYTI5Njk2ZWFkODI0ZDkyMzA4KTsKICAgICAgICAgICAgCiAgICAKICAgICAgICAgICAgdmFyIHBvcHVwXzY3YzRlYmFiNjRmYzQ5MGQ4MDNmZGFjYWU1ZWRkOGYxID0gTC5wb3B1cCh7bWF4V2lkdGg6ICczMDAnfSk7CgogICAgICAgICAgICAKICAgICAgICAgICAgICAgIHZhciBodG1sX2RkOTdmZDhiZjE4OTQzOGY4YTU4NzAwNzJkMTdmYjU4ID0gJCgnPGRpdiBpZD0iaHRtbF9kZDk3ZmQ4YmYxODk0MzhmOGE1ODcwMDcyZDE3ZmI1OCIgc3R5bGU9IndpZHRoOiAxMDAuMCU7IGhlaWdodDogMTAwLjAlOyI+VHJlYXRzPC9kaXY+JylbMF07CiAgICAgICAgICAgICAgICBwb3B1cF82N2M0ZWJhYjY0ZmM0OTBkODAzZmRhY2FlNWVkZDhmMS5zZXRDb250ZW50KGh0bWxfZGQ5N2ZkOGJmMTg5NDM4ZjhhNTg3MDA3MmQxN2ZiNTgpOwogICAgICAgICAgICAKCiAgICAgICAgICAgIGNpcmNsZV9tYXJrZXJfNGFmMDA1YjhkNmVhNDJiZWE5Y2JjNDQ5OTVmYWE1NjAuYmluZFBvcHVwKHBvcHVwXzY3YzRlYmFiNjRmYzQ5MGQ4MDNmZGFjYWU1ZWRkOGYxKTsKCiAgICAgICAgICAgIAogICAgICAgIAogICAgCiAgICAgICAgICAgIHZhciBjaXJjbGVfbWFya2VyXzY3MmRlYmI4ZTRjZjQ3Y2Y4Y2UxZGRiMDRjN2UwY2YyID0gTC5jaXJjbGVNYXJrZXIoCiAgICAgICAgICAgICAgICBbNTEuNTE1MzA1LC0wLjE0MzMwM10sCiAgICAgICAgICAgICAgICB7CiAgImJ1YmJsaW5nTW91c2VFdmVudHMiOiB0cnVlLAogICJjb2xvciI6ICJyZWQiLAogICJkYXNoQXJyYXkiOiBudWxsLAogICJkYXNoT2Zmc2V0IjogbnVsbCwKICAiZmlsbCI6IHRydWUsCiAgImZpbGxDb2xvciI6ICIjRTk0OTc1IiwKICAiZmlsbE9wYWNpdHkiOiAwLjcsCiAgImZpbGxSdWxlIjogImV2ZW5vZGQiLAogICJsaW5lQ2FwIjogInJvdW5kIiwKICAibGluZUpvaW4iOiAicm91bmQiLAogICJvcGFjaXR5IjogMS4wLAogICJyYWRpdXMiOiA1LAogICJzdHJva2UiOiB0cnVlLAogICJ3ZWlnaHQiOiAzCn0KICAgICAgICAgICAgICAgICkuYWRkVG8obWFwX2Y5Mzk3ZDliNjAxYzRmYTI5Njk2ZWFkODI0ZDkyMzA4KTsKICAgICAgICAgICAgCiAgICAKICAgICAgICAgICAgdmFyIHBvcHVwX2FjMjA1NzFhOWYxYjRlYTA4MWNiMjUyMmMwNjZiMmM1ID0gTC5wb3B1cCh7bWF4V2lkdGg6ICczMDAnfSk7CgogICAgICAgICAgICAKICAgICAgICAgICAgICAgIHZhciBodG1sX2JjNGNiOTU2Y2FkNjRjMDg4ZGIyNjUwNDhiZjc4MTAzID0gJCgnPGRpdiBpZD0iaHRtbF9iYzRjYjk1NmNhZDY0YzA4OGRiMjY1MDQ4YmY3ODEwMyIgc3R5bGU9IndpZHRoOiAxMDAuMCU7IGhlaWdodDogMTAwLjAlOyI+U3VuZGFlcyBHZWxhdG88L2Rpdj4nKVswXTsKICAgICAgICAgICAgICAgIHBvcHVwX2FjMjA1NzFhOWYxYjRlYTA4MWNiMjUyMmMwNjZiMmM1LnNldENvbnRlbnQoaHRtbF9iYzRjYjk1NmNhZDY0YzA4OGRiMjY1MDQ4YmY3ODEwMyk7CiAgICAgICAgICAgIAoKICAgICAgICAgICAgY2lyY2xlX21hcmtlcl82NzJkZWJiOGU0Y2Y0N2NmOGNlMWRkYjA0YzdlMGNmMi5iaW5kUG9wdXAocG9wdXBfYWMyMDU3MWE5ZjFiNGVhMDgxY2IyNTIyYzA2NmIyYzUpOwoKICAgICAgICAgICAgCiAgICAgICAgCiAgICAKICAgICAgICAgICAgdmFyIGNpcmNsZV9tYXJrZXJfNGRiMjliYjY1ZGM2NDg5NWE3MWYyMjQyM2I0Y2E2YWQgPSBMLmNpcmNsZU1hcmtlcigKICAgICAgICAgICAgICAgIFs1MS41MTQzODMyMDA3Nzg4NSwtMC4xNTE1MTI2MjI4MzMyNTE5NV0sCiAgICAgICAgICAgICAgICB7CiAgImJ1YmJsaW5nTW91c2VFdmVudHMiOiB0cnVlLAogICJjb2xvciI6ICJyZWQiLAogICJkYXNoQXJyYXkiOiBudWxsLAogICJkYXNoT2Zmc2V0IjogbnVsbCwKICAiZmlsbCI6IHRydWUsCiAgImZpbGxDb2xvciI6ICIjRTk0OTc1IiwKICAiZmlsbE9wYWNpdHkiOiAwLjcsCiAgImZpbGxSdWxlIjogImV2ZW5vZGQiLAogICJsaW5lQ2FwIjogInJvdW5kIiwKICAibGluZUpvaW4iOiAicm91bmQiLAogICJvcGFjaXR5IjogMS4wLAogICJyYWRpdXMiOiA1LAogICJzdHJva2UiOiB0cnVlLAogICJ3ZWlnaHQiOiAzCn0KICAgICAgICAgICAgICAgICkuYWRkVG8obWFwX2Y5Mzk3ZDliNjAxYzRmYTI5Njk2ZWFkODI0ZDkyMzA4KTsKICAgICAgICAgICAgCiAgICAKICAgICAgICAgICAgdmFyIHBvcHVwXzNiZmQ0YzE5NjZkZDQ3NzRhMjZkODFhNzM5M2JlNDU1ID0gTC5wb3B1cCh7bWF4V2lkdGg6ICczMDAnfSk7CgogICAgICAgICAgICAKICAgICAgICAgICAgICAgIHZhciBodG1sXzg0NTRiY2QyNDBhZDRmMzQ4ZDcyMjYxMzM5NDQ3ZDQ0ID0gJCgnPGRpdiBpZD0iaHRtbF84NDU0YmNkMjQwYWQ0ZjM0OGQ3MjI2MTMzOTQ0N2Q0NCIgc3R5bGU9IndpZHRoOiAxMDAuMCU7IGhlaWdodDogMTAwLjAlOyI+S2l0aCBUcmVhdHM8L2Rpdj4nKVswXTsKICAgICAgICAgICAgICAgIHBvcHVwXzNiZmQ0YzE5NjZkZDQ3NzRhMjZkODFhNzM5M2JlNDU1LnNldENvbnRlbnQoaHRtbF84NDU0YmNkMjQwYWQ0ZjM0OGQ3MjI2MTMzOTQ0N2Q0NCk7CiAgICAgICAgICAgIAoKICAgICAgICAgICAgY2lyY2xlX21hcmtlcl80ZGIyOWJiNjVkYzY0ODk1YTcxZjIyNDIzYjRjYTZhZC5iaW5kUG9wdXAocG9wdXBfM2JmZDRjMTk2NmRkNDc3NGEyNmQ4MWE3MzkzYmU0NTUpOwoKICAgICAgICAgICAgCiAgICAgICAgCiAgICAKICAgICAgICAgICAgdmFyIGNpcmNsZV9tYXJrZXJfOWIyYmZlYzY5MTIxNDljMTgyYmFjNjBjNzUxZjc2ZmUgPSBMLmNpcmNsZU1hcmtlcigKICAgICAgICAgICAgICAgIFs1MS41MTQ4NjEsLTAuMTQ1NjgyXSwKICAgICAgICAgICAgICAgIHsKICAiYnViYmxpbmdNb3VzZUV2ZW50cyI6IHRydWUsCiAgImNvbG9yIjogInJlZCIsCiAgImRhc2hBcnJheSI6IG51bGwsCiAgImRhc2hPZmZzZXQiOiBudWxsLAogICJmaWxsIjogdHJ1ZSwKICAiZmlsbENvbG9yIjogIiNFOTQ5NzUiLAogICJmaWxsT3BhY2l0eSI6IDAuNywKICAiZmlsbFJ1bGUiOiAiZXZlbm9kZCIsCiAgImxpbmVDYXAiOiAicm91bmQiLAogICJsaW5lSm9pbiI6ICJyb3VuZCIsCiAgIm9wYWNpdHkiOiAxLjAsCiAgInJhZGl1cyI6IDUsCiAgInN0cm9rZSI6IHRydWUsCiAgIndlaWdodCI6IDMKfQogICAgICAgICAgICAgICAgKS5hZGRUbyhtYXBfZjkzOTdkOWI2MDFjNGZhMjk2OTZlYWQ4MjRkOTIzMDgpOwogICAgICAgICAgICAKICAgIAogICAgICAgICAgICB2YXIgcG9wdXBfMTAwZDU2NWRmYzUwNDg3ZWE0MjU4MTcyZjU5YWY2OGEgPSBMLnBvcHVwKHttYXhXaWR0aDogJzMwMCd9KTsKCiAgICAgICAgICAgIAogICAgICAgICAgICAgICAgdmFyIGh0bWxfYjI3Nzk4OTJkMTk4NDA4NjhlYTQ0MGIzZGQwZGE3ZWUgPSAkKCc8ZGl2IGlkPSJodG1sX2IyNzc5ODkyZDE5ODQwODY4ZWE0NDBiM2RkMGRhN2VlIiBzdHlsZT0id2lkdGg6IDEwMC4wJTsgaGVpZ2h0OiAxMDAuMCU7Ij5HZWxhdGVyaWEgRGFuZWxsaTwvZGl2PicpWzBdOwogICAgICAgICAgICAgICAgcG9wdXBfMTAwZDU2NWRmYzUwNDg3ZWE0MjU4MTcyZjU5YWY2OGEuc2V0Q29udGVudChodG1sX2IyNzc5ODkyZDE5ODQwODY4ZWE0NDBiM2RkMGRhN2VlKTsKICAgICAgICAgICAgCgogICAgICAgICAgICBjaXJjbGVfbWFya2VyXzliMmJmZWM2OTEyMTQ5YzE4MmJhYzYwYzc1MWY3NmZlLmJpbmRQb3B1cChwb3B1cF8xMDBkNTY1ZGZjNTA0ODdlYTQyNTgxNzJmNTlhZjY4YSk7CgogICAgICAgICAgICAKICAgICAgICAKICAgIAogICAgICAgICAgICB2YXIgY2lyY2xlX21hcmtlcl9mODA5NmM3MThmMTU0M2FkYmE4NzBiNDE2NGY2MTU2NiA9IEwuY2lyY2xlTWFya2VyKAogICAgICAgICAgICAgICAgWzUxLjUxNDUyLC0wLjE1MTg0MV0sCiAgICAgICAgICAgICAgICB7CiAgImJ1YmJsaW5nTW91c2VFdmVudHMiOiB0cnVlLAogICJjb2xvciI6ICJyZWQiLAogICJkYXNoQXJyYXkiOiBudWxsLAogICJkYXNoT2Zmc2V0IjogbnVsbCwKICAiZmlsbCI6IHRydWUsCiAgImZpbGxDb2xvciI6ICIjRTk0OTc1IiwKICAiZmlsbE9wYWNpdHkiOiAwLjcsCiAgImZpbGxSdWxlIjogImV2ZW5vZGQiLAogICJsaW5lQ2FwIjogInJvdW5kIiwKICAibGluZUpvaW4iOiAicm91bmQiLAogICJvcGFjaXR5IjogMS4wLAogICJyYWRpdXMiOiA1LAogICJzdHJva2UiOiB0cnVlLAogICJ3ZWlnaHQiOiAzCn0KICAgICAgICAgICAgICAgICkuYWRkVG8obWFwX2Y5Mzk3ZDliNjAxYzRmYTI5Njk2ZWFkODI0ZDkyMzA4KTsKICAgICAgICAgICAgCiAgICAKICAgICAgICAgICAgdmFyIHBvcHVwXzI3NjAxNTU3OTk4MjQwMDQ4MjEyYWQ1ZWZkZWRkYWQ0ID0gTC5wb3B1cCh7bWF4V2lkdGg6ICczMDAnfSk7CgogICAgICAgICAgICAKICAgICAgICAgICAgICAgIHZhciBodG1sX2M5MjFmNGFjOGQ4NjQwOGY4ZjFhMTc1MzM0YTZhNWYwID0gJCgnPGRpdiBpZD0iaHRtbF9jOTIxZjRhYzhkODY0MDhmOGYxYTE3NTMzNGE2YTVmMCIgc3R5bGU9IndpZHRoOiAxMDAuMCU7IGhlaWdodDogMTAwLjAlOyI+VHJlYXRzPC9kaXY+JylbMF07CiAgICAgICAgICAgICAgICBwb3B1cF8yNzYwMTU1Nzk5ODI0MDA0ODIxMmFkNWVmZGVkZGFkNC5zZXRDb250ZW50KGh0bWxfYzkyMWY0YWM4ZDg2NDA4ZjhmMWExNzUzMzRhNmE1ZjApOwogICAgICAgICAgICAKCiAgICAgICAgICAgIGNpcmNsZV9tYXJrZXJfZjgwOTZjNzE4ZjE1NDNhZGJhODcwYjQxNjRmNjE1NjYuYmluZFBvcHVwKHBvcHVwXzI3NjAxNTU3OTk4MjQwMDQ4MjEyYWQ1ZWZkZWRkYWQ0KTsKCiAgICAgICAgICAgIAogICAgICAgIAogICAgCiAgICAgICAgICAgIHZhciBjaXJjbGVfbWFya2VyXzIzMjY1MmY2ZGNjMTRmOTA4NzkyYmNhMGJmM2ZmMGEzID0gTC5jaXJjbGVNYXJrZXIoCiAgICAgICAgICAgICAgICBbNTEuNTE0MzgzMjAwNzc4ODUsLTAuMTUxNTEyNjIyODMzMjUxOTVdLAogICAgICAgICAgICAgICAgewogICJidWJibGluZ01vdXNlRXZlbnRzIjogdHJ1ZSwKICAiY29sb3IiOiAicmVkIiwKICAiZGFzaEFycmF5IjogbnVsbCwKICAiZGFzaE9mZnNldCI6IG51bGwsCiAgImZpbGwiOiB0cnVlLAogICJmaWxsQ29sb3IiOiAiI0U5NDk3NSIsCiAgImZpbGxPcGFjaXR5IjogMC43LAogICJmaWxsUnVsZSI6ICJldmVub2RkIiwKICAibGluZUNhcCI6ICJyb3VuZCIsCiAgImxpbmVKb2luIjogInJvdW5kIiwKICAib3BhY2l0eSI6IDEuMCwKICAicmFkaXVzIjogNSwKICAic3Ryb2tlIjogdHJ1ZSwKICAid2VpZ2h0IjogMwp9CiAgICAgICAgICAgICAgICApLmFkZFRvKG1hcF9mOTM5N2Q5YjYwMWM0ZmEyOTY5NmVhZDgyNGQ5MjMwOCk7CiAgICAgICAgICAgIAogICAgCiAgICAgICAgICAgIHZhciBwb3B1cF8zYWY3YjIzYjZhNTE0OTZkYWNkZjFiMGIxNTZjNDY3YSA9IEwucG9wdXAoe21heFdpZHRoOiAnMzAwJ30pOwoKICAgICAgICAgICAgCiAgICAgICAgICAgICAgICB2YXIgaHRtbF9iNjI3ZjllOTVlYTg0OGEyODg2MjlmMmY5MTc5OWViNiA9ICQoJzxkaXYgaWQ9Imh0bWxfYjYyN2Y5ZTk1ZWE4NDhhMjg4NjI5ZjJmOTE3OTllYjYiIHN0eWxlPSJ3aWR0aDogMTAwLjAlOyBoZWlnaHQ6IDEwMC4wJTsiPktpdGggVHJlYXRzPC9kaXY+JylbMF07CiAgICAgICAgICAgICAgICBwb3B1cF8zYWY3YjIzYjZhNTE0OTZkYWNkZjFiMGIxNTZjNDY3YS5zZXRDb250ZW50KGh0bWxfYjYyN2Y5ZTk1ZWE4NDhhMjg4NjI5ZjJmOTE3OTllYjYpOwogICAgICAgICAgICAKCiAgICAgICAgICAgIGNpcmNsZV9tYXJrZXJfMjMyNjUyZjZkY2MxNGY5MDg3OTJiY2EwYmYzZmYwYTMuYmluZFBvcHVwKHBvcHVwXzNhZjdiMjNiNmE1MTQ5NmRhY2RmMWIwYjE1NmM0NjdhKTsKCiAgICAgICAgICAgIAogICAgICAgIAogICAgCiAgICAgICAgICAgIHZhciBjaXJjbGVfbWFya2VyXzk3ZWE4MmU4ZTE2YjQwNTA4NzE1OGY2Mjk5YTcxZDA4ID0gTC5jaXJjbGVNYXJrZXIoCiAgICAgICAgICAgICAgICBbNTEuNTE0ODYxLC0wLjE0NTY4Ml0sCiAgICAgICAgICAgICAgICB7CiAgImJ1YmJsaW5nTW91c2VFdmVudHMiOiB0cnVlLAogICJjb2xvciI6ICJyZWQiLAogICJkYXNoQXJyYXkiOiBudWxsLAogICJkYXNoT2Zmc2V0IjogbnVsbCwKICAiZmlsbCI6IHRydWUsCiAgImZpbGxDb2xvciI6ICIjRTk0OTc1IiwKICAiZmlsbE9wYWNpdHkiOiAwLjcsCiAgImZpbGxSdWxlIjogImV2ZW5vZGQiLAogICJsaW5lQ2FwIjogInJvdW5kIiwKICAibGluZUpvaW4iOiAicm91bmQiLAogICJvcGFjaXR5IjogMS4wLAogICJyYWRpdXMiOiA1LAogICJzdHJva2UiOiB0cnVlLAogICJ3ZWlnaHQiOiAzCn0KICAgICAgICAgICAgICAgICkuYWRkVG8obWFwX2Y5Mzk3ZDliNjAxYzRmYTI5Njk2ZWFkODI0ZDkyMzA4KTsKICAgICAgICAgICAgCiAgICAKICAgICAgICAgICAgdmFyIHBvcHVwXzJjZGIwNDQxYzQ0YTRkMmZiODNmMmFiMGFjNWZkYmU4ID0gTC5wb3B1cCh7bWF4V2lkdGg6ICczMDAnfSk7CgogICAgICAgICAgICAKICAgICAgICAgICAgICAgIHZhciBodG1sXzE3MGU3OGRiNWM5MTQ5YTU4MzhkOGJmMjA0NGNiOTE4ID0gJCgnPGRpdiBpZD0iaHRtbF8xNzBlNzhkYjVjOTE0OWE1ODM4ZDhiZjIwNDRjYjkxOCIgc3R5bGU9IndpZHRoOiAxMDAuMCU7IGhlaWdodDogMTAwLjAlOyI+R2VsYXRlcmlhIERhbmVsbGk8L2Rpdj4nKVswXTsKICAgICAgICAgICAgICAgIHBvcHVwXzJjZGIwNDQxYzQ0YTRkMmZiODNmMmFiMGFjNWZkYmU4LnNldENvbnRlbnQoaHRtbF8xNzBlNzhkYjVjOTE0OWE1ODM4ZDhiZjIwNDRjYjkxOCk7CiAgICAgICAgICAgIAoKICAgICAgICAgICAgY2lyY2xlX21hcmtlcl85N2VhODJlOGUxNmI0MDUwODcxNThmNjI5OWE3MWQwOC5iaW5kUG9wdXAocG9wdXBfMmNkYjA0NDFjNDRhNGQyZmI4M2YyYWIwYWM1ZmRiZTgpOwoKICAgICAgICAgICAgCiAgICAgICAgCiAgICAKICAgICAgICAgICAgdmFyIGNpcmNsZV9tYXJrZXJfNGM1ZmI0NTkwYWFjNGEzNGExNDNkNTg5MzY1Y2E0ZjIgPSBMLmNpcmNsZU1hcmtlcigKICAgICAgICAgICAgICAgIFs1MS41MTgzNzU4MjYyOTM4MiwtMC4xNzc1Njc2MDEyMDM5MTg0Nl0sCiAgICAgICAgICAgICAgICB7CiAgImJ1YmJsaW5nTW91c2VFdmVudHMiOiB0cnVlLAogICJjb2xvciI6ICJyZWQiLAogICJkYXNoQXJyYXkiOiBudWxsLAogICJkYXNoT2Zmc2V0IjogbnVsbCwKICAiZmlsbCI6IHRydWUsCiAgImZpbGxDb2xvciI6ICIjRTk0OTc1IiwKICAiZmlsbE9wYWNpdHkiOiAwLjcsCiAgImZpbGxSdWxlIjogImV2ZW5vZGQiLAogICJsaW5lQ2FwIjogInJvdW5kIiwKICAibGluZUpvaW4iOiAicm91bmQiLAogICJvcGFjaXR5IjogMS4wLAogICJyYWRpdXMiOiA1LAogICJzdHJva2UiOiB0cnVlLAogICJ3ZWlnaHQiOiAzCn0KICAgICAgICAgICAgICAgICkuYWRkVG8obWFwX2Y5Mzk3ZDliNjAxYzRmYTI5Njk2ZWFkODI0ZDkyMzA4KTsKICAgICAgICAgICAgCiAgICAKICAgICAgICAgICAgdmFyIHBvcHVwX2Y0ODhkODY4MWNlODRiZmViODNmOWM5MGNkYWU3OTdkID0gTC5wb3B1cCh7bWF4V2lkdGg6ICczMDAnfSk7CgogICAgICAgICAgICAKICAgICAgICAgICAgICAgIHZhciBodG1sX2Y3YzRkZWNiOTA1MTQ1YjRiMWI1NjVhMDI3OTgxNGNiID0gJCgnPGRpdiBpZD0iaHRtbF9mN2M0ZGVjYjkwNTE0NWI0YjFiNTY1YTAyNzk4MTRjYiIgc3R5bGU9IndpZHRoOiAxMDAuMCU7IGhlaWdodDogMTAwLjAlOyI+R2VsYXRvIFRvcmVsbGk8L2Rpdj4nKVswXTsKICAgICAgICAgICAgICAgIHBvcHVwX2Y0ODhkODY4MWNlODRiZmViODNmOWM5MGNkYWU3OTdkLnNldENvbnRlbnQoaHRtbF9mN2M0ZGVjYjkwNTE0NWI0YjFiNTY1YTAyNzk4MTRjYik7CiAgICAgICAgICAgIAoKICAgICAgICAgICAgY2lyY2xlX21hcmtlcl80YzVmYjQ1OTBhYWM0YTM0YTE0M2Q1ODkzNjVjYTRmMi5iaW5kUG9wdXAocG9wdXBfZjQ4OGQ4NjgxY2U4NGJmZWI4M2Y5YzkwY2RhZTc5N2QpOwoKICAgICAgICAgICAgCiAgICAgICAgCiAgICAKICAgICAgICAgICAgdmFyIGNpcmNsZV9tYXJrZXJfNGE3YjlhZTBkMjE5NGZmZDgxZTNjMTkzYTYyMDM3MTggPSBMLmNpcmNsZU1hcmtlcigKICAgICAgICAgICAgICAgIFs1MS41MTc3MjEwNTAyNjQxMywtMC4xNjcxMjEyODk0MDAyNjA3OF0sCiAgICAgICAgICAgICAgICB7CiAgImJ1YmJsaW5nTW91c2VFdmVudHMiOiB0cnVlLAogICJjb2xvciI6ICJyZWQiLAogICJkYXNoQXJyYXkiOiBudWxsLAogICJkYXNoT2Zmc2V0IjogbnVsbCwKICAiZmlsbCI6IHRydWUsCiAgImZpbGxDb2xvciI6ICIjRTk0OTc1IiwKICAiZmlsbE9wYWNpdHkiOiAwLjcsCiAgImZpbGxSdWxlIjogImV2ZW5vZGQiLAogICJsaW5lQ2FwIjogInJvdW5kIiwKICAibGluZUpvaW4iOiAicm91bmQiLAogICJvcGFjaXR5IjogMS4wLAogICJyYWRpdXMiOiA1LAogICJzdHJva2UiOiB0cnVlLAogICJ3ZWlnaHQiOiAzCn0KICAgICAgICAgICAgICAgICkuYWRkVG8obWFwX2Y5Mzk3ZDliNjAxYzRmYTI5Njk2ZWFkODI0ZDkyMzA4KTsKICAgICAgICAgICAgCiAgICAKICAgICAgICAgICAgdmFyIHBvcHVwX2UzNDI3ZjBiMWFhZTQ5Zjk5ZGVhMjQwOTVhNTUwYzVlID0gTC5wb3B1cCh7bWF4V2lkdGg6ICczMDAnfSk7CgogICAgICAgICAgICAKICAgICAgICAgICAgICAgIHZhciBodG1sX2Q3YTVmMTE4OWNmMjQxMDdiMDU0MjQxMDg0MWFmMDFhID0gJCgnPGRpdiBpZD0iaHRtbF9kN2E1ZjExODljZjI0MTA3YjA1NDI0MTA4NDFhZjAxYSIgc3R5bGU9IndpZHRoOiAxMDAuMCU7IGhlaWdodDogMTAwLjAlOyI+U2VtaXJhbWlzPC9kaXY+JylbMF07CiAgICAgICAgICAgICAgICBwb3B1cF9lMzQyN2YwYjFhYWU0OWY5OWRlYTI0MDk1YTU1MGM1ZS5zZXRDb250ZW50KGh0bWxfZDdhNWYxMTg5Y2YyNDEwN2IwNTQyNDEwODQxYWYwMWEpOwogICAgICAgICAgICAKCiAgICAgICAgICAgIGNpcmNsZV9tYXJrZXJfNGE3YjlhZTBkMjE5NGZmZDgxZTNjMTkzYTYyMDM3MTguYmluZFBvcHVwKHBvcHVwX2UzNDI3ZjBiMWFhZTQ5Zjk5ZGVhMjQwOTVhNTUwYzVlKTsKCiAgICAgICAgICAgIAogICAgICAgIAogICAgCiAgICAgICAgICAgIHZhciBjaXJjbGVfbWFya2VyXzU3Yzk2NzJjNWM5YzRkMzE4NjIzMzFlMjEwMGFmYTk3ID0gTC5jaXJjbGVNYXJrZXIoCiAgICAgICAgICAgICAgICBbNTEuNTE4Mzc1ODI2MjkzODIsLTAuMTc3NTY3NjAxMjAzOTE4NDZdLAogICAgICAgICAgICAgICAgewogICJidWJibGluZ01vdXNlRXZlbnRzIjogdHJ1ZSwKICAiY29sb3IiOiAicmVkIiwKICAiZGFzaEFycmF5IjogbnVsbCwKICAiZGFzaE9mZnNldCI6IG51bGwsCiAgImZpbGwiOiB0cnVlLAogICJmaWxsQ29sb3IiOiAiI0U5NDk3NSIsCiAgImZpbGxPcGFjaXR5IjogMC43LAogICJmaWxsUnVsZSI6ICJldmVub2RkIiwKICAibGluZUNhcCI6ICJyb3VuZCIsCiAgImxpbmVKb2luIjogInJvdW5kIiwKICAib3BhY2l0eSI6IDEuMCwKICAicmFkaXVzIjogNSwKICAic3Ryb2tlIjogdHJ1ZSwKICAid2VpZ2h0IjogMwp9CiAgICAgICAgICAgICAgICApLmFkZFRvKG1hcF9mOTM5N2Q5YjYwMWM0ZmEyOTY5NmVhZDgyNGQ5MjMwOCk7CiAgICAgICAgICAgIAogICAgCiAgICAgICAgICAgIHZhciBwb3B1cF8yOGNlNzJhNzY5YzY0Njc0OTYxZmQwNDk3MDExNGQyYiA9IEwucG9wdXAoe21heFdpZHRoOiAnMzAwJ30pOwoKICAgICAgICAgICAgCiAgICAgICAgICAgICAgICB2YXIgaHRtbF9mNzdlZjI0YmU1MDU0ZjFjYjc4NTg4ZDRlZWUwZjg1ZiA9ICQoJzxkaXYgaWQ9Imh0bWxfZjc3ZWYyNGJlNTA1NGYxY2I3ODU4OGQ0ZWVlMGY4NWYiIHN0eWxlPSJ3aWR0aDogMTAwLjAlOyBoZWlnaHQ6IDEwMC4wJTsiPkdlbGF0byBUb3JlbGxpPC9kaXY+JylbMF07CiAgICAgICAgICAgICAgICBwb3B1cF8yOGNlNzJhNzY5YzY0Njc0OTYxZmQwNDk3MDExNGQyYi5zZXRDb250ZW50KGh0bWxfZjc3ZWYyNGJlNTA1NGYxY2I3ODU4OGQ0ZWVlMGY4NWYpOwogICAgICAgICAgICAKCiAgICAgICAgICAgIGNpcmNsZV9tYXJrZXJfNTdjOTY3MmM1YzljNGQzMTg2MjMzMWUyMTAwYWZhOTcuYmluZFBvcHVwKHBvcHVwXzI4Y2U3MmE3NjljNjQ2NzQ5NjFmZDA0OTcwMTE0ZDJiKTsKCiAgICAgICAgICAgIAogICAgICAgIAogICAgCiAgICAgICAgICAgIHZhciBjaXJjbGVfbWFya2VyXzBkMzFhNmUzMDM0MzQ4OTM4ZmY0MWM0NzJlZWJkZTUwID0gTC5jaXJjbGVNYXJrZXIoCiAgICAgICAgICAgICAgICBbNTEuNTE2NTIsLTAuMTY0ODMwNDZdLAogICAgICAgICAgICAgICAgewogICJidWJibGluZ01vdXNlRXZlbnRzIjogdHJ1ZSwKICAiY29sb3IiOiAicmVkIiwKICAiZGFzaEFycmF5IjogbnVsbCwKICAiZGFzaE9mZnNldCI6IG51bGwsCiAgImZpbGwiOiB0cnVlLAogICJmaWxsQ29sb3IiOiAiI0U5NDk3NSIsCiAgImZpbGxPcGFjaXR5IjogMC43LAogICJmaWxsUnVsZSI6ICJldmVub2RkIiwKICAibGluZUNhcCI6ICJyb3VuZCIsCiAgImxpbmVKb2luIjogInJvdW5kIiwKICAib3BhY2l0eSI6IDEuMCwKICAicmFkaXVzIjogNSwKICAic3Ryb2tlIjogdHJ1ZSwKICAid2VpZ2h0IjogMwp9CiAgICAgICAgICAgICAgICApLmFkZFRvKG1hcF9mOTM5N2Q5YjYwMWM0ZmEyOTY5NmVhZDgyNGQ5MjMwOCk7CiAgICAgICAgICAgIAogICAgCiAgICAgICAgICAgIHZhciBwb3B1cF8yMzkxMWUzMjVmZGY0YmY5OTNkZDI1MjMxMDRkZGQ0OSA9IEwucG9wdXAoe21heFdpZHRoOiAnMzAwJ30pOwoKICAgICAgICAgICAgCiAgICAgICAgICAgICAgICB2YXIgaHRtbF9lMjc2MzViNWI0M2E0MDgxYjQwNTI1YjM4YjFjNDI4NCA9ICQoJzxkaXYgaWQ9Imh0bWxfZTI3NjM1YjViNDNhNDA4MWI0MDUyNWIzOGIxYzQyODQiIHN0eWxlPSJ3aWR0aDogMTAwLjAlOyBoZWlnaHQ6IDEwMC4wJTsiPkFtb3Jpbm88L2Rpdj4nKVswXTsKICAgICAgICAgICAgICAgIHBvcHVwXzIzOTExZTMyNWZkZjRiZjk5M2RkMjUyMzEwNGRkZDQ5LnNldENvbnRlbnQoaHRtbF9lMjc2MzViNWI0M2E0MDgxYjQwNTI1YjM4YjFjNDI4NCk7CiAgICAgICAgICAgIAoKICAgICAgICAgICAgY2lyY2xlX21hcmtlcl8wZDMxYTZlMzAzNDM0ODkzOGZmNDFjNDcyZWViZGU1MC5iaW5kUG9wdXAocG9wdXBfMjM5MTFlMzI1ZmRmNGJmOTkzZGQyNTIzMTA0ZGRkNDkpOwoKICAgICAgICAgICAgCiAgICAgICAgCiAgICAKICAgICAgICAgICAgdmFyIGNpcmNsZV9tYXJrZXJfM2Y0Y2ExNzE2NTBlNGUzOWIyN2RmOGJmZTZkN2RjYjAgPSBMLmNpcmNsZU1hcmtlcigKICAgICAgICAgICAgICAgIFs1MS41MTQ1NzU0OTc2OTYwNCwtMC4xNjIwNjkwMjA1NTY5MTA3XSwKICAgICAgICAgICAgICAgIHsKICAiYnViYmxpbmdNb3VzZUV2ZW50cyI6IHRydWUsCiAgImNvbG9yIjogInJlZCIsCiAgImRhc2hBcnJheSI6IG51bGwsCiAgImRhc2hPZmZzZXQiOiBudWxsLAogICJmaWxsIjogdHJ1ZSwKICAiZmlsbENvbG9yIjogIiNFOTQ5NzUiLAogICJmaWxsT3BhY2l0eSI6IDAuNywKICAiZmlsbFJ1bGUiOiAiZXZlbm9kZCIsCiAgImxpbmVDYXAiOiAicm91bmQiLAogICJsaW5lSm9pbiI6ICJyb3VuZCIsCiAgIm9wYWNpdHkiOiAxLjAsCiAgInJhZGl1cyI6IDUsCiAgInN0cm9rZSI6IHRydWUsCiAgIndlaWdodCI6IDMKfQogICAgICAgICAgICAgICAgKS5hZGRUbyhtYXBfZjkzOTdkOWI2MDFjNGZhMjk2OTZlYWQ4MjRkOTIzMDgpOwogICAgICAgICAgICAKICAgIAogICAgICAgICAgICB2YXIgcG9wdXBfY2JkY2UxMDliNjgwNDNlN2FkZDUyMDAzZGIyYjMwMTMgPSBMLnBvcHVwKHttYXhXaWR0aDogJzMwMCd9KTsKCiAgICAgICAgICAgIAogICAgICAgICAgICAgICAgdmFyIGh0bWxfYmI3NzllYWQyODZmNDNjZGI1MGZmMTY4MzM1YmU1ODcgPSAkKCc8ZGl2IGlkPSJodG1sX2JiNzc5ZWFkMjg2ZjQzY2RiNTBmZjE2ODMzNWJlNTg3IiBzdHlsZT0id2lkdGg6IDEwMC4wJTsgaGVpZ2h0OiAxMDAuMCU7Ij5Tbm93Zmxha2UgTHV4dXJ5IEdlbGF0bzwvZGl2PicpWzBdOwogICAgICAgICAgICAgICAgcG9wdXBfY2JkY2UxMDliNjgwNDNlN2FkZDUyMDAzZGIyYjMwMTMuc2V0Q29udGVudChodG1sX2JiNzc5ZWFkMjg2ZjQzY2RiNTBmZjE2ODMzNWJlNTg3KTsKICAgICAgICAgICAgCgogICAgICAgICAgICBjaXJjbGVfbWFya2VyXzNmNGNhMTcxNjUwZTRlMzliMjdkZjhiZmU2ZDdkY2IwLmJpbmRQb3B1cChwb3B1cF9jYmRjZTEwOWI2ODA0M2U3YWRkNTIwMDNkYjJiMzAxMyk7CgogICAgICAgICAgICAKICAgICAgICAKICAgIAogICAgICAgICAgICB2YXIgY2lyY2xlX21hcmtlcl83NWEwZTI4YmJhMDg0YzM3YjM5YjRjZmNkZThiNTM2NyA9IEwuY2lyY2xlTWFya2VyKAogICAgICAgICAgICAgICAgWzUxLjUxNTQwNjE5MjQ5OTEzNSwtMC4xNjM3ODY0MTEyODU0MDA0XSwKICAgICAgICAgICAgICAgIHsKICAiYnViYmxpbmdNb3VzZUV2ZW50cyI6IHRydWUsCiAgImNvbG9yIjogInJlZCIsCiAgImRhc2hBcnJheSI6IG51bGwsCiAgImRhc2hPZmZzZXQiOiBudWxsLAogICJmaWxsIjogdHJ1ZSwKICAiZmlsbENvbG9yIjogIiNFOTQ5NzUiLAogICJmaWxsT3BhY2l0eSI6IDAuNywKICAiZmlsbFJ1bGUiOiAiZXZlbm9kZCIsCiAgImxpbmVDYXAiOiAicm91bmQiLAogICJsaW5lSm9pbiI6ICJyb3VuZCIsCiAgIm9wYWNpdHkiOiAxLjAsCiAgInJhZGl1cyI6IDUsCiAgInN0cm9rZSI6IHRydWUsCiAgIndlaWdodCI6IDMKfQogICAgICAgICAgICAgICAgKS5hZGRUbyhtYXBfZjkzOTdkOWI2MDFjNGZhMjk2OTZlYWQ4MjRkOTIzMDgpOwogICAgICAgICAgICAKICAgIAogICAgICAgICAgICB2YXIgcG9wdXBfZWE2ODA3YWRiYzgxNGNlNGI0NzA5Y2ExNzUxNTY5ODUgPSBMLnBvcHVwKHttYXhXaWR0aDogJzMwMCd9KTsKCiAgICAgICAgICAgIAogICAgICAgICAgICAgICAgdmFyIGh0bWxfZjI2MjE0ZTA3MjY3NDkwMmE0NDNjMTY1ZGQzZmE4ZWMgPSAkKCc8ZGl2IGlkPSJodG1sX2YyNjIxNGUwNzI2NzQ5MDJhNDQzYzE2NWRkM2ZhOGVjIiBzdHlsZT0id2lkdGg6IDEwMC4wJTsgaGVpZ2h0OiAxMDAuMCU7Ij5TaW1pJiMzOTtzIEljZSBDcmVhbTwvZGl2PicpWzBdOwogICAgICAgICAgICAgICAgcG9wdXBfZWE2ODA3YWRiYzgxNGNlNGI0NzA5Y2ExNzUxNTY5ODUuc2V0Q29udGVudChodG1sX2YyNjIxNGUwNzI2NzQ5MDJhNDQzYzE2NWRkM2ZhOGVjKTsKICAgICAgICAgICAgCgogICAgICAgICAgICBjaXJjbGVfbWFya2VyXzc1YTBlMjhiYmEwODRjMzdiMzliNGNmY2RlOGI1MzY3LmJpbmRQb3B1cChwb3B1cF9lYTY4MDdhZGJjODE0Y2U0YjQ3MDljYTE3NTE1Njk4NSk7CgogICAgICAgICAgICAKICAgICAgICAKICAgIAogICAgICAgICAgICB2YXIgY2lyY2xlX21hcmtlcl85NmQ2NDZhNDE0ZmM0ODMwYmZiNTNmN2ZlZTU0ZTM4YiA9IEwuY2lyY2xlTWFya2VyKAogICAgICAgICAgICAgICAgWzUxLjUxNTQ0MjI0Njk3MjA4LC0wLjE2MzQ4Njg5NzA5NTgxOF0sCiAgICAgICAgICAgICAgICB7CiAgImJ1YmJsaW5nTW91c2VFdmVudHMiOiB0cnVlLAogICJjb2xvciI6ICJyZWQiLAogICJkYXNoQXJyYXkiOiBudWxsLAogICJkYXNoT2Zmc2V0IjogbnVsbCwKICAiZmlsbCI6IHRydWUsCiAgImZpbGxDb2xvciI6ICIjRTk0OTc1IiwKICAiZmlsbE9wYWNpdHkiOiAwLjcsCiAgImZpbGxSdWxlIjogImV2ZW5vZGQiLAogICJsaW5lQ2FwIjogInJvdW5kIiwKICAibGluZUpvaW4iOiAicm91bmQiLAogICJvcGFjaXR5IjogMS4wLAogICJyYWRpdXMiOiA1LAogICJzdHJva2UiOiB0cnVlLAogICJ3ZWlnaHQiOiAzCn0KICAgICAgICAgICAgICAgICkuYWRkVG8obWFwX2Y5Mzk3ZDliNjAxYzRmYTI5Njk2ZWFkODI0ZDkyMzA4KTsKICAgICAgICAgICAgCiAgICAKICAgICAgICAgICAgdmFyIHBvcHVwXzNjNTNmYzZhNWQxMjQ3YTRiY2FjZWY4YjRlNjA1OTA5ID0gTC5wb3B1cCh7bWF4V2lkdGg6ICczMDAnfSk7CgogICAgICAgICAgICAKICAgICAgICAgICAgICAgIHZhciBodG1sXzAyMDE1MDA0OWE5MjRhNDVhZjk5NWUwMmFlOTM5ZTg3ID0gJCgnPGRpdiBpZD0iaHRtbF8wMjAxNTAwNDlhOTI0YTQ1YWY5OTVlMDJhZTkzOWU4NyIgc3R5bGU9IndpZHRoOiAxMDAuMCU7IGhlaWdodDogMTAwLjAlOyI+QmFza2luLVJvYmJpbnM8L2Rpdj4nKVswXTsKICAgICAgICAgICAgICAgIHBvcHVwXzNjNTNmYzZhNWQxMjQ3YTRiY2FjZWY4YjRlNjA1OTA5LnNldENvbnRlbnQoaHRtbF8wMjAxNTAwNDlhOTI0YTQ1YWY5OTVlMDJhZTkzOWU4Nyk7CiAgICAgICAgICAgIAoKICAgICAgICAgICAgY2lyY2xlX21hcmtlcl85NmQ2NDZhNDE0ZmM0ODMwYmZiNTNmN2ZlZTU0ZTM4Yi5iaW5kUG9wdXAocG9wdXBfM2M1M2ZjNmE1ZDEyNDdhNGJjYWNlZjhiNGU2MDU5MDkpOwoKICAgICAgICAgICAgCiAgICAgICAgCiAgICAKICAgICAgICAgICAgdmFyIGNpcmNsZV9tYXJrZXJfYjZkZjdkYjQ5MzUzNDY3ZDlkOTI0MGVlYzdmZmQxZmEgPSBMLmNpcmNsZU1hcmtlcigKICAgICAgICAgICAgICAgIFs1MS41MTc3MjEwNTAyNjQxMywtMC4xNjcxMjEyODk0MDAyNjA3OF0sCiAgICAgICAgICAgICAgICB7CiAgImJ1YmJsaW5nTW91c2VFdmVudHMiOiB0cnVlLAogICJjb2xvciI6ICJyZWQiLAogICJkYXNoQXJyYXkiOiBudWxsLAogICJkYXNoT2Zmc2V0IjogbnVsbCwKICAiZmlsbCI6IHRydWUsCiAgImZpbGxDb2xvciI6ICIjRTk0OTc1IiwKICAiZmlsbE9wYWNpdHkiOiAwLjcsCiAgImZpbGxSdWxlIjogImV2ZW5vZGQiLAogICJsaW5lQ2FwIjogInJvdW5kIiwKICAibGluZUpvaW4iOiAicm91bmQiLAogICJvcGFjaXR5IjogMS4wLAogICJyYWRpdXMiOiA1LAogICJzdHJva2UiOiB0cnVlLAogICJ3ZWlnaHQiOiAzCn0KICAgICAgICAgICAgICAgICkuYWRkVG8obWFwX2Y5Mzk3ZDliNjAxYzRmYTI5Njk2ZWFkODI0ZDkyMzA4KTsKICAgICAgICAgICAgCiAgICAKICAgICAgICAgICAgdmFyIHBvcHVwXzdiYzRjZmRlMzE1ZDQyYzZiOGQ5NTk3MDhlNTc0ZGIxID0gTC5wb3B1cCh7bWF4V2lkdGg6ICczMDAnfSk7CgogICAgICAgICAgICAKICAgICAgICAgICAgICAgIHZhciBodG1sXzdjZThjMTEzYjVjODQzNGZhZDU2MWEzNDk5YTcwZDZlID0gJCgnPGRpdiBpZD0iaHRtbF83Y2U4YzExM2I1Yzg0MzRmYWQ1NjFhMzQ5OWE3MGQ2ZSIgc3R5bGU9IndpZHRoOiAxMDAuMCU7IGhlaWdodDogMTAwLjAlOyI+U2VtaXJhbWlzPC9kaXY+JylbMF07CiAgICAgICAgICAgICAgICBwb3B1cF83YmM0Y2ZkZTMxNWQ0MmM2YjhkOTU5NzA4ZTU3NGRiMS5zZXRDb250ZW50KGh0bWxfN2NlOGMxMTNiNWM4NDM0ZmFkNTYxYTM0OTlhNzBkNmUpOwogICAgICAgICAgICAKCiAgICAgICAgICAgIGNpcmNsZV9tYXJrZXJfYjZkZjdkYjQ5MzUzNDY3ZDlkOTI0MGVlYzdmZmQxZmEuYmluZFBvcHVwKHBvcHVwXzdiYzRjZmRlMzE1ZDQyYzZiOGQ5NTk3MDhlNTc0ZGIxKTsKCiAgICAgICAgICAgIAogICAgICAgIAogICAgCiAgICAgICAgICAgIHZhciBjaXJjbGVfbWFya2VyX2VlNjRmYjgzMDBhZDQzMGY4MDY4MDllY2ZlN2IyZGM3ID0gTC5jaXJjbGVNYXJrZXIoCiAgICAgICAgICAgICAgICBbNTEuNTEyODY4MTQ5NDgwOCwtMC4xMzIxNjA5ODEyNDk0MjgwMl0sCiAgICAgICAgICAgICAgICB7CiAgImJ1YmJsaW5nTW91c2VFdmVudHMiOiB0cnVlLAogICJjb2xvciI6ICJyZWQiLAogICJkYXNoQXJyYXkiOiBudWxsLAogICJkYXNoT2Zmc2V0IjogbnVsbCwKICAiZmlsbCI6IHRydWUsCiAgImZpbGxDb2xvciI6ICIjRTk0OTc1IiwKICAiZmlsbE9wYWNpdHkiOiAwLjcsCiAgImZpbGxSdWxlIjogImV2ZW5vZGQiLAogICJsaW5lQ2FwIjogInJvdW5kIiwKICAibGluZUpvaW4iOiAicm91bmQiLAogICJvcGFjaXR5IjogMS4wLAogICJyYWRpdXMiOiA1LAogICJzdHJva2UiOiB0cnVlLAogICJ3ZWlnaHQiOiAzCn0KICAgICAgICAgICAgICAgICkuYWRkVG8obWFwX2Y5Mzk3ZDliNjAxYzRmYTI5Njk2ZWFkODI0ZDkyMzA4KTsKICAgICAgICAgICAgCiAgICAKICAgICAgICAgICAgdmFyIHBvcHVwXzFiNTJjNTE5MWYxZTQwMTZiYjEwYWNhYzc1ODkwNWVlID0gTC5wb3B1cCh7bWF4V2lkdGg6ICczMDAnfSk7CgogICAgICAgICAgICAKICAgICAgICAgICAgICAgIHZhciBodG1sXzM5NjI3ZjY4Y2U4ZTRjYjU5ZjFhMmU5ODJlMzMxZDc2ID0gJCgnPGRpdiBpZD0iaHRtbF8zOTYyN2Y2OGNlOGU0Y2I1OWYxYTJlOTgyZTMzMWQ3NiIgc3R5bGU9IndpZHRoOiAxMDAuMCU7IGhlaWdodDogMTAwLjAlOyI+QW1vcmlubzwvZGl2PicpWzBdOwogICAgICAgICAgICAgICAgcG9wdXBfMWI1MmM1MTkxZjFlNDAxNmJiMTBhY2FjNzU4OTA1ZWUuc2V0Q29udGVudChodG1sXzM5NjI3ZjY4Y2U4ZTRjYjU5ZjFhMmU5ODJlMzMxZDc2KTsKICAgICAgICAgICAgCgogICAgICAgICAgICBjaXJjbGVfbWFya2VyX2VlNjRmYjgzMDBhZDQzMGY4MDY4MDllY2ZlN2IyZGM3LmJpbmRQb3B1cChwb3B1cF8xYjUyYzUxOTFmMWU0MDE2YmIxMGFjYWM3NTg5MDVlZSk7CgogICAgICAgICAgICAKICAgICAgICAKICAgIAogICAgICAgICAgICB2YXIgY2lyY2xlX21hcmtlcl9jZWM3ZGVlZjc3Yjg0MzIxODllYTY5Mzg0MjU5ZmIwOCA9IEwuY2lyY2xlTWFya2VyKAogICAgICAgICAgICAgICAgWzUxLjUxMTk1OTk5ODk3NTU4LC0wLjEyOTAzMzI4NDc2NzI0MDM1XSwKICAgICAgICAgICAgICAgIHsKICAiYnViYmxpbmdNb3VzZUV2ZW50cyI6IHRydWUsCiAgImNvbG9yIjogInJlZCIsCiAgImRhc2hBcnJheSI6IG51bGwsCiAgImRhc2hPZmZzZXQiOiBudWxsLAogICJmaWxsIjogdHJ1ZSwKICAiZmlsbENvbG9yIjogIiNFOTQ5NzUiLAogICJmaWxsT3BhY2l0eSI6IDAuNywKICAiZmlsbFJ1bGUiOiAiZXZlbm9kZCIsCiAgImxpbmVDYXAiOiAicm91bmQiLAogICJsaW5lSm9pbiI6ICJyb3VuZCIsCiAgIm9wYWNpdHkiOiAxLjAsCiAgInJhZGl1cyI6IDUsCiAgInN0cm9rZSI6IHRydWUsCiAgIndlaWdodCI6IDMKfQogICAgICAgICAgICAgICAgKS5hZGRUbyhtYXBfZjkzOTdkOWI2MDFjNGZhMjk2OTZlYWQ4MjRkOTIzMDgpOwogICAgICAgICAgICAKICAgIAogICAgICAgICAgICB2YXIgcG9wdXBfYTExODVkNjg4NzRlNDljZThjZWJhNGVjMzI0MzQ1ZTQgPSBMLnBvcHVwKHttYXhXaWR0aDogJzMwMCd9KTsKCiAgICAgICAgICAgIAogICAgICAgICAgICAgICAgdmFyIGh0bWxfYjU3N2FiYzE0ZTg3NDY4MDliODk5ZGFiM2YzZTA5NTggPSAkKCc8ZGl2IGlkPSJodG1sX2I1NzdhYmMxNGU4NzQ2ODA5Yjg5OWRhYjNmM2UwOTU4IiBzdHlsZT0id2lkdGg6IDEwMC4wJTsgaGVpZ2h0OiAxMDAuMCU7Ij5NYW1hc29uczwvZGl2PicpWzBdOwogICAgICAgICAgICAgICAgcG9wdXBfYTExODVkNjg4NzRlNDljZThjZWJhNGVjMzI0MzQ1ZTQuc2V0Q29udGVudChodG1sX2I1NzdhYmMxNGU4NzQ2ODA5Yjg5OWRhYjNmM2UwOTU4KTsKICAgICAgICAgICAgCgogICAgICAgICAgICBjaXJjbGVfbWFya2VyX2NlYzdkZWVmNzdiODQzMjE4OWVhNjkzODQyNTlmYjA4LmJpbmRQb3B1cChwb3B1cF9hMTE4NWQ2ODg3NGU0OWNlOGNlYmE0ZWMzMjQzNDVlNCk7CgogICAgICAgICAgICAKICAgICAgICAKICAgIAogICAgICAgICAgICB2YXIgY2lyY2xlX21hcmtlcl81NThhMTZiNzViMWM0ZGUwYjEwYWU1OGJhMDNhOTM1NiA9IEwuY2lyY2xlTWFya2VyKAogICAgICAgICAgICAgICAgWzUxLjUxMTk3NjI3NzYyODE5LC0wLjEyODk4OTQ1NDc1MDc2OTRdLAogICAgICAgICAgICAgICAgewogICJidWJibGluZ01vdXNlRXZlbnRzIjogdHJ1ZSwKICAiY29sb3IiOiAicmVkIiwKICAiZGFzaEFycmF5IjogbnVsbCwKICAiZGFzaE9mZnNldCI6IG51bGwsCiAgImZpbGwiOiB0cnVlLAogICJmaWxsQ29sb3IiOiAiI0U5NDk3NSIsCiAgImZpbGxPcGFjaXR5IjogMC43LAogICJmaWxsUnVsZSI6ICJldmVub2RkIiwKICAibGluZUNhcCI6ICJyb3VuZCIsCiAgImxpbmVKb2luIjogInJvdW5kIiwKICAib3BhY2l0eSI6IDEuMCwKICAicmFkaXVzIjogNSwKICAic3Ryb2tlIjogdHJ1ZSwKICAid2VpZ2h0IjogMwp9CiAgICAgICAgICAgICAgICApLmFkZFRvKG1hcF9mOTM5N2Q5YjYwMWM0ZmEyOTY5NmVhZDgyNGQ5MjMwOCk7CiAgICAgICAgICAgIAogICAgCiAgICAgICAgICAgIHZhciBwb3B1cF81ODQ2MjI4MzZiMmE0ZWJkYjNjNjdmYzFiMmVmMGJiNiA9IEwucG9wdXAoe21heFdpZHRoOiAnMzAwJ30pOwoKICAgICAgICAgICAgCiAgICAgICAgICAgICAgICB2YXIgaHRtbF8xMDlkZDIxYjU2YWM0MzgzYTY3MzA2NjFlN2RmZWI1NyA9ICQoJzxkaXYgaWQ9Imh0bWxfMTA5ZGQyMWI1NmFjNDM4M2E2NzMwNjYxZTdkZmViNTciIHN0eWxlPSJ3aWR0aDogMTAwLjAlOyBoZWlnaHQ6IDEwMC4wJTsiPlRzdWppcmk8L2Rpdj4nKVswXTsKICAgICAgICAgICAgICAgIHBvcHVwXzU4NDYyMjgzNmIyYTRlYmRiM2M2N2ZjMWIyZWYwYmI2LnNldENvbnRlbnQoaHRtbF8xMDlkZDIxYjU2YWM0MzgzYTY3MzA2NjFlN2RmZWI1Nyk7CiAgICAgICAgICAgIAoKICAgICAgICAgICAgY2lyY2xlX21hcmtlcl81NThhMTZiNzViMWM0ZGUwYjEwYWU1OGJhMDNhOTM1Ni5iaW5kUG9wdXAocG9wdXBfNTg0NjIyODM2YjJhNGViZGIzYzY3ZmMxYjJlZjBiYjYpOwoKICAgICAgICAgICAgCiAgICAgICAgCiAgICAKICAgICAgICAgICAgdmFyIGNpcmNsZV9tYXJrZXJfMzE5YTJkZGJjNDk0NGQzMzkzNDM0OGY0ZDFkMWY5OTUgPSBMLmNpcmNsZU1hcmtlcigKICAgICAgICAgICAgICAgIFs1MS41MTE2MDM0MDc5NTUxNywtMC4xMzM4MjI3OTc5OTAyMjcyXSwKICAgICAgICAgICAgICAgIHsKICAiYnViYmxpbmdNb3VzZUV2ZW50cyI6IHRydWUsCiAgImNvbG9yIjogInJlZCIsCiAgImRhc2hBcnJheSI6IG51bGwsCiAgImRhc2hPZmZzZXQiOiBudWxsLAogICJmaWxsIjogdHJ1ZSwKICAiZmlsbENvbG9yIjogIiNFOTQ5NzUiLAogICJmaWxsT3BhY2l0eSI6IDAuNywKICAiZmlsbFJ1bGUiOiAiZXZlbm9kZCIsCiAgImxpbmVDYXAiOiAicm91bmQiLAogICJsaW5lSm9pbiI6ICJyb3VuZCIsCiAgIm9wYWNpdHkiOiAxLjAsCiAgInJhZGl1cyI6IDUsCiAgInN0cm9rZSI6IHRydWUsCiAgIndlaWdodCI6IDMKfQogICAgICAgICAgICAgICAgKS5hZGRUbyhtYXBfZjkzOTdkOWI2MDFjNGZhMjk2OTZlYWQ4MjRkOTIzMDgpOwogICAgICAgICAgICAKICAgIAogICAgICAgICAgICB2YXIgcG9wdXBfY2ZiMTI3YTg1ODc3NDYwMzlkNGM1NjQ2YjA5YmUzNDAgPSBMLnBvcHVwKHttYXhXaWR0aDogJzMwMCd9KTsKCiAgICAgICAgICAgIAogICAgICAgICAgICAgICAgdmFyIGh0bWxfMmMzYzAxZDVkM2JlNGEyZjg2MjY5MmZiOTRkMDgwNTAgPSAkKCc8ZGl2IGlkPSJodG1sXzJjM2MwMWQ1ZDNiZTRhMmY4NjI2OTJmYjk0ZDA4MDUwIiBzdHlsZT0id2lkdGg6IDEwMC4wJTsgaGVpZ2h0OiAxMDAuMCU7Ij5HZWx1cG88L2Rpdj4nKVswXTsKICAgICAgICAgICAgICAgIHBvcHVwX2NmYjEyN2E4NTg3NzQ2MDM5ZDRjNTY0NmIwOWJlMzQwLnNldENvbnRlbnQoaHRtbF8yYzNjMDFkNWQzYmU0YTJmODYyNjkyZmI5NGQwODA1MCk7CiAgICAgICAgICAgIAoKICAgICAgICAgICAgY2lyY2xlX21hcmtlcl8zMTlhMmRkYmM0OTQ0ZDMzOTM0MzQ4ZjRkMWQxZjk5NS5iaW5kUG9wdXAocG9wdXBfY2ZiMTI3YTg1ODc3NDYwMzlkNGM1NjQ2YjA5YmUzNDApOwoKICAgICAgICAgICAgCiAgICAgICAgCiAgICAKICAgICAgICAgICAgdmFyIGNpcmNsZV9tYXJrZXJfYWZjZWY3MDJjZTFiNDBkNzhhNzcyNDcwYzUwNzU5MzAgPSBMLmNpcmNsZU1hcmtlcigKICAgICAgICAgICAgICAgIFs1MS41MTQzMjIwMzY5ODEyMSwtMC4xMzExMTM0MTgzNTQ5Mzc1XSwKICAgICAgICAgICAgICAgIHsKICAiYnViYmxpbmdNb3VzZUV2ZW50cyI6IHRydWUsCiAgImNvbG9yIjogInJlZCIsCiAgImRhc2hBcnJheSI6IG51bGwsCiAgImRhc2hPZmZzZXQiOiBudWxsLAogICJmaWxsIjogdHJ1ZSwKICAiZmlsbENvbG9yIjogIiNFOTQ5NzUiLAogICJmaWxsT3BhY2l0eSI6IDAuNywKICAiZmlsbFJ1bGUiOiAiZXZlbm9kZCIsCiAgImxpbmVDYXAiOiAicm91bmQiLAogICJsaW5lSm9pbiI6ICJyb3VuZCIsCiAgIm9wYWNpdHkiOiAxLjAsCiAgInJhZGl1cyI6IDUsCiAgInN0cm9rZSI6IHRydWUsCiAgIndlaWdodCI6IDMKfQogICAgICAgICAgICAgICAgKS5hZGRUbyhtYXBfZjkzOTdkOWI2MDFjNGZhMjk2OTZlYWQ4MjRkOTIzMDgpOwogICAgICAgICAgICAKICAgIAogICAgICAgICAgICB2YXIgcG9wdXBfZDVjZWNhMzRmMzA4NGY2N2JmYjQ1OWFlMTNkMmFjYTQgPSBMLnBvcHVwKHttYXhXaWR0aDogJzMwMCd9KTsKCiAgICAgICAgICAgIAogICAgICAgICAgICAgICAgdmFyIGh0bWxfMGZhZjRiNDU0ZTgzNDA5NThjM2IwY2E3ODY3YmM3OWUgPSAkKCc8ZGl2IGlkPSJodG1sXzBmYWY0YjQ1NGU4MzQwOTU4YzNiMGNhNzg2N2JjNzllIiBzdHlsZT0id2lkdGg6IDEwMC4wJTsgaGVpZ2h0OiAxMDAuMCU7Ij5DaGluIENoaW4gQ2x1YjwvZGl2PicpWzBdOwogICAgICAgICAgICAgICAgcG9wdXBfZDVjZWNhMzRmMzA4NGY2N2JmYjQ1OWFlMTNkMmFjYTQuc2V0Q29udGVudChodG1sXzBmYWY0YjQ1NGU4MzQwOTU4YzNiMGNhNzg2N2JjNzllKTsKICAgICAgICAgICAgCgogICAgICAgICAgICBjaXJjbGVfbWFya2VyX2FmY2VmNzAyY2UxYjQwZDc4YTc3MjQ3MGM1MDc1OTMwLmJpbmRQb3B1cChwb3B1cF9kNWNlY2EzNGYzMDg0ZjY3YmZiNDU5YWUxM2QyYWNhNCk7CgogICAgICAgICAgICAKICAgICAgICAKICAgIAogICAgICAgICAgICB2YXIgY2lyY2xlX21hcmtlcl9lYzM0OWFiZDdjZmM0ODQ1YjNhYjEyM2NiNmE0ODc5NyA9IEwuY2lyY2xlTWFya2VyKAogICAgICAgICAgICAgICAgWzUxLjUxMTUwOTcxMzM3Nzk4LC0wLjEyNTc5NDQ2MzQxNzk0MThdLAogICAgICAgICAgICAgICAgewogICJidWJibGluZ01vdXNlRXZlbnRzIjogdHJ1ZSwKICAiY29sb3IiOiAicmVkIiwKICAiZGFzaEFycmF5IjogbnVsbCwKICAiZGFzaE9mZnNldCI6IG51bGwsCiAgImZpbGwiOiB0cnVlLAogICJmaWxsQ29sb3IiOiAiI0U5NDk3NSIsCiAgImZpbGxPcGFjaXR5IjogMC43LAogICJmaWxsUnVsZSI6ICJldmVub2RkIiwKICAibGluZUNhcCI6ICJyb3VuZCIsCiAgImxpbmVKb2luIjogInJvdW5kIiwKICAib3BhY2l0eSI6IDEuMCwKICAicmFkaXVzIjogNSwKICAic3Ryb2tlIjogdHJ1ZSwKICAid2VpZ2h0IjogMwp9CiAgICAgICAgICAgICAgICApLmFkZFRvKG1hcF9mOTM5N2Q5YjYwMWM0ZmEyOTY5NmVhZDgyNGQ5MjMwOCk7CiAgICAgICAgICAgIAogICAgCiAgICAgICAgICAgIHZhciBwb3B1cF9jMzNlZGYxMTcxODU0YWQxODk0NDQ2MThlYzAzMzJmZCA9IEwucG9wdXAoe21heFdpZHRoOiAnMzAwJ30pOwoKICAgICAgICAgICAgCiAgICAgICAgICAgICAgICB2YXIgaHRtbF9hYjBiZDdhZDU5ZGI0Y2JjYmRmNjkxZWYxNzI0MmFlNyA9ICQoJzxkaXYgaWQ9Imh0bWxfYWIwYmQ3YWQ1OWRiNGNiY2JkZjY5MWVmMTcyNDJhZTciIHN0eWxlPSJ3aWR0aDogMTAwLjAlOyBoZWlnaHQ6IDEwMC4wJTsiPkFtb3Jpbm88L2Rpdj4nKVswXTsKICAgICAgICAgICAgICAgIHBvcHVwX2MzM2VkZjExNzE4NTRhZDE4OTQ0NDYxOGVjMDMzMmZkLnNldENvbnRlbnQoaHRtbF9hYjBiZDdhZDU5ZGI0Y2JjYmRmNjkxZWYxNzI0MmFlNyk7CiAgICAgICAgICAgIAoKICAgICAgICAgICAgY2lyY2xlX21hcmtlcl9lYzM0OWFiZDdjZmM0ODQ1YjNhYjEyM2NiNmE0ODc5Ny5iaW5kUG9wdXAocG9wdXBfYzMzZWRmMTE3MTg1NGFkMTg5NDQ0NjE4ZWMwMzMyZmQpOwoKICAgICAgICAgICAgCiAgICAgICAgCiAgICAKICAgICAgICAgICAgdmFyIGNpcmNsZV9tYXJrZXJfODUwYzZjMDA5NGM5NGEwYjgxY2NhNjM1MTg5YTQzYmUgPSBMLmNpcmNsZU1hcmtlcigKICAgICAgICAgICAgICAgIFs1MS41MTA4NTk0NDMzOTgsLTAuMTMxNjMxMzAzNTAxMDQ0OV0sCiAgICAgICAgICAgICAgICB7CiAgImJ1YmJsaW5nTW91c2VFdmVudHMiOiB0cnVlLAogICJjb2xvciI6ICJyZWQiLAogICJkYXNoQXJyYXkiOiBudWxsLAogICJkYXNoT2Zmc2V0IjogbnVsbCwKICAiZmlsbCI6IHRydWUsCiAgImZpbGxDb2xvciI6ICIjRTk0OTc1IiwKICAiZmlsbE9wYWNpdHkiOiAwLjcsCiAgImZpbGxSdWxlIjogImV2ZW5vZGQiLAogICJsaW5lQ2FwIjogInJvdW5kIiwKICAibGluZUpvaW4iOiAicm91bmQiLAogICJvcGFjaXR5IjogMS4wLAogICJyYWRpdXMiOiA1LAogICJzdHJva2UiOiB0cnVlLAogICJ3ZWlnaHQiOiAzCn0KICAgICAgICAgICAgICAgICkuYWRkVG8obWFwX2Y5Mzk3ZDliNjAxYzRmYTI5Njk2ZWFkODI0ZDkyMzA4KTsKICAgICAgICAgICAgCiAgICAKICAgICAgICAgICAgdmFyIHBvcHVwXzdhZDM4OTE0MmM1MTRmM2I5M2MxN2NhODdjNmE2YjgyID0gTC5wb3B1cCh7bWF4V2lkdGg6ICczMDAnfSk7CgogICAgICAgICAgICAKICAgICAgICAgICAgICAgIHZhciBodG1sXzRjZDk0MzE2ZWI1YjQ2NWQ4OTNmNGM0MGI1OTA3MzFmID0gJCgnPGRpdiBpZD0iaHRtbF80Y2Q5NDMxNmViNWI0NjVkODkzZjRjNDBiNTkwNzMxZiIgc3R5bGU9IndpZHRoOiAxMDAuMCU7IGhlaWdodDogMTAwLjAlOyI+QmFrZSDpurXljIXlsYs8L2Rpdj4nKVswXTsKICAgICAgICAgICAgICAgIHBvcHVwXzdhZDM4OTE0MmM1MTRmM2I5M2MxN2NhODdjNmE2YjgyLnNldENvbnRlbnQoaHRtbF80Y2Q5NDMxNmViNWI0NjVkODkzZjRjNDBiNTkwNzMxZik7CiAgICAgICAgICAgIAoKICAgICAgICAgICAgY2lyY2xlX21hcmtlcl84NTBjNmMwMDk0Yzk0YTBiODFjY2E2MzUxODlhNDNiZS5iaW5kUG9wdXAocG9wdXBfN2FkMzg5MTQyYzUxNGYzYjkzYzE3Y2E4N2M2YTZiODIpOwoKICAgICAgICAgICAgCiAgICAgICAgCiAgICAKICAgICAgICAgICAgdmFyIGNpcmNsZV9tYXJrZXJfMDhlMTQyMjg5YjJmNGIwNGIxNTA2YzZhOGQ0NmM0NjggPSBMLmNpcmNsZU1hcmtlcigKICAgICAgICAgICAgICAgIFs1MS41MTE3MTg0NzI4NDQ4NTUsLTAuMTMzNjExOTA1NTAwNDQzMV0sCiAgICAgICAgICAgICAgICB7CiAgImJ1YmJsaW5nTW91c2VFdmVudHMiOiB0cnVlLAogICJjb2xvciI6ICJyZWQiLAogICJkYXNoQXJyYXkiOiBudWxsLAogICJkYXNoT2Zmc2V0IjogbnVsbCwKICAiZmlsbCI6IHRydWUsCiAgImZpbGxDb2xvciI6ICIjRTk0OTc1IiwKICAiZmlsbE9wYWNpdHkiOiAwLjcsCiAgImZpbGxSdWxlIjogImV2ZW5vZGQiLAogICJsaW5lQ2FwIjogInJvdW5kIiwKICAibGluZUpvaW4iOiAicm91bmQiLAogICJvcGFjaXR5IjogMS4wLAogICJyYWRpdXMiOiA1LAogICJzdHJva2UiOiB0cnVlLAogICJ3ZWlnaHQiOiAzCn0KICAgICAgICAgICAgICAgICkuYWRkVG8obWFwX2Y5Mzk3ZDliNjAxYzRmYTI5Njk2ZWFkODI0ZDkyMzA4KTsKICAgICAgICAgICAgCiAgICAKICAgICAgICAgICAgdmFyIHBvcHVwXzdkZmI0NmI4ZGMyYTQyODFhNjk1MGVhNzk0ZGRkMGQzID0gTC5wb3B1cCh7bWF4V2lkdGg6ICczMDAnfSk7CgogICAgICAgICAgICAKICAgICAgICAgICAgICAgIHZhciBodG1sXzU1ZWY1ZTNjNWNmOTRjZWI5MzNlZWY1YzBjYjk1NzJjID0gJCgnPGRpdiBpZD0iaHRtbF81NWVmNWUzYzVjZjk0Y2ViOTMzZWVmNWMwY2I5NTcyYyIgc3R5bGU9IndpZHRoOiAxMDAuMCU7IGhlaWdodDogMTAwLjAlOyI+R2VsYXRvLCBBcmNoZXIgU3RyZWV0LCBTb2hvPC9kaXY+JylbMF07CiAgICAgICAgICAgICAgICBwb3B1cF83ZGZiNDZiOGRjMmE0MjgxYTY5NTBlYTc5NGRkZDBkMy5zZXRDb250ZW50KGh0bWxfNTVlZjVlM2M1Y2Y5NGNlYjkzM2VlZjVjMGNiOTU3MmMpOwogICAgICAgICAgICAKCiAgICAgICAgICAgIGNpcmNsZV9tYXJrZXJfMDhlMTQyMjg5YjJmNGIwNGIxNTA2YzZhOGQ0NmM0NjguYmluZFBvcHVwKHBvcHVwXzdkZmI0NmI4ZGMyYTQyODFhNjk1MGVhNzk0ZGRkMGQzKTsKCiAgICAgICAgICAgIAogICAgICAgIAogICAgCiAgICAgICAgICAgIHZhciBjaXJjbGVfbWFya2VyX2YxOTU4N2M0ZDJlNjQ3OTM4ZTUxOWM1ODE5Yjg2YzMwID0gTC5jaXJjbGVNYXJrZXIoCiAgICAgICAgICAgICAgICBbNTEuNTExOTUsLTAuMTI5MDUyNDhdLAogICAgICAgICAgICAgICAgewogICJidWJibGluZ01vdXNlRXZlbnRzIjogdHJ1ZSwKICAiY29sb3IiOiAicmVkIiwKICAiZGFzaEFycmF5IjogbnVsbCwKICAiZGFzaE9mZnNldCI6IG51bGwsCiAgImZpbGwiOiB0cnVlLAogICJmaWxsQ29sb3IiOiAiI0U5NDk3NSIsCiAgImZpbGxPcGFjaXR5IjogMC43LAogICJmaWxsUnVsZSI6ICJldmVub2RkIiwKICAibGluZUNhcCI6ICJyb3VuZCIsCiAgImxpbmVKb2luIjogInJvdW5kIiwKICAib3BhY2l0eSI6IDEuMCwKICAicmFkaXVzIjogNSwKICAic3Ryb2tlIjogdHJ1ZSwKICAid2VpZ2h0IjogMwp9CiAgICAgICAgICAgICAgICApLmFkZFRvKG1hcF9mOTM5N2Q5YjYwMWM0ZmEyOTY5NmVhZDgyNGQ5MjMwOCk7CiAgICAgICAgICAgIAogICAgCiAgICAgICAgICAgIHZhciBwb3B1cF85MThmYmQ3NDJmZDc0MTI5OWNiOWQ5Y2I5MDhlNDY4ZCA9IEwucG9wdXAoe21heFdpZHRoOiAnMzAwJ30pOwoKICAgICAgICAgICAgCiAgICAgICAgICAgICAgICB2YXIgaHRtbF8zNmQ0NGY2YjM5NmM0YmIyYjk3OTRiMGQzN2YxNDgwZCA9ICQoJzxkaXYgaWQ9Imh0bWxfMzZkNDRmNmIzOTZjNGJiMmI5Nzk0YjBkMzdmMTQ4MGQiIHN0eWxlPSJ3aWR0aDogMTAwLjAlOyBoZWlnaHQ6IDEwMC4wJTsiPkRpcnR5IEljZSBDcmVhbTwvZGl2PicpWzBdOwogICAgICAgICAgICAgICAgcG9wdXBfOTE4ZmJkNzQyZmQ3NDEyOTljYjlkOWNiOTA4ZTQ2OGQuc2V0Q29udGVudChodG1sXzM2ZDQ0ZjZiMzk2YzRiYjJiOTc5NGIwZDM3ZjE0ODBkKTsKICAgICAgICAgICAgCgogICAgICAgICAgICBjaXJjbGVfbWFya2VyX2YxOTU4N2M0ZDJlNjQ3OTM4ZTUxOWM1ODE5Yjg2YzMwLmJpbmRQb3B1cChwb3B1cF85MThmYmQ3NDJmZDc0MTI5OWNiOWQ5Y2I5MDhlNDY4ZCk7CgogICAgICAgICAgICAKICAgICAgICAKICAgIAogICAgICAgICAgICB2YXIgY2lyY2xlX21hcmtlcl9hMzdmOGU2MmU0ZjQ0MTY4OGY5NTI3OWE2MGUyZmY1NyA9IEwuY2lyY2xlTWFya2VyKAogICAgICAgICAgICAgICAgWzUxLjUxNDQwMTgwNTgyMjM2LC0wLjEzMTA4MjA5ODA1NjgwMjU3XSwKICAgICAgICAgICAgICAgIHsKICAiYnViYmxpbmdNb3VzZUV2ZW50cyI6IHRydWUsCiAgImNvbG9yIjogInJlZCIsCiAgImRhc2hBcnJheSI6IG51bGwsCiAgImRhc2hPZmZzZXQiOiBudWxsLAogICJmaWxsIjogdHJ1ZSwKICAiZmlsbENvbG9yIjogIiNFOTQ5NzUiLAogICJmaWxsT3BhY2l0eSI6IDAuNywKICAiZmlsbFJ1bGUiOiAiZXZlbm9kZCIsCiAgImxpbmVDYXAiOiAicm91bmQiLAogICJsaW5lSm9pbiI6ICJyb3VuZCIsCiAgIm9wYWNpdHkiOiAxLjAsCiAgInJhZGl1cyI6IDUsCiAgInN0cm9rZSI6IHRydWUsCiAgIndlaWdodCI6IDMKfQogICAgICAgICAgICAgICAgKS5hZGRUbyhtYXBfZjkzOTdkOWI2MDFjNGZhMjk2OTZlYWQ4MjRkOTIzMDgpOwogICAgICAgICAgICAKICAgIAogICAgICAgICAgICB2YXIgcG9wdXBfMzQwYjQyMzhmNzdlNGEwMzhjMGE4YTE4YjY3MzkwZWMgPSBMLnBvcHVwKHttYXhXaWR0aDogJzMwMCd9KTsKCiAgICAgICAgICAgIAogICAgICAgICAgICAgICAgdmFyIGh0bWxfMzVlZjUxMmI5YjgzNDU3YWI1ZTAzOTBhMDFlMjYyNDkgPSAkKCc8ZGl2IGlkPSJodG1sXzM1ZWY1MTJiOWI4MzQ1N2FiNWUwMzkwYTAxZTI2MjQ5IiBzdHlsZT0id2lkdGg6IDEwMC4wJTsgaGVpZ2h0OiAxMDAuMCU7Ij5MaWNrPC9kaXY+JylbMF07CiAgICAgICAgICAgICAgICBwb3B1cF8zNDBiNDIzOGY3N2U0YTAzOGMwYThhMThiNjczOTBlYy5zZXRDb250ZW50KGh0bWxfMzVlZjUxMmI5YjgzNDU3YWI1ZTAzOTBhMDFlMjYyNDkpOwogICAgICAgICAgICAKCiAgICAgICAgICAgIGNpcmNsZV9tYXJrZXJfYTM3ZjhlNjJlNGY0NDE2ODhmOTUyNzlhNjBlMmZmNTcuYmluZFBvcHVwKHBvcHVwXzM0MGI0MjM4Zjc3ZTRhMDM4YzBhOGExOGI2NzM5MGVjKTsKCiAgICAgICAgICAgIAogICAgICAgIAogICAgCiAgICAgICAgICAgIHZhciBjaXJjbGVfbWFya2VyX2RkYzA4YmE2MDQ1YTQ5M2E4NjFiZDliM2RjOWI1NDgxID0gTC5jaXJjbGVNYXJrZXIoCiAgICAgICAgICAgICAgICBbNTEuNTEyOTIzNjU5OTkyNDcsLTAuMTMyMzAzOTE0MzE4NjM3OTRdLAogICAgICAgICAgICAgICAgewogICJidWJibGluZ01vdXNlRXZlbnRzIjogdHJ1ZSwKICAiY29sb3IiOiAicmVkIiwKICAiZGFzaEFycmF5IjogbnVsbCwKICAiZGFzaE9mZnNldCI6IG51bGwsCiAgImZpbGwiOiB0cnVlLAogICJmaWxsQ29sb3IiOiAiI0U5NDk3NSIsCiAgImZpbGxPcGFjaXR5IjogMC43LAogICJmaWxsUnVsZSI6ICJldmVub2RkIiwKICAibGluZUNhcCI6ICJyb3VuZCIsCiAgImxpbmVKb2luIjogInJvdW5kIiwKICAib3BhY2l0eSI6IDEuMCwKICAicmFkaXVzIjogNSwKICAic3Ryb2tlIjogdHJ1ZSwKICAid2VpZ2h0IjogMwp9CiAgICAgICAgICAgICAgICApLmFkZFRvKG1hcF9mOTM5N2Q5YjYwMWM0ZmEyOTY5NmVhZDgyNGQ5MjMwOCk7CiAgICAgICAgICAgIAogICAgCiAgICAgICAgICAgIHZhciBwb3B1cF9kYTUyZmI2NTkxMjY0ZTQxYTA3YmExNjFjNzgyYTYzNiA9IEwucG9wdXAoe21heFdpZHRoOiAnMzAwJ30pOwoKICAgICAgICAgICAgCiAgICAgICAgICAgICAgICB2YXIgaHRtbF8zZjhjYmNiYWU0NWE0NzY3OGU1MTZhNzcyNzM4YTc5MiA9ICQoJzxkaXYgaWQ9Imh0bWxfM2Y4Y2JjYmFlNDVhNDc2NzhlNTE2YTc3MjczOGE3OTIiIHN0eWxlPSJ3aWR0aDogMTAwLjAlOyBoZWlnaHQ6IDEwMC4wJTsiPkdlbGF0b2wgQWwgTmF0dXJhbGU8L2Rpdj4nKVswXTsKICAgICAgICAgICAgICAgIHBvcHVwX2RhNTJmYjY1OTEyNjRlNDFhMDdiYTE2MWM3ODJhNjM2LnNldENvbnRlbnQoaHRtbF8zZjhjYmNiYWU0NWE0NzY3OGU1MTZhNzcyNzM4YTc5Mik7CiAgICAgICAgICAgIAoKICAgICAgICAgICAgY2lyY2xlX21hcmtlcl9kZGMwOGJhNjA0NWE0OTNhODYxYmQ5YjNkYzliNTQ4MS5iaW5kUG9wdXAocG9wdXBfZGE1MmZiNjU5MTI2NGU0MWEwN2JhMTYxYzc4MmE2MzYpOwoKICAgICAgICAgICAgCiAgICAgICAgCiAgICAKICAgICAgICAgICAgdmFyIGNpcmNsZV9tYXJrZXJfMTA2ZGY1MmY3OTUzNDNjYWJhZTRkYjQxZTBjNTc2NzIgPSBMLmNpcmNsZU1hcmtlcigKICAgICAgICAgICAgICAgIFs1MS41MTI5OTc1NDU1NDA4NywtMC4xMzM1MjU3MjkxNzkzODIzMl0sCiAgICAgICAgICAgICAgICB7CiAgImJ1YmJsaW5nTW91c2VFdmVudHMiOiB0cnVlLAogICJjb2xvciI6ICJyZWQiLAogICJkYXNoQXJyYXkiOiBudWxsLAogICJkYXNoT2Zmc2V0IjogbnVsbCwKICAiZmlsbCI6IHRydWUsCiAgImZpbGxDb2xvciI6ICIjRTk0OTc1IiwKICAiZmlsbE9wYWNpdHkiOiAwLjcsCiAgImZpbGxSdWxlIjogImV2ZW5vZGQiLAogICJsaW5lQ2FwIjogInJvdW5kIiwKICAibGluZUpvaW4iOiAicm91bmQiLAogICJvcGFjaXR5IjogMS4wLAogICJyYWRpdXMiOiA1LAogICJzdHJva2UiOiB0cnVlLAogICJ3ZWlnaHQiOiAzCn0KICAgICAgICAgICAgICAgICkuYWRkVG8obWFwX2Y5Mzk3ZDliNjAxYzRmYTI5Njk2ZWFkODI0ZDkyMzA4KTsKICAgICAgICAgICAgCiAgICAKICAgICAgICAgICAgdmFyIHBvcHVwX2YyZTkxOGE0Y2U5YTQyMjg5YTFjMDViYTIzODhiNGQ1ID0gTC5wb3B1cCh7bWF4V2lkdGg6ICczMDAnfSk7CgogICAgICAgICAgICAKICAgICAgICAgICAgICAgIHZhciBodG1sXzVhNGEwY2ZlNWEwMDQ2MzNhYmZkNmY3YmU5ZTY3OWRjID0gJCgnPGRpdiBpZD0iaHRtbF81YTRhMGNmZTVhMDA0NjMzYWJmZDZmN2JlOWU2NzlkYyIgc3R5bGU9IndpZHRoOiAxMDAuMCU7IGhlaWdodDogMTAwLjAlOyI+QmVuICZhbXA7IEplcnJ5JiMzOTtzPC9kaXY+JylbMF07CiAgICAgICAgICAgICAgICBwb3B1cF9mMmU5MThhNGNlOWE0MjI4OWExYzA1YmEyMzg4YjRkNS5zZXRDb250ZW50KGh0bWxfNWE0YTBjZmU1YTAwNDYzM2FiZmQ2ZjdiZTllNjc5ZGMpOwogICAgICAgICAgICAKCiAgICAgICAgICAgIGNpcmNsZV9tYXJrZXJfMTA2ZGY1MmY3OTUzNDNjYWJhZTRkYjQxZTBjNTc2NzIuYmluZFBvcHVwKHBvcHVwX2YyZTkxOGE0Y2U5YTQyMjg5YTFjMDViYTIzODhiNGQ1KTsKCiAgICAgICAgICAgIAogICAgICAgIAogICAgCiAgICAgICAgICAgIHZhciBjaXJjbGVfbWFya2VyXzk1NDY5ZDFmYzg2ZTQ4ZDE4ZmVkODIxN2Q5NTE4ODAyID0gTC5jaXJjbGVNYXJrZXIoCiAgICAgICAgICAgICAgICBbNTEuNTEwNDExODIyMjc2ODQsLTAuMTM1MTI5NjkwMTcwMjg4MDldLAogICAgICAgICAgICAgICAgewogICJidWJibGluZ01vdXNlRXZlbnRzIjogdHJ1ZSwKICAiY29sb3IiOiAicmVkIiwKICAiZGFzaEFycmF5IjogbnVsbCwKICAiZGFzaE9mZnNldCI6IG51bGwsCiAgImZpbGwiOiB0cnVlLAogICJmaWxsQ29sb3IiOiAiI0U5NDk3NSIsCiAgImZpbGxPcGFjaXR5IjogMC43LAogICJmaWxsUnVsZSI6ICJldmVub2RkIiwKICAibGluZUNhcCI6ICJyb3VuZCIsCiAgImxpbmVKb2luIjogInJvdW5kIiwKICAib3BhY2l0eSI6IDEuMCwKICAicmFkaXVzIjogNSwKICAic3Ryb2tlIjogdHJ1ZSwKICAid2VpZ2h0IjogMwp9CiAgICAgICAgICAgICAgICApLmFkZFRvKG1hcF9mOTM5N2Q5YjYwMWM0ZmEyOTY5NmVhZDgyNGQ5MjMwOCk7CiAgICAgICAgICAgIAogICAgCiAgICAgICAgICAgIHZhciBwb3B1cF9jYjdmZjhlYjRlOGI0OGFlOTk3ZDNmMWNjYzRlYWY1ZCA9IEwucG9wdXAoe21heFdpZHRoOiAnMzAwJ30pOwoKICAgICAgICAgICAgCiAgICAgICAgICAgICAgICB2YXIgaHRtbF8yNTM5ZGU0MTQ3YWE0ZDE2ODJkNjAwYjIxMmI5NDE4NyA9ICQoJzxkaXYgaWQ9Imh0bWxfMjUzOWRlNDE0N2FhNGQxNjgyZDYwMGIyMTJiOTQxODciIHN0eWxlPSJ3aWR0aDogMTAwLjAlOyBoZWlnaHQ6IDEwMC4wJTsiPlZhbmluaTwvZGl2PicpWzBdOwogICAgICAgICAgICAgICAgcG9wdXBfY2I3ZmY4ZWI0ZThiNDhhZTk5N2QzZjFjY2M0ZWFmNWQuc2V0Q29udGVudChodG1sXzI1MzlkZTQxNDdhYTRkMTY4MmQ2MDBiMjEyYjk0MTg3KTsKICAgICAgICAgICAgCgogICAgICAgICAgICBjaXJjbGVfbWFya2VyXzk1NDY5ZDFmYzg2ZTQ4ZDE4ZmVkODIxN2Q5NTE4ODAyLmJpbmRQb3B1cChwb3B1cF9jYjdmZjhlYjRlOGI0OGFlOTk3ZDNmMWNjYzRlYWY1ZCk7CgogICAgICAgICAgICAKICAgICAgICAKICAgIAogICAgICAgICAgICB2YXIgY2lyY2xlX21hcmtlcl83MWFlNmYxYTU5ZWE0ODExODY1NzNjNzZjZWZhNzRlMyA9IEwuY2lyY2xlTWFya2VyKAogICAgICAgICAgICAgICAgWzUxLjUxMDc3NywtMC4xMzcwMjRdLAogICAgICAgICAgICAgICAgewogICJidWJibGluZ01vdXNlRXZlbnRzIjogdHJ1ZSwKICAiY29sb3IiOiAicmVkIiwKICAiZGFzaEFycmF5IjogbnVsbCwKICAiZGFzaE9mZnNldCI6IG51bGwsCiAgImZpbGwiOiB0cnVlLAogICJmaWxsQ29sb3IiOiAiI0U5NDk3NSIsCiAgImZpbGxPcGFjaXR5IjogMC43LAogICJmaWxsUnVsZSI6ICJldmVub2RkIiwKICAibGluZUNhcCI6ICJyb3VuZCIsCiAgImxpbmVKb2luIjogInJvdW5kIiwKICAib3BhY2l0eSI6IDEuMCwKICAicmFkaXVzIjogNSwKICAic3Ryb2tlIjogdHJ1ZSwKICAid2VpZ2h0IjogMwp9CiAgICAgICAgICAgICAgICApLmFkZFRvKG1hcF9mOTM5N2Q5YjYwMWM0ZmEyOTY5NmVhZDgyNGQ5MjMwOCk7CiAgICAgICAgICAgIAogICAgCiAgICAgICAgICAgIHZhciBwb3B1cF8wMzZiMTEyOWY5MmY0ZDZkYjkyZDJiY2Y5MTlkZGUzMyA9IEwucG9wdXAoe21heFdpZHRoOiAnMzAwJ30pOwoKICAgICAgICAgICAgCiAgICAgICAgICAgICAgICB2YXIgaHRtbF84MTk3ZjFhMDI0NGE0N2JiYTQ4MTE3OThkODMwNTk3YiA9ICQoJzxkaXYgaWQ9Imh0bWxfODE5N2YxYTAyNDRhNDdiYmE0ODExNzk4ZDgzMDU5N2IiIHN0eWxlPSJ3aWR0aDogMTAwLjAlOyBoZWlnaHQ6IDEwMC4wJTsiPlBpbXAgTXkgSWNlY3JlYW08L2Rpdj4nKVswXTsKICAgICAgICAgICAgICAgIHBvcHVwXzAzNmIxMTI5ZjkyZjRkNmRiOTJkMmJjZjkxOWRkZTMzLnNldENvbnRlbnQoaHRtbF84MTk3ZjFhMDI0NGE0N2JiYTQ4MTE3OThkODMwNTk3Yik7CiAgICAgICAgICAgIAoKICAgICAgICAgICAgY2lyY2xlX21hcmtlcl83MWFlNmYxYTU5ZWE0ODExODY1NzNjNzZjZWZhNzRlMy5iaW5kUG9wdXAocG9wdXBfMDM2YjExMjlmOTJmNGQ2ZGI5MmQyYmNmOTE5ZGRlMzMpOwoKICAgICAgICAgICAgCiAgICAgICAgCiAgICAKICAgICAgICAgICAgdmFyIGNpcmNsZV9tYXJrZXJfZjg5OWU2MTQ2MDcyNGVjNzg1ZGRkNmQ3ZTMzZTk0NDIgPSBMLmNpcmNsZU1hcmtlcigKICAgICAgICAgICAgICAgIFs1MS41MTE1OTMxNTMyNTczNywtMC4xMzU0ODk1OTkwMDUxODcxMl0sCiAgICAgICAgICAgICAgICB7CiAgImJ1YmJsaW5nTW91c2VFdmVudHMiOiB0cnVlLAogICJjb2xvciI6ICJyZWQiLAogICJkYXNoQXJyYXkiOiBudWxsLAogICJkYXNoT2Zmc2V0IjogbnVsbCwKICAiZmlsbCI6IHRydWUsCiAgImZpbGxDb2xvciI6ICIjRTk0OTc1IiwKICAiZmlsbE9wYWNpdHkiOiAwLjcsCiAgImZpbGxSdWxlIjogImV2ZW5vZGQiLAogICJsaW5lQ2FwIjogInJvdW5kIiwKICAibGluZUpvaW4iOiAicm91bmQiLAogICJvcGFjaXR5IjogMS4wLAogICJyYWRpdXMiOiA1LAogICJzdHJva2UiOiB0cnVlLAogICJ3ZWlnaHQiOiAzCn0KICAgICAgICAgICAgICAgICkuYWRkVG8obWFwX2Y5Mzk3ZDliNjAxYzRmYTI5Njk2ZWFkODI0ZDkyMzA4KTsKICAgICAgICAgICAgCiAgICAKICAgICAgICAgICAgdmFyIHBvcHVwXzQ0YzNiNjVjMTdhYzQxYzliNGUyMGU3MjU3MmI1YzdhID0gTC5wb3B1cCh7bWF4V2lkdGg6ICczMDAnfSk7CgogICAgICAgICAgICAKICAgICAgICAgICAgICAgIHZhciBodG1sXzJkMzUxNDcyZjU0YzQ4OWQ4YzQ1Y2NlZDM4YTVmYTljID0gJCgnPGRpdiBpZD0iaHRtbF8yZDM1MTQ3MmY1NGM0ODlkOGM0NWNjZWQzOGE1ZmE5YyIgc3R5bGU9IndpZHRoOiAxMDAuMCU7IGhlaWdodDogMTAwLjAlOyI+Rm91ciBXaW50ZXJzPC9kaXY+JylbMF07CiAgICAgICAgICAgICAgICBwb3B1cF80NGMzYjY1YzE3YWM0MWM5YjRlMjBlNzI1NzJiNWM3YS5zZXRDb250ZW50KGh0bWxfMmQzNTE0NzJmNTRjNDg5ZDhjNDVjY2VkMzhhNWZhOWMpOwogICAgICAgICAgICAKCiAgICAgICAgICAgIGNpcmNsZV9tYXJrZXJfZjg5OWU2MTQ2MDcyNGVjNzg1ZGRkNmQ3ZTMzZTk0NDIuYmluZFBvcHVwKHBvcHVwXzQ0YzNiNjVjMTdhYzQxYzliNGUyMGU3MjU3MmI1YzdhKTsKCiAgICAgICAgICAgIAogICAgICAgIAogICAgCiAgICAgICAgICAgIHZhciBjaXJjbGVfbWFya2VyX2E0NTcwZWZhZmVhYjQ4ZTRhZmY4ZTBjNzUxMTdmNjk4ID0gTC5jaXJjbGVNYXJrZXIoCiAgICAgICAgICAgICAgICBbNTEuNTEwOTI2MTkzMjg4NjEsLTAuMTMyNjg1NTI3Mjk5OTczMDddLAogICAgICAgICAgICAgICAgewogICJidWJibGluZ01vdXNlRXZlbnRzIjogdHJ1ZSwKICAiY29sb3IiOiAicmVkIiwKICAiZGFzaEFycmF5IjogbnVsbCwKICAiZGFzaE9mZnNldCI6IG51bGwsCiAgImZpbGwiOiB0cnVlLAogICJmaWxsQ29sb3IiOiAiI0U5NDk3NSIsCiAgImZpbGxPcGFjaXR5IjogMC43LAogICJmaWxsUnVsZSI6ICJldmVub2RkIiwKICAibGluZUNhcCI6ICJyb3VuZCIsCiAgImxpbmVKb2luIjogInJvdW5kIiwKICAib3BhY2l0eSI6IDEuMCwKICAicmFkaXVzIjogNSwKICAic3Ryb2tlIjogdHJ1ZSwKICAid2VpZ2h0IjogMwp9CiAgICAgICAgICAgICAgICApLmFkZFRvKG1hcF9mOTM5N2Q5YjYwMWM0ZmEyOTY5NmVhZDgyNGQ5MjMwOCk7CiAgICAgICAgICAgIAogICAgCiAgICAgICAgICAgIHZhciBwb3B1cF84OWEzZGNkYTM2ZGU0MmRjOTYxOWRiMTI5ZTRiZGIxMCA9IEwucG9wdXAoe21heFdpZHRoOiAnMzAwJ30pOwoKICAgICAgICAgICAgCiAgICAgICAgICAgICAgICB2YXIgaHRtbF83NGE2ODlmZmQwMTE0ZmY2ODZlYWJjYzU3MzU2MjU2YSA9ICQoJzxkaXYgaWQ9Imh0bWxfNzRhNjg5ZmZkMDExNGZmNjg2ZWFiY2M1NzM1NjI1NmEiIHN0eWxlPSJ3aWR0aDogMTAwLjAlOyBoZWlnaHQ6IDEwMC4wJTsiPllvbGtpbjwvZGl2PicpWzBdOwogICAgICAgICAgICAgICAgcG9wdXBfODlhM2RjZGEzNmRlNDJkYzk2MTlkYjEyOWU0YmRiMTAuc2V0Q29udGVudChodG1sXzc0YTY4OWZmZDAxMTRmZjY4NmVhYmNjNTczNTYyNTZhKTsKICAgICAgICAgICAgCgogICAgICAgICAgICBjaXJjbGVfbWFya2VyX2E0NTcwZWZhZmVhYjQ4ZTRhZmY4ZTBjNzUxMTdmNjk4LmJpbmRQb3B1cChwb3B1cF84OWEzZGNkYTM2ZGU0MmRjOTYxOWRiMTI5ZTRiZGIxMCk7CgogICAgICAgICAgICAKICAgICAgICAKICAgIAogICAgICAgICAgICB2YXIgY2lyY2xlX21hcmtlcl80YWFjYmNhYjM3OWI0YTUzYjhhYWJjZjllZjRhZTA4NiA9IEwuY2lyY2xlTWFya2VyKAogICAgICAgICAgICAgICAgWzUxLjUxMTk5NzYxMzIzNzIwNiwtMC4xMzMzOTIxMDkzNTA4NzEyOV0sCiAgICAgICAgICAgICAgICB7CiAgImJ1YmJsaW5nTW91c2VFdmVudHMiOiB0cnVlLAogICJjb2xvciI6ICJyZWQiLAogICJkYXNoQXJyYXkiOiBudWxsLAogICJkYXNoT2Zmc2V0IjogbnVsbCwKICAiZmlsbCI6IHRydWUsCiAgImZpbGxDb2xvciI6ICIjRTk0OTc1IiwKICAiZmlsbE9wYWNpdHkiOiAwLjcsCiAgImZpbGxSdWxlIjogImV2ZW5vZGQiLAogICJsaW5lQ2FwIjogInJvdW5kIiwKICAibGluZUpvaW4iOiAicm91bmQiLAogICJvcGFjaXR5IjogMS4wLAogICJyYWRpdXMiOiA1LAogICJzdHJva2UiOiB0cnVlLAogICJ3ZWlnaHQiOiAzCn0KICAgICAgICAgICAgICAgICkuYWRkVG8obWFwX2Y5Mzk3ZDliNjAxYzRmYTI5Njk2ZWFkODI0ZDkyMzA4KTsKICAgICAgICAgICAgCiAgICAKICAgICAgICAgICAgdmFyIHBvcHVwX2Q2YWE5MDBmOGM1NDQ2ZDRiMmZhZGU5MzYxNzc5NzU4ID0gTC5wb3B1cCh7bWF4V2lkdGg6ICczMDAnfSk7CgogICAgICAgICAgICAKICAgICAgICAgICAgICAgIHZhciBodG1sXzZiY2E5MjgxYzFlZDRmZDU5MDJiYmJmY2NmZTVlYjRjID0gJCgnPGRpdiBpZD0iaHRtbF82YmNhOTI4MWMxZWQ0ZmQ1OTAyYmJiZmNjZmU1ZWI0YyIgc3R5bGU9IndpZHRoOiAxMDAuMCU7IGhlaWdodDogMTAwLjAlOyI+VHN1amlyaTwvZGl2PicpWzBdOwogICAgICAgICAgICAgICAgcG9wdXBfZDZhYTkwMGY4YzU0NDZkNGIyZmFkZTkzNjE3Nzk3NTguc2V0Q29udGVudChodG1sXzZiY2E5MjgxYzFlZDRmZDU5MDJiYmJmY2NmZTVlYjRjKTsKICAgICAgICAgICAgCgogICAgICAgICAgICBjaXJjbGVfbWFya2VyXzRhYWNiY2FiMzc5YjRhNTNiOGFhYmNmOWVmNGFlMDg2LmJpbmRQb3B1cChwb3B1cF9kNmFhOTAwZjhjNTQ0NmQ0YjJmYWRlOTM2MTc3OTc1OCk7CgogICAgICAgICAgICAKICAgICAgICAKICAgIAogICAgICAgICAgICB2YXIgY2lyY2xlX21hcmtlcl8zOGU4MjAwYzNjOWE0MjMzYmUyOGFhMWUwNmI2ZGVjYiA9IEwuY2lyY2xlTWFya2VyKAogICAgICAgICAgICAgICAgWzUxLjUxMzY2MDQ5NTU3NjczLC0wLjEzNDE5NzI3ODEwMzA4NThdLAogICAgICAgICAgICAgICAgewogICJidWJibGluZ01vdXNlRXZlbnRzIjogdHJ1ZSwKICAiY29sb3IiOiAicmVkIiwKICAiZGFzaEFycmF5IjogbnVsbCwKICAiZGFzaE9mZnNldCI6IG51bGwsCiAgImZpbGwiOiB0cnVlLAogICJmaWxsQ29sb3IiOiAiI0U5NDk3NSIsCiAgImZpbGxPcGFjaXR5IjogMC43LAogICJmaWxsUnVsZSI6ICJldmVub2RkIiwKICAibGluZUNhcCI6ICJyb3VuZCIsCiAgImxpbmVKb2luIjogInJvdW5kIiwKICAib3BhY2l0eSI6IDEuMCwKICAicmFkaXVzIjogNSwKICAic3Ryb2tlIjogdHJ1ZSwKICAid2VpZ2h0IjogMwp9CiAgICAgICAgICAgICAgICApLmFkZFRvKG1hcF9mOTM5N2Q5YjYwMWM0ZmEyOTY5NmVhZDgyNGQ5MjMwOCk7CiAgICAgICAgICAgIAogICAgCiAgICAgICAgICAgIHZhciBwb3B1cF9lOTVlYmM5MGRlNDc0YjhkODg2ZjM4NTdjODQ1ZmYxNiA9IEwucG9wdXAoe21heFdpZHRoOiAnMzAwJ30pOwoKICAgICAgICAgICAgCiAgICAgICAgICAgICAgICB2YXIgaHRtbF83ZWU4ZTY4NGJhM2Q0ZWRmYTlhNjYzNTI3YjVjNTM0NiA9ICQoJzxkaXYgaWQ9Imh0bWxfN2VlOGU2ODRiYTNkNGVkZmE5YTY2MzUyN2I1YzUzNDYiIHN0eWxlPSJ3aWR0aDogMTAwLjAlOyBoZWlnaHQ6IDEwMC4wJTsiPlNub3dmbGFrZSBMdXh1cnkgR2VsYXRvPC9kaXY+JylbMF07CiAgICAgICAgICAgICAgICBwb3B1cF9lOTVlYmM5MGRlNDc0YjhkODg2ZjM4NTdjODQ1ZmYxNi5zZXRDb250ZW50KGh0bWxfN2VlOGU2ODRiYTNkNGVkZmE5YTY2MzUyN2I1YzUzNDYpOwogICAgICAgICAgICAKCiAgICAgICAgICAgIGNpcmNsZV9tYXJrZXJfMzhlODIwMGMzYzlhNDIzM2JlMjhhYTFlMDZiNmRlY2IuYmluZFBvcHVwKHBvcHVwX2U5NWViYzkwZGU0NzRiOGQ4ODZmMzg1N2M4NDVmZjE2KTsKCiAgICAgICAgICAgIAogICAgICAgIAogICAgCiAgICAgICAgICAgIHZhciBjaXJjbGVfbWFya2VyX2Q5M2ExZTRkZTQwYjQzOTA5ZGVlZGI4MjE2OTY1MTE2ID0gTC5jaXJjbGVNYXJrZXIoCiAgICAgICAgICAgICAgICBbNTEuNTEzNzIwMTE1NjQyNzMsLTAuMTI3NDExMTEwODA4NTMzMDddLAogICAgICAgICAgICAgICAgewogICJidWJibGluZ01vdXNlRXZlbnRzIjogdHJ1ZSwKICAiY29sb3IiOiAicmVkIiwKICAiZGFzaEFycmF5IjogbnVsbCwKICAiZGFzaE9mZnNldCI6IG51bGwsCiAgImZpbGwiOiB0cnVlLAogICJmaWxsQ29sb3IiOiAiI0U5NDk3NSIsCiAgImZpbGxPcGFjaXR5IjogMC43LAogICJmaWxsUnVsZSI6ICJldmVub2RkIiwKICAibGluZUNhcCI6ICJyb3VuZCIsCiAgImxpbmVKb2luIjogInJvdW5kIiwKICAib3BhY2l0eSI6IDEuMCwKICAicmFkaXVzIjogNSwKICAic3Ryb2tlIjogdHJ1ZSwKICAid2VpZ2h0IjogMwp9CiAgICAgICAgICAgICAgICApLmFkZFRvKG1hcF9mOTM5N2Q5YjYwMWM0ZmEyOTY5NmVhZDgyNGQ5MjMwOCk7CiAgICAgICAgICAgIAogICAgCiAgICAgICAgICAgIHZhciBwb3B1cF8zYmMzMWQyYjdmOTg0ZDJmOWNiZjczMjFjMTFjOTY0NiA9IEwucG9wdXAoe21heFdpZHRoOiAnMzAwJ30pOwoKICAgICAgICAgICAgCiAgICAgICAgICAgICAgICB2YXIgaHRtbF81ZWQ0YzdiMTdlMjM0MTU0YTJhZWNlMzFkYTFiMDlkNSA9ICQoJzxkaXYgaWQ9Imh0bWxfNWVkNGM3YjE3ZTIzNDE1NGEyYWVjZTMxZGExYjA5ZDUiIHN0eWxlPSJ3aWR0aDogMTAwLjAlOyBoZWlnaHQ6IDEwMC4wJTsiPlVkZGVybGljaW91czwvZGl2PicpWzBdOwogICAgICAgICAgICAgICAgcG9wdXBfM2JjMzFkMmI3Zjk4NGQyZjljYmY3MzIxYzExYzk2NDYuc2V0Q29udGVudChodG1sXzVlZDRjN2IxN2UyMzQxNTRhMmFlY2UzMWRhMWIwOWQ1KTsKICAgICAgICAgICAgCgogICAgICAgICAgICBjaXJjbGVfbWFya2VyX2Q5M2ExZTRkZTQwYjQzOTA5ZGVlZGI4MjE2OTY1MTE2LmJpbmRQb3B1cChwb3B1cF8zYmMzMWQyYjdmOTg0ZDJmOWNiZjczMjFjMTFjOTY0Nik7CgogICAgICAgICAgICAKICAgICAgICAKICAgIAogICAgICAgICAgICB2YXIgY2lyY2xlX21hcmtlcl9lYmJkZjdjYWY1N2Y0MjA5YTgyNDE0MjU1OGU2ZTc0NCA9IEwuY2lyY2xlTWFya2VyKAogICAgICAgICAgICAgICAgWzUxLjUxMTA0NjAzMzE5NTY1LC0wLjEyNjgyODAyNjY5MjA0MzVdLAogICAgICAgICAgICAgICAgewogICJidWJibGluZ01vdXNlRXZlbnRzIjogdHJ1ZSwKICAiY29sb3IiOiAicmVkIiwKICAiZGFzaEFycmF5IjogbnVsbCwKICAiZGFzaE9mZnNldCI6IG51bGwsCiAgImZpbGwiOiB0cnVlLAogICJmaWxsQ29sb3IiOiAiI0U5NDk3NSIsCiAgImZpbGxPcGFjaXR5IjogMC43LAogICJmaWxsUnVsZSI6ICJldmVub2RkIiwKICAibGluZUNhcCI6ICJyb3VuZCIsCiAgImxpbmVKb2luIjogInJvdW5kIiwKICAib3BhY2l0eSI6IDEuMCwKICAicmFkaXVzIjogNSwKICAic3Ryb2tlIjogdHJ1ZSwKICAid2VpZ2h0IjogMwp9CiAgICAgICAgICAgICAgICApLmFkZFRvKG1hcF9mOTM5N2Q5YjYwMWM0ZmEyOTY5NmVhZDgyNGQ5MjMwOCk7CiAgICAgICAgICAgIAogICAgCiAgICAgICAgICAgIHZhciBwb3B1cF82NzRmMTJiYjRmOTQ0YzE3YTBlYTIwZmY2MDRjNGU2OCA9IEwucG9wdXAoe21heFdpZHRoOiAnMzAwJ30pOwoKICAgICAgICAgICAgCiAgICAgICAgICAgICAgICB2YXIgaHRtbF9jYTFiNWEzNzk3YWQ0NTA5OTFiNmNmNGYzMzI2ZGM1MSA9ICQoJzxkaXYgaWQ9Imh0bWxfY2ExYjVhMzc5N2FkNDUwOTkxYjZjZjRmMzMyNmRjNTEiIHN0eWxlPSJ3aWR0aDogMTAwLjAlOyBoZWlnaHQ6IDEwMC4wJTsiPkxhIEdlbGF0aWVyYTwvZGl2PicpWzBdOwogICAgICAgICAgICAgICAgcG9wdXBfNjc0ZjEyYmI0Zjk0NGMxN2EwZWEyMGZmNjA0YzRlNjguc2V0Q29udGVudChodG1sX2NhMWI1YTM3OTdhZDQ1MDk5MWI2Y2Y0ZjMzMjZkYzUxKTsKICAgICAgICAgICAgCgogICAgICAgICAgICBjaXJjbGVfbWFya2VyX2ViYmRmN2NhZjU3ZjQyMDlhODI0MTQyNTU4ZTZlNzQ0LmJpbmRQb3B1cChwb3B1cF82NzRmMTJiYjRmOTQ0YzE3YTBlYTIwZmY2MDRjNGU2OCk7CgogICAgICAgICAgICAKICAgICAgICAKICAgIAogICAgICAgICAgICB2YXIgY2lyY2xlX21hcmtlcl85NmFiMTY5NGFkNmY0OTYwYjUwNWYwMGNmYmY4N2Q5YiA9IEwuY2lyY2xlTWFya2VyKAogICAgICAgICAgICAgICAgWzUxLjUxNDI3MjgwODkzNTYyLC0wLjEzNDYzMzM0NjkzOTEwNjQ1XSwKICAgICAgICAgICAgICAgIHsKICAiYnViYmxpbmdNb3VzZUV2ZW50cyI6IHRydWUsCiAgImNvbG9yIjogInJlZCIsCiAgImRhc2hBcnJheSI6IG51bGwsCiAgImRhc2hPZmZzZXQiOiBudWxsLAogICJmaWxsIjogdHJ1ZSwKICAiZmlsbENvbG9yIjogIiNFOTQ5NzUiLAogICJmaWxsT3BhY2l0eSI6IDAuNywKICAiZmlsbFJ1bGUiOiAiZXZlbm9kZCIsCiAgImxpbmVDYXAiOiAicm91bmQiLAogICJsaW5lSm9pbiI6ICJyb3VuZCIsCiAgIm9wYWNpdHkiOiAxLjAsCiAgInJhZGl1cyI6IDUsCiAgInN0cm9rZSI6IHRydWUsCiAgIndlaWdodCI6IDMKfQogICAgICAgICAgICAgICAgKS5hZGRUbyhtYXBfZjkzOTdkOWI2MDFjNGZhMjk2OTZlYWQ4MjRkOTIzMDgpOwogICAgICAgICAgICAKICAgIAogICAgICAgICAgICB2YXIgcG9wdXBfOWMzOWI0M2FiNDgyNDBmNmIxM2IzODEyMzkxNDA5MjcgPSBMLnBvcHVwKHttYXhXaWR0aDogJzMwMCd9KTsKCiAgICAgICAgICAgIAogICAgICAgICAgICAgICAgdmFyIGh0bWxfNmJjMTJiZjZhODQ2NGQ2MWE4Yjk2NzhiNmZkMWJmZDQgPSAkKCc8ZGl2IGlkPSJodG1sXzZiYzEyYmY2YTg0NjRkNjFhOGI5Njc4YjZmZDFiZmQ0IiBzdHlsZT0id2lkdGg6IDEwMC4wJTsgaGVpZ2h0OiAxMDAuMCU7Ij5Zb3JpY2E8L2Rpdj4nKVswXTsKICAgICAgICAgICAgICAgIHBvcHVwXzljMzliNDNhYjQ4MjQwZjZiMTNiMzgxMjM5MTQwOTI3LnNldENvbnRlbnQoaHRtbF82YmMxMmJmNmE4NDY0ZDYxYThiOTY3OGI2ZmQxYmZkNCk7CiAgICAgICAgICAgIAoKICAgICAgICAgICAgY2lyY2xlX21hcmtlcl85NmFiMTY5NGFkNmY0OTYwYjUwNWYwMGNmYmY4N2Q5Yi5iaW5kUG9wdXAocG9wdXBfOWMzOWI0M2FiNDgyNDBmNmIxM2IzODEyMzkxNDA5MjcpOwoKICAgICAgICAgICAgCiAgICAgICAgCiAgICAKICAgICAgICAgICAgdmFyIGNpcmNsZV9tYXJrZXJfYWIzNGZiMzQ2M2NjNGU3M2JhYzlmYmViNjJiNmYxNjAgPSBMLmNpcmNsZU1hcmtlcigKICAgICAgICAgICAgICAgIFs1MS41MDk0NzI3MjI1NjEzMiwtMC4xMzU4NTM0NDgzNTUyNzM3XSwKICAgICAgICAgICAgICAgIHsKICAiYnViYmxpbmdNb3VzZUV2ZW50cyI6IHRydWUsCiAgImNvbG9yIjogInJlZCIsCiAgImRhc2hBcnJheSI6IG51bGwsCiAgImRhc2hPZmZzZXQiOiBudWxsLAogICJmaWxsIjogdHJ1ZSwKICAiZmlsbENvbG9yIjogIiNFOTQ5NzUiLAogICJmaWxsT3BhY2l0eSI6IDAuNywKICAiZmlsbFJ1bGUiOiAiZXZlbm9kZCIsCiAgImxpbmVDYXAiOiAicm91bmQiLAogICJsaW5lSm9pbiI6ICJyb3VuZCIsCiAgIm9wYWNpdHkiOiAxLjAsCiAgInJhZGl1cyI6IDUsCiAgInN0cm9rZSI6IHRydWUsCiAgIndlaWdodCI6IDMKfQogICAgICAgICAgICAgICAgKS5hZGRUbyhtYXBfZjkzOTdkOWI2MDFjNGZhMjk2OTZlYWQ4MjRkOTIzMDgpOwogICAgICAgICAgICAKICAgIAogICAgICAgICAgICB2YXIgcG9wdXBfZjQ0MzBjOWEyMjA0NDRkZGIwNTNmMjg2NWU0MTZhMDUgPSBMLnBvcHVwKHttYXhXaWR0aDogJzMwMCd9KTsKCiAgICAgICAgICAgIAogICAgICAgICAgICAgICAgdmFyIGh0bWxfMWVjNDM0MjJkN2VhNDNiMjk0ZDYyZWFkMTVmZDY1NmQgPSAkKCc8ZGl2IGlkPSJodG1sXzFlYzQzNDIyZDdlYTQzYjI5NGQ2MmVhZDE1ZmQ2NTZkIiBzdHlsZT0id2lkdGg6IDEwMC4wJTsgaGVpZ2h0OiAxMDAuMCU7Ij5Hcm9tPC9kaXY+JylbMF07CiAgICAgICAgICAgICAgICBwb3B1cF9mNDQzMGM5YTIyMDQ0NGRkYjA1M2YyODY1ZTQxNmEwNS5zZXRDb250ZW50KGh0bWxfMWVjNDM0MjJkN2VhNDNiMjk0ZDYyZWFkMTVmZDY1NmQpOwogICAgICAgICAgICAKCiAgICAgICAgICAgIGNpcmNsZV9tYXJrZXJfYWIzNGZiMzQ2M2NjNGU3M2JhYzlmYmViNjJiNmYxNjAuYmluZFBvcHVwKHBvcHVwX2Y0NDMwYzlhMjIwNDQ0ZGRiMDUzZjI4NjVlNDE2YTA1KTsKCiAgICAgICAgICAgIAogICAgICAgIAogICAgCiAgICAgICAgICAgIHZhciBjaXJjbGVfbWFya2VyX2MxYWIxNGU0MzBkYTRjYjI4MDg1NzI5MjQxM2VhNDllID0gTC5jaXJjbGVNYXJrZXIoCiAgICAgICAgICAgICAgICBbNTEuNTExNTM4LC0wLjEzNDQ5NV0sCiAgICAgICAgICAgICAgICB7CiAgImJ1YmJsaW5nTW91c2VFdmVudHMiOiB0cnVlLAogICJjb2xvciI6ICJyZWQiLAogICJkYXNoQXJyYXkiOiBudWxsLAogICJkYXNoT2Zmc2V0IjogbnVsbCwKICAiZmlsbCI6IHRydWUsCiAgImZpbGxDb2xvciI6ICIjRTk0OTc1IiwKICAiZmlsbE9wYWNpdHkiOiAwLjcsCiAgImZpbGxSdWxlIjogImV2ZW5vZGQiLAogICJsaW5lQ2FwIjogInJvdW5kIiwKICAibGluZUpvaW4iOiAicm91bmQiLAogICJvcGFjaXR5IjogMS4wLAogICJyYWRpdXMiOiA1LAogICJzdHJva2UiOiB0cnVlLAogICJ3ZWlnaHQiOiAzCn0KICAgICAgICAgICAgICAgICkuYWRkVG8obWFwX2Y5Mzk3ZDliNjAxYzRmYTI5Njk2ZWFkODI0ZDkyMzA4KTsKICAgICAgICAgICAgCiAgICAKICAgICAgICAgICAgdmFyIHBvcHVwX2Y4YTdjZTY0Njk3ZDQ4Zjc5MTY2MmU1YzBlMjkwNDMwID0gTC5wb3B1cCh7bWF4V2lkdGg6ICczMDAnfSk7CgogICAgICAgICAgICAKICAgICAgICAgICAgICAgIHZhciBodG1sX2FiOGJjZmNlNzY1YzRlNzBiMDY4ZTIzMWNiY2RiYzIzID0gJCgnPGRpdiBpZD0iaHRtbF9hYjhiY2ZjZTc2NWM0ZTcwYjA2OGUyMzFjYmNkYmMyMyIgc3R5bGU9IndpZHRoOiAxMDAuMCU7IGhlaWdodDogMTAwLjAlOyI+TWlzdGVyIEZpdHo8L2Rpdj4nKVswXTsKICAgICAgICAgICAgICAgIHBvcHVwX2Y4YTdjZTY0Njk3ZDQ4Zjc5MTY2MmU1YzBlMjkwNDMwLnNldENvbnRlbnQoaHRtbF9hYjhiY2ZjZTc2NWM0ZTcwYjA2OGUyMzFjYmNkYmMyMyk7CiAgICAgICAgICAgIAoKICAgICAgICAgICAgY2lyY2xlX21hcmtlcl9jMWFiMTRlNDMwZGE0Y2IyODA4NTcyOTI0MTNlYTQ5ZS5iaW5kUG9wdXAocG9wdXBfZjhhN2NlNjQ2OTdkNDhmNzkxNjYyZTVjMGUyOTA0MzApOwoKICAgICAgICAgICAgCiAgICAgICAgCiAgICAKICAgICAgICAgICAgdmFyIGNpcmNsZV9tYXJrZXJfZjE3YjQzMGIxMjY2NGQ0MTk1MzcxOWM5Njk4YmI3OTQgPSBMLmNpcmNsZU1hcmtlcigKICAgICAgICAgICAgICAgIFs1MS41MTA0MjcyNjYyMTQxOSwtMC4xMjg0MDA4MTQ5MjkyMTYzN10sCiAgICAgICAgICAgICAgICB7CiAgImJ1YmJsaW5nTW91c2VFdmVudHMiOiB0cnVlLAogICJjb2xvciI6ICJyZWQiLAogICJkYXNoQXJyYXkiOiBudWxsLAogICJkYXNoT2Zmc2V0IjogbnVsbCwKICAiZmlsbCI6IHRydWUsCiAgImZpbGxDb2xvciI6ICIjRTk0OTc1IiwKICAiZmlsbE9wYWNpdHkiOiAwLjcsCiAgImZpbGxSdWxlIjogImV2ZW5vZGQiLAogICJsaW5lQ2FwIjogInJvdW5kIiwKICAibGluZUpvaW4iOiAicm91bmQiLAogICJvcGFjaXR5IjogMS4wLAogICJyYWRpdXMiOiA1LAogICJzdHJva2UiOiB0cnVlLAogICJ3ZWlnaHQiOiAzCn0KICAgICAgICAgICAgICAgICkuYWRkVG8obWFwX2Y5Mzk3ZDliNjAxYzRmYTI5Njk2ZWFkODI0ZDkyMzA4KTsKICAgICAgICAgICAgCiAgICAKICAgICAgICAgICAgdmFyIHBvcHVwX2FjMTY1MDg4ZTQ2YjQ0YzA4NDFhYTMyMjFiYzViOTYxID0gTC5wb3B1cCh7bWF4V2lkdGg6ICczMDAnfSk7CgogICAgICAgICAgICAKICAgICAgICAgICAgICAgIHZhciBodG1sX2I5OTM2MGI1ZDEyZjRkMGJiNzM0Njk3NjljZWRjNDE5ID0gJCgnPGRpdiBpZD0iaHRtbF9iOTkzNjBiNWQxMmY0ZDBiYjczNDY5NzY5Y2VkYzQxOSIgc3R5bGU9IndpZHRoOiAxMDAuMCU7IGhlaWdodDogMTAwLjAlOyI+QW1vcmlubzwvZGl2PicpWzBdOwogICAgICAgICAgICAgICAgcG9wdXBfYWMxNjUwODhlNDZiNDRjMDg0MWFhMzIyMWJjNWI5NjEuc2V0Q29udGVudChodG1sX2I5OTM2MGI1ZDEyZjRkMGJiNzM0Njk3NjljZWRjNDE5KTsKICAgICAgICAgICAgCgogICAgICAgICAgICBjaXJjbGVfbWFya2VyX2YxN2I0MzBiMTI2NjRkNDE5NTM3MTljOTY5OGJiNzk0LmJpbmRQb3B1cChwb3B1cF9hYzE2NTA4OGU0NmI0NGMwODQxYWEzMjIxYmM1Yjk2MSk7CgogICAgICAgICAgICAKICAgICAgICAKICAgIAogICAgICAgICAgICB2YXIgY2lyY2xlX21hcmtlcl9hODI2MTE4N2U3MjU0OTk5YTNlOWViNDIzMGJjYjlhNiA9IEwuY2lyY2xlTWFya2VyKAogICAgICAgICAgICAgICAgWzUxLjUwOTAxNzk2NjYzNjI1LC0wLjEyNzIyMTEzOTE1MzUzMTk1XSwKICAgICAgICAgICAgICAgIHsKICAiYnViYmxpbmdNb3VzZUV2ZW50cyI6IHRydWUsCiAgImNvbG9yIjogInJlZCIsCiAgImRhc2hBcnJheSI6IG51bGwsCiAgImRhc2hPZmZzZXQiOiBudWxsLAogICJmaWxsIjogdHJ1ZSwKICAiZmlsbENvbG9yIjogIiNFOTQ5NzUiLAogICJmaWxsT3BhY2l0eSI6IDAuNywKICAiZmlsbFJ1bGUiOiAiZXZlbm9kZCIsCiAgImxpbmVDYXAiOiAicm91bmQiLAogICJsaW5lSm9pbiI6ICJyb3VuZCIsCiAgIm9wYWNpdHkiOiAxLjAsCiAgInJhZGl1cyI6IDUsCiAgInN0cm9rZSI6IHRydWUsCiAgIndlaWdodCI6IDMKfQogICAgICAgICAgICAgICAgKS5hZGRUbyhtYXBfZjkzOTdkOWI2MDFjNGZhMjk2OTZlYWQ4MjRkOTIzMDgpOwogICAgICAgICAgICAKICAgIAogICAgICAgICAgICB2YXIgcG9wdXBfNDNjMDUyMjAxOGNhNDdjYTkxYmU5MmQwNDhmZmQzYjUgPSBMLnBvcHVwKHttYXhXaWR0aDogJzMwMCd9KTsKCiAgICAgICAgICAgIAogICAgICAgICAgICAgICAgdmFyIGh0bWxfOTkwOTQ2NGY5NmIyNDQ0NWE4ZDU2NTRhODFiZGJkODUgPSAkKCc8ZGl2IGlkPSJodG1sXzk5MDk0NjRmOTZiMjQ0NDVhOGQ1NjU0YTgxYmRiZDg1IiBzdHlsZT0id2lkdGg6IDEwMC4wJTsgaGVpZ2h0OiAxMDAuMCU7Ij5JY2UgQ3JlYW0gRnJvemVuIFlvZ2h1cnQ8L2Rpdj4nKVswXTsKICAgICAgICAgICAgICAgIHBvcHVwXzQzYzA1MjIwMThjYTQ3Y2E5MWJlOTJkMDQ4ZmZkM2I1LnNldENvbnRlbnQoaHRtbF85OTA5NDY0Zjk2YjI0NDQ1YThkNTY1NGE4MWJkYmQ4NSk7CiAgICAgICAgICAgIAoKICAgICAgICAgICAgY2lyY2xlX21hcmtlcl9hODI2MTE4N2U3MjU0OTk5YTNlOWViNDIzMGJjYjlhNi5iaW5kUG9wdXAocG9wdXBfNDNjMDUyMjAxOGNhNDdjYTkxYmU5MmQwNDhmZmQzYjUpOwoKICAgICAgICAgICAgCiAgICAgICAgCiAgICAKICAgICAgICAgICAgdmFyIGNpcmNsZV9tYXJrZXJfYTNmZWUxOTNmYWI4NGY0Yzk0MDkwOTI2ZTMyNTJhZDkgPSBMLmNpcmNsZU1hcmtlcigKICAgICAgICAgICAgICAgIFs1MS41MDk0NzI3MjI1NjEzMiwtMC4xMzU4NTM0NDgzNTUyNzM3XSwKICAgICAgICAgICAgICAgIHsKICAiYnViYmxpbmdNb3VzZUV2ZW50cyI6IHRydWUsCiAgImNvbG9yIjogInJlZCIsCiAgImRhc2hBcnJheSI6IG51bGwsCiAgImRhc2hPZmZzZXQiOiBudWxsLAogICJmaWxsIjogdHJ1ZSwKICAiZmlsbENvbG9yIjogIiNFOTQ5NzUiLAogICJmaWxsT3BhY2l0eSI6IDAuNywKICAiZmlsbFJ1bGUiOiAiZXZlbm9kZCIsCiAgImxpbmVDYXAiOiAicm91bmQiLAogICJsaW5lSm9pbiI6ICJyb3VuZCIsCiAgIm9wYWNpdHkiOiAxLjAsCiAgInJhZGl1cyI6IDUsCiAgInN0cm9rZSI6IHRydWUsCiAgIndlaWdodCI6IDMKfQogICAgICAgICAgICAgICAgKS5hZGRUbyhtYXBfZjkzOTdkOWI2MDFjNGZhMjk2OTZlYWQ4MjRkOTIzMDgpOwogICAgICAgICAgICAKICAgIAogICAgICAgICAgICB2YXIgcG9wdXBfZTU0MmViODg0NGZhNGI5MDhiY2M0NGQyMTY2MzYyMDUgPSBMLnBvcHVwKHttYXhXaWR0aDogJzMwMCd9KTsKCiAgICAgICAgICAgIAogICAgICAgICAgICAgICAgdmFyIGh0bWxfZTNkN2QxN2U0NGY2NDk3NmE4ZDFhZjExMjRhNmM4NjEgPSAkKCc8ZGl2IGlkPSJodG1sX2UzZDdkMTdlNDRmNjQ5NzZhOGQxYWYxMTI0YTZjODYxIiBzdHlsZT0id2lkdGg6IDEwMC4wJTsgaGVpZ2h0OiAxMDAuMCU7Ij5Hcm9tPC9kaXY+JylbMF07CiAgICAgICAgICAgICAgICBwb3B1cF9lNTQyZWI4ODQ0ZmE0YjkwOGJjYzQ0ZDIxNjYzNjIwNS5zZXRDb250ZW50KGh0bWxfZTNkN2QxN2U0NGY2NDk3NmE4ZDFhZjExMjRhNmM4NjEpOwogICAgICAgICAgICAKCiAgICAgICAgICAgIGNpcmNsZV9tYXJrZXJfYTNmZWUxOTNmYWI4NGY0Yzk0MDkwOTI2ZTMyNTJhZDkuYmluZFBvcHVwKHBvcHVwX2U1NDJlYjg4NDRmYTRiOTA4YmNjNDRkMjE2NjM2MjA1KTsKCiAgICAgICAgICAgIAogICAgICAgIAogICAgCiAgICAgICAgICAgIHZhciBjaXJjbGVfbWFya2VyXzE0Njc5ZmRmMzg1MDRkMjRiZjlmYmU5NTZlN2YxZjRjID0gTC5jaXJjbGVNYXJrZXIoCiAgICAgICAgICAgICAgICBbNTEuNTExNjAzNDA3OTU1MTcsLTAuMTMzODIyNzk3OTkwMjI3Ml0sCiAgICAgICAgICAgICAgICB7CiAgImJ1YmJsaW5nTW91c2VFdmVudHMiOiB0cnVlLAogICJjb2xvciI6ICJyZWQiLAogICJkYXNoQXJyYXkiOiBudWxsLAogICJkYXNoT2Zmc2V0IjogbnVsbCwKICAiZmlsbCI6IHRydWUsCiAgImZpbGxDb2xvciI6ICIjRTk0OTc1IiwKICAiZmlsbE9wYWNpdHkiOiAwLjcsCiAgImZpbGxSdWxlIjogImV2ZW5vZGQiLAogICJsaW5lQ2FwIjogInJvdW5kIiwKICAibGluZUpvaW4iOiAicm91bmQiLAogICJvcGFjaXR5IjogMS4wLAogICJyYWRpdXMiOiA1LAogICJzdHJva2UiOiB0cnVlLAogICJ3ZWlnaHQiOiAzCn0KICAgICAgICAgICAgICAgICkuYWRkVG8obWFwX2Y5Mzk3ZDliNjAxYzRmYTI5Njk2ZWFkODI0ZDkyMzA4KTsKICAgICAgICAgICAgCiAgICAKICAgICAgICAgICAgdmFyIHBvcHVwXzcxMGU2OWM5OTMxZTQ3ZDM4ZWFjZmM1YzI4MzI5MDAwID0gTC5wb3B1cCh7bWF4V2lkdGg6ICczMDAnfSk7CgogICAgICAgICAgICAKICAgICAgICAgICAgICAgIHZhciBodG1sXzQyOTg1NzZjMThlNDRmZjc5MmQyMGRmYmUwMDkwZWFlID0gJCgnPGRpdiBpZD0iaHRtbF80Mjk4NTc2YzE4ZTQ0ZmY3OTJkMjBkZmJlMDA5MGVhZSIgc3R5bGU9IndpZHRoOiAxMDAuMCU7IGhlaWdodDogMTAwLjAlOyI+R2VsdXBvPC9kaXY+JylbMF07CiAgICAgICAgICAgICAgICBwb3B1cF83MTBlNjljOTkzMWU0N2QzOGVhY2ZjNWMyODMyOTAwMC5zZXRDb250ZW50KGh0bWxfNDI5ODU3NmMxOGU0NGZmNzkyZDIwZGZiZTAwOTBlYWUpOwogICAgICAgICAgICAKCiAgICAgICAgICAgIGNpcmNsZV9tYXJrZXJfMTQ2NzlmZGYzODUwNGQyNGJmOWZiZTk1NmU3ZjFmNGMuYmluZFBvcHVwKHBvcHVwXzcxMGU2OWM5OTMxZTQ3ZDM4ZWFjZmM1YzI4MzI5MDAwKTsKCiAgICAgICAgICAgIAogICAgICAgIAogICAgCiAgICAgICAgICAgIHZhciBjaXJjbGVfbWFya2VyXzUwYmZlZWRkMTljNTQwNjY5MDc1YjcwN2UzMjhkNzZiID0gTC5jaXJjbGVNYXJrZXIoCiAgICAgICAgICAgICAgICBbNTEuNTEwODU5NDQzMzk4LC0wLjEzMTYzMTMwMzUwMTA0NDldLAogICAgICAgICAgICAgICAgewogICJidWJibGluZ01vdXNlRXZlbnRzIjogdHJ1ZSwKICAiY29sb3IiOiAicmVkIiwKICAiZGFzaEFycmF5IjogbnVsbCwKICAiZGFzaE9mZnNldCI6IG51bGwsCiAgImZpbGwiOiB0cnVlLAogICJmaWxsQ29sb3IiOiAiI0U5NDk3NSIsCiAgImZpbGxPcGFjaXR5IjogMC43LAogICJmaWxsUnVsZSI6ICJldmVub2RkIiwKICAibGluZUNhcCI6ICJyb3VuZCIsCiAgImxpbmVKb2luIjogInJvdW5kIiwKICAib3BhY2l0eSI6IDEuMCwKICAicmFkaXVzIjogNSwKICAic3Ryb2tlIjogdHJ1ZSwKICAid2VpZ2h0IjogMwp9CiAgICAgICAgICAgICAgICApLmFkZFRvKG1hcF9mOTM5N2Q5YjYwMWM0ZmEyOTY5NmVhZDgyNGQ5MjMwOCk7CiAgICAgICAgICAgIAogICAgCiAgICAgICAgICAgIHZhciBwb3B1cF9hYmZkNGEyZDJjMzI0NmVkYjAwZTUyNDQyNWM4MWMwMiA9IEwucG9wdXAoe21heFdpZHRoOiAnMzAwJ30pOwoKICAgICAgICAgICAgCiAgICAgICAgICAgICAgICB2YXIgaHRtbF9mMjdmZWJlODBmODg0ZDEzOGE0YzYwODRjOGNjMDRhZSA9ICQoJzxkaXYgaWQ9Imh0bWxfZjI3ZmViZTgwZjg4NGQxMzhhNGM2MDg0YzhjYzA0YWUiIHN0eWxlPSJ3aWR0aDogMTAwLjAlOyBoZWlnaHQ6IDEwMC4wJTsiPkJha2Ug6bq15YyF5bGLPC9kaXY+JylbMF07CiAgICAgICAgICAgICAgICBwb3B1cF9hYmZkNGEyZDJjMzI0NmVkYjAwZTUyNDQyNWM4MWMwMi5zZXRDb250ZW50KGh0bWxfZjI3ZmViZTgwZjg4NGQxMzhhNGM2MDg0YzhjYzA0YWUpOwogICAgICAgICAgICAKCiAgICAgICAgICAgIGNpcmNsZV9tYXJrZXJfNTBiZmVlZGQxOWM1NDA2NjkwNzViNzA3ZTMyOGQ3NmIuYmluZFBvcHVwKHBvcHVwX2FiZmQ0YTJkMmMzMjQ2ZWRiMDBlNTI0NDI1YzgxYzAyKTsKCiAgICAgICAgICAgIAogICAgICAgIAogICAgCiAgICAgICAgICAgIHZhciBjaXJjbGVfbWFya2VyXzdhODlkYWNlZmM5NDRlM2ViMDA4YTVmNzg0OTgzN2MzID0gTC5jaXJjbGVNYXJrZXIoCiAgICAgICAgICAgICAgICBbNTEuNTEyODY4MTQ5NDgwOCwtMC4xMzIxNjA5ODEyNDk0MjgwMl0sCiAgICAgICAgICAgICAgICB7CiAgImJ1YmJsaW5nTW91c2VFdmVudHMiOiB0cnVlLAogICJjb2xvciI6ICJyZWQiLAogICJkYXNoQXJyYXkiOiBudWxsLAogICJkYXNoT2Zmc2V0IjogbnVsbCwKICAiZmlsbCI6IHRydWUsCiAgImZpbGxDb2xvciI6ICIjRTk0OTc1IiwKICAiZmlsbE9wYWNpdHkiOiAwLjcsCiAgImZpbGxSdWxlIjogImV2ZW5vZGQiLAogICJsaW5lQ2FwIjogInJvdW5kIiwKICAibGluZUpvaW4iOiAicm91bmQiLAogICJvcGFjaXR5IjogMS4wLAogICJyYWRpdXMiOiA1LAogICJzdHJva2UiOiB0cnVlLAogICJ3ZWlnaHQiOiAzCn0KICAgICAgICAgICAgICAgICkuYWRkVG8obWFwX2Y5Mzk3ZDliNjAxYzRmYTI5Njk2ZWFkODI0ZDkyMzA4KTsKICAgICAgICAgICAgCiAgICAKICAgICAgICAgICAgdmFyIHBvcHVwXzJkODg1ZjkxZDk1ZjQ5MTg4YWJhYTU3ODE1YWM3OGU5ID0gTC5wb3B1cCh7bWF4V2lkdGg6ICczMDAnfSk7CgogICAgICAgICAgICAKICAgICAgICAgICAgICAgIHZhciBodG1sX2UyNjM2ZWZmN2Q2MTRmY2I5NmIwMmU1YmE1MmZjODU2ID0gJCgnPGRpdiBpZD0iaHRtbF9lMjYzNmVmZjdkNjE0ZmNiOTZiMDJlNWJhNTJmYzg1NiIgc3R5bGU9IndpZHRoOiAxMDAuMCU7IGhlaWdodDogMTAwLjAlOyI+QW1vcmlubzwvZGl2PicpWzBdOwogICAgICAgICAgICAgICAgcG9wdXBfMmQ4ODVmOTFkOTVmNDkxODhhYmFhNTc4MTVhYzc4ZTkuc2V0Q29udGVudChodG1sX2UyNjM2ZWZmN2Q2MTRmY2I5NmIwMmU1YmE1MmZjODU2KTsKICAgICAgICAgICAgCgogICAgICAgICAgICBjaXJjbGVfbWFya2VyXzdhODlkYWNlZmM5NDRlM2ViMDA4YTVmNzg0OTgzN2MzLmJpbmRQb3B1cChwb3B1cF8yZDg4NWY5MWQ5NWY0OTE4OGFiYWE1NzgxNWFjNzhlOSk7CgogICAgICAgICAgICAKICAgICAgICAKICAgIAogICAgICAgICAgICB2YXIgY2lyY2xlX21hcmtlcl9hNGIzY2JlZTAwOWI0ZjNlYmMwNjlmOTcwNDI0Y2Q4MCA9IEwuY2lyY2xlTWFya2VyKAogICAgICAgICAgICAgICAgWzUxLjUxMTUzOCwtMC4xMzQ0OTVdLAogICAgICAgICAgICAgICAgewogICJidWJibGluZ01vdXNlRXZlbnRzIjogdHJ1ZSwKICAiY29sb3IiOiAicmVkIiwKICAiZGFzaEFycmF5IjogbnVsbCwKICAiZGFzaE9mZnNldCI6IG51bGwsCiAgImZpbGwiOiB0cnVlLAogICJmaWxsQ29sb3IiOiAiI0U5NDk3NSIsCiAgImZpbGxPcGFjaXR5IjogMC43LAogICJmaWxsUnVsZSI6ICJldmVub2RkIiwKICAibGluZUNhcCI6ICJyb3VuZCIsCiAgImxpbmVKb2luIjogInJvdW5kIiwKICAib3BhY2l0eSI6IDEuMCwKICAicmFkaXVzIjogNSwKICAic3Ryb2tlIjogdHJ1ZSwKICAid2VpZ2h0IjogMwp9CiAgICAgICAgICAgICAgICApLmFkZFRvKG1hcF9mOTM5N2Q5YjYwMWM0ZmEyOTY5NmVhZDgyNGQ5MjMwOCk7CiAgICAgICAgICAgIAogICAgCiAgICAgICAgICAgIHZhciBwb3B1cF9kNjY5Y2NlOTJkNTA0Mjc4OTQ3M2QzYTRkMjNmNzMwNCA9IEwucG9wdXAoe21heFdpZHRoOiAnMzAwJ30pOwoKICAgICAgICAgICAgCiAgICAgICAgICAgICAgICB2YXIgaHRtbF84OTAxMGI4OTQyODg0ZmY5Yjg4MWJjZTE1MDNiZGZlOSA9ICQoJzxkaXYgaWQ9Imh0bWxfODkwMTBiODk0Mjg4NGZmOWI4ODFiY2UxNTAzYmRmZTkiIHN0eWxlPSJ3aWR0aDogMTAwLjAlOyBoZWlnaHQ6IDEwMC4wJTsiPk1pc3RlciBGaXR6PC9kaXY+JylbMF07CiAgICAgICAgICAgICAgICBwb3B1cF9kNjY5Y2NlOTJkNTA0Mjc4OTQ3M2QzYTRkMjNmNzMwNC5zZXRDb250ZW50KGh0bWxfODkwMTBiODk0Mjg4NGZmOWI4ODFiY2UxNTAzYmRmZTkpOwogICAgICAgICAgICAKCiAgICAgICAgICAgIGNpcmNsZV9tYXJrZXJfYTRiM2NiZWUwMDliNGYzZWJjMDY5Zjk3MDQyNGNkODAuYmluZFBvcHVwKHBvcHVwX2Q2NjljY2U5MmQ1MDQyNzg5NDczZDNhNGQyM2Y3MzA0KTsKCiAgICAgICAgICAgIAogICAgICAgIAogICAgCiAgICAgICAgICAgIHZhciBjaXJjbGVfbWFya2VyX2ZkYmI2OWIwNTBhNDRlMGZiNTIxNmI1MDIyNzc2NTAyID0gTC5jaXJjbGVNYXJrZXIoCiAgICAgICAgICAgICAgICBbNTEuNTExNzE4NDcyODQ0ODU1LC0wLjEzMzYxMTkwNTUwMDQ0MzFdLAogICAgICAgICAgICAgICAgewogICJidWJibGluZ01vdXNlRXZlbnRzIjogdHJ1ZSwKICAiY29sb3IiOiAicmVkIiwKICAiZGFzaEFycmF5IjogbnVsbCwKICAiZGFzaE9mZnNldCI6IG51bGwsCiAgImZpbGwiOiB0cnVlLAogICJmaWxsQ29sb3IiOiAiI0U5NDk3NSIsCiAgImZpbGxPcGFjaXR5IjogMC43LAogICJmaWxsUnVsZSI6ICJldmVub2RkIiwKICAibGluZUNhcCI6ICJyb3VuZCIsCiAgImxpbmVKb2luIjogInJvdW5kIiwKICAib3BhY2l0eSI6IDEuMCwKICAicmFkaXVzIjogNSwKICAic3Ryb2tlIjogdHJ1ZSwKICAid2VpZ2h0IjogMwp9CiAgICAgICAgICAgICAgICApLmFkZFRvKG1hcF9mOTM5N2Q5YjYwMWM0ZmEyOTY5NmVhZDgyNGQ5MjMwOCk7CiAgICAgICAgICAgIAogICAgCiAgICAgICAgICAgIHZhciBwb3B1cF83OGZiMjYzZmZiOTQ0MjE2OWM2NGVmZDFhOWM2ZTBhMSA9IEwucG9wdXAoe21heFdpZHRoOiAnMzAwJ30pOwoKICAgICAgICAgICAgCiAgICAgICAgICAgICAgICB2YXIgaHRtbF83YWI3MmZjOGJlMjA0MDAwYjYyMTA3MDMyNjYyNmMyOSA9ICQoJzxkaXYgaWQ9Imh0bWxfN2FiNzJmYzhiZTIwNDAwMGI2MjEwNzAzMjY2MjZjMjkiIHN0eWxlPSJ3aWR0aDogMTAwLjAlOyBoZWlnaHQ6IDEwMC4wJTsiPkdlbGF0bywgQXJjaGVyIFN0cmVldCwgU29obzwvZGl2PicpWzBdOwogICAgICAgICAgICAgICAgcG9wdXBfNzhmYjI2M2ZmYjk0NDIxNjljNjRlZmQxYTljNmUwYTEuc2V0Q29udGVudChodG1sXzdhYjcyZmM4YmUyMDQwMDBiNjIxMDcwMzI2NjI2YzI5KTsKICAgICAgICAgICAgCgogICAgICAgICAgICBjaXJjbGVfbWFya2VyX2ZkYmI2OWIwNTBhNDRlMGZiNTIxNmI1MDIyNzc2NTAyLmJpbmRQb3B1cChwb3B1cF83OGZiMjYzZmZiOTQ0MjE2OWM2NGVmZDFhOWM2ZTBhMSk7CgogICAgICAgICAgICAKICAgICAgICAKICAgIAogICAgICAgICAgICB2YXIgY2lyY2xlX21hcmtlcl81YTZiZDhkZTJiZGQ0Y2ZlOGFhNzA2ZTEzM2UxMTEyMiA9IEwuY2lyY2xlTWFya2VyKAogICAgICAgICAgICAgICAgWzUxLjUxMDQxMTgyMjI3Njg0LC0wLjEzNTEyOTY5MDE3MDI4ODA5XSwKICAgICAgICAgICAgICAgIHsKICAiYnViYmxpbmdNb3VzZUV2ZW50cyI6IHRydWUsCiAgImNvbG9yIjogInJlZCIsCiAgImRhc2hBcnJheSI6IG51bGwsCiAgImRhc2hPZmZzZXQiOiBudWxsLAogICJmaWxsIjogdHJ1ZSwKICAiZmlsbENvbG9yIjogIiNFOTQ5NzUiLAogICJmaWxsT3BhY2l0eSI6IDAuNywKICAiZmlsbFJ1bGUiOiAiZXZlbm9kZCIsCiAgImxpbmVDYXAiOiAicm91bmQiLAogICJsaW5lSm9pbiI6ICJyb3VuZCIsCiAgIm9wYWNpdHkiOiAxLjAsCiAgInJhZGl1cyI6IDUsCiAgInN0cm9rZSI6IHRydWUsCiAgIndlaWdodCI6IDMKfQogICAgICAgICAgICAgICAgKS5hZGRUbyhtYXBfZjkzOTdkOWI2MDFjNGZhMjk2OTZlYWQ4MjRkOTIzMDgpOwogICAgICAgICAgICAKICAgIAogICAgICAgICAgICB2YXIgcG9wdXBfMDFhZjI4YTk3MGUzNDA0YjljZDIyNjU1MmI0MDI2ZTYgPSBMLnBvcHVwKHttYXhXaWR0aDogJzMwMCd9KTsKCiAgICAgICAgICAgIAogICAgICAgICAgICAgICAgdmFyIGh0bWxfOTk3ODA5MzQyMDQyNDNkZWE1YjZkNjI3YzZmNTUzYTEgPSAkKCc8ZGl2IGlkPSJodG1sXzk5NzgwOTM0MjA0MjQzZGVhNWI2ZDYyN2M2ZjU1M2ExIiBzdHlsZT0id2lkdGg6IDEwMC4wJTsgaGVpZ2h0OiAxMDAuMCU7Ij5WYW5pbmk8L2Rpdj4nKVswXTsKICAgICAgICAgICAgICAgIHBvcHVwXzAxYWYyOGE5NzBlMzQwNGI5Y2QyMjY1NTJiNDAyNmU2LnNldENvbnRlbnQoaHRtbF85OTc4MDkzNDIwNDI0M2RlYTViNmQ2MjdjNmY1NTNhMSk7CiAgICAgICAgICAgIAoKICAgICAgICAgICAgY2lyY2xlX21hcmtlcl81YTZiZDhkZTJiZGQ0Y2ZlOGFhNzA2ZTEzM2UxMTEyMi5iaW5kUG9wdXAocG9wdXBfMDFhZjI4YTk3MGUzNDA0YjljZDIyNjU1MmI0MDI2ZTYpOwoKICAgICAgICAgICAgCiAgICAgICAgCiAgICAKICAgICAgICAgICAgdmFyIGNpcmNsZV9tYXJrZXJfNmRmNTA2YzdkOTBlNGMxMzhlN2IyMGY3MTJlMDliMmIgPSBMLmNpcmNsZU1hcmtlcigKICAgICAgICAgICAgICAgIFs1MS41MTE5NSwtMC4xMjkwNTI0OF0sCiAgICAgICAgICAgICAgICB7CiAgImJ1YmJsaW5nTW91c2VFdmVudHMiOiB0cnVlLAogICJjb2xvciI6ICJyZWQiLAogICJkYXNoQXJyYXkiOiBudWxsLAogICJkYXNoT2Zmc2V0IjogbnVsbCwKICAiZmlsbCI6IHRydWUsCiAgImZpbGxDb2xvciI6ICIjRTk0OTc1IiwKICAiZmlsbE9wYWNpdHkiOiAwLjcsCiAgImZpbGxSdWxlIjogImV2ZW5vZGQiLAogICJsaW5lQ2FwIjogInJvdW5kIiwKICAibGluZUpvaW4iOiAicm91bmQiLAogICJvcGFjaXR5IjogMS4wLAogICJyYWRpdXMiOiA1LAogICJzdHJva2UiOiB0cnVlLAogICJ3ZWlnaHQiOiAzCn0KICAgICAgICAgICAgICAgICkuYWRkVG8obWFwX2Y5Mzk3ZDliNjAxYzRmYTI5Njk2ZWFkODI0ZDkyMzA4KTsKICAgICAgICAgICAgCiAgICAKICAgICAgICAgICAgdmFyIHBvcHVwX2ZmZDQ2MGM2NTVmZDRjMjk4Njg4ODZkNDgxODA0YzBkID0gTC5wb3B1cCh7bWF4V2lkdGg6ICczMDAnfSk7CgogICAgICAgICAgICAKICAgICAgICAgICAgICAgIHZhciBodG1sX2ZlY2U3N2E2NTMyNDRhMjA5MzNmOTZhNTM1ZTNkZjljID0gJCgnPGRpdiBpZD0iaHRtbF9mZWNlNzdhNjUzMjQ0YTIwOTMzZjk2YTUzNWUzZGY5YyIgc3R5bGU9IndpZHRoOiAxMDAuMCU7IGhlaWdodDogMTAwLjAlOyI+RGlydHkgSWNlIENyZWFtPC9kaXY+JylbMF07CiAgICAgICAgICAgICAgICBwb3B1cF9mZmQ0NjBjNjU1ZmQ0YzI5ODY4ODg2ZDQ4MTgwNGMwZC5zZXRDb250ZW50KGh0bWxfZmVjZTc3YTY1MzI0NGEyMDkzM2Y5NmE1MzVlM2RmOWMpOwogICAgICAgICAgICAKCiAgICAgICAgICAgIGNpcmNsZV9tYXJrZXJfNmRmNTA2YzdkOTBlNGMxMzhlN2IyMGY3MTJlMDliMmIuYmluZFBvcHVwKHBvcHVwX2ZmZDQ2MGM2NTVmZDRjMjk4Njg4ODZkNDgxODA0YzBkKTsKCiAgICAgICAgICAgIAogICAgICAgIAogICAgCiAgICAgICAgICAgIHZhciBjaXJjbGVfbWFya2VyXzQwY2I3MWQ2NGIzZjQ5MGM4ODU3NDhjM2JhMzUwMzg2ID0gTC5jaXJjbGVNYXJrZXIoCiAgICAgICAgICAgICAgICBbNTEuNTA5MDE3OTY2NjM2MjUsLTAuMTI3MjIxMTM5MTUzNTMxOTVdLAogICAgICAgICAgICAgICAgewogICJidWJibGluZ01vdXNlRXZlbnRzIjogdHJ1ZSwKICAiY29sb3IiOiAicmVkIiwKICAiZGFzaEFycmF5IjogbnVsbCwKICAiZGFzaE9mZnNldCI6IG51bGwsCiAgImZpbGwiOiB0cnVlLAogICJmaWxsQ29sb3IiOiAiI0U5NDk3NSIsCiAgImZpbGxPcGFjaXR5IjogMC43LAogICJmaWxsUnVsZSI6ICJldmVub2RkIiwKICAibGluZUNhcCI6ICJyb3VuZCIsCiAgImxpbmVKb2luIjogInJvdW5kIiwKICAib3BhY2l0eSI6IDEuMCwKICAicmFkaXVzIjogNSwKICAic3Ryb2tlIjogdHJ1ZSwKICAid2VpZ2h0IjogMwp9CiAgICAgICAgICAgICAgICApLmFkZFRvKG1hcF9mOTM5N2Q5YjYwMWM0ZmEyOTY5NmVhZDgyNGQ5MjMwOCk7CiAgICAgICAgICAgIAogICAgCiAgICAgICAgICAgIHZhciBwb3B1cF81NjE5ZDNlNTliMGI0M2MxYmYyMDUwM2E1MmU3YzNmMiA9IEwucG9wdXAoe21heFdpZHRoOiAnMzAwJ30pOwoKICAgICAgICAgICAgCiAgICAgICAgICAgICAgICB2YXIgaHRtbF83NTU2NjNkYTMyYzk0YTg5YmJjNDk1MWRiODlhZWVhNCA9ICQoJzxkaXYgaWQ9Imh0bWxfNzU1NjYzZGEzMmM5NGE4OWJiYzQ5NTFkYjg5YWVlYTQiIHN0eWxlPSJ3aWR0aDogMTAwLjAlOyBoZWlnaHQ6IDEwMC4wJTsiPkljZSBDcmVhbSBGcm96ZW4gWW9naHVydDwvZGl2PicpWzBdOwogICAgICAgICAgICAgICAgcG9wdXBfNTYxOWQzZTU5YjBiNDNjMWJmMjA1MDNhNTJlN2MzZjIuc2V0Q29udGVudChodG1sXzc1NTY2M2RhMzJjOTRhODliYmM0OTUxZGI4OWFlZWE0KTsKICAgICAgICAgICAgCgogICAgICAgICAgICBjaXJjbGVfbWFya2VyXzQwY2I3MWQ2NGIzZjQ5MGM4ODU3NDhjM2JhMzUwMzg2LmJpbmRQb3B1cChwb3B1cF81NjE5ZDNlNTliMGI0M2MxYmYyMDUwM2E1MmU3YzNmMik7CgogICAgICAgICAgICAKICAgICAgICAKICAgIAogICAgICAgICAgICB2YXIgY2lyY2xlX21hcmtlcl83ZjgwODEyNjEwMGI0NjJhYWE4ZWI5N2I5N2E0ZDU4NCA9IEwuY2lyY2xlTWFya2VyKAogICAgICAgICAgICAgICAgWzUxLjUxMTU5MzE1MzI1NzM3LC0wLjEzNTQ4OTU5OTAwNTE4NzEyXSwKICAgICAgICAgICAgICAgIHsKICAiYnViYmxpbmdNb3VzZUV2ZW50cyI6IHRydWUsCiAgImNvbG9yIjogInJlZCIsCiAgImRhc2hBcnJheSI6IG51bGwsCiAgImRhc2hPZmZzZXQiOiBudWxsLAogICJmaWxsIjogdHJ1ZSwKICAiZmlsbENvbG9yIjogIiNFOTQ5NzUiLAogICJmaWxsT3BhY2l0eSI6IDAuNywKICAiZmlsbFJ1bGUiOiAiZXZlbm9kZCIsCiAgImxpbmVDYXAiOiAicm91bmQiLAogICJsaW5lSm9pbiI6ICJyb3VuZCIsCiAgIm9wYWNpdHkiOiAxLjAsCiAgInJhZGl1cyI6IDUsCiAgInN0cm9rZSI6IHRydWUsCiAgIndlaWdodCI6IDMKfQogICAgICAgICAgICAgICAgKS5hZGRUbyhtYXBfZjkzOTdkOWI2MDFjNGZhMjk2OTZlYWQ4MjRkOTIzMDgpOwogICAgICAgICAgICAKICAgIAogICAgICAgICAgICB2YXIgcG9wdXBfOGJhMjk2OGUxNDdmNGFmMWE1MGEzYTI5YTIwYjY3MTEgPSBMLnBvcHVwKHttYXhXaWR0aDogJzMwMCd9KTsKCiAgICAgICAgICAgIAogICAgICAgICAgICAgICAgdmFyIGh0bWxfZTgzY2Q0Njk1OTQ4NGQ2ZGFmNjE1NWU5YmQzNWU5ZTYgPSAkKCc8ZGl2IGlkPSJodG1sX2U4M2NkNDY5NTk0ODRkNmRhZjYxNTVlOWJkMzVlOWU2IiBzdHlsZT0id2lkdGg6IDEwMC4wJTsgaGVpZ2h0OiAxMDAuMCU7Ij5Gb3VyIFdpbnRlcnM8L2Rpdj4nKVswXTsKICAgICAgICAgICAgICAgIHBvcHVwXzhiYTI5NjhlMTQ3ZjRhZjFhNTBhM2EyOWEyMGI2NzExLnNldENvbnRlbnQoaHRtbF9lODNjZDQ2OTU5NDg0ZDZkYWY2MTU1ZTliZDM1ZTllNik7CiAgICAgICAgICAgIAoKICAgICAgICAgICAgY2lyY2xlX21hcmtlcl83ZjgwODEyNjEwMGI0NjJhYWE4ZWI5N2I5N2E0ZDU4NC5iaW5kUG9wdXAocG9wdXBfOGJhMjk2OGUxNDdmNGFmMWE1MGEzYTI5YTIwYjY3MTEpOwoKICAgICAgICAgICAgCiAgICAgICAgCiAgICAKICAgICAgICAgICAgdmFyIGNpcmNsZV9tYXJrZXJfMmU3NGYxNDhiMjAxNDg2NmJkNjk4ZjRjMjcwNGZkMGQgPSBMLmNpcmNsZU1hcmtlcigKICAgICAgICAgICAgICAgIFs1MS41MTI5MjM2NTk5OTI0NywtMC4xMzIzMDM5MTQzMTg2Mzc5NF0sCiAgICAgICAgICAgICAgICB7CiAgImJ1YmJsaW5nTW91c2VFdmVudHMiOiB0cnVlLAogICJjb2xvciI6ICJyZWQiLAogICJkYXNoQXJyYXkiOiBudWxsLAogICJkYXNoT2Zmc2V0IjogbnVsbCwKICAiZmlsbCI6IHRydWUsCiAgImZpbGxDb2xvciI6ICIjRTk0OTc1IiwKICAiZmlsbE9wYWNpdHkiOiAwLjcsCiAgImZpbGxSdWxlIjogImV2ZW5vZGQiLAogICJsaW5lQ2FwIjogInJvdW5kIiwKICAibGluZUpvaW4iOiAicm91bmQiLAogICJvcGFjaXR5IjogMS4wLAogICJyYWRpdXMiOiA1LAogICJzdHJva2UiOiB0cnVlLAogICJ3ZWlnaHQiOiAzCn0KICAgICAgICAgICAgICAgICkuYWRkVG8obWFwX2Y5Mzk3ZDliNjAxYzRmYTI5Njk2ZWFkODI0ZDkyMzA4KTsKICAgICAgICAgICAgCiAgICAKICAgICAgICAgICAgdmFyIHBvcHVwXzRkZmE5MjFmODgyYzQzMDJiMDFhMjNjMWRlOTdlNzUxID0gTC5wb3B1cCh7bWF4V2lkdGg6ICczMDAnfSk7CgogICAgICAgICAgICAKICAgICAgICAgICAgICAgIHZhciBodG1sXzU5NjliMmIxNTFjMjRjNzg5ZTY1ZmY2MWVlMzYzZDU3ID0gJCgnPGRpdiBpZD0iaHRtbF81OTY5YjJiMTUxYzI0Yzc4OWU2NWZmNjFlZTM2M2Q1NyIgc3R5bGU9IndpZHRoOiAxMDAuMCU7IGhlaWdodDogMTAwLjAlOyI+R2VsYXRvbCBBbCBOYXR1cmFsZTwvZGl2PicpWzBdOwogICAgICAgICAgICAgICAgcG9wdXBfNGRmYTkyMWY4ODJjNDMwMmIwMWEyM2MxZGU5N2U3NTEuc2V0Q29udGVudChodG1sXzU5NjliMmIxNTFjMjRjNzg5ZTY1ZmY2MWVlMzYzZDU3KTsKICAgICAgICAgICAgCgogICAgICAgICAgICBjaXJjbGVfbWFya2VyXzJlNzRmMTQ4YjIwMTQ4NjZiZDY5OGY0YzI3MDRmZDBkLmJpbmRQb3B1cChwb3B1cF80ZGZhOTIxZjg4MmM0MzAyYjAxYTIzYzFkZTk3ZTc1MSk7CgogICAgICAgICAgICAKICAgICAgICAKICAgIAogICAgICAgICAgICB2YXIgY2lyY2xlX21hcmtlcl83YmIyYThiYmY2NmU0Nzk2YWI3NWM1MzBiZTI4NzY2NCA9IEwuY2lyY2xlTWFya2VyKAogICAgICAgICAgICAgICAgWzUxLjUxMDc3NywtMC4xMzcwMjRdLAogICAgICAgICAgICAgICAgewogICJidWJibGluZ01vdXNlRXZlbnRzIjogdHJ1ZSwKICAiY29sb3IiOiAicmVkIiwKICAiZGFzaEFycmF5IjogbnVsbCwKICAiZGFzaE9mZnNldCI6IG51bGwsCiAgImZpbGwiOiB0cnVlLAogICJmaWxsQ29sb3IiOiAiI0U5NDk3NSIsCiAgImZpbGxPcGFjaXR5IjogMC43LAogICJmaWxsUnVsZSI6ICJldmVub2RkIiwKICAibGluZUNhcCI6ICJyb3VuZCIsCiAgImxpbmVKb2luIjogInJvdW5kIiwKICAib3BhY2l0eSI6IDEuMCwKICAicmFkaXVzIjogNSwKICAic3Ryb2tlIjogdHJ1ZSwKICAid2VpZ2h0IjogMwp9CiAgICAgICAgICAgICAgICApLmFkZFRvKG1hcF9mOTM5N2Q5YjYwMWM0ZmEyOTY5NmVhZDgyNGQ5MjMwOCk7CiAgICAgICAgICAgIAogICAgCiAgICAgICAgICAgIHZhciBwb3B1cF83MzdlOWVlYWMyNmI0ZGMxODAyOTM1YzJmOGMzNzk5ZiA9IEwucG9wdXAoe21heFdpZHRoOiAnMzAwJ30pOwoKICAgICAgICAgICAgCiAgICAgICAgICAgICAgICB2YXIgaHRtbF80ODM3NjcyMjA2ZTA0YTg2OTUwOGIzYTQ3OWEzMzkyZCA9ICQoJzxkaXYgaWQ9Imh0bWxfNDgzNzY3MjIwNmUwNGE4Njk1MDhiM2E0NzlhMzM5MmQiIHN0eWxlPSJ3aWR0aDogMTAwLjAlOyBoZWlnaHQ6IDEwMC4wJTsiPlBpbXAgTXkgSWNlY3JlYW08L2Rpdj4nKVswXTsKICAgICAgICAgICAgICAgIHBvcHVwXzczN2U5ZWVhYzI2YjRkYzE4MDI5MzVjMmY4YzM3OTlmLnNldENvbnRlbnQoaHRtbF80ODM3NjcyMjA2ZTA0YTg2OTUwOGIzYTQ3OWEzMzkyZCk7CiAgICAgICAgICAgIAoKICAgICAgICAgICAgY2lyY2xlX21hcmtlcl83YmIyYThiYmY2NmU0Nzk2YWI3NWM1MzBiZTI4NzY2NC5iaW5kUG9wdXAocG9wdXBfNzM3ZTllZWFjMjZiNGRjMTgwMjkzNWMyZjhjMzc5OWYpOwoKICAgICAgICAgICAgCiAgICAgICAgCiAgICAKICAgICAgICAgICAgdmFyIGNpcmNsZV9tYXJrZXJfNGQwYTIxODY4NGNjNDA1YWFhMTI3YmMzY2M0M2FkYjUgPSBMLmNpcmNsZU1hcmtlcigKICAgICAgICAgICAgICAgIFs1MS41MTE5NTk5OTg5NzU1OCwtMC4xMjkwMzMyODQ3NjcyNDAzNV0sCiAgICAgICAgICAgICAgICB7CiAgImJ1YmJsaW5nTW91c2VFdmVudHMiOiB0cnVlLAogICJjb2xvciI6ICJyZWQiLAogICJkYXNoQXJyYXkiOiBudWxsLAogICJkYXNoT2Zmc2V0IjogbnVsbCwKICAiZmlsbCI6IHRydWUsCiAgImZpbGxDb2xvciI6ICIjRTk0OTc1IiwKICAiZmlsbE9wYWNpdHkiOiAwLjcsCiAgImZpbGxSdWxlIjogImV2ZW5vZGQiLAogICJsaW5lQ2FwIjogInJvdW5kIiwKICAibGluZUpvaW4iOiAicm91bmQiLAogICJvcGFjaXR5IjogMS4wLAogICJyYWRpdXMiOiA1LAogICJzdHJva2UiOiB0cnVlLAogICJ3ZWlnaHQiOiAzCn0KICAgICAgICAgICAgICAgICkuYWRkVG8obWFwX2Y5Mzk3ZDliNjAxYzRmYTI5Njk2ZWFkODI0ZDkyMzA4KTsKICAgICAgICAgICAgCiAgICAKICAgICAgICAgICAgdmFyIHBvcHVwX2ZkNDZkNmNiYjBhZDQ1NTI4MjFkYzA1MjY4MDViMDc5ID0gTC5wb3B1cCh7bWF4V2lkdGg6ICczMDAnfSk7CgogICAgICAgICAgICAKICAgICAgICAgICAgICAgIHZhciBodG1sXzQzYWRiMzJjOTU4YzQ1YjRhYTA4YTJkNjIxZDY3MGFjID0gJCgnPGRpdiBpZD0iaHRtbF80M2FkYjMyYzk1OGM0NWI0YWEwOGEyZDYyMWQ2NzBhYyIgc3R5bGU9IndpZHRoOiAxMDAuMCU7IGhlaWdodDogMTAwLjAlOyI+TWFtYXNvbnM8L2Rpdj4nKVswXTsKICAgICAgICAgICAgICAgIHBvcHVwX2ZkNDZkNmNiYjBhZDQ1NTI4MjFkYzA1MjY4MDViMDc5LnNldENvbnRlbnQoaHRtbF80M2FkYjMyYzk1OGM0NWI0YWEwOGEyZDYyMWQ2NzBhYyk7CiAgICAgICAgICAgIAoKICAgICAgICAgICAgY2lyY2xlX21hcmtlcl80ZDBhMjE4Njg0Y2M0MDVhYWExMjdiYzNjYzQzYWRiNS5iaW5kUG9wdXAocG9wdXBfZmQ0NmQ2Y2JiMGFkNDU1MjgyMWRjMDUyNjgwNWIwNzkpOwoKICAgICAgICAgICAgCiAgICAgICAgCiAgICAKICAgICAgICAgICAgdmFyIGNpcmNsZV9tYXJrZXJfM2FkNmQ0YjM0OWE4NDI0OGEyMDJmNDc0OGU2NmY0OTMgPSBMLmNpcmNsZU1hcmtlcigKICAgICAgICAgICAgICAgIFs1MS41MTA5MjYxOTMyODg2MSwtMC4xMzI2ODU1MjcyOTk5NzMwN10sCiAgICAgICAgICAgICAgICB7CiAgImJ1YmJsaW5nTW91c2VFdmVudHMiOiB0cnVlLAogICJjb2xvciI6ICJyZWQiLAogICJkYXNoQXJyYXkiOiBudWxsLAogICJkYXNoT2Zmc2V0IjogbnVsbCwKICAiZmlsbCI6IHRydWUsCiAgImZpbGxDb2xvciI6ICIjRTk0OTc1IiwKICAiZmlsbE9wYWNpdHkiOiAwLjcsCiAgImZpbGxSdWxlIjogImV2ZW5vZGQiLAogICJsaW5lQ2FwIjogInJvdW5kIiwKICAibGluZUpvaW4iOiAicm91bmQiLAogICJvcGFjaXR5IjogMS4wLAogICJyYWRpdXMiOiA1LAogICJzdHJva2UiOiB0cnVlLAogICJ3ZWlnaHQiOiAzCn0KICAgICAgICAgICAgICAgICkuYWRkVG8obWFwX2Y5Mzk3ZDliNjAxYzRmYTI5Njk2ZWFkODI0ZDkyMzA4KTsKICAgICAgICAgICAgCiAgICAKICAgICAgICAgICAgdmFyIHBvcHVwXzU4Njg4NmMxNmRkYTQ5NTQ4YTRmYmU2ZmIyNGFmNWE0ID0gTC5wb3B1cCh7bWF4V2lkdGg6ICczMDAnfSk7CgogICAgICAgICAgICAKICAgICAgICAgICAgICAgIHZhciBodG1sX2ZkZjlhNDRkMDJjYjQ3NDE5ZDIxYTQ3NTVjZjI1Y2FjID0gJCgnPGRpdiBpZD0iaHRtbF9mZGY5YTQ0ZDAyY2I0NzQxOWQyMWE0NzU1Y2YyNWNhYyIgc3R5bGU9IndpZHRoOiAxMDAuMCU7IGhlaWdodDogMTAwLjAlOyI+WW9sa2luPC9kaXY+JylbMF07CiAgICAgICAgICAgICAgICBwb3B1cF81ODY4ODZjMTZkZGE0OTU0OGE0ZmJlNmZiMjRhZjVhNC5zZXRDb250ZW50KGh0bWxfZmRmOWE0NGQwMmNiNDc0MTlkMjFhNDc1NWNmMjVjYWMpOwogICAgICAgICAgICAKCiAgICAgICAgICAgIGNpcmNsZV9tYXJrZXJfM2FkNmQ0YjM0OWE4NDI0OGEyMDJmNDc0OGU2NmY0OTMuYmluZFBvcHVwKHBvcHVwXzU4Njg4NmMxNmRkYTQ5NTQ4YTRmYmU2ZmIyNGFmNWE0KTsKCiAgICAgICAgICAgIAogICAgICAgIAogICAgCiAgICAgICAgICAgIHZhciBjaXJjbGVfbWFya2VyXzczNmRjNjVmZTk5MzQ4MDFiYTI1YzFkOTFiZmEzYTgxID0gTC5jaXJjbGVNYXJrZXIoCiAgICAgICAgICAgICAgICBbNTEuNTExOTk3NjEzMjM3MjA2LC0wLjEzMzM5MjEwOTM1MDg3MTI5XSwKICAgICAgICAgICAgICAgIHsKICAiYnViYmxpbmdNb3VzZUV2ZW50cyI6IHRydWUsCiAgImNvbG9yIjogInJlZCIsCiAgImRhc2hBcnJheSI6IG51bGwsCiAgImRhc2hPZmZzZXQiOiBudWxsLAogICJmaWxsIjogdHJ1ZSwKICAiZmlsbENvbG9yIjogIiNFOTQ5NzUiLAogICJmaWxsT3BhY2l0eSI6IDAuNywKICAiZmlsbFJ1bGUiOiAiZXZlbm9kZCIsCiAgImxpbmVDYXAiOiAicm91bmQiLAogICJsaW5lSm9pbiI6ICJyb3VuZCIsCiAgIm9wYWNpdHkiOiAxLjAsCiAgInJhZGl1cyI6IDUsCiAgInN0cm9rZSI6IHRydWUsCiAgIndlaWdodCI6IDMKfQogICAgICAgICAgICAgICAgKS5hZGRUbyhtYXBfZjkzOTdkOWI2MDFjNGZhMjk2OTZlYWQ4MjRkOTIzMDgpOwogICAgICAgICAgICAKICAgIAogICAgICAgICAgICB2YXIgcG9wdXBfMzNiNWNhYjE1MGIxNGEzYzg1NDcyYjQxYWI0OGQ1MTkgPSBMLnBvcHVwKHttYXhXaWR0aDogJzMwMCd9KTsKCiAgICAgICAgICAgIAogICAgICAgICAgICAgICAgdmFyIGh0bWxfMGI5ZmIyM2EwNzBhNGI2OWE1M2EwZDdkMzdmZjk2NmEgPSAkKCc8ZGl2IGlkPSJodG1sXzBiOWZiMjNhMDcwYTRiNjlhNTNhMGQ3ZDM3ZmY5NjZhIiBzdHlsZT0id2lkdGg6IDEwMC4wJTsgaGVpZ2h0OiAxMDAuMCU7Ij5Uc3VqaXJpPC9kaXY+JylbMF07CiAgICAgICAgICAgICAgICBwb3B1cF8zM2I1Y2FiMTUwYjE0YTNjODU0NzJiNDFhYjQ4ZDUxOS5zZXRDb250ZW50KGh0bWxfMGI5ZmIyM2EwNzBhNGI2OWE1M2EwZDdkMzdmZjk2NmEpOwogICAgICAgICAgICAKCiAgICAgICAgICAgIGNpcmNsZV9tYXJrZXJfNzM2ZGM2NWZlOTkzNDgwMWJhMjVjMWQ5MWJmYTNhODEuYmluZFBvcHVwKHBvcHVwXzMzYjVjYWIxNTBiMTRhM2M4NTQ3MmI0MWFiNDhkNTE5KTsKCiAgICAgICAgICAgIAogICAgICAgIAogICAgCiAgICAgICAgICAgIHZhciBjaXJjbGVfbWFya2VyXzI4NzllYmFjZDY2NzRkNzJhZDZhYWU3MTAxYWJjZDAzID0gTC5jaXJjbGVNYXJrZXIoCiAgICAgICAgICAgICAgICBbNTEuNTExOTc2Mjc3NjI4MTksLTAuMTI4OTg5NDU0NzUwNzY5NF0sCiAgICAgICAgICAgICAgICB7CiAgImJ1YmJsaW5nTW91c2VFdmVudHMiOiB0cnVlLAogICJjb2xvciI6ICJyZWQiLAogICJkYXNoQXJyYXkiOiBudWxsLAogICJkYXNoT2Zmc2V0IjogbnVsbCwKICAiZmlsbCI6IHRydWUsCiAgImZpbGxDb2xvciI6ICIjRTk0OTc1IiwKICAiZmlsbE9wYWNpdHkiOiAwLjcsCiAgImZpbGxSdWxlIjogImV2ZW5vZGQiLAogICJsaW5lQ2FwIjogInJvdW5kIiwKICAibGluZUpvaW4iOiAicm91bmQiLAogICJvcGFjaXR5IjogMS4wLAogICJyYWRpdXMiOiA1LAogICJzdHJva2UiOiB0cnVlLAogICJ3ZWlnaHQiOiAzCn0KICAgICAgICAgICAgICAgICkuYWRkVG8obWFwX2Y5Mzk3ZDliNjAxYzRmYTI5Njk2ZWFkODI0ZDkyMzA4KTsKICAgICAgICAgICAgCiAgICAKICAgICAgICAgICAgdmFyIHBvcHVwXzdiZWUxM2ZlYTg3NDQ1OTJhN2ViZmM5NWQ0M2FmMmE3ID0gTC5wb3B1cCh7bWF4V2lkdGg6ICczMDAnfSk7CgogICAgICAgICAgICAKICAgICAgICAgICAgICAgIHZhciBodG1sX2ZjZjMyMWMyYjMxNzRiYTU4NDZkZmQ5YzcyNjFiNmMxID0gJCgnPGRpdiBpZD0iaHRtbF9mY2YzMjFjMmIzMTc0YmE1ODQ2ZGZkOWM3MjYxYjZjMSIgc3R5bGU9IndpZHRoOiAxMDAuMCU7IGhlaWdodDogMTAwLjAlOyI+VHN1amlyaTwvZGl2PicpWzBdOwogICAgICAgICAgICAgICAgcG9wdXBfN2JlZTEzZmVhODc0NDU5MmE3ZWJmYzk1ZDQzYWYyYTcuc2V0Q29udGVudChodG1sX2ZjZjMyMWMyYjMxNzRiYTU4NDZkZmQ5YzcyNjFiNmMxKTsKICAgICAgICAgICAgCgogICAgICAgICAgICBjaXJjbGVfbWFya2VyXzI4NzllYmFjZDY2NzRkNzJhZDZhYWU3MTAxYWJjZDAzLmJpbmRQb3B1cChwb3B1cF83YmVlMTNmZWE4NzQ0NTkyYTdlYmZjOTVkNDNhZjJhNyk7CgogICAgICAgICAgICAKICAgICAgICAKICAgIAogICAgICAgICAgICB2YXIgY2lyY2xlX21hcmtlcl9lZGQzZjJhN2UyMWM0ODQwYTE3MGY1Nzk0MDg1MjA5NSA9IEwuY2lyY2xlTWFya2VyKAogICAgICAgICAgICAgICAgWzUxLjUxMDQyNzI2NjIxNDE5LC0wLjEyODQwMDgxNDkyOTIxNjM3XSwKICAgICAgICAgICAgICAgIHsKICAiYnViYmxpbmdNb3VzZUV2ZW50cyI6IHRydWUsCiAgImNvbG9yIjogInJlZCIsCiAgImRhc2hBcnJheSI6IG51bGwsCiAgImRhc2hPZmZzZXQiOiBudWxsLAogICJmaWxsIjogdHJ1ZSwKICAiZmlsbENvbG9yIjogIiNFOTQ5NzUiLAogICJmaWxsT3BhY2l0eSI6IDAuNywKICAiZmlsbFJ1bGUiOiAiZXZlbm9kZCIsCiAgImxpbmVDYXAiOiAicm91bmQiLAogICJsaW5lSm9pbiI6ICJyb3VuZCIsCiAgIm9wYWNpdHkiOiAxLjAsCiAgInJhZGl1cyI6IDUsCiAgInN0cm9rZSI6IHRydWUsCiAgIndlaWdodCI6IDMKfQogICAgICAgICAgICAgICAgKS5hZGRUbyhtYXBfZjkzOTdkOWI2MDFjNGZhMjk2OTZlYWQ4MjRkOTIzMDgpOwogICAgICAgICAgICAKICAgIAogICAgICAgICAgICB2YXIgcG9wdXBfYWNiODA2NzhmMjI4NGRmOGI5MWNiNzViY2FmYmZmYmYgPSBMLnBvcHVwKHttYXhXaWR0aDogJzMwMCd9KTsKCiAgICAgICAgICAgIAogICAgICAgICAgICAgICAgdmFyIGh0bWxfNWUzNTg3NTM3NzA3NDg2NGExMDdiOTRmYjU0MjUxN2YgPSAkKCc8ZGl2IGlkPSJodG1sXzVlMzU4NzUzNzcwNzQ4NjRhMTA3Yjk0ZmI1NDI1MTdmIiBzdHlsZT0id2lkdGg6IDEwMC4wJTsgaGVpZ2h0OiAxMDAuMCU7Ij5BbW9yaW5vPC9kaXY+JylbMF07CiAgICAgICAgICAgICAgICBwb3B1cF9hY2I4MDY3OGYyMjg0ZGY4YjkxY2I3NWJjYWZiZmZiZi5zZXRDb250ZW50KGh0bWxfNWUzNTg3NTM3NzA3NDg2NGExMDdiOTRmYjU0MjUxN2YpOwogICAgICAgICAgICAKCiAgICAgICAgICAgIGNpcmNsZV9tYXJrZXJfZWRkM2YyYTdlMjFjNDg0MGExNzBmNTc5NDA4NTIwOTUuYmluZFBvcHVwKHBvcHVwX2FjYjgwNjc4ZjIyODRkZjhiOTFjYjc1YmNhZmJmZmJmKTsKCiAgICAgICAgICAgIAogICAgICAgIAogICAgCiAgICAgICAgICAgIHZhciBjaXJjbGVfbWFya2VyXzk5ZmJmNTU0MTMxMzQ1OTliNDc4ZGRlNmI5MTM4ZDEwID0gTC5jaXJjbGVNYXJrZXIoCiAgICAgICAgICAgICAgICBbNTEuNTA5OTI2MTE0MTczMjU0LC0wLjEzNzY4Njg0MzgzNzI5MDhdLAogICAgICAgICAgICAgICAgewogICJidWJibGluZ01vdXNlRXZlbnRzIjogdHJ1ZSwKICAiY29sb3IiOiAicmVkIiwKICAiZGFzaEFycmF5IjogbnVsbCwKICAiZGFzaE9mZnNldCI6IG51bGwsCiAgImZpbGwiOiB0cnVlLAogICJmaWxsQ29sb3IiOiAiI0U5NDk3NSIsCiAgImZpbGxPcGFjaXR5IjogMC43LAogICJmaWxsUnVsZSI6ICJldmVub2RkIiwKICAibGluZUNhcCI6ICJyb3VuZCIsCiAgImxpbmVKb2luIjogInJvdW5kIiwKICAib3BhY2l0eSI6IDEuMCwKICAicmFkaXVzIjogNSwKICAic3Ryb2tlIjogdHJ1ZSwKICAid2VpZ2h0IjogMwp9CiAgICAgICAgICAgICAgICApLmFkZFRvKG1hcF9mOTM5N2Q5YjYwMWM0ZmEyOTY5NmVhZDgyNGQ5MjMwOCk7CiAgICAgICAgICAgIAogICAgCiAgICAgICAgICAgIHZhciBwb3B1cF9lNDUyNDM5OTkwNTM0OTlkOWEwMWVhOTZjMjk2MTU4NiA9IEwucG9wdXAoe21heFdpZHRoOiAnMzAwJ30pOwoKICAgICAgICAgICAgCiAgICAgICAgICAgICAgICB2YXIgaHRtbF9jNWIwZWFkZWRlMWM0OGVhYmVjM2I2NDIyMjU5MGQ5YyA9ICQoJzxkaXYgaWQ9Imh0bWxfYzViMGVhZGVkZTFjNDhlYWJlYzNiNjQyMjI1OTBkOWMiIHN0eWxlPSJ3aWR0aDogMTAwLjAlOyBoZWlnaHQ6IDEwMC4wJTsiPkZyZWdnbzwvZGl2PicpWzBdOwogICAgICAgICAgICAgICAgcG9wdXBfZTQ1MjQzOTk5MDUzNDk5ZDlhMDFlYTk2YzI5NjE1ODYuc2V0Q29udGVudChodG1sX2M1YjBlYWRlZGUxYzQ4ZWFiZWMzYjY0MjIyNTkwZDljKTsKICAgICAgICAgICAgCgogICAgICAgICAgICBjaXJjbGVfbWFya2VyXzk5ZmJmNTU0MTMxMzQ1OTliNDc4ZGRlNmI5MTM4ZDEwLmJpbmRQb3B1cChwb3B1cF9lNDUyNDM5OTkwNTM0OTlkOWEwMWVhOTZjMjk2MTU4Nik7CgogICAgICAgICAgICAKICAgICAgICAKICAgIAogICAgICAgICAgICB2YXIgY2lyY2xlX21hcmtlcl9mNWU5NjA4ZWFhZTQ0ZGVmOGM3MTVhYjQ0MjMyYmE0NCA9IEwuY2lyY2xlTWFya2VyKAogICAgICAgICAgICAgICAgWzUxLjUzMzgyMzc1NzA4NzA4LC0wLjE3MTExNDQzMzcxMTEyMjQ4XSwKICAgICAgICAgICAgICAgIHsKICAiYnViYmxpbmdNb3VzZUV2ZW50cyI6IHRydWUsCiAgImNvbG9yIjogInJlZCIsCiAgImRhc2hBcnJheSI6IG51bGwsCiAgImRhc2hPZmZzZXQiOiBudWxsLAogICJmaWxsIjogdHJ1ZSwKICAiZmlsbENvbG9yIjogIiNFOTQ5NzUiLAogICJmaWxsT3BhY2l0eSI6IDAuNywKICAiZmlsbFJ1bGUiOiAiZXZlbm9kZCIsCiAgImxpbmVDYXAiOiAicm91bmQiLAogICJsaW5lSm9pbiI6ICJyb3VuZCIsCiAgIm9wYWNpdHkiOiAxLjAsCiAgInJhZGl1cyI6IDUsCiAgInN0cm9rZSI6IHRydWUsCiAgIndlaWdodCI6IDMKfQogICAgICAgICAgICAgICAgKS5hZGRUbyhtYXBfZjkzOTdkOWI2MDFjNGZhMjk2OTZlYWQ4MjRkOTIzMDgpOwogICAgICAgICAgICAKICAgIAogICAgICAgICAgICB2YXIgcG9wdXBfNGE0ZGE0ZjY1ZDE5NGQxMmEyMDNhYTQ4YzM2MDAyNDIgPSBMLnBvcHVwKHttYXhXaWR0aDogJzMwMCd9KTsKCiAgICAgICAgICAgIAogICAgICAgICAgICAgICAgdmFyIGh0bWxfMGYxNTc5ZmU3MjJkNDMyNTk1ZjM2ZjU4MmRkMTk5ODcgPSAkKCc8ZGl2IGlkPSJodG1sXzBmMTU3OWZlNzIyZDQzMjU5NWYzNmY1ODJkZDE5OTg3IiBzdHlsZT0id2lkdGg6IDEwMC4wJTsgaGVpZ2h0OiAxMDAuMCU7Ij5HZWxhdG8gTWlvPC9kaXY+JylbMF07CiAgICAgICAgICAgICAgICBwb3B1cF80YTRkYTRmNjVkMTk0ZDEyYTIwM2FhNDhjMzYwMDI0Mi5zZXRDb250ZW50KGh0bWxfMGYxNTc5ZmU3MjJkNDMyNTk1ZjM2ZjU4MmRkMTk5ODcpOwogICAgICAgICAgICAKCiAgICAgICAgICAgIGNpcmNsZV9tYXJrZXJfZjVlOTYwOGVhYWU0NGRlZjhjNzE1YWI0NDIzMmJhNDQuYmluZFBvcHVwKHBvcHVwXzRhNGRhNGY2NWQxOTRkMTJhMjAzYWE0OGMzNjAwMjQyKTsKCiAgICAgICAgICAgIAogICAgICAgIAogICAgCiAgICAgICAgICAgIHZhciBjaXJjbGVfbWFya2VyX2M1NTJiYTg4MGFjOTQxZGE5OTY3NTllNzVlMjM2ZWIwID0gTC5jaXJjbGVNYXJrZXIoCiAgICAgICAgICAgICAgICBbNTEuNTMzODQ2LC0wLjE3MTEwN10sCiAgICAgICAgICAgICAgICB7CiAgImJ1YmJsaW5nTW91c2VFdmVudHMiOiB0cnVlLAogICJjb2xvciI6ICJyZWQiLAogICJkYXNoQXJyYXkiOiBudWxsLAogICJkYXNoT2Zmc2V0IjogbnVsbCwKICAiZmlsbCI6IHRydWUsCiAgImZpbGxDb2xvciI6ICIjRTk0OTc1IiwKICAiZmlsbE9wYWNpdHkiOiAwLjcsCiAgImZpbGxSdWxlIjogImV2ZW5vZGQiLAogICJsaW5lQ2FwIjogInJvdW5kIiwKICAibGluZUpvaW4iOiAicm91bmQiLAogICJvcGFjaXR5IjogMS4wLAogICJyYWRpdXMiOiA1LAogICJzdHJva2UiOiB0cnVlLAogICJ3ZWlnaHQiOiAzCn0KICAgICAgICAgICAgICAgICkuYWRkVG8obWFwX2Y5Mzk3ZDliNjAxYzRmYTI5Njk2ZWFkODI0ZDkyMzA4KTsKICAgICAgICAgICAgCiAgICAKICAgICAgICAgICAgdmFyIHBvcHVwX2U1ZTJiOWFhNWRhODRlYjhiYjNlM2NjZGIzZWUzYTA5ID0gTC5wb3B1cCh7bWF4V2lkdGg6ICczMDAnfSk7CgogICAgICAgICAgICAKICAgICAgICAgICAgICAgIHZhciBodG1sX2IyNzdhMjQyM2YyMjRlMTc5ZmYzMTgyOGIxMzJjNWFkID0gJCgnPGRpdiBpZD0iaHRtbF9iMjc3YTI0MjNmMjI0ZTE3OWZmMzE4MjhiMTMyYzVhZCIgc3R5bGU9IndpZHRoOiAxMDAuMCU7IGhlaWdodDogMTAwLjAlOyI+VW5pY288L2Rpdj4nKVswXTsKICAgICAgICAgICAgICAgIHBvcHVwX2U1ZTJiOWFhNWRhODRlYjhiYjNlM2NjZGIzZWUzYTA5LnNldENvbnRlbnQoaHRtbF9iMjc3YTI0MjNmMjI0ZTE3OWZmMzE4MjhiMTMyYzVhZCk7CiAgICAgICAgICAgIAoKICAgICAgICAgICAgY2lyY2xlX21hcmtlcl9jNTUyYmE4ODBhYzk0MWRhOTk2NzU5ZTc1ZTIzNmViMC5iaW5kUG9wdXAocG9wdXBfZTVlMmI5YWE1ZGE4NGViOGJiM2UzY2NkYjNlZTNhMDkpOwoKICAgICAgICAgICAgCiAgICAgICAgCiAgICAKICAgICAgICAgICAgdmFyIGNpcmNsZV9tYXJrZXJfMWMzMDg1N2VlMGRlNDljMGFiNjU2OTM5OGI5ZTlkMjYgPSBMLmNpcmNsZU1hcmtlcigKICAgICAgICAgICAgICAgIFs1MS41MTE1NzczOTMwOTUyOSwtMC4xMjE1NjgyNTMxNjY2NTA5XSwKICAgICAgICAgICAgICAgIHsKICAiYnViYmxpbmdNb3VzZUV2ZW50cyI6IHRydWUsCiAgImNvbG9yIjogInJlZCIsCiAgImRhc2hBcnJheSI6IG51bGwsCiAgImRhc2hPZmZzZXQiOiBudWxsLAogICJmaWxsIjogdHJ1ZSwKICAiZmlsbENvbG9yIjogIiNFOTQ5NzUiLAogICJmaWxsT3BhY2l0eSI6IDAuNywKICAiZmlsbFJ1bGUiOiAiZXZlbm9kZCIsCiAgImxpbmVDYXAiOiAicm91bmQiLAogICJsaW5lSm9pbiI6ICJyb3VuZCIsCiAgIm9wYWNpdHkiOiAxLjAsCiAgInJhZGl1cyI6IDUsCiAgInN0cm9rZSI6IHRydWUsCiAgIndlaWdodCI6IDMKfQogICAgICAgICAgICAgICAgKS5hZGRUbyhtYXBfZjkzOTdkOWI2MDFjNGZhMjk2OTZlYWQ4MjRkOTIzMDgpOwogICAgICAgICAgICAKICAgIAogICAgICAgICAgICB2YXIgcG9wdXBfNjhiMWU2YzFlZTQwNDcwMmJjYTQ5N2QxZTA2YjZiOWEgPSBMLnBvcHVwKHttYXhXaWR0aDogJzMwMCd9KTsKCiAgICAgICAgICAgIAogICAgICAgICAgICAgICAgdmFyIGh0bWxfYWQ0NWJkN2Y2NTdlNDFhN2JmZDlhMmRlNmU3ZTA5MGUgPSAkKCc8ZGl2IGlkPSJodG1sX2FkNDViZDdmNjU3ZTQxYTdiZmQ5YTJkZTZlN2UwOTBlIiBzdHlsZT0id2lkdGg6IDEwMC4wJTsgaGVpZ2h0OiAxMDAuMCU7Ij5NaWxrIFRyYWluPC9kaXY+JylbMF07CiAgICAgICAgICAgICAgICBwb3B1cF82OGIxZTZjMWVlNDA0NzAyYmNhNDk3ZDFlMDZiNmI5YS5zZXRDb250ZW50KGh0bWxfYWQ0NWJkN2Y2NTdlNDFhN2JmZDlhMmRlNmU3ZTA5MGUpOwogICAgICAgICAgICAKCiAgICAgICAgICAgIGNpcmNsZV9tYXJrZXJfMWMzMDg1N2VlMGRlNDljMGFiNjU2OTM5OGI5ZTlkMjYuYmluZFBvcHVwKHBvcHVwXzY4YjFlNmMxZWU0MDQ3MDJiY2E0OTdkMWUwNmI2YjlhKTsKCiAgICAgICAgICAgIAogICAgICAgIAogICAgCiAgICAgICAgICAgIHZhciBjaXJjbGVfbWFya2VyXzk4MDkxM2E4NzJiNTRlY2NhMzcxYjIwYzU1NDcwZTU5ID0gTC5jaXJjbGVNYXJrZXIoCiAgICAgICAgICAgICAgICBbNTEuNTExODg4Mzc3Mjc3ODIsLTAuMTIyNDgzNjQyMjEyOTQ1NTNdLAogICAgICAgICAgICAgICAgewogICJidWJibGluZ01vdXNlRXZlbnRzIjogdHJ1ZSwKICAiY29sb3IiOiAicmVkIiwKICAiZGFzaEFycmF5IjogbnVsbCwKICAiZGFzaE9mZnNldCI6IG51bGwsCiAgImZpbGwiOiB0cnVlLAogICJmaWxsQ29sb3IiOiAiI0U5NDk3NSIsCiAgImZpbGxPcGFjaXR5IjogMC43LAogICJmaWxsUnVsZSI6ICJldmVub2RkIiwKICAibGluZUNhcCI6ICJyb3VuZCIsCiAgImxpbmVKb2luIjogInJvdW5kIiwKICAib3BhY2l0eSI6IDEuMCwKICAicmFkaXVzIjogNSwKICAic3Ryb2tlIjogdHJ1ZSwKICAid2VpZ2h0IjogMwp9CiAgICAgICAgICAgICAgICApLmFkZFRvKG1hcF9mOTM5N2Q5YjYwMWM0ZmEyOTY5NmVhZDgyNGQ5MjMwOCk7CiAgICAgICAgICAgIAogICAgCiAgICAgICAgICAgIHZhciBwb3B1cF81ZDVhNzgwZTA1YjI0MWI5YTI1YzFiOTY3MzhkN2ZiNCA9IEwucG9wdXAoe21heFdpZHRoOiAnMzAwJ30pOwoKICAgICAgICAgICAgCiAgICAgICAgICAgICAgICB2YXIgaHRtbF9iYWEyOWNkNDhhYjk0MGZiOTJkMGNjM2IwNzE3NDhjZCA9ICQoJzxkaXYgaWQ9Imh0bWxfYmFhMjljZDQ4YWI5NDBmYjkyZDBjYzNiMDcxNzQ4Y2QiIHN0eWxlPSJ3aWR0aDogMTAwLjAlOyBoZWlnaHQ6IDEwMC4wJTsiPlZlbmNoaTwvZGl2PicpWzBdOwogICAgICAgICAgICAgICAgcG9wdXBfNWQ1YTc4MGUwNWIyNDFiOWEyNWMxYjk2NzM4ZDdmYjQuc2V0Q29udGVudChodG1sX2JhYTI5Y2Q0OGFiOTQwZmI5MmQwY2MzYjA3MTc0OGNkKTsKICAgICAgICAgICAgCgogICAgICAgICAgICBjaXJjbGVfbWFya2VyXzk4MDkxM2E4NzJiNTRlY2NhMzcxYjIwYzU1NDcwZTU5LmJpbmRQb3B1cChwb3B1cF81ZDVhNzgwZTA1YjI0MWI5YTI1YzFiOTY3MzhkN2ZiNCk7CgogICAgICAgICAgICAKICAgICAgICAKICAgIAogICAgICAgICAgICB2YXIgY2lyY2xlX21hcmtlcl9hYzIyZWRkNzA0MzE0YWJhOWM2ZTZhZGQyOTIyZTRmOSA9IEwuY2lyY2xlTWFya2VyKAogICAgICAgICAgICAgICAgWzUxLjUxMjE2Mjc1NTYyODQ3LC0wLjEyMjM1OTE1NTQ2NzA4MTg3XSwKICAgICAgICAgICAgICAgIHsKICAiYnViYmxpbmdNb3VzZUV2ZW50cyI6IHRydWUsCiAgImNvbG9yIjogInJlZCIsCiAgImRhc2hBcnJheSI6IG51bGwsCiAgImRhc2hPZmZzZXQiOiBudWxsLAogICJmaWxsIjogdHJ1ZSwKICAiZmlsbENvbG9yIjogIiNFOTQ5NzUiLAogICJmaWxsT3BhY2l0eSI6IDAuNywKICAiZmlsbFJ1bGUiOiAiZXZlbm9kZCIsCiAgImxpbmVDYXAiOiAicm91bmQiLAogICJsaW5lSm9pbiI6ICJyb3VuZCIsCiAgIm9wYWNpdHkiOiAxLjAsCiAgInJhZGl1cyI6IDUsCiAgInN0cm9rZSI6IHRydWUsCiAgIndlaWdodCI6IDMKfQogICAgICAgICAgICAgICAgKS5hZGRUbyhtYXBfZjkzOTdkOWI2MDFjNGZhMjk2OTZlYWQ4MjRkOTIzMDgpOwogICAgICAgICAgICAKICAgIAogICAgICAgICAgICB2YXIgcG9wdXBfYTRiZDhkZGY2NzhjNDhmMmI3Y2M1ZjU0YjVkY2VhOWUgPSBMLnBvcHVwKHttYXhXaWR0aDogJzMwMCd9KTsKCiAgICAgICAgICAgIAogICAgICAgICAgICAgICAgdmFyIGh0bWxfNzdlMjM1MmQwNTQwNDBjNDk3YzMzZDliNjI0M2IwYTUgPSAkKCc8ZGl2IGlkPSJodG1sXzc3ZTIzNTJkMDU0MDQwYzQ5N2MzM2Q5YjYyNDNiMGE1IiBzdHlsZT0id2lkdGg6IDEwMC4wJTsgaGVpZ2h0OiAxMDAuMCU7Ij5Nb3JlbGxpJiMzOTtzIEdlbGF0bzwvZGl2PicpWzBdOwogICAgICAgICAgICAgICAgcG9wdXBfYTRiZDhkZGY2NzhjNDhmMmI3Y2M1ZjU0YjVkY2VhOWUuc2V0Q29udGVudChodG1sXzc3ZTIzNTJkMDU0MDQwYzQ5N2MzM2Q5YjYyNDNiMGE1KTsKICAgICAgICAgICAgCgogICAgICAgICAgICBjaXJjbGVfbWFya2VyX2FjMjJlZGQ3MDQzMTRhYmE5YzZlNmFkZDI5MjJlNGY5LmJpbmRQb3B1cChwb3B1cF9hNGJkOGRkZjY3OGM0OGYyYjdjYzVmNTRiNWRjZWE5ZSk7CgogICAgICAgICAgICAKICAgICAgICAKICAgIAogICAgICAgICAgICB2YXIgY2lyY2xlX21hcmtlcl9iYTEyY2FiN2ZiMmM0YTE3YTBkMmE0Mzc3ODRkYTdhMSA9IEwuY2lyY2xlTWFya2VyKAogICAgICAgICAgICAgICAgWzUxLjUxMjczNywtMC4xMjA5NzcwMTRdLAogICAgICAgICAgICAgICAgewogICJidWJibGluZ01vdXNlRXZlbnRzIjogdHJ1ZSwKICAiY29sb3IiOiAicmVkIiwKICAiZGFzaEFycmF5IjogbnVsbCwKICAiZGFzaE9mZnNldCI6IG51bGwsCiAgImZpbGwiOiB0cnVlLAogICJmaWxsQ29sb3IiOiAiI0U5NDk3NSIsCiAgImZpbGxPcGFjaXR5IjogMC43LAogICJmaWxsUnVsZSI6ICJldmVub2RkIiwKICAibGluZUNhcCI6ICJyb3VuZCIsCiAgImxpbmVKb2luIjogInJvdW5kIiwKICAib3BhY2l0eSI6IDEuMCwKICAicmFkaXVzIjogNSwKICAic3Ryb2tlIjogdHJ1ZSwKICAid2VpZ2h0IjogMwp9CiAgICAgICAgICAgICAgICApLmFkZFRvKG1hcF9mOTM5N2Q5YjYwMWM0ZmEyOTY5NmVhZDgyNGQ5MjMwOCk7CiAgICAgICAgICAgIAogICAgCiAgICAgICAgICAgIHZhciBwb3B1cF9jZmFkNjRlMDQwMTM0ZDFkODUxNjhlNjdmYjViMDFhYSA9IEwucG9wdXAoe21heFdpZHRoOiAnMzAwJ30pOwoKICAgICAgICAgICAgCiAgICAgICAgICAgICAgICB2YXIgaHRtbF80NGU5MTM1NjRjMmY0ODdmODZjNzIwNWI4N2ZkYTllNiA9ICQoJzxkaXYgaWQ9Imh0bWxfNDRlOTEzNTY0YzJmNDg3Zjg2YzcyMDViODdmZGE5ZTYiIHN0eWxlPSJ3aWR0aDogMTAwLjAlOyBoZWlnaHQ6IDEwMC4wJTsiPkdlbGF0b3Jpbm88L2Rpdj4nKVswXTsKICAgICAgICAgICAgICAgIHBvcHVwX2NmYWQ2NGUwNDAxMzRkMWQ4NTE2OGU2N2ZiNWIwMWFhLnNldENvbnRlbnQoaHRtbF80NGU5MTM1NjRjMmY0ODdmODZjNzIwNWI4N2ZkYTllNik7CiAgICAgICAgICAgIAoKICAgICAgICAgICAgY2lyY2xlX21hcmtlcl9iYTEyY2FiN2ZiMmM0YTE3YTBkMmE0Mzc3ODRkYTdhMS5iaW5kUG9wdXAocG9wdXBfY2ZhZDY0ZTA0MDEzNGQxZDg1MTY4ZTY3ZmI1YjAxYWEpOwoKICAgICAgICAgICAgCiAgICAgICAgCiAgICAKICAgICAgICAgICAgdmFyIGNpcmNsZV9tYXJrZXJfOTUzN2FmMGZlYzM5NDhlZmI0MTA4YTc4NTY5NWYzYmEgPSBMLmNpcmNsZU1hcmtlcigKICAgICAgICAgICAgICAgIFs1MS41MTE1MDk3MTMzNzc5OCwtMC4xMjU3OTQ0NjM0MTc5NDE4XSwKICAgICAgICAgICAgICAgIHsKICAiYnViYmxpbmdNb3VzZUV2ZW50cyI6IHRydWUsCiAgImNvbG9yIjogInJlZCIsCiAgImRhc2hBcnJheSI6IG51bGwsCiAgImRhc2hPZmZzZXQiOiBudWxsLAogICJmaWxsIjogdHJ1ZSwKICAiZmlsbENvbG9yIjogIiNFOTQ5NzUiLAogICJmaWxsT3BhY2l0eSI6IDAuNywKICAiZmlsbFJ1bGUiOiAiZXZlbm9kZCIsCiAgImxpbmVDYXAiOiAicm91bmQiLAogICJsaW5lSm9pbiI6ICJyb3VuZCIsCiAgIm9wYWNpdHkiOiAxLjAsCiAgInJhZGl1cyI6IDUsCiAgInN0cm9rZSI6IHRydWUsCiAgIndlaWdodCI6IDMKfQogICAgICAgICAgICAgICAgKS5hZGRUbyhtYXBfZjkzOTdkOWI2MDFjNGZhMjk2OTZlYWQ4MjRkOTIzMDgpOwogICAgICAgICAgICAKICAgIAogICAgICAgICAgICB2YXIgcG9wdXBfYTQyZjcxNmM3OTAzNDRlM2IxYjZlNjQ4NGNiNzE0ZjIgPSBMLnBvcHVwKHttYXhXaWR0aDogJzMwMCd9KTsKCiAgICAgICAgICAgIAogICAgICAgICAgICAgICAgdmFyIGh0bWxfYzcwNjNhZThkODQzNGNiYWFkNDhiMjJkMmQ3MmJjODYgPSAkKCc8ZGl2IGlkPSJodG1sX2M3MDYzYWU4ZDg0MzRjYmFhZDQ4YjIyZDJkNzJiYzg2IiBzdHlsZT0id2lkdGg6IDEwMC4wJTsgaGVpZ2h0OiAxMDAuMCU7Ij5BbW9yaW5vPC9kaXY+JylbMF07CiAgICAgICAgICAgICAgICBwb3B1cF9hNDJmNzE2Yzc5MDM0NGUzYjFiNmU2NDg0Y2I3MTRmMi5zZXRDb250ZW50KGh0bWxfYzcwNjNhZThkODQzNGNiYWFkNDhiMjJkMmQ3MmJjODYpOwogICAgICAgICAgICAKCiAgICAgICAgICAgIGNpcmNsZV9tYXJrZXJfOTUzN2FmMGZlYzM5NDhlZmI0MTA4YTc4NTY5NWYzYmEuYmluZFBvcHVwKHBvcHVwX2E0MmY3MTZjNzkwMzQ0ZTNiMWI2ZTY0ODRjYjcxNGYyKTsKCiAgICAgICAgICAgIAogICAgICAgIAogICAgCiAgICAgICAgICAgIHZhciBjaXJjbGVfbWFya2VyXzlkMmIwNzE1ZTdmNTQ2OGFiM2Y4YTg0N2YxNzE4Zjk5ID0gTC5jaXJjbGVNYXJrZXIoCiAgICAgICAgICAgICAgICBbNTEuNTEzNTk4NDMxNTI2NTc0LC0wLjEyMzUwODk5NDI0MDg5Njk4XSwKICAgICAgICAgICAgICAgIHsKICAiYnViYmxpbmdNb3VzZUV2ZW50cyI6IHRydWUsCiAgImNvbG9yIjogInJlZCIsCiAgImRhc2hBcnJheSI6IG51bGwsCiAgImRhc2hPZmZzZXQiOiBudWxsLAogICJmaWxsIjogdHJ1ZSwKICAiZmlsbENvbG9yIjogIiNFOTQ5NzUiLAogICJmaWxsT3BhY2l0eSI6IDAuNywKICAiZmlsbFJ1bGUiOiAiZXZlbm9kZCIsCiAgImxpbmVDYXAiOiAicm91bmQiLAogICJsaW5lSm9pbiI6ICJyb3VuZCIsCiAgIm9wYWNpdHkiOiAxLjAsCiAgInJhZGl1cyI6IDUsCiAgInN0cm9rZSI6IHRydWUsCiAgIndlaWdodCI6IDMKfQogICAgICAgICAgICAgICAgKS5hZGRUbyhtYXBfZjkzOTdkOWI2MDFjNGZhMjk2OTZlYWQ4MjRkOTIzMDgpOwogICAgICAgICAgICAKICAgIAogICAgICAgICAgICB2YXIgcG9wdXBfNGJjODYzNDNhYzZiNGYwMDlkMjE2MTAxNjlmN2Y4NWUgPSBMLnBvcHVwKHttYXhXaWR0aDogJzMwMCd9KTsKCiAgICAgICAgICAgIAogICAgICAgICAgICAgICAgdmFyIGh0bWxfNTkwNjUzM2Q3NmRlNDQzOGJiNzRjMjkwNTUwYjg3NWEgPSAkKCc8ZGl2IGlkPSJodG1sXzU5MDY1MzNkNzZkZTQ0MzhiYjc0YzI5MDU1MGI4NzVhIiBzdHlsZT0id2lkdGg6IDEwMC4wJTsgaGVpZ2h0OiAxMDAuMCU7Ij5BbW9yaW5vPC9kaXY+JylbMF07CiAgICAgICAgICAgICAgICBwb3B1cF80YmM4NjM0M2FjNmI0ZjAwOWQyMTYxMDE2OWY3Zjg1ZS5zZXRDb250ZW50KGh0bWxfNTkwNjUzM2Q3NmRlNDQzOGJiNzRjMjkwNTUwYjg3NWEpOwogICAgICAgICAgICAKCiAgICAgICAgICAgIGNpcmNsZV9tYXJrZXJfOWQyYjA3MTVlN2Y1NDY4YWIzZjhhODQ3ZjE3MThmOTkuYmluZFBvcHVwKHBvcHVwXzRiYzg2MzQzYWM2YjRmMDA5ZDIxNjEwMTY5ZjdmODVlKTsKCiAgICAgICAgICAgIAogICAgICAgIAogICAgCiAgICAgICAgICAgIHZhciBjaXJjbGVfbWFya2VyXzAwZGE1YmVhNmQ5NTQ0NzFhYTQzZDU1MDkyOWNiNTY5ID0gTC5jaXJjbGVNYXJrZXIoCiAgICAgICAgICAgICAgICBbNTEuNTEzNjA1Nzg4NzEwMTcsLTAuMTIzNDExOTk5MzQ0NTA2Nl0sCiAgICAgICAgICAgICAgICB7CiAgImJ1YmJsaW5nTW91c2VFdmVudHMiOiB0cnVlLAogICJjb2xvciI6ICJyZWQiLAogICJkYXNoQXJyYXkiOiBudWxsLAogICJkYXNoT2Zmc2V0IjogbnVsbCwKICAiZmlsbCI6IHRydWUsCiAgImZpbGxDb2xvciI6ICIjRTk0OTc1IiwKICAiZmlsbE9wYWNpdHkiOiAwLjcsCiAgImZpbGxSdWxlIjogImV2ZW5vZGQiLAogICJsaW5lQ2FwIjogInJvdW5kIiwKICAibGluZUpvaW4iOiAicm91bmQiLAogICJvcGFjaXR5IjogMS4wLAogICJyYWRpdXMiOiA1LAogICJzdHJva2UiOiB0cnVlLAogICJ3ZWlnaHQiOiAzCn0KICAgICAgICAgICAgICAgICkuYWRkVG8obWFwX2Y5Mzk3ZDliNjAxYzRmYTI5Njk2ZWFkODI0ZDkyMzA4KTsKICAgICAgICAgICAgCiAgICAKICAgICAgICAgICAgdmFyIHBvcHVwXzdmYmE3N2JlOGRlNDQ5NDc4YzQ3MDE5NjBhOTQ2YzliID0gTC5wb3B1cCh7bWF4V2lkdGg6ICczMDAnfSk7CgogICAgICAgICAgICAKICAgICAgICAgICAgICAgIHZhciBodG1sXzdhMDQ4OWZmMjc0NDQ3YWJhMjEzNjgxODJmOTgzN2YzID0gJCgnPGRpdiBpZD0iaHRtbF83YTA0ODlmZjI3NDQ0N2FiYTIxMzY4MTgyZjk4MzdmMyIgc3R5bGU9IndpZHRoOiAxMDAuMCU7IGhlaWdodDogMTAwLjAlOyI+QmVhbmljZTwvZGl2PicpWzBdOwogICAgICAgICAgICAgICAgcG9wdXBfN2ZiYTc3YmU4ZGU0NDk0NzhjNDcwMTk2MGE5NDZjOWIuc2V0Q29udGVudChodG1sXzdhMDQ4OWZmMjc0NDQ3YWJhMjEzNjgxODJmOTgzN2YzKTsKICAgICAgICAgICAgCgogICAgICAgICAgICBjaXJjbGVfbWFya2VyXzAwZGE1YmVhNmQ5NTQ0NzFhYTQzZDU1MDkyOWNiNTY5LmJpbmRQb3B1cChwb3B1cF83ZmJhNzdiZThkZTQ0OTQ3OGM0NzAxOTYwYTk0NmM5Yik7CgogICAgICAgICAgICAKICAgICAgICAKICAgIAogICAgICAgICAgICB2YXIgY2lyY2xlX21hcmtlcl8wZGQ3MDI3NDIzNzc0YTVjYmIyMDJlYTFlYjJkZjUwMyA9IEwuY2lyY2xlTWFya2VyKAogICAgICAgICAgICAgICAgWzUxLjUxMzg5ODI2Mjc1NDYxNiwtMC4xMjM0MDExMDU1MTA1OTkzNV0sCiAgICAgICAgICAgICAgICB7CiAgImJ1YmJsaW5nTW91c2VFdmVudHMiOiB0cnVlLAogICJjb2xvciI6ICJyZWQiLAogICJkYXNoQXJyYXkiOiBudWxsLAogICJkYXNoT2Zmc2V0IjogbnVsbCwKICAiZmlsbCI6IHRydWUsCiAgImZpbGxDb2xvciI6ICIjRTk0OTc1IiwKICAiZmlsbE9wYWNpdHkiOiAwLjcsCiAgImZpbGxSdWxlIjogImV2ZW5vZGQiLAogICJsaW5lQ2FwIjogInJvdW5kIiwKICAibGluZUpvaW4iOiAicm91bmQiLAogICJvcGFjaXR5IjogMS4wLAogICJyYWRpdXMiOiA1LAogICJzdHJva2UiOiB0cnVlLAogICJ3ZWlnaHQiOiAzCn0KICAgICAgICAgICAgICAgICkuYWRkVG8obWFwX2Y5Mzk3ZDliNjAxYzRmYTI5Njk2ZWFkODI0ZDkyMzA4KTsKICAgICAgICAgICAgCiAgICAKICAgICAgICAgICAgdmFyIHBvcHVwX2JlODEzYjRhOWFjZjQ4YTdiZDk0NGE3MjFlZGQzMzRkID0gTC5wb3B1cCh7bWF4V2lkdGg6ICczMDAnfSk7CgogICAgICAgICAgICAKICAgICAgICAgICAgICAgIHZhciBodG1sX2I5NjM5MGNjZTBjYTRlMzQ5YTIwM2NkMWFjMzIzYjI2ID0gJCgnPGRpdiBpZD0iaHRtbF9iOTYzOTBjY2UwY2E0ZTM0OWEyMDNjZDFhYzMyM2IyNiIgc3R5bGU9IndpZHRoOiAxMDAuMCU7IGhlaWdodDogMTAwLjAlOyI+QmVhIE5pY2U8L2Rpdj4nKVswXTsKICAgICAgICAgICAgICAgIHBvcHVwX2JlODEzYjRhOWFjZjQ4YTdiZDk0NGE3MjFlZGQzMzRkLnNldENvbnRlbnQoaHRtbF9iOTYzOTBjY2UwY2E0ZTM0OWEyMDNjZDFhYzMyM2IyNik7CiAgICAgICAgICAgIAoKICAgICAgICAgICAgY2lyY2xlX21hcmtlcl8wZGQ3MDI3NDIzNzc0YTVjYmIyMDJlYTFlYjJkZjUwMy5iaW5kUG9wdXAocG9wdXBfYmU4MTNiNGE5YWNmNDhhN2JkOTQ0YTcyMWVkZDMzNGQpOwoKICAgICAgICAgICAgCiAgICAgICAgCiAgICAKICAgICAgICAgICAgdmFyIGNpcmNsZV9tYXJrZXJfZWY3NTgyNWVlZTkyNDNhYjg5YmEzZjAwYWYwMDUxMTAgPSBMLmNpcmNsZU1hcmtlcigKICAgICAgICAgICAgICAgIFs1MS41MDc4NjYsLTAuMTEzNzU4MTg0XSwKICAgICAgICAgICAgICAgIHsKICAiYnViYmxpbmdNb3VzZUV2ZW50cyI6IHRydWUsCiAgImNvbG9yIjogInJlZCIsCiAgImRhc2hBcnJheSI6IG51bGwsCiAgImRhc2hPZmZzZXQiOiBudWxsLAogICJmaWxsIjogdHJ1ZSwKICAiZmlsbENvbG9yIjogIiNFOTQ5NzUiLAogICJmaWxsT3BhY2l0eSI6IDAuNywKICAiZmlsbFJ1bGUiOiAiZXZlbm9kZCIsCiAgImxpbmVDYXAiOiAicm91bmQiLAogICJsaW5lSm9pbiI6ICJyb3VuZCIsCiAgIm9wYWNpdHkiOiAxLjAsCiAgInJhZGl1cyI6IDUsCiAgInN0cm9rZSI6IHRydWUsCiAgIndlaWdodCI6IDMKfQogICAgICAgICAgICAgICAgKS5hZGRUbyhtYXBfZjkzOTdkOWI2MDFjNGZhMjk2OTZlYWQ4MjRkOTIzMDgpOwogICAgICAgICAgICAKICAgIAogICAgICAgICAgICB2YXIgcG9wdXBfNTBlMDE1ZjdlODg1NDUxMmIxMjg3NDg1NDQ4NTY2M2YgPSBMLnBvcHVwKHttYXhXaWR0aDogJzMwMCd9KTsKCiAgICAgICAgICAgIAogICAgICAgICAgICAgICAgdmFyIGh0bWxfMTk0ZWRkZDM5YjkyNGI4ZDlkOTJiNzY2MzNkNTFiZjUgPSAkKCc8ZGl2IGlkPSJodG1sXzE5NGVkZGQzOWI5MjRiOGQ5ZDkyYjc2NjMzZDUxYmY1IiBzdHlsZT0id2lkdGg6IDEwMC4wJTsgaGVpZ2h0OiAxMDAuMCU7Ij5Ob3J0aGVybiBCbG9jPC9kaXY+JylbMF07CiAgICAgICAgICAgICAgICBwb3B1cF81MGUwMTVmN2U4ODU0NTEyYjEyODc0ODU0NDg1NjYzZi5zZXRDb250ZW50KGh0bWxfMTk0ZWRkZDM5YjkyNGI4ZDlkOTJiNzY2MzNkNTFiZjUpOwogICAgICAgICAgICAKCiAgICAgICAgICAgIGNpcmNsZV9tYXJrZXJfZWY3NTgyNWVlZTkyNDNhYjg5YmEzZjAwYWYwMDUxMTAuYmluZFBvcHVwKHBvcHVwXzUwZTAxNWY3ZTg4NTQ1MTJiMTI4NzQ4NTQ0ODU2NjNmKTsKCiAgICAgICAgICAgIAogICAgICAgIAogICAgCiAgICAgICAgICAgIHZhciBjaXJjbGVfbWFya2VyX2IwYTczZTU3Y2U5OTRjZTNiNDdlZTY0NmE1MDk4Y2RkID0gTC5jaXJjbGVNYXJrZXIoCiAgICAgICAgICAgICAgICBbNTEuNTE1ODk5LC0wLjExMDM5OF0sCiAgICAgICAgICAgICAgICB7CiAgImJ1YmJsaW5nTW91c2VFdmVudHMiOiB0cnVlLAogICJjb2xvciI6ICJyZWQiLAogICJkYXNoQXJyYXkiOiBudWxsLAogICJkYXNoT2Zmc2V0IjogbnVsbCwKICAiZmlsbCI6IHRydWUsCiAgImZpbGxDb2xvciI6ICIjRTk0OTc1IiwKICAiZmlsbE9wYWNpdHkiOiAwLjcsCiAgImZpbGxSdWxlIjogImV2ZW5vZGQiLAogICJsaW5lQ2FwIjogInJvdW5kIiwKICAibGluZUpvaW4iOiAicm91bmQiLAogICJvcGFjaXR5IjogMS4wLAogICJyYWRpdXMiOiA1LAogICJzdHJva2UiOiB0cnVlLAogICJ3ZWlnaHQiOiAzCn0KICAgICAgICAgICAgICAgICkuYWRkVG8obWFwX2Y5Mzk3ZDliNjAxYzRmYTI5Njk2ZWFkODI0ZDkyMzA4KTsKICAgICAgICAgICAgCiAgICAKICAgICAgICAgICAgdmFyIHBvcHVwXzQ3MDBkYmEwMjc2ZjQ3NjBhOWQzOWJkMWIzMjEyMWM3ID0gTC5wb3B1cCh7bWF4V2lkdGg6ICczMDAnfSk7CgogICAgICAgICAgICAKICAgICAgICAgICAgICAgIHZhciBodG1sXzIxNTM5ZjdjZGFhNjQwMjNiMTEwMTY2MzM1OTU0OGM1ID0gJCgnPGRpdiBpZD0iaHRtbF8yMTUzOWY3Y2RhYTY0MDIzYjExMDE2NjMzNTk1NDhjNSIgc3R5bGU9IndpZHRoOiAxMDAuMCU7IGhlaWdodDogMTAwLjAlOyI+dGhlIHNjb29wPC9kaXY+JylbMF07CiAgICAgICAgICAgICAgICBwb3B1cF80NzAwZGJhMDI3NmY0NzYwYTlkMzliZDFiMzIxMjFjNy5zZXRDb250ZW50KGh0bWxfMjE1MzlmN2NkYWE2NDAyM2IxMTAxNjYzMzU5NTQ4YzUpOwogICAgICAgICAgICAKCiAgICAgICAgICAgIGNpcmNsZV9tYXJrZXJfYjBhNzNlNTdjZTk5NGNlM2I0N2VlNjQ2YTUwOThjZGQuYmluZFBvcHVwKHBvcHVwXzQ3MDBkYmEwMjc2ZjQ3NjBhOWQzOWJkMWIzMjEyMWM3KTsKCiAgICAgICAgICAgIAogICAgICAgIAogICAgCiAgICAgICAgICAgIHZhciBjaXJjbGVfbWFya2VyXzY2YjZlMDlkNTAwZTQ3MDJhODIyZTNjM2Q1MWE4MGIzID0gTC5jaXJjbGVNYXJrZXIoCiAgICAgICAgICAgICAgICBbNTEuNDk2MzEyLC0wLjE0NDE5NF0sCiAgICAgICAgICAgICAgICB7CiAgImJ1YmJsaW5nTW91c2VFdmVudHMiOiB0cnVlLAogICJjb2xvciI6ICJyZWQiLAogICJkYXNoQXJyYXkiOiBudWxsLAogICJkYXNoT2Zmc2V0IjogbnVsbCwKICAiZmlsbCI6IHRydWUsCiAgImZpbGxDb2xvciI6ICIjRTk0OTc1IiwKICAiZmlsbE9wYWNpdHkiOiAwLjcsCiAgImZpbGxSdWxlIjogImV2ZW5vZGQiLAogICJsaW5lQ2FwIjogInJvdW5kIiwKICAibGluZUpvaW4iOiAicm91bmQiLAogICJvcGFjaXR5IjogMS4wLAogICJyYWRpdXMiOiA1LAogICJzdHJva2UiOiB0cnVlLAogICJ3ZWlnaHQiOiAzCn0KICAgICAgICAgICAgICAgICkuYWRkVG8obWFwX2Y5Mzk3ZDliNjAxYzRmYTI5Njk2ZWFkODI0ZDkyMzA4KTsKICAgICAgICAgICAgCiAgICAKICAgICAgICAgICAgdmFyIHBvcHVwXzAyY2FlYTdiMDc3MTRlZDg5M2Y0ODdhZjQ0NDhmOTYzID0gTC5wb3B1cCh7bWF4V2lkdGg6ICczMDAnfSk7CgogICAgICAgICAgICAKICAgICAgICAgICAgICAgIHZhciBodG1sX2Y2NDY4YThmNDJiYzRkYmJhNDA4NDRhZjhhZjFiNmRkID0gJCgnPGRpdiBpZD0iaHRtbF9mNjQ2OGE4ZjQyYmM0ZGJiYTQwODQ0YWY4YWYxYjZkZCIgc3R5bGU9IndpZHRoOiAxMDAuMCU7IGhlaWdodDogMTAwLjAlOyI+U29mdCBTZXJ2ZSBTb2NpZXR5PC9kaXY+JylbMF07CiAgICAgICAgICAgICAgICBwb3B1cF8wMmNhZWE3YjA3NzE0ZWQ4OTNmNDg3YWY0NDQ4Zjk2My5zZXRDb250ZW50KGh0bWxfZjY0NjhhOGY0MmJjNGRiYmE0MDg0NGFmOGFmMWI2ZGQpOwogICAgICAgICAgICAKCiAgICAgICAgICAgIGNpcmNsZV9tYXJrZXJfNjZiNmUwOWQ1MDBlNDcwMmE4MjJlM2MzZDUxYTgwYjMuYmluZFBvcHVwKHBvcHVwXzAyY2FlYTdiMDc3MTRlZDg5M2Y0ODdhZjQ0NDhmOTYzKTsKCiAgICAgICAgICAgIAogICAgICAgIAogICAgCiAgICAgICAgICAgIHZhciBjaXJjbGVfbWFya2VyXzg5NmQyMzk4Mjg1NjQ1Njk4MjM4OTk0ZWQyMTRkMGViID0gTC5jaXJjbGVNYXJrZXIoCiAgICAgICAgICAgICAgICBbNTEuNDk5Mjc5MzUwNzA4MzcsLTAuMTQ1ODA0ODgyMDQ5NTYwNTVdLAogICAgICAgICAgICAgICAgewogICJidWJibGluZ01vdXNlRXZlbnRzIjogdHJ1ZSwKICAiY29sb3IiOiAicmVkIiwKICAiZGFzaEFycmF5IjogbnVsbCwKICAiZGFzaE9mZnNldCI6IG51bGwsCiAgImZpbGwiOiB0cnVlLAogICJmaWxsQ29sb3IiOiAiI0U5NDk3NSIsCiAgImZpbGxPcGFjaXR5IjogMC43LAogICJmaWxsUnVsZSI6ICJldmVub2RkIiwKICAibGluZUNhcCI6ICJyb3VuZCIsCiAgImxpbmVKb2luIjogInJvdW5kIiwKICAib3BhY2l0eSI6IDEuMCwKICAicmFkaXVzIjogNSwKICAic3Ryb2tlIjogdHJ1ZSwKICAid2VpZ2h0IjogMwp9CiAgICAgICAgICAgICAgICApLmFkZFRvKG1hcF9mOTM5N2Q5YjYwMWM0ZmEyOTY5NmVhZDgyNGQ5MjMwOCk7CiAgICAgICAgICAgIAogICAgCiAgICAgICAgICAgIHZhciBwb3B1cF84ZThjOGYwOGQ5OTc0MjVkOGVmMTNjM2Y1NzQxY2JiOCA9IEwucG9wdXAoe21heFdpZHRoOiAnMzAwJ30pOwoKICAgICAgICAgICAgCiAgICAgICAgICAgICAgICB2YXIgaHRtbF8yNGE2MjVlMjE4NzQ0MmUyYjI0ZDI3OGQ4OTU5ZDAyMCA9ICQoJzxkaXYgaWQ9Imh0bWxfMjRhNjI1ZTIxODc0NDJlMmIyNGQyNzhkODk1OWQwMjAiIHN0eWxlPSJ3aWR0aDogMTAwLjAlOyBoZWlnaHQ6IDEwMC4wJTsiPkJ1Y2tpbmdoYW0gUGFsYWNlIERhaXJ5IEljZSBDcmVhbTwvZGl2PicpWzBdOwogICAgICAgICAgICAgICAgcG9wdXBfOGU4YzhmMDhkOTk3NDI1ZDhlZjEzYzNmNTc0MWNiYjguc2V0Q29udGVudChodG1sXzI0YTYyNWUyMTg3NDQyZTJiMjRkMjc4ZDg5NTlkMDIwKTsKICAgICAgICAgICAgCgogICAgICAgICAgICBjaXJjbGVfbWFya2VyXzg5NmQyMzk4Mjg1NjQ1Njk4MjM4OTk0ZWQyMTRkMGViLmJpbmRQb3B1cChwb3B1cF84ZThjOGYwOGQ5OTc0MjVkOGVmMTNjM2Y1NzQxY2JiOCk7CgogICAgICAgICAgICAKICAgICAgICAKICAgIAogICAgICAgICAgICB2YXIgY2lyY2xlX21hcmtlcl9hZWNmYTU3ZmJiN2E0NzRlYTRmNjJiZDNlMjBkMjc4NyA9IEwuY2lyY2xlTWFya2VyKAogICAgICAgICAgICAgICAgWzUxLjUxNTU4NTkyODI2MjMsLTAuMTkwMjU0MjQ0MzkyMTQwMjVdLAogICAgICAgICAgICAgICAgewogICJidWJibGluZ01vdXNlRXZlbnRzIjogdHJ1ZSwKICAiY29sb3IiOiAicmVkIiwKICAiZGFzaEFycmF5IjogbnVsbCwKICAiZGFzaE9mZnNldCI6IG51bGwsCiAgImZpbGwiOiB0cnVlLAogICJmaWxsQ29sb3IiOiAiI0U5NDk3NSIsCiAgImZpbGxPcGFjaXR5IjogMC43LAogICJmaWxsUnVsZSI6ICJldmVub2RkIiwKICAibGluZUNhcCI6ICJyb3VuZCIsCiAgImxpbmVKb2luIjogInJvdW5kIiwKICAib3BhY2l0eSI6IDEuMCwKICAicmFkaXVzIjogNSwKICAic3Ryb2tlIjogdHJ1ZSwKICAid2VpZ2h0IjogMwp9CiAgICAgICAgICAgICAgICApLmFkZFRvKG1hcF9mOTM5N2Q5YjYwMWM0ZmEyOTY5NmVhZDgyNGQ5MjMwOCk7CiAgICAgICAgICAgIAogICAgCiAgICAgICAgICAgIHZhciBwb3B1cF8zODQ0YTM3MjRmMjQ0MzliOWJjZWMzMTA3M2EwZTZkMyA9IEwucG9wdXAoe21heFdpZHRoOiAnMzAwJ30pOwoKICAgICAgICAgICAgCiAgICAgICAgICAgICAgICB2YXIgaHRtbF8zM2I5N2U3Yzg4Mjg0MTU1OTI3Yjg4NGQ3YmQ2ZGQ0ZiA9ICQoJzxkaXYgaWQ9Imh0bWxfMzNiOTdlN2M4ODI4NDE1NTkyN2I4ODRkN2JkNmRkNGYiIHN0eWxlPSJ3aWR0aDogMTAwLjAlOyBoZWlnaHQ6IDEwMC4wJTsiPlNub3dmbGFrZSBMdXh1cnkgR2VsYXRvPC9kaXY+JylbMF07CiAgICAgICAgICAgICAgICBwb3B1cF8zODQ0YTM3MjRmMjQ0MzliOWJjZWMzMTA3M2EwZTZkMy5zZXRDb250ZW50KGh0bWxfMzNiOTdlN2M4ODI4NDE1NTkyN2I4ODRkN2JkNmRkNGYpOwogICAgICAgICAgICAKCiAgICAgICAgICAgIGNpcmNsZV9tYXJrZXJfYWVjZmE1N2ZiYjdhNDc0ZWE0ZjYyYmQzZTIwZDI3ODcuYmluZFBvcHVwKHBvcHVwXzM4NDRhMzcyNGYyNDQzOWI5YmNlYzMxMDczYTBlNmQzKTsKCiAgICAgICAgICAgIAogICAgICAgIAogICAgCiAgICAgICAgICAgIHZhciBjaXJjbGVfbWFya2VyXzQ4MDhlOWEwZWU5ZTQ2YmU4NzU5NWJmODZiMGQ5OGFjID0gTC5jaXJjbGVNYXJrZXIoCiAgICAgICAgICAgICAgICBbNTEuNTE1Njk1Nzc0NjA3MDIsLTAuMjA0Nzc3ODA3NjM0MDYyNF0sCiAgICAgICAgICAgICAgICB7CiAgImJ1YmJsaW5nTW91c2VFdmVudHMiOiB0cnVlLAogICJjb2xvciI6ICJyZWQiLAogICJkYXNoQXJyYXkiOiBudWxsLAogICJkYXNoT2Zmc2V0IjogbnVsbCwKICAiZmlsbCI6IHRydWUsCiAgImZpbGxDb2xvciI6ICIjRTk0OTc1IiwKICAiZmlsbE9wYWNpdHkiOiAwLjcsCiAgImZpbGxSdWxlIjogImV2ZW5vZGQiLAogICJsaW5lQ2FwIjogInJvdW5kIiwKICAibGluZUpvaW4iOiAicm91bmQiLAogICJvcGFjaXR5IjogMS4wLAogICJyYWRpdXMiOiA1LAogICJzdHJva2UiOiB0cnVlLAogICJ3ZWlnaHQiOiAzCn0KICAgICAgICAgICAgICAgICkuYWRkVG8obWFwX2Y5Mzk3ZDliNjAxYzRmYTI5Njk2ZWFkODI0ZDkyMzA4KTsKICAgICAgICAgICAgCiAgICAKICAgICAgICAgICAgdmFyIHBvcHVwXzdlMzQ5Mzc1NmI3NjQwNzhiYjE1MThiNzg0Mzg5YzE1ID0gTC5wb3B1cCh7bWF4V2lkdGg6ICczMDAnfSk7CgogICAgICAgICAgICAKICAgICAgICAgICAgICAgIHZhciBodG1sXzhkN2U2OGIzZTdhMDQwMGJhZWE4ZWJmNGI1OGIwOWVmID0gJCgnPGRpdiBpZD0iaHRtbF84ZDdlNjhiM2U3YTA0MDBiYWVhOGViZjRiNThiMDllZiIgc3R5bGU9IndpZHRoOiAxMDAuMCU7IGhlaWdodDogMTAwLjAlOyI+R2VsYXRlcmlhIDNCaXM8L2Rpdj4nKVswXTsKICAgICAgICAgICAgICAgIHBvcHVwXzdlMzQ5Mzc1NmI3NjQwNzhiYjE1MThiNzg0Mzg5YzE1LnNldENvbnRlbnQoaHRtbF84ZDdlNjhiM2U3YTA0MDBiYWVhOGViZjRiNThiMDllZik7CiAgICAgICAgICAgIAoKICAgICAgICAgICAgY2lyY2xlX21hcmtlcl80ODA4ZTlhMGVlOWU0NmJlODc1OTViZjg2YjBkOThhYy5iaW5kUG9wdXAocG9wdXBfN2UzNDkzNzU2Yjc2NDA3OGJiMTUxOGI3ODQzODljMTUpOwoKICAgICAgICAgICAgCiAgICAgICAgCiAgICAKICAgICAgICAgICAgdmFyIGNpcmNsZV9tYXJrZXJfZjNlZTdkM2UwYzRhNGRmNTk2N2ZhZDU1MmIzNjI4MjcgPSBMLmNpcmNsZU1hcmtlcigKICAgICAgICAgICAgICAgIFs1MS41MDk2MzY2MzUyODcwOTQsLTAuMTk3MzE1OTI2NjU5NDg4NV0sCiAgICAgICAgICAgICAgICB7CiAgImJ1YmJsaW5nTW91c2VFdmVudHMiOiB0cnVlLAogICJjb2xvciI6ICJyZWQiLAogICJkYXNoQXJyYXkiOiBudWxsLAogICJkYXNoT2Zmc2V0IjogbnVsbCwKICAiZmlsbCI6IHRydWUsCiAgImZpbGxDb2xvciI6ICIjRTk0OTc1IiwKICAiZmlsbE9wYWNpdHkiOiAwLjcsCiAgImZpbGxSdWxlIjogImV2ZW5vZGQiLAogICJsaW5lQ2FwIjogInJvdW5kIiwKICAibGluZUpvaW4iOiAicm91bmQiLAogICJvcGFjaXR5IjogMS4wLAogICJyYWRpdXMiOiA1LAogICJzdHJva2UiOiB0cnVlLAogICJ3ZWlnaHQiOiAzCn0KICAgICAgICAgICAgICAgICkuYWRkVG8obWFwX2Y5Mzk3ZDliNjAxYzRmYTI5Njk2ZWFkODI0ZDkyMzA4KTsKICAgICAgICAgICAgCiAgICAKICAgICAgICAgICAgdmFyIHBvcHVwXzYyYmU1YjExZGU3ZDQ0ZjI4ZDFmY2FkOTNmYTkwMjM5ID0gTC5wb3B1cCh7bWF4V2lkdGg6ICczMDAnfSk7CgogICAgICAgICAgICAKICAgICAgICAgICAgICAgIHZhciBodG1sXzg3NTEwMDRiMmI5YjRlYjk5NjllMGE0ZWMwZWEwMTkwID0gJCgnPGRpdiBpZD0iaHRtbF84NzUxMDA0YjJiOWI0ZWI5OTY5ZTBhNGVjMGVhMDE5MCIgc3R5bGU9IndpZHRoOiAxMDAuMCU7IGhlaWdodDogMTAwLjAlOyI+QW1vcmlubzwvZGl2PicpWzBdOwogICAgICAgICAgICAgICAgcG9wdXBfNjJiZTViMTFkZTdkNDRmMjhkMWZjYWQ5M2ZhOTAyMzkuc2V0Q29udGVudChodG1sXzg3NTEwMDRiMmI5YjRlYjk5NjllMGE0ZWMwZWEwMTkwKTsKICAgICAgICAgICAgCgogICAgICAgICAgICBjaXJjbGVfbWFya2VyX2YzZWU3ZDNlMGM0YTRkZjU5NjdmYWQ1NTJiMzYyODI3LmJpbmRQb3B1cChwb3B1cF82MmJlNWIxMWRlN2Q0NGYyOGQxZmNhZDkzZmE5MDIzOSk7CgogICAgICAgICAgICAKICAgICAgICAKICAgIAogICAgICAgICAgICB2YXIgY2lyY2xlX21hcmtlcl84NjAwNTMzMzA3MzY0NGQwOGE0YmQ3ZThiYmI5NWZmYiA9IEwuY2lyY2xlTWFya2VyKAogICAgICAgICAgICAgICAgWzUxLjUxMDYwOSwtMC4xOTc0NzVdLAogICAgICAgICAgICAgICAgewogICJidWJibGluZ01vdXNlRXZlbnRzIjogdHJ1ZSwKICAiY29sb3IiOiAicmVkIiwKICAiZGFzaEFycmF5IjogbnVsbCwKICAiZGFzaE9mZnNldCI6IG51bGwsCiAgImZpbGwiOiB0cnVlLAogICJmaWxsQ29sb3IiOiAiI0U5NDk3NSIsCiAgImZpbGxPcGFjaXR5IjogMC43LAogICJmaWxsUnVsZSI6ICJldmVub2RkIiwKICAibGluZUNhcCI6ICJyb3VuZCIsCiAgImxpbmVKb2luIjogInJvdW5kIiwKICAib3BhY2l0eSI6IDEuMCwKICAicmFkaXVzIjogNSwKICAic3Ryb2tlIjogdHJ1ZSwKICAid2VpZ2h0IjogMwp9CiAgICAgICAgICAgICAgICApLmFkZFRvKG1hcF9mOTM5N2Q5YjYwMWM0ZmEyOTY5NmVhZDgyNGQ5MjMwOCk7CiAgICAgICAgICAgIAogICAgCiAgICAgICAgICAgIHZhciBwb3B1cF84NzEyMmY5ODYwYWI0YmJjYmE5NDBiM2U2MDVlNmM5MiA9IEwucG9wdXAoe21heFdpZHRoOiAnMzAwJ30pOwoKICAgICAgICAgICAgCiAgICAgICAgICAgICAgICB2YXIgaHRtbF9kOWFhNTJmYzNkZjE0NzVlYWU4MzBjMzdmNmU3YTE1NSA9ICQoJzxkaXYgaWQ9Imh0bWxfZDlhYTUyZmMzZGYxNDc1ZWFlODMwYzM3ZjZlN2ExNTUiIHN0eWxlPSJ3aWR0aDogMTAwLjAlOyBoZWlnaHQ6IDEwMC4wJTsiPk1pbGsgQ29vbDwvZGl2PicpWzBdOwogICAgICAgICAgICAgICAgcG9wdXBfODcxMjJmOTg2MGFiNGJiY2JhOTQwYjNlNjA1ZTZjOTIuc2V0Q29udGVudChodG1sX2Q5YWE1MmZjM2RmMTQ3NWVhZTgzMGMzN2Y2ZTdhMTU1KTsKICAgICAgICAgICAgCgogICAgICAgICAgICBjaXJjbGVfbWFya2VyXzg2MDA1MzMzMDczNjQ0ZDA4YTRiZDdlOGJiYjk1ZmZiLmJpbmRQb3B1cChwb3B1cF84NzEyMmY5ODYwYWI0YmJjYmE5NDBiM2U2MDVlNmM5Mik7CgogICAgICAgICAgICAKICAgICAgICAKICAgIAogICAgICAgICAgICB2YXIgY2lyY2xlX21hcmtlcl8wN2U5NGE0YzI1ZTA0Yzg5YmRlNWZkNzRhMGM0Y2ZmYyA9IEwuY2lyY2xlTWFya2VyKAogICAgICAgICAgICAgICAgWzUxLjUxNTg5NDU0OTYwNjY2LC0wLjIwNDgwOTU4ODM5OTQ3OTk0XSwKICAgICAgICAgICAgICAgIHsKICAiYnViYmxpbmdNb3VzZUV2ZW50cyI6IHRydWUsCiAgImNvbG9yIjogInJlZCIsCiAgImRhc2hBcnJheSI6IG51bGwsCiAgImRhc2hPZmZzZXQiOiBudWxsLAogICJmaWxsIjogdHJ1ZSwKICAiZmlsbENvbG9yIjogIiNFOTQ5NzUiLAogICJmaWxsT3BhY2l0eSI6IDAuNywKICAiZmlsbFJ1bGUiOiAiZXZlbm9kZCIsCiAgImxpbmVDYXAiOiAicm91bmQiLAogICJsaW5lSm9pbiI6ICJyb3VuZCIsCiAgIm9wYWNpdHkiOiAxLjAsCiAgInJhZGl1cyI6IDUsCiAgInN0cm9rZSI6IHRydWUsCiAgIndlaWdodCI6IDMKfQogICAgICAgICAgICAgICAgKS5hZGRUbyhtYXBfZjkzOTdkOWI2MDFjNGZhMjk2OTZlYWQ4MjRkOTIzMDgpOwogICAgICAgICAgICAKICAgIAogICAgICAgICAgICB2YXIgcG9wdXBfMDJjY2NlNzE3YzU5NGU1ZmE3MjcxMWRjMWUyOThlMmQgPSBMLnBvcHVwKHttYXhXaWR0aDogJzMwMCd9KTsKCiAgICAgICAgICAgIAogICAgICAgICAgICAgICAgdmFyIGh0bWxfMDc2YTdjN2ZjZGY3NGI5MzliODRiNzM4MWQ5MDZlZGYgPSAkKCc8ZGl2IGlkPSJodG1sXzA3NmE3YzdmY2RmNzRiOTM5Yjg0YjczODFkOTA2ZWRmIiBzdHlsZT0id2lkdGg6IDEwMC4wJTsgaGVpZ2h0OiAxMDAuMCU7Ij5aYXphIEdlbGF0bzwvZGl2PicpWzBdOwogICAgICAgICAgICAgICAgcG9wdXBfMDJjY2NlNzE3YzU5NGU1ZmE3MjcxMWRjMWUyOThlMmQuc2V0Q29udGVudChodG1sXzA3NmE3YzdmY2RmNzRiOTM5Yjg0YjczODFkOTA2ZWRmKTsKICAgICAgICAgICAgCgogICAgICAgICAgICBjaXJjbGVfbWFya2VyXzA3ZTk0YTRjMjVlMDRjODliZGU1ZmQ3NGEwYzRjZmZjLmJpbmRQb3B1cChwb3B1cF8wMmNjY2U3MTdjNTk0ZTVmYTcyNzExZGMxZTI5OGUyZCk7CgogICAgICAgICAgICAKICAgICAgICAKICAgIAogICAgICAgICAgICB2YXIgY2lyY2xlX21hcmtlcl9kMWZmNzNiNjFmZjI0ODlmODk2ZmNhN2Y0NTM1NDJlMCA9IEwuY2lyY2xlTWFya2VyKAogICAgICAgICAgICAgICAgWzUxLjUxMDQyMzA1MDgzMDYyNCwtMC4xOTczOTIzMDM2NzI5MDU5Ml0sCiAgICAgICAgICAgICAgICB7CiAgImJ1YmJsaW5nTW91c2VFdmVudHMiOiB0cnVlLAogICJjb2xvciI6ICJyZWQiLAogICJkYXNoQXJyYXkiOiBudWxsLAogICJkYXNoT2Zmc2V0IjogbnVsbCwKICAiZmlsbCI6IHRydWUsCiAgImZpbGxDb2xvciI6ICIjRTk0OTc1IiwKICAiZmlsbE9wYWNpdHkiOiAwLjcsCiAgImZpbGxSdWxlIjogImV2ZW5vZGQiLAogICJsaW5lQ2FwIjogInJvdW5kIiwKICAibGluZUpvaW4iOiAicm91bmQiLAogICJvcGFjaXR5IjogMS4wLAogICJyYWRpdXMiOiA1LAogICJzdHJva2UiOiB0cnVlLAogICJ3ZWlnaHQiOiAzCn0KICAgICAgICAgICAgICAgICkuYWRkVG8obWFwX2Y5Mzk3ZDliNjAxYzRmYTI5Njk2ZWFkODI0ZDkyMzA4KTsKICAgICAgICAgICAgCiAgICAKICAgICAgICAgICAgdmFyIHBvcHVwXzliOGVhMjliYWNlNjQxNjNhNGViMjgxYTVkMTJhY2IyID0gTC5wb3B1cCh7bWF4V2lkdGg6ICczMDAnfSk7CgogICAgICAgICAgICAKICAgICAgICAgICAgICAgIHZhciBodG1sX2JjZTFlMTcyZTY0NjQ2OTM4MGRlNjMzZjUxMzJiZGM4ID0gJCgnPGRpdiBpZD0iaHRtbF9iY2UxZTE3MmU2NDY0NjkzODBkZTYzM2Y1MTMyYmRjOCIgc3R5bGU9IndpZHRoOiAxMDAuMCU7IGhlaWdodDogMTAwLjAlOyI+VW5pY288L2Rpdj4nKVswXTsKICAgICAgICAgICAgICAgIHBvcHVwXzliOGVhMjliYWNlNjQxNjNhNGViMjgxYTVkMTJhY2IyLnNldENvbnRlbnQoaHRtbF9iY2UxZTE3MmU2NDY0NjkzODBkZTYzM2Y1MTMyYmRjOCk7CiAgICAgICAgICAgIAoKICAgICAgICAgICAgY2lyY2xlX21hcmtlcl9kMWZmNzNiNjFmZjI0ODlmODk2ZmNhN2Y0NTM1NDJlMC5iaW5kUG9wdXAocG9wdXBfOWI4ZWEyOWJhY2U2NDE2M2E0ZWIyODFhNWQxMmFjYjIpOwoKICAgICAgICAgICAgCiAgICAgICAgCiAgICAKICAgICAgICAgICAgdmFyIGNpcmNsZV9tYXJrZXJfOGUxNDk0Njc2YTI2NGU3NGEyYjg1MDU2ODc3NmQzOGIgPSBMLmNpcmNsZU1hcmtlcigKICAgICAgICAgICAgICAgIFs1MS41MDkxNjY2NjY2NjY3LC0wLjEyMjVdLAogICAgICAgICAgICAgICAgewogICJidWJibGluZ01vdXNlRXZlbnRzIjogdHJ1ZSwKICAiY29sb3IiOiAiYmx1ZSIsCiAgImRhc2hBcnJheSI6IG51bGwsCiAgImRhc2hPZmZzZXQiOiBudWxsLAogICJmaWxsIjogdHJ1ZSwKICAiZmlsbENvbG9yIjogIiMzMTg2Y2MiLAogICJmaWxsT3BhY2l0eSI6IDAuNywKICAiZmlsbFJ1bGUiOiAiZXZlbm9kZCIsCiAgImxpbmVDYXAiOiAicm91bmQiLAogICJsaW5lSm9pbiI6ICJyb3VuZCIsCiAgIm9wYWNpdHkiOiAxLjAsCiAgInJhZGl1cyI6IDUsCiAgInN0cm9rZSI6IHRydWUsCiAgIndlaWdodCI6IDMKfQogICAgICAgICAgICAgICAgKS5hZGRUbyhtYXBfZjkzOTdkOWI2MDFjNGZhMjk2OTZlYWQ4MjRkOTIzMDgpOwogICAgICAgICAgICAKICAgIAogICAgICAgICAgICB2YXIgcG9wdXBfZGE0ZjE0NzdlNjAzNGQ1ZThjODRlZGM2MWJmNTJlMGUgPSBMLnBvcHVwKHttYXhXaWR0aDogJzMwMCd9KTsKCiAgICAgICAgICAgIAogICAgICAgICAgICAgICAgdmFyIGh0bWxfZTU3ZDRiNGEzMTU0NDMzM2I5ZWJjYzlkNDkzZTRiZDAgPSAkKCc8ZGl2IGlkPSJodG1sX2U1N2Q0YjRhMzE1NDQzMzNiOWViY2M5ZDQ5M2U0YmQwIiBzdHlsZT0id2lkdGg6IDEwMC4wJTsgaGVpZ2h0OiAxMDAuMCU7Ij5BZGVscGhpPC9kaXY+JylbMF07CiAgICAgICAgICAgICAgICBwb3B1cF9kYTRmMTQ3N2U2MDM0ZDVlOGM4NGVkYzYxYmY1MmUwZS5zZXRDb250ZW50KGh0bWxfZTU3ZDRiNGEzMTU0NDMzM2I5ZWJjYzlkNDkzZTRiZDApOwogICAgICAgICAgICAKCiAgICAgICAgICAgIGNpcmNsZV9tYXJrZXJfOGUxNDk0Njc2YTI2NGU3NGEyYjg1MDU2ODc3NmQzOGIuYmluZFBvcHVwKHBvcHVwX2RhNGYxNDc3ZTYwMzRkNWU4Yzg0ZWRjNjFiZjUyZTBlKTsKCiAgICAgICAgICAgIAogICAgICAgIAogICAgCiAgICAgICAgICAgIHZhciBjaXJjbGVfbWFya2VyX2VmOGEyYjI3ZDc5ZDRkNjlhNTcwZWU1YzkyNDQ0YWIzID0gTC5jaXJjbGVNYXJrZXIoCiAgICAgICAgICAgICAgICBbNTEuNTEzMiwtMC4xMTY3XSwKICAgICAgICAgICAgICAgIHsKICAiYnViYmxpbmdNb3VzZUV2ZW50cyI6IHRydWUsCiAgImNvbG9yIjogImJsdWUiLAogICJkYXNoQXJyYXkiOiBudWxsLAogICJkYXNoT2Zmc2V0IjogbnVsbCwKICAiZmlsbCI6IHRydWUsCiAgImZpbGxDb2xvciI6ICIjMzE4NmNjIiwKICAiZmlsbE9wYWNpdHkiOiAwLjcsCiAgImZpbGxSdWxlIjogImV2ZW5vZGQiLAogICJsaW5lQ2FwIjogInJvdW5kIiwKICAibGluZUpvaW4iOiAicm91bmQiLAogICJvcGFjaXR5IjogMS4wLAogICJyYWRpdXMiOiA1LAogICJzdHJva2UiOiB0cnVlLAogICJ3ZWlnaHQiOiAzCn0KICAgICAgICAgICAgICAgICkuYWRkVG8obWFwX2Y5Mzk3ZDliNjAxYzRmYTI5Njk2ZWFkODI0ZDkyMzA4KTsKICAgICAgICAgICAgCiAgICAKICAgICAgICAgICAgdmFyIHBvcHVwX2RhZjRkNDJhNGYyNjRjYjU5OGY0M2I4MDJmOTkwMzQ3ID0gTC5wb3B1cCh7bWF4V2lkdGg6ICczMDAnfSk7CgogICAgICAgICAgICAKICAgICAgICAgICAgICAgIHZhciBodG1sXzhmYzdkMzI4NTdlZjQ3OThhMzk3ZTliNTViMTFiNjU4ID0gJCgnPGRpdiBpZD0iaHRtbF84ZmM3ZDMyODU3ZWY0Nzk4YTM5N2U5YjU1YjExYjY1OCIgc3R5bGU9IndpZHRoOiAxMDAuMCU7IGhlaWdodDogMTAwLjAlOyI+QWxkd3ljaDwvZGl2PicpWzBdOwogICAgICAgICAgICAgICAgcG9wdXBfZGFmNGQ0MmE0ZjI2NGNiNTk4ZjQzYjgwMmY5OTAzNDcuc2V0Q29udGVudChodG1sXzhmYzdkMzI4NTdlZjQ3OThhMzk3ZTliNTViMTFiNjU4KTsKICAgICAgICAgICAgCgogICAgICAgICAgICBjaXJjbGVfbWFya2VyX2VmOGEyYjI3ZDc5ZDRkNjlhNTcwZWU1YzkyNDQ0YWIzLmJpbmRQb3B1cChwb3B1cF9kYWY0ZDQyYTRmMjY0Y2I1OThmNDNiODAyZjk5MDM0Nyk7CgogICAgICAgICAgICAKICAgICAgICAKICAgIAogICAgICAgICAgICB2YXIgY2lyY2xlX21hcmtlcl9iNWRhYjA4YWFiNTY0YTUyYjE1NDgxNTI1OTU3YjIxMSA9IEwuY2lyY2xlTWFya2VyKAogICAgICAgICAgICAgICAgWzUxLjUwOTUsLTAuMTkyOV0sCiAgICAgICAgICAgICAgICB7CiAgImJ1YmJsaW5nTW91c2VFdmVudHMiOiB0cnVlLAogICJjb2xvciI6ICJibHVlIiwKICAiZGFzaEFycmF5IjogbnVsbCwKICAiZGFzaE9mZnNldCI6IG51bGwsCiAgImZpbGwiOiB0cnVlLAogICJmaWxsQ29sb3IiOiAiIzMxODZjYyIsCiAgImZpbGxPcGFjaXR5IjogMC43LAogICJmaWxsUnVsZSI6ICJldmVub2RkIiwKICAibGluZUNhcCI6ICJyb3VuZCIsCiAgImxpbmVKb2luIjogInJvdW5kIiwKICAib3BhY2l0eSI6IDEuMCwKICAicmFkaXVzIjogNSwKICAic3Ryb2tlIjogdHJ1ZSwKICAid2VpZ2h0IjogMwp9CiAgICAgICAgICAgICAgICApLmFkZFRvKG1hcF9mOTM5N2Q5YjYwMWM0ZmEyOTY5NmVhZDgyNGQ5MjMwOCk7CiAgICAgICAgICAgIAogICAgCiAgICAgICAgICAgIHZhciBwb3B1cF8yY2M2MzM4MjkyYzk0YmFkYjgwOTljMzQxMTM0ZDc0YiA9IEwucG9wdXAoe21heFdpZHRoOiAnMzAwJ30pOwoKICAgICAgICAgICAgCiAgICAgICAgICAgICAgICB2YXIgaHRtbF82NDRhNzc0YjU1ZTA0NDMyYjY5OTJkYTcwZTJiYzM4OSA9ICQoJzxkaXYgaWQ9Imh0bWxfNjQ0YTc3NGI1NWUwNDQzMmI2OTkyZGE3MGUyYmMzODkiIHN0eWxlPSJ3aWR0aDogMTAwLjAlOyBoZWlnaHQ6IDEwMC4wJTsiPkJheXN3YXRlcjwvZGl2PicpWzBdOwogICAgICAgICAgICAgICAgcG9wdXBfMmNjNjMzODI5MmM5NGJhZGI4MDk5YzM0MTEzNGQ3NGIuc2V0Q29udGVudChodG1sXzY0NGE3NzRiNTVlMDQ0MzJiNjk5MmRhNzBlMmJjMzg5KTsKICAgICAgICAgICAgCgogICAgICAgICAgICBjaXJjbGVfbWFya2VyX2I1ZGFiMDhhYWI1NjRhNTJiMTU0ODE1MjU5NTdiMjExLmJpbmRQb3B1cChwb3B1cF8yY2M2MzM4MjkyYzk0YmFkYjgwOTljMzQxMTM0ZDc0Yik7CgogICAgICAgICAgICAKICAgICAgICAKICAgIAogICAgICAgICAgICB2YXIgY2lyY2xlX21hcmtlcl84ODk2YjFhNzdlNTU0Y2RiYmRlZmIxOTg5ZGJmZmM2YSA9IEwuY2lyY2xlTWFya2VyKAogICAgICAgICAgICAgICAgWzUxLjQ5Nzk1LC0wLjE1NDUzXSwKICAgICAgICAgICAgICAgIHsKICAiYnViYmxpbmdNb3VzZUV2ZW50cyI6IHRydWUsCiAgImNvbG9yIjogImJsdWUiLAogICJkYXNoQXJyYXkiOiBudWxsLAogICJkYXNoT2Zmc2V0IjogbnVsbCwKICAiZmlsbCI6IHRydWUsCiAgImZpbGxDb2xvciI6ICIjMzE4NmNjIiwKICAiZmlsbE9wYWNpdHkiOiAwLjcsCiAgImZpbGxSdWxlIjogImV2ZW5vZGQiLAogICJsaW5lQ2FwIjogInJvdW5kIiwKICAibGluZUpvaW4iOiAicm91bmQiLAogICJvcGFjaXR5IjogMS4wLAogICJyYWRpdXMiOiA1LAogICJzdHJva2UiOiB0cnVlLAogICJ3ZWlnaHQiOiAzCn0KICAgICAgICAgICAgICAgICkuYWRkVG8obWFwX2Y5Mzk3ZDliNjAxYzRmYTI5Njk2ZWFkODI0ZDkyMzA4KTsKICAgICAgICAgICAgCiAgICAKICAgICAgICAgICAgdmFyIHBvcHVwX2E2YWUzZjNlNmViMDRjN2FiNjdiMTcwMDhjNGExMzE1ID0gTC5wb3B1cCh7bWF4V2lkdGg6ICczMDAnfSk7CgogICAgICAgICAgICAKICAgICAgICAgICAgICAgIHZhciBodG1sX2QyZGUyZDg2N2EyMzQ0NDdhODA2NTYzY2I5YzNiOTE0ID0gJCgnPGRpdiBpZD0iaHRtbF9kMmRlMmQ4NjdhMjM0NDQ3YTgwNjU2M2NiOWMzYjkxNCIgc3R5bGU9IndpZHRoOiAxMDAuMCU7IGhlaWdodDogMTAwLjAlOyI+QmVsZ3JhdmlhPC9kaXY+JylbMF07CiAgICAgICAgICAgICAgICBwb3B1cF9hNmFlM2YzZTZlYjA0YzdhYjY3YjE3MDA4YzRhMTMxNS5zZXRDb250ZW50KGh0bWxfZDJkZTJkODY3YTIzNDQ0N2E4MDY1NjNjYjljM2I5MTQpOwogICAgICAgICAgICAKCiAgICAgICAgICAgIGNpcmNsZV9tYXJrZXJfODg5NmIxYTc3ZTU1NGNkYmJkZWZiMTk4OWRiZmZjNmEuYmluZFBvcHVwKHBvcHVwX2E2YWUzZjNlNmViMDRjN2FiNjdiMTcwMDhjNGExMzE1KTsKCiAgICAgICAgICAgIAogICAgICAgIAogICAgCiAgICAgICAgICAgIHZhciBjaXJjbGVfbWFya2VyXzU0YzlhN2U1OWFiMzRiZDdhYjFiMzQ1YTgzZGViMzZjID0gTC5jaXJjbGVNYXJrZXIoCiAgICAgICAgICAgICAgICBbNTEuNTA3MywtMC4xMjc1NV0sCiAgICAgICAgICAgICAgICB7CiAgImJ1YmJsaW5nTW91c2VFdmVudHMiOiB0cnVlLAogICJjb2xvciI6ICJibHVlIiwKICAiZGFzaEFycmF5IjogbnVsbCwKICAiZGFzaE9mZnNldCI6IG51bGwsCiAgImZpbGwiOiB0cnVlLAogICJmaWxsQ29sb3IiOiAiIzMxODZjYyIsCiAgImZpbGxPcGFjaXR5IjogMC43LAogICJmaWxsUnVsZSI6ICJldmVub2RkIiwKICAibGluZUNhcCI6ICJyb3VuZCIsCiAgImxpbmVKb2luIjogInJvdW5kIiwKICAib3BhY2l0eSI6IDEuMCwKICAicmFkaXVzIjogNSwKICAic3Ryb2tlIjogdHJ1ZSwKICAid2VpZ2h0IjogMwp9CiAgICAgICAgICAgICAgICApLmFkZFRvKG1hcF9mOTM5N2Q5YjYwMWM0ZmEyOTY5NmVhZDgyNGQ5MjMwOCk7CiAgICAgICAgICAgIAogICAgCiAgICAgICAgICAgIHZhciBwb3B1cF81NWFlZmVjMTBmOWM0NTJmYTIzMjMxOWQ2MGU3Y2NkOCA9IEwucG9wdXAoe21heFdpZHRoOiAnMzAwJ30pOwoKICAgICAgICAgICAgCiAgICAgICAgICAgICAgICB2YXIgaHRtbF9kOGYwYTFkYjRhYWM0MGUwODU1NzE1YWFkZjhmYmU4ZiA9ICQoJzxkaXYgaWQ9Imh0bWxfZDhmMGExZGI0YWFjNDBlMDg1NTcxNWFhZGY4ZmJlOGYiIHN0eWxlPSJ3aWR0aDogMTAwLjAlOyBoZWlnaHQ6IDEwMC4wJTsiPkNoYXJpbmcgQ3Jvc3M8L2Rpdj4nKVswXTsKICAgICAgICAgICAgICAgIHBvcHVwXzU1YWVmZWMxMGY5YzQ1MmZhMjMyMzE5ZDYwZTdjY2Q4LnNldENvbnRlbnQoaHRtbF9kOGYwYTFkYjRhYWM0MGUwODU1NzE1YWFkZjhmYmU4Zik7CiAgICAgICAgICAgIAoKICAgICAgICAgICAgY2lyY2xlX21hcmtlcl81NGM5YTdlNTlhYjM0YmQ3YWIxYjM0NWE4M2RlYjM2Yy5iaW5kUG9wdXAocG9wdXBfNTVhZWZlYzEwZjljNDUyZmEyMzIzMTlkNjBlN2NjZDgpOwoKICAgICAgICAgICAgCiAgICAgICAgCiAgICAKICAgICAgICAgICAgdmFyIGNpcmNsZV9tYXJrZXJfMjUxOTFmNjZkOTU0NDkzMTk4Zjc3OGM4YzBmMGVkNDEgPSBMLmNpcmNsZU1hcmtlcigKICAgICAgICAgICAgICAgIFs1MS41MTExMTExMTExMTExLC0wLjEzMTM4ODg4ODg4ODg4OV0sCiAgICAgICAgICAgICAgICB7CiAgImJ1YmJsaW5nTW91c2VFdmVudHMiOiB0cnVlLAogICJjb2xvciI6ICJibHVlIiwKICAiZGFzaEFycmF5IjogbnVsbCwKICAiZGFzaE9mZnNldCI6IG51bGwsCiAgImZpbGwiOiB0cnVlLAogICJmaWxsQ29sb3IiOiAiIzMxODZjYyIsCiAgImZpbGxPcGFjaXR5IjogMC43LAogICJmaWxsUnVsZSI6ICJldmVub2RkIiwKICAibGluZUNhcCI6ICJyb3VuZCIsCiAgImxpbmVKb2luIjogInJvdW5kIiwKICAib3BhY2l0eSI6IDEuMCwKICAicmFkaXVzIjogNSwKICAic3Ryb2tlIjogdHJ1ZSwKICAid2VpZ2h0IjogMwp9CiAgICAgICAgICAgICAgICApLmFkZFRvKG1hcF9mOTM5N2Q5YjYwMWM0ZmEyOTY5NmVhZDgyNGQ5MjMwOCk7CiAgICAgICAgICAgIAogICAgCiAgICAgICAgICAgIHZhciBwb3B1cF8xMTNjZTU0YTYwMjQ0MGM0YTg0N2Q2OTk5MmNkOGMzNSA9IEwucG9wdXAoe21heFdpZHRoOiAnMzAwJ30pOwoKICAgICAgICAgICAgCiAgICAgICAgICAgICAgICB2YXIgaHRtbF9lOThjMzU4MTRiMDc0MzRkODkzYWFkYWZiMWMyZjhlNSA9ICQoJzxkaXYgaWQ9Imh0bWxfZTk4YzM1ODE0YjA3NDM0ZDg5M2FhZGFmYjFjMmY4ZTUiIHN0eWxlPSJ3aWR0aDogMTAwLjAlOyBoZWlnaHQ6IDEwMC4wJTsiPkNoaW5hdG93bjwvZGl2PicpWzBdOwogICAgICAgICAgICAgICAgcG9wdXBfMTEzY2U1NGE2MDI0NDBjNGE4NDdkNjk5OTJjZDhjMzUuc2V0Q29udGVudChodG1sX2U5OGMzNTgxNGIwNzQzNGQ4OTNhYWRhZmIxYzJmOGU1KTsKICAgICAgICAgICAgCgogICAgICAgICAgICBjaXJjbGVfbWFya2VyXzI1MTkxZjY2ZDk1NDQ5MzE5OGY3NzhjOGMwZjBlZDQxLmJpbmRQb3B1cChwb3B1cF8xMTNjZTU0YTYwMjQ0MGM0YTg0N2Q2OTk5MmNkOGMzNSk7CgogICAgICAgICAgICAKICAgICAgICAKICAgIAogICAgICAgICAgICB2YXIgY2lyY2xlX21hcmtlcl9lMDBiYjRhOWZhNmE0YjM3OGRiMzgwYzRlM2RiYzNkNSA9IEwuY2lyY2xlTWFya2VyKAogICAgICAgICAgICAgICAgWzUxLjUxMiwtMC4xMjM0NTZdLAogICAgICAgICAgICAgICAgewogICJidWJibGluZ01vdXNlRXZlbnRzIjogdHJ1ZSwKICAiY29sb3IiOiAiYmx1ZSIsCiAgImRhc2hBcnJheSI6IG51bGwsCiAgImRhc2hPZmZzZXQiOiBudWxsLAogICJmaWxsIjogdHJ1ZSwKICAiZmlsbENvbG9yIjogIiMzMTg2Y2MiLAogICJmaWxsT3BhY2l0eSI6IDAuNywKICAiZmlsbFJ1bGUiOiAiZXZlbm9kZCIsCiAgImxpbmVDYXAiOiAicm91bmQiLAogICJsaW5lSm9pbiI6ICJyb3VuZCIsCiAgIm9wYWNpdHkiOiAxLjAsCiAgInJhZGl1cyI6IDUsCiAgInN0cm9rZSI6IHRydWUsCiAgIndlaWdodCI6IDMKfQogICAgICAgICAgICAgICAgKS5hZGRUbyhtYXBfZjkzOTdkOWI2MDFjNGZhMjk2OTZlYWQ4MjRkOTIzMDgpOwogICAgICAgICAgICAKICAgIAogICAgICAgICAgICB2YXIgcG9wdXBfMzk1NDQzNDg0OGVjNDZmNmE3ZWU4NWQyNjZjNjNmNmMgPSBMLnBvcHVwKHttYXhXaWR0aDogJzMwMCd9KTsKCiAgICAgICAgICAgIAogICAgICAgICAgICAgICAgdmFyIGh0bWxfMzQ1MWM5M2U2ZjVjNGM3OGJkOTkyY2ZkNDE4N2UxN2YgPSAkKCc8ZGl2IGlkPSJodG1sXzM0NTFjOTNlNmY1YzRjNzhiZDk5MmNmZDQxODdlMTdmIiBzdHlsZT0id2lkdGg6IDEwMC4wJTsgaGVpZ2h0OiAxMDAuMCU7Ij5Db3ZlbnQgR2FyZGVuPC9kaXY+JylbMF07CiAgICAgICAgICAgICAgICBwb3B1cF8zOTU0NDM0ODQ4ZWM0NmY2YTdlZTg1ZDI2NmM2M2Y2Yy5zZXRDb250ZW50KGh0bWxfMzQ1MWM5M2U2ZjVjNGM3OGJkOTkyY2ZkNDE4N2UxN2YpOwogICAgICAgICAgICAKCiAgICAgICAgICAgIGNpcmNsZV9tYXJrZXJfZTAwYmI0YTlmYTZhNGIzNzhkYjM4MGM0ZTNkYmMzZDUuYmluZFBvcHVwKHBvcHVwXzM5NTQ0MzQ4NDhlYzQ2ZjZhN2VlODVkMjY2YzYzZjZjKTsKCiAgICAgICAgICAgIAogICAgICAgIAogICAgCiAgICAgICAgICAgIHZhciBjaXJjbGVfbWFya2VyX2MxZmFjNDQxZGFiZTRkYTNhODU5ZmRiYmJmNGNlNTRiID0gTC5jaXJjbGVNYXJrZXIoCiAgICAgICAgICAgICAgICBbNTEuNTE4LC0wLjEzNl0sCiAgICAgICAgICAgICAgICB7CiAgImJ1YmJsaW5nTW91c2VFdmVudHMiOiB0cnVlLAogICJjb2xvciI6ICJibHVlIiwKICAiZGFzaEFycmF5IjogbnVsbCwKICAiZGFzaE9mZnNldCI6IG51bGwsCiAgImZpbGwiOiB0cnVlLAogICJmaWxsQ29sb3IiOiAiIzMxODZjYyIsCiAgImZpbGxPcGFjaXR5IjogMC43LAogICJmaWxsUnVsZSI6ICJldmVub2RkIiwKICAibGluZUNhcCI6ICJyb3VuZCIsCiAgImxpbmVKb2luIjogInJvdW5kIiwKICAib3BhY2l0eSI6IDEuMCwKICAicmFkaXVzIjogNSwKICAic3Ryb2tlIjogdHJ1ZSwKICAid2VpZ2h0IjogMwp9CiAgICAgICAgICAgICAgICApLmFkZFRvKG1hcF9mOTM5N2Q5YjYwMWM0ZmEyOTY5NmVhZDgyNGQ5MjMwOCk7CiAgICAgICAgICAgIAogICAgCiAgICAgICAgICAgIHZhciBwb3B1cF82NTQ5YTgwY2YwMzU0MzkwOGI1MjA1MGM2OThjZjZiOSA9IEwucG9wdXAoe21heFdpZHRoOiAnMzAwJ30pOwoKICAgICAgICAgICAgCiAgICAgICAgICAgICAgICB2YXIgaHRtbF80MGI5M2M4NjM2MGQ0MjFmYjhmMTNiZjE2YjBlMjQwZSA9ICQoJzxkaXYgaWQ9Imh0bWxfNDBiOTNjODYzNjBkNDIxZmI4ZjEzYmYxNmIwZTI0MGUiIHN0eWxlPSJ3aWR0aDogMTAwLjAlOyBoZWlnaHQ6IDEwMC4wJTsiPkZpdHpyb3ZpYTwvZGl2PicpWzBdOwogICAgICAgICAgICAgICAgcG9wdXBfNjU0OWE4MGNmMDM1NDM5MDhiNTIwNTBjNjk4Y2Y2Yjkuc2V0Q29udGVudChodG1sXzQwYjkzYzg2MzYwZDQyMWZiOGYxM2JmMTZiMGUyNDBlKTsKICAgICAgICAgICAgCgogICAgICAgICAgICBjaXJjbGVfbWFya2VyX2MxZmFjNDQxZGFiZTRkYTNhODU5ZmRiYmJmNGNlNTRiLmJpbmRQb3B1cChwb3B1cF82NTQ5YTgwY2YwMzU0MzkwOGI1MjA1MGM2OThjZjZiOSk7CgogICAgICAgICAgICAKICAgICAgICAKICAgIAogICAgICAgICAgICB2YXIgY2lyY2xlX21hcmtlcl81ZTI2OWUxNGUzNWI0MjhhOTllOTI2Njc5Yjg4ODgzOSA9IEwuY2lyY2xlTWFya2VyKAogICAgICAgICAgICAgICAgWzUxLjUyMzk5OTk5OTk5OTk5NCwtMC4yMV0sCiAgICAgICAgICAgICAgICB7CiAgImJ1YmJsaW5nTW91c2VFdmVudHMiOiB0cnVlLAogICJjb2xvciI6ICJibHVlIiwKICAiZGFzaEFycmF5IjogbnVsbCwKICAiZGFzaE9mZnNldCI6IG51bGwsCiAgImZpbGwiOiB0cnVlLAogICJmaWxsQ29sb3IiOiAiIzMxODZjYyIsCiAgImZpbGxPcGFjaXR5IjogMC43LAogICJmaWxsUnVsZSI6ICJldmVub2RkIiwKICAibGluZUNhcCI6ICJyb3VuZCIsCiAgImxpbmVKb2luIjogInJvdW5kIiwKICAib3BhY2l0eSI6IDEuMCwKICAicmFkaXVzIjogNSwKICAic3Ryb2tlIjogdHJ1ZSwKICAid2VpZ2h0IjogMwp9CiAgICAgICAgICAgICAgICApLmFkZFRvKG1hcF9mOTM5N2Q5YjYwMWM0ZmEyOTY5NmVhZDgyNGQ5MjMwOCk7CiAgICAgICAgICAgIAogICAgCiAgICAgICAgICAgIHZhciBwb3B1cF81YTQ1OGViN2EyMjU0NGMyYmM4Zjc0MTQzOTQyNDQ5NiA9IEwucG9wdXAoe21heFdpZHRoOiAnMzAwJ30pOwoKICAgICAgICAgICAgCiAgICAgICAgICAgICAgICB2YXIgaHRtbF9kY2Q3NGJjNGRmOGI0MGRiOWEzOTE3ODc3YjM3NWM1NCA9ICQoJzxkaXYgaWQ9Imh0bWxfZGNkNzRiYzRkZjhiNDBkYjlhMzkxNzg3N2IzNzVjNTQiIHN0eWxlPSJ3aWR0aDogMTAwLjAlOyBoZWlnaHQ6IDEwMC4wJTsiPktlbnNhbCBUb3duPC9kaXY+JylbMF07CiAgICAgICAgICAgICAgICBwb3B1cF81YTQ1OGViN2EyMjU0NGMyYmM4Zjc0MTQzOTQyNDQ5Ni5zZXRDb250ZW50KGh0bWxfZGNkNzRiYzRkZjhiNDBkYjlhMzkxNzg3N2IzNzVjNTQpOwogICAgICAgICAgICAKCiAgICAgICAgICAgIGNpcmNsZV9tYXJrZXJfNWUyNjllMTRlMzViNDI4YTk5ZTkyNjY3OWI4ODg4MzkuYmluZFBvcHVwKHBvcHVwXzVhNDU4ZWI3YTIyNTQ0YzJiYzhmNzQxNDM5NDI0NDk2KTsKCiAgICAgICAgICAgIAogICAgICAgIAogICAgCiAgICAgICAgICAgIHZhciBjaXJjbGVfbWFya2VyX2JiYWRkMzM1YjBiMDQ1MTg4Nzg5MjVkNjJiMzM5MjJmID0gTC5jaXJjbGVNYXJrZXIoCiAgICAgICAgICAgICAgICBbNTEuNTA4NjExLC0wLjE2MzYxMDk5OTk5OTk5OTk4XSwKICAgICAgICAgICAgICAgIHsKICAiYnViYmxpbmdNb3VzZUV2ZW50cyI6IHRydWUsCiAgImNvbG9yIjogImJsdWUiLAogICJkYXNoQXJyYXkiOiBudWxsLAogICJkYXNoT2Zmc2V0IjogbnVsbCwKICAiZmlsbCI6IHRydWUsCiAgImZpbGxDb2xvciI6ICIjMzE4NmNjIiwKICAiZmlsbE9wYWNpdHkiOiAwLjcsCiAgImZpbGxSdWxlIjogImV2ZW5vZGQiLAogICJsaW5lQ2FwIjogInJvdW5kIiwKICAibGluZUpvaW4iOiAicm91bmQiLAogICJvcGFjaXR5IjogMS4wLAogICJyYWRpdXMiOiA1LAogICJzdHJva2UiOiB0cnVlLAogICJ3ZWlnaHQiOiAzCn0KICAgICAgICAgICAgICAgICkuYWRkVG8obWFwX2Y5Mzk3ZDliNjAxYzRmYTI5Njk2ZWFkODI0ZDkyMzA4KTsKICAgICAgICAgICAgCiAgICAKICAgICAgICAgICAgdmFyIHBvcHVwX2Q0NTI0ZTA3MWVkNDQ1NjdiNjE4ZTk1MGQ3YzU5M2MyID0gTC5wb3B1cCh7bWF4V2lkdGg6ICczMDAnfSk7CgogICAgICAgICAgICAKICAgICAgICAgICAgICAgIHZhciBodG1sXzllMjk4Njc0M2NhMTQ2YzBhMDVjY2UzZDE5YmQ2NzVkID0gJCgnPGRpdiBpZD0iaHRtbF85ZTI5ODY3NDNjYTE0NmMwYTA1Y2NlM2QxOWJkNjc1ZCIgc3R5bGU9IndpZHRoOiAxMDAuMCU7IGhlaWdodDogMTAwLjAlOyI+SHlkZSBQYXJrPC9kaXY+JylbMF07CiAgICAgICAgICAgICAgICBwb3B1cF9kNDUyNGUwNzFlZDQ0NTY3YjYxOGU5NTBkN2M1OTNjMi5zZXRDb250ZW50KGh0bWxfOWUyOTg2NzQzY2ExNDZjMGEwNWNjZTNkMTliZDY3NWQpOwogICAgICAgICAgICAKCiAgICAgICAgICAgIGNpcmNsZV9tYXJrZXJfYmJhZGQzMzViMGIwNDUxODg3ODkyNWQ2MmIzMzkyMmYuYmluZFBvcHVwKHBvcHVwX2Q0NTI0ZTA3MWVkNDQ1NjdiNjE4ZTk1MGQ3YzU5M2MyKTsKCiAgICAgICAgICAgIAogICAgICAgIAogICAgCiAgICAgICAgICAgIHZhciBjaXJjbGVfbWFya2VyX2NkM2RlZGQ5ZmJkYjQ3YjY4OThjNGY5MjEyMzU4MmQ4ID0gTC5jaXJjbGVNYXJrZXIoCiAgICAgICAgICAgICAgICBbNTEuNTAxNywtMC4xNjIxXSwKICAgICAgICAgICAgICAgIHsKICAiYnViYmxpbmdNb3VzZUV2ZW50cyI6IHRydWUsCiAgImNvbG9yIjogImJsdWUiLAogICJkYXNoQXJyYXkiOiBudWxsLAogICJkYXNoT2Zmc2V0IjogbnVsbCwKICAiZmlsbCI6IHRydWUsCiAgImZpbGxDb2xvciI6ICIjMzE4NmNjIiwKICAiZmlsbE9wYWNpdHkiOiAwLjcsCiAgImZpbGxSdWxlIjogImV2ZW5vZGQiLAogICJsaW5lQ2FwIjogInJvdW5kIiwKICAibGluZUpvaW4iOiAicm91bmQiLAogICJvcGFjaXR5IjogMS4wLAogICJyYWRpdXMiOiA1LAogICJzdHJva2UiOiB0cnVlLAogICJ3ZWlnaHQiOiAzCn0KICAgICAgICAgICAgICAgICkuYWRkVG8obWFwX2Y5Mzk3ZDliNjAxYzRmYTI5Njk2ZWFkODI0ZDkyMzA4KTsKICAgICAgICAgICAgCiAgICAKICAgICAgICAgICAgdmFyIHBvcHVwXzcwMThmNjgzOWYzOTQ3YzNiNGE4YmE4ZWU3ODdlZTkzID0gTC5wb3B1cCh7bWF4V2lkdGg6ICczMDAnfSk7CgogICAgICAgICAgICAKICAgICAgICAgICAgICAgIHZhciBodG1sXzFjODIzNDYwOWI2NjRkNDVhOTYwNjEwNjgxYmY5NmJjID0gJCgnPGRpdiBpZD0iaHRtbF8xYzgyMzQ2MDliNjY0ZDQ1YTk2MDYxMDY4MWJmOTZiYyIgc3R5bGU9IndpZHRoOiAxMDAuMCU7IGhlaWdodDogMTAwLjAlOyI+S25pZ2h0c2JyaWRnZTwvZGl2PicpWzBdOwogICAgICAgICAgICAgICAgcG9wdXBfNzAxOGY2ODM5ZjM5NDdjM2I0YThiYThlZTc4N2VlOTMuc2V0Q29udGVudChodG1sXzFjODIzNDYwOWI2NjRkNDVhOTYwNjEwNjgxYmY5NmJjKTsKICAgICAgICAgICAgCgogICAgICAgICAgICBjaXJjbGVfbWFya2VyX2NkM2RlZGQ5ZmJkYjQ3YjY4OThjNGY5MjEyMzU4MmQ4LmJpbmRQb3B1cChwb3B1cF83MDE4ZjY4MzlmMzk0N2MzYjRhOGJhOGVlNzg3ZWU5Myk7CgogICAgICAgICAgICAKICAgICAgICAKICAgIAogICAgICAgICAgICB2YXIgY2lyY2xlX21hcmtlcl80MjQxMWNlYTFkNTU0YzA2YmZkNGY1NTcxZjZkMzA1YyA9IEwuY2lyY2xlTWFya2VyKAogICAgICAgICAgICAgICAgWzUxLjUyNTM5LC0wLjE2OTY5XSwKICAgICAgICAgICAgICAgIHsKICAiYnViYmxpbmdNb3VzZUV2ZW50cyI6IHRydWUsCiAgImNvbG9yIjogImJsdWUiLAogICJkYXNoQXJyYXkiOiBudWxsLAogICJkYXNoT2Zmc2V0IjogbnVsbCwKICAiZmlsbCI6IHRydWUsCiAgImZpbGxDb2xvciI6ICIjMzE4NmNjIiwKICAiZmlsbE9wYWNpdHkiOiAwLjcsCiAgImZpbGxSdWxlIjogImV2ZW5vZGQiLAogICJsaW5lQ2FwIjogInJvdW5kIiwKICAibGluZUpvaW4iOiAicm91bmQiLAogICJvcGFjaXR5IjogMS4wLAogICJyYWRpdXMiOiA1LAogICJzdHJva2UiOiB0cnVlLAogICJ3ZWlnaHQiOiAzCn0KICAgICAgICAgICAgICAgICkuYWRkVG8obWFwX2Y5Mzk3ZDliNjAxYzRmYTI5Njk2ZWFkODI0ZDkyMzA4KTsKICAgICAgICAgICAgCiAgICAKICAgICAgICAgICAgdmFyIHBvcHVwX2ZmOTcyMzg0MTY0NTQyNDNhOGVjNGVhOGJmODAyNTFiID0gTC5wb3B1cCh7bWF4V2lkdGg6ICczMDAnfSk7CgogICAgICAgICAgICAKICAgICAgICAgICAgICAgIHZhciBodG1sXzcwYzhjMmM4MzRhNjQ1N2I4ZWM1NjA0YmYyMmM1OWMzID0gJCgnPGRpdiBpZD0iaHRtbF83MGM4YzJjODM0YTY0NTdiOGVjNTYwNGJmMjJjNTljMyIgc3R5bGU9IndpZHRoOiAxMDAuMCU7IGhlaWdodDogMTAwLjAlOyI+TGlzc29uIEdyb3ZlPC9kaXY+JylbMF07CiAgICAgICAgICAgICAgICBwb3B1cF9mZjk3MjM4NDE2NDU0MjQzYThlYzRlYThiZjgwMjUxYi5zZXRDb250ZW50KGh0bWxfNzBjOGMyYzgzNGE2NDU3YjhlYzU2MDRiZjIyYzU5YzMpOwogICAgICAgICAgICAKCiAgICAgICAgICAgIGNpcmNsZV9tYXJrZXJfNDI0MTFjZWExZDU1NGMwNmJmZDRmNTU3MWY2ZDMwNWMuYmluZFBvcHVwKHBvcHVwX2ZmOTcyMzg0MTY0NTQyNDNhOGVjNGVhOGJmODAyNTFiKTsKCiAgICAgICAgICAgIAogICAgICAgIAogICAgCiAgICAgICAgICAgIHZhciBjaXJjbGVfbWFya2VyXzI1MTgxMmI4NTA5ODRiNmY4OTVhODNlY2IyNGE3N2UxID0gTC5jaXJjbGVNYXJrZXIoCiAgICAgICAgICAgICAgICBbNTEuNTI3NCwtMC4xODk5XSwKICAgICAgICAgICAgICAgIHsKICAiYnViYmxpbmdNb3VzZUV2ZW50cyI6IHRydWUsCiAgImNvbG9yIjogImJsdWUiLAogICJkYXNoQXJyYXkiOiBudWxsLAogICJkYXNoT2Zmc2V0IjogbnVsbCwKICAiZmlsbCI6IHRydWUsCiAgImZpbGxDb2xvciI6ICIjMzE4NmNjIiwKICAiZmlsbE9wYWNpdHkiOiAwLjcsCiAgImZpbGxSdWxlIjogImV2ZW5vZGQiLAogICJsaW5lQ2FwIjogInJvdW5kIiwKICAibGluZUpvaW4iOiAicm91bmQiLAogICJvcGFjaXR5IjogMS4wLAogICJyYWRpdXMiOiA1LAogICJzdHJva2UiOiB0cnVlLAogICJ3ZWlnaHQiOiAzCn0KICAgICAgICAgICAgICAgICkuYWRkVG8obWFwX2Y5Mzk3ZDliNjAxYzRmYTI5Njk2ZWFkODI0ZDkyMzA4KTsKICAgICAgICAgICAgCiAgICAKICAgICAgICAgICAgdmFyIHBvcHVwXzllZmZjMGE2YzAzYTQ0ZTdiODVjMTQ1NDc3NDg5NDgwID0gTC5wb3B1cCh7bWF4V2lkdGg6ICczMDAnfSk7CgogICAgICAgICAgICAKICAgICAgICAgICAgICAgIHZhciBodG1sX2Y5N2I0NGM2MWI2NTQ1ODQ5YTEyZjYyM2E4Y2Y1NjZkID0gJCgnPGRpdiBpZD0iaHRtbF9mOTdiNDRjNjFiNjU0NTg0OWExMmY2MjNhOGNmNTY2ZCIgc3R5bGU9IndpZHRoOiAxMDAuMCU7IGhlaWdodDogMTAwLjAlOyI+TWFpZGEgVmFsZTwvZGl2PicpWzBdOwogICAgICAgICAgICAgICAgcG9wdXBfOWVmZmMwYTZjMDNhNDRlN2I4NWMxNDU0Nzc0ODk0ODAuc2V0Q29udGVudChodG1sX2Y5N2I0NGM2MWI2NTQ1ODQ5YTEyZjYyM2E4Y2Y1NjZkKTsKICAgICAgICAgICAgCgogICAgICAgICAgICBjaXJjbGVfbWFya2VyXzI1MTgxMmI4NTA5ODRiNmY4OTVhODNlY2IyNGE3N2UxLmJpbmRQb3B1cChwb3B1cF85ZWZmYzBhNmMwM2E0NGU3Yjg1YzE0NTQ3NzQ4OTQ4MCk7CgogICAgICAgICAgICAKICAgICAgICAKICAgIAogICAgICAgICAgICB2YXIgY2lyY2xlX21hcmtlcl8wYTY4YjI1MGUzODQ0MGM2YTNhZjdmOWZhYzQzOTk0NSA9IEwuY2lyY2xlTWFya2VyKAogICAgICAgICAgICAgICAgWzUxLjUxNzcsLTAuMTQ3XSwKICAgICAgICAgICAgICAgIHsKICAiYnViYmxpbmdNb3VzZUV2ZW50cyI6IHRydWUsCiAgImNvbG9yIjogImJsdWUiLAogICJkYXNoQXJyYXkiOiBudWxsLAogICJkYXNoT2Zmc2V0IjogbnVsbCwKICAiZmlsbCI6IHRydWUsCiAgImZpbGxDb2xvciI6ICIjMzE4NmNjIiwKICAiZmlsbE9wYWNpdHkiOiAwLjcsCiAgImZpbGxSdWxlIjogImV2ZW5vZGQiLAogICJsaW5lQ2FwIjogInJvdW5kIiwKICAibGluZUpvaW4iOiAicm91bmQiLAogICJvcGFjaXR5IjogMS4wLAogICJyYWRpdXMiOiA1LAogICJzdHJva2UiOiB0cnVlLAogICJ3ZWlnaHQiOiAzCn0KICAgICAgICAgICAgICAgICkuYWRkVG8obWFwX2Y5Mzk3ZDliNjAxYzRmYTI5Njk2ZWFkODI0ZDkyMzA4KTsKICAgICAgICAgICAgCiAgICAKICAgICAgICAgICAgdmFyIHBvcHVwXzI3ZWUwZjQzMGE3NjQxNDI4OTQ2OTc5OTcxZDg0YWMzID0gTC5wb3B1cCh7bWF4V2lkdGg6ICczMDAnfSk7CgogICAgICAgICAgICAKICAgICAgICAgICAgICAgIHZhciBodG1sXzdhNDc4ZTQ1M2NmOTQ4NjI5NzIyZjAzYTY5ZmE0OTllID0gJCgnPGRpdiBpZD0iaHRtbF83YTQ3OGU0NTNjZjk0ODYyOTcyMmYwM2E2OWZhNDk5ZSIgc3R5bGU9IndpZHRoOiAxMDAuMCU7IGhlaWdodDogMTAwLjAlOyI+TWFyeWxlYm9uZTwvZGl2PicpWzBdOwogICAgICAgICAgICAgICAgcG9wdXBfMjdlZTBmNDMwYTc2NDE0Mjg5NDY5Nzk5NzFkODRhYzMuc2V0Q29udGVudChodG1sXzdhNDc4ZTQ1M2NmOTQ4NjI5NzIyZjAzYTY5ZmE0OTllKTsKICAgICAgICAgICAgCgogICAgICAgICAgICBjaXJjbGVfbWFya2VyXzBhNjhiMjUwZTM4NDQwYzZhM2FmN2Y5ZmFjNDM5OTQ1LmJpbmRQb3B1cChwb3B1cF8yN2VlMGY0MzBhNzY0MTQyODk0Njk3OTk3MWQ4NGFjMyk7CgogICAgICAgICAgICAKICAgICAgICAKICAgIAogICAgICAgICAgICB2YXIgY2lyY2xlX21hcmtlcl9hNzUxZDAxMTcxZTI0ZDcyYWFhOGFiYWY2YzBiNzFhOSA9IEwuY2lyY2xlTWFya2VyKAogICAgICAgICAgICAgICAgWzUxLjUwODc1NSwtMC4xNDc0M10sCiAgICAgICAgICAgICAgICB7CiAgImJ1YmJsaW5nTW91c2VFdmVudHMiOiB0cnVlLAogICJjb2xvciI6ICJibHVlIiwKICAiZGFzaEFycmF5IjogbnVsbCwKICAiZGFzaE9mZnNldCI6IG51bGwsCiAgImZpbGwiOiB0cnVlLAogICJmaWxsQ29sb3IiOiAiIzMxODZjYyIsCiAgImZpbGxPcGFjaXR5IjogMC43LAogICJmaWxsUnVsZSI6ICJldmVub2RkIiwKICAibGluZUNhcCI6ICJyb3VuZCIsCiAgImxpbmVKb2luIjogInJvdW5kIiwKICAib3BhY2l0eSI6IDEuMCwKICAicmFkaXVzIjogNSwKICAic3Ryb2tlIjogdHJ1ZSwKICAid2VpZ2h0IjogMwp9CiAgICAgICAgICAgICAgICApLmFkZFRvKG1hcF9mOTM5N2Q5YjYwMWM0ZmEyOTY5NmVhZDgyNGQ5MjMwOCk7CiAgICAgICAgICAgIAogICAgCiAgICAgICAgICAgIHZhciBwb3B1cF9lZTc3Y2Y4YjRhYjE0OWJkODliYzI2MjNhMzJkYTA4ZSA9IEwucG9wdXAoe21heFdpZHRoOiAnMzAwJ30pOwoKICAgICAgICAgICAgCiAgICAgICAgICAgICAgICB2YXIgaHRtbF9mMzIzZGI2MTY5MzM0MmM4OTc1MDRhZmY4ZDljZjk1NiA9ICQoJzxkaXYgaWQ9Imh0bWxfZjMyM2RiNjE2OTMzNDJjODk3NTA0YWZmOGQ5Y2Y5NTYiIHN0eWxlPSJ3aWR0aDogMTAwLjAlOyBoZWlnaHQ6IDEwMC4wJTsiPk1heWZhaXI8L2Rpdj4nKVswXTsKICAgICAgICAgICAgICAgIHBvcHVwX2VlNzdjZjhiNGFiMTQ5YmQ4OWJjMjYyM2EzMmRhMDhlLnNldENvbnRlbnQoaHRtbF9mMzIzZGI2MTY5MzM0MmM4OTc1MDRhZmY4ZDljZjk1Nik7CiAgICAgICAgICAgIAoKICAgICAgICAgICAgY2lyY2xlX21hcmtlcl9hNzUxZDAxMTcxZTI0ZDcyYWFhOGFiYWY2YzBiNzFhOS5iaW5kUG9wdXAocG9wdXBfZWU3N2NmOGI0YWIxNDliZDg5YmMyNjIzYTMyZGEwOGUpOwoKICAgICAgICAgICAgCiAgICAgICAgCiAgICAKICAgICAgICAgICAgdmFyIGNpcmNsZV9tYXJrZXJfOTUyYWQ0NWZhMjNlNDJiNzhkYzkzMGJmOGNlOWQwYTEgPSBMLmNpcmNsZU1hcmtlcigKICAgICAgICAgICAgICAgIFs1MS40OTE1LC0wLjEyOTVdLAogICAgICAgICAgICAgICAgewogICJidWJibGluZ01vdXNlRXZlbnRzIjogdHJ1ZSwKICAiY29sb3IiOiAiYmx1ZSIsCiAgImRhc2hBcnJheSI6IG51bGwsCiAgImRhc2hPZmZzZXQiOiBudWxsLAogICJmaWxsIjogdHJ1ZSwKICAiZmlsbENvbG9yIjogIiMzMTg2Y2MiLAogICJmaWxsT3BhY2l0eSI6IDAuNywKICAiZmlsbFJ1bGUiOiAiZXZlbm9kZCIsCiAgImxpbmVDYXAiOiAicm91bmQiLAogICJsaW5lSm9pbiI6ICJyb3VuZCIsCiAgIm9wYWNpdHkiOiAxLjAsCiAgInJhZGl1cyI6IDUsCiAgInN0cm9rZSI6IHRydWUsCiAgIndlaWdodCI6IDMKfQogICAgICAgICAgICAgICAgKS5hZGRUbyhtYXBfZjkzOTdkOWI2MDFjNGZhMjk2OTZlYWQ4MjRkOTIzMDgpOwogICAgICAgICAgICAKICAgIAogICAgICAgICAgICB2YXIgcG9wdXBfMzcwZjhlNzlkM2VhNGY4YTkwZjFiNjIwNDQ4ODUzNzcgPSBMLnBvcHVwKHttYXhXaWR0aDogJzMwMCd9KTsKCiAgICAgICAgICAgIAogICAgICAgICAgICAgICAgdmFyIGh0bWxfMmIxNjZiODBiZDQyNDE0NjlkMzE4NWVkMTE2ZTM3YmUgPSAkKCc8ZGl2IGlkPSJodG1sXzJiMTY2YjgwYmQ0MjQxNDY5ZDMxODVlZDExNmUzN2JlIiBzdHlsZT0id2lkdGg6IDEwMC4wJTsgaGVpZ2h0OiAxMDAuMCU7Ij5NaWxsYmFuazwvZGl2PicpWzBdOwogICAgICAgICAgICAgICAgcG9wdXBfMzcwZjhlNzlkM2VhNGY4YTkwZjFiNjIwNDQ4ODUzNzcuc2V0Q29udGVudChodG1sXzJiMTY2YjgwYmQ0MjQxNDY5ZDMxODVlZDExNmUzN2JlKTsKICAgICAgICAgICAgCgogICAgICAgICAgICBjaXJjbGVfbWFya2VyXzk1MmFkNDVmYTIzZTQyYjc4ZGM5MzBiZjhjZTlkMGExLmJpbmRQb3B1cChwb3B1cF8zNzBmOGU3OWQzZWE0ZjhhOTBmMWI2MjA0NDg4NTM3Nyk7CgogICAgICAgICAgICAKICAgICAgICAKICAgIAogICAgICAgICAgICB2YXIgY2lyY2xlX21hcmtlcl8xNDkzNDUxNTViODQ0NzFjYjM2MzhhNjYzNWFmMzhkMiA9IEwuY2lyY2xlTWFya2VyKAogICAgICAgICAgICAgICAgWzUxLjUxNzIsLTAuMTczMDAwMDAwMDAwMDAwMDFdLAogICAgICAgICAgICAgICAgewogICJidWJibGluZ01vdXNlRXZlbnRzIjogdHJ1ZSwKICAiY29sb3IiOiAiYmx1ZSIsCiAgImRhc2hBcnJheSI6IG51bGwsCiAgImRhc2hPZmZzZXQiOiBudWxsLAogICJmaWxsIjogdHJ1ZSwKICAiZmlsbENvbG9yIjogIiMzMTg2Y2MiLAogICJmaWxsT3BhY2l0eSI6IDAuNywKICAiZmlsbFJ1bGUiOiAiZXZlbm9kZCIsCiAgImxpbmVDYXAiOiAicm91bmQiLAogICJsaW5lSm9pbiI6ICJyb3VuZCIsCiAgIm9wYWNpdHkiOiAxLjAsCiAgInJhZGl1cyI6IDUsCiAgInN0cm9rZSI6IHRydWUsCiAgIndlaWdodCI6IDMKfQogICAgICAgICAgICAgICAgKS5hZGRUbyhtYXBfZjkzOTdkOWI2MDFjNGZhMjk2OTZlYWQ4MjRkOTIzMDgpOwogICAgICAgICAgICAKICAgIAogICAgICAgICAgICB2YXIgcG9wdXBfNTQ0MjUyN2NiNTYyNDRmYWIyNmRlMDAxNWEzZDBkMDEgPSBMLnBvcHVwKHttYXhXaWR0aDogJzMwMCd9KTsKCiAgICAgICAgICAgIAogICAgICAgICAgICAgICAgdmFyIGh0bWxfYWI5NDgxNzkwNmRkNGM5Zjg4YmNiMDFkOTExYTE0NDMgPSAkKCc8ZGl2IGlkPSJodG1sX2FiOTQ4MTc5MDZkZDRjOWY4OGJjYjAxZDkxMWExNDQzIiBzdHlsZT0id2lkdGg6IDEwMC4wJTsgaGVpZ2h0OiAxMDAuMCU7Ij5QYWRkaW5ndG9uPC9kaXY+JylbMF07CiAgICAgICAgICAgICAgICBwb3B1cF81NDQyNTI3Y2I1NjI0NGZhYjI2ZGUwMDE1YTNkMGQwMS5zZXRDb250ZW50KGh0bWxfYWI5NDgxNzkwNmRkNGM5Zjg4YmNiMDFkOTExYTE0NDMpOwogICAgICAgICAgICAKCiAgICAgICAgICAgIGNpcmNsZV9tYXJrZXJfMTQ5MzQ1MTU1Yjg0NDcxY2IzNjM4YTY2MzVhZjM4ZDIuYmluZFBvcHVwKHBvcHVwXzU0NDI1MjdjYjU2MjQ0ZmFiMjZkZTAwMTVhM2QwZDAxKTsKCiAgICAgICAgICAgIAogICAgICAgIAogICAgCiAgICAgICAgICAgIHZhciBjaXJjbGVfbWFya2VyXzFhZTY1YTJkYmM0ZjRjYTdhNTA0NGE0MGQ2ODRmMDVlID0gTC5jaXJjbGVNYXJrZXIoCiAgICAgICAgICAgICAgICBbNTEuNTIwNCwtMC4xNzUyNV0sCiAgICAgICAgICAgICAgICB7CiAgImJ1YmJsaW5nTW91c2VFdmVudHMiOiB0cnVlLAogICJjb2xvciI6ICJibHVlIiwKICAiZGFzaEFycmF5IjogbnVsbCwKICAiZGFzaE9mZnNldCI6IG51bGwsCiAgImZpbGwiOiB0cnVlLAogICJmaWxsQ29sb3IiOiAiIzMxODZjYyIsCiAgImZpbGxPcGFjaXR5IjogMC43LAogICJmaWxsUnVsZSI6ICJldmVub2RkIiwKICAibGluZUNhcCI6ICJyb3VuZCIsCiAgImxpbmVKb2luIjogInJvdW5kIiwKICAib3BhY2l0eSI6IDEuMCwKICAicmFkaXVzIjogNSwKICAic3Ryb2tlIjogdHJ1ZSwKICAid2VpZ2h0IjogMwp9CiAgICAgICAgICAgICAgICApLmFkZFRvKG1hcF9mOTM5N2Q5YjYwMWM0ZmEyOTY5NmVhZDgyNGQ5MjMwOCk7CiAgICAgICAgICAgIAogICAgCiAgICAgICAgICAgIHZhciBwb3B1cF82ZjRlZDQ5OTQ2ZWQ0ZmU1YmU3MDE3ZWRkMDZiOWUwMyA9IEwucG9wdXAoe21heFdpZHRoOiAnMzAwJ30pOwoKICAgICAgICAgICAgCiAgICAgICAgICAgICAgICB2YXIgaHRtbF82YjMyNzBiODc1NGY0OTNmYjJhOTJhODgzM2E0MTcyNSA9ICQoJzxkaXYgaWQ9Imh0bWxfNmIzMjcwYjg3NTRmNDkzZmIyYTkyYTg4MzNhNDE3MjUiIHN0eWxlPSJ3aWR0aDogMTAwLjAlOyBoZWlnaHQ6IDEwMC4wJTsiPlBhZGRpbmd0b24gR3JlZW48L2Rpdj4nKVswXTsKICAgICAgICAgICAgICAgIHBvcHVwXzZmNGVkNDk5NDZlZDRmZTViZTcwMTdlZGQwNmI5ZTAzLnNldENvbnRlbnQoaHRtbF82YjMyNzBiODc1NGY0OTNmYjJhOTJhODgzM2E0MTcyNSk7CiAgICAgICAgICAgIAoKICAgICAgICAgICAgY2lyY2xlX21hcmtlcl8xYWU2NWEyZGJjNGY0Y2E3YTUwNDRhNDBkNjg0ZjA1ZS5iaW5kUG9wdXAocG9wdXBfNmY0ZWQ0OTk0NmVkNGZlNWJlNzAxN2VkZDA2YjllMDMpOwoKICAgICAgICAgICAgCiAgICAgICAgCiAgICAKICAgICAgICAgICAgdmFyIGNpcmNsZV9tYXJrZXJfODhiMTBlYTNmNjlhNDRiM2EzNGEwYjE3OGZmZjMwYmMgPSBMLmNpcmNsZU1hcmtlcigKICAgICAgICAgICAgICAgIFs1MS40ODg3LC0wLjEzOTVdLAogICAgICAgICAgICAgICAgewogICJidWJibGluZ01vdXNlRXZlbnRzIjogdHJ1ZSwKICAiY29sb3IiOiAiYmx1ZSIsCiAgImRhc2hBcnJheSI6IG51bGwsCiAgImRhc2hPZmZzZXQiOiBudWxsLAogICJmaWxsIjogdHJ1ZSwKICAiZmlsbENvbG9yIjogIiMzMTg2Y2MiLAogICJmaWxsT3BhY2l0eSI6IDAuNywKICAiZmlsbFJ1bGUiOiAiZXZlbm9kZCIsCiAgImxpbmVDYXAiOiAicm91bmQiLAogICJsaW5lSm9pbiI6ICJyb3VuZCIsCiAgIm9wYWNpdHkiOiAxLjAsCiAgInJhZGl1cyI6IDUsCiAgInN0cm9rZSI6IHRydWUsCiAgIndlaWdodCI6IDMKfQogICAgICAgICAgICAgICAgKS5hZGRUbyhtYXBfZjkzOTdkOWI2MDFjNGZhMjk2OTZlYWQ4MjRkOTIzMDgpOwogICAgICAgICAgICAKICAgIAogICAgICAgICAgICB2YXIgcG9wdXBfYjAxOWU1NTc5MDdkNDFmYjk5MzZiYWYzMjE4ZjUzMjkgPSBMLnBvcHVwKHttYXhXaWR0aDogJzMwMCd9KTsKCiAgICAgICAgICAgIAogICAgICAgICAgICAgICAgdmFyIGh0bWxfYTRjNDM4MjAwYmU1NGQ4OThiMGY1OWIzNGRkNTEzMDQgPSAkKCc8ZGl2IGlkPSJodG1sX2E0YzQzODIwMGJlNTRkODk4YjBmNTliMzRkZDUxMzA0IiBzdHlsZT0id2lkdGg6IDEwMC4wJTsgaGVpZ2h0OiAxMDAuMCU7Ij5QaW1saWNvPC9kaXY+JylbMF07CiAgICAgICAgICAgICAgICBwb3B1cF9iMDE5ZTU1NzkwN2Q0MWZiOTkzNmJhZjMyMThmNTMyOS5zZXRDb250ZW50KGh0bWxfYTRjNDM4MjAwYmU1NGQ4OThiMGY1OWIzNGRkNTEzMDQpOwogICAgICAgICAgICAKCiAgICAgICAgICAgIGNpcmNsZV9tYXJrZXJfODhiMTBlYTNmNjlhNDRiM2EzNGEwYjE3OGZmZjMwYmMuYmluZFBvcHVwKHBvcHVwX2IwMTllNTU3OTA3ZDQxZmI5OTM2YmFmMzIxOGY1MzI5KTsKCiAgICAgICAgICAgIAogICAgICAgIAogICAgCiAgICAgICAgICAgIHZhciBjaXJjbGVfbWFya2VyXzUzODllMDE5MDk3NjQ4YTU5OWY2NGQ2N2Y2MDJhNDAzID0gTC5jaXJjbGVNYXJrZXIoCiAgICAgICAgICAgICAgICBbNTEuNTE3ODMzMzMzMzMzMywtMC4xNjAyMDI3Nzc3Nzc3NzgwM10sCiAgICAgICAgICAgICAgICB7CiAgImJ1YmJsaW5nTW91c2VFdmVudHMiOiB0cnVlLAogICJjb2xvciI6ICJibHVlIiwKICAiZGFzaEFycmF5IjogbnVsbCwKICAiZGFzaE9mZnNldCI6IG51bGwsCiAgImZpbGwiOiB0cnVlLAogICJmaWxsQ29sb3IiOiAiIzMxODZjYyIsCiAgImZpbGxPcGFjaXR5IjogMC43LAogICJmaWxsUnVsZSI6ICJldmVub2RkIiwKICAibGluZUNhcCI6ICJyb3VuZCIsCiAgImxpbmVKb2luIjogInJvdW5kIiwKICAib3BhY2l0eSI6IDEuMCwKICAicmFkaXVzIjogNSwKICAic3Ryb2tlIjogdHJ1ZSwKICAid2VpZ2h0IjogMwp9CiAgICAgICAgICAgICAgICApLmFkZFRvKG1hcF9mOTM5N2Q5YjYwMWM0ZmEyOTY5NmVhZDgyNGQ5MjMwOCk7CiAgICAgICAgICAgIAogICAgCiAgICAgICAgICAgIHZhciBwb3B1cF9kYTA1NzA5OGE4YmI0ZmFkOGExYWU5MDRjYjMyNTA1NyA9IEwucG9wdXAoe21heFdpZHRoOiAnMzAwJ30pOwoKICAgICAgICAgICAgCiAgICAgICAgICAgICAgICB2YXIgaHRtbF9hMWEzM2RkM2ZmYmQ0MmZjYTY3MmRmNmMwMTA3MTI1NCA9ICQoJzxkaXYgaWQ9Imh0bWxfYTFhMzNkZDNmZmJkNDJmY2E2NzJkZjZjMDEwNzEyNTQiIHN0eWxlPSJ3aWR0aDogMTAwLjAlOyBoZWlnaHQ6IDEwMC4wJTsiPlBvcnRtYW4gRXN0YXRlPC9kaXY+JylbMF07CiAgICAgICAgICAgICAgICBwb3B1cF9kYTA1NzA5OGE4YmI0ZmFkOGExYWU5MDRjYjMyNTA1Ny5zZXRDb250ZW50KGh0bWxfYTFhMzNkZDNmZmJkNDJmY2E2NzJkZjZjMDEwNzEyNTQpOwogICAgICAgICAgICAKCiAgICAgICAgICAgIGNpcmNsZV9tYXJrZXJfNTM4OWUwMTkwOTc2NDhhNTk5ZjY0ZDY3ZjYwMmE0MDMuYmluZFBvcHVwKHBvcHVwX2RhMDU3MDk4YThiYjRmYWQ4YTFhZTkwNGNiMzI1MDU3KTsKCiAgICAgICAgICAgIAogICAgICAgIAogICAgCiAgICAgICAgICAgIHZhciBjaXJjbGVfbWFya2VyXzIwYzY4MWE0ZmU3YzQ0ZDM4OGUwZDAzOWY3MzU3NmZkID0gTC5jaXJjbGVNYXJrZXIoCiAgICAgICAgICAgICAgICBbNTEuNTMzOCwtMC4yMDI2XSwKICAgICAgICAgICAgICAgIHsKICAiYnViYmxpbmdNb3VzZUV2ZW50cyI6IHRydWUsCiAgImNvbG9yIjogImJsdWUiLAogICJkYXNoQXJyYXkiOiBudWxsLAogICJkYXNoT2Zmc2V0IjogbnVsbCwKICAiZmlsbCI6IHRydWUsCiAgImZpbGxDb2xvciI6ICIjMzE4NmNjIiwKICAiZmlsbE9wYWNpdHkiOiAwLjcsCiAgImZpbGxSdWxlIjogImV2ZW5vZGQiLAogICJsaW5lQ2FwIjogInJvdW5kIiwKICAibGluZUpvaW4iOiAicm91bmQiLAogICJvcGFjaXR5IjogMS4wLAogICJyYWRpdXMiOiA1LAogICJzdHJva2UiOiB0cnVlLAogICJ3ZWlnaHQiOiAzCn0KICAgICAgICAgICAgICAgICkuYWRkVG8obWFwX2Y5Mzk3ZDliNjAxYzRmYTI5Njk2ZWFkODI0ZDkyMzA4KTsKICAgICAgICAgICAgCiAgICAKICAgICAgICAgICAgdmFyIHBvcHVwXzkwNTgyOWViYTE1NDQwZjNiZjNhMjFjNjE3YTNmNmQ3ID0gTC5wb3B1cCh7bWF4V2lkdGg6ICczMDAnfSk7CgogICAgICAgICAgICAKICAgICAgICAgICAgICAgIHZhciBodG1sXzZkZDQwM2Q0ZjEwNjRmZDliMjYwMzYyOGQxZGEzYjFlID0gJCgnPGRpdiBpZD0iaHRtbF82ZGQ0MDNkNGYxMDY0ZmQ5YjI2MDM2MjhkMWRhM2IxZSIgc3R5bGU9IndpZHRoOiAxMDAuMCU7IGhlaWdodDogMTAwLjAlOyI+UXVlZW4mIzM5O3MgUGFyazwvZGl2PicpWzBdOwogICAgICAgICAgICAgICAgcG9wdXBfOTA1ODI5ZWJhMTU0NDBmM2JmM2EyMWM2MTdhM2Y2ZDcuc2V0Q29udGVudChodG1sXzZkZDQwM2Q0ZjEwNjRmZDliMjYwMzYyOGQxZGEzYjFlKTsKICAgICAgICAgICAgCgogICAgICAgICAgICBjaXJjbGVfbWFya2VyXzIwYzY4MWE0ZmU3YzQ0ZDM4OGUwZDAzOWY3MzU3NmZkLmJpbmRQb3B1cChwb3B1cF85MDU4MjllYmExNTQ0MGYzYmYzYTIxYzYxN2EzZjZkNyk7CgogICAgICAgICAgICAKICAgICAgICAKICAgIAogICAgICAgICAgICB2YXIgY2lyY2xlX21hcmtlcl9mZTZhNDc3MTYzZWU0OWE3YWM2YjI3YjE3NTQzNjg5ZiA9IEwuY2lyY2xlTWFya2VyKAogICAgICAgICAgICAgICAgWzUxLjUxMjc3Nzc3Nzc3NzgsLTAuMTMxMTExMTExMTExMTEwOThdLAogICAgICAgICAgICAgICAgewogICJidWJibGluZ01vdXNlRXZlbnRzIjogdHJ1ZSwKICAiY29sb3IiOiAiYmx1ZSIsCiAgImRhc2hBcnJheSI6IG51bGwsCiAgImRhc2hPZmZzZXQiOiBudWxsLAogICJmaWxsIjogdHJ1ZSwKICAiZmlsbENvbG9yIjogIiMzMTg2Y2MiLAogICJmaWxsT3BhY2l0eSI6IDAuNywKICAiZmlsbFJ1bGUiOiAiZXZlbm9kZCIsCiAgImxpbmVDYXAiOiAicm91bmQiLAogICJsaW5lSm9pbiI6ICJyb3VuZCIsCiAgIm9wYWNpdHkiOiAxLjAsCiAgInJhZGl1cyI6IDUsCiAgInN0cm9rZSI6IHRydWUsCiAgIndlaWdodCI6IDMKfQogICAgICAgICAgICAgICAgKS5hZGRUbyhtYXBfZjkzOTdkOWI2MDFjNGZhMjk2OTZlYWQ4MjRkOTIzMDgpOwogICAgICAgICAgICAKICAgIAogICAgICAgICAgICB2YXIgcG9wdXBfZTUwNWZiMWU5OTk4NGQyZWI0ODFjMjJmZDdhMmU5MDAgPSBMLnBvcHVwKHttYXhXaWR0aDogJzMwMCd9KTsKCiAgICAgICAgICAgIAogICAgICAgICAgICAgICAgdmFyIGh0bWxfOGMyNjA2YTYxOWRkNGE5ZjkxZTU4YmI1MjkxNTZhNGQgPSAkKCc8ZGl2IGlkPSJodG1sXzhjMjYwNmE2MTlkZDRhOWY5MWU1OGJiNTI5MTU2YTRkIiBzdHlsZT0id2lkdGg6IDEwMC4wJTsgaGVpZ2h0OiAxMDAuMCU7Ij5Tb2hvPC9kaXY+JylbMF07CiAgICAgICAgICAgICAgICBwb3B1cF9lNTA1ZmIxZTk5OTg0ZDJlYjQ4MWMyMmZkN2EyZTkwMC5zZXRDb250ZW50KGh0bWxfOGMyNjA2YTYxOWRkNGE5ZjkxZTU4YmI1MjkxNTZhNGQpOwogICAgICAgICAgICAKCiAgICAgICAgICAgIGNpcmNsZV9tYXJrZXJfZmU2YTQ3NzE2M2VlNDlhN2FjNmIyN2IxNzU0MzY4OWYuYmluZFBvcHVwKHBvcHVwX2U1MDVmYjFlOTk5ODRkMmViNDgxYzIyZmQ3YTJlOTAwKTsKCiAgICAgICAgICAgIAogICAgICAgIAogICAgCiAgICAgICAgICAgIHZhciBjaXJjbGVfbWFya2VyXzIyNTJhZTZkNDhjZTQzNzhhNWY1MDhmNWM4Y2QwOTVlID0gTC5jaXJjbGVNYXJrZXIoCiAgICAgICAgICAgICAgICBbNTEuNTA4NSwtMC4xMzNdLAogICAgICAgICAgICAgICAgewogICJidWJibGluZ01vdXNlRXZlbnRzIjogdHJ1ZSwKICAiY29sb3IiOiAiYmx1ZSIsCiAgImRhc2hBcnJheSI6IG51bGwsCiAgImRhc2hPZmZzZXQiOiBudWxsLAogICJmaWxsIjogdHJ1ZSwKICAiZmlsbENvbG9yIjogIiMzMTg2Y2MiLAogICJmaWxsT3BhY2l0eSI6IDAuNywKICAiZmlsbFJ1bGUiOiAiZXZlbm9kZCIsCiAgImxpbmVDYXAiOiAicm91bmQiLAogICJsaW5lSm9pbiI6ICJyb3VuZCIsCiAgIm9wYWNpdHkiOiAxLjAsCiAgInJhZGl1cyI6IDUsCiAgInN0cm9rZSI6IHRydWUsCiAgIndlaWdodCI6IDMKfQogICAgICAgICAgICAgICAgKS5hZGRUbyhtYXBfZjkzOTdkOWI2MDFjNGZhMjk2OTZlYWQ4MjRkOTIzMDgpOwogICAgICAgICAgICAKICAgIAogICAgICAgICAgICB2YXIgcG9wdXBfYTBlNDA5MzBjNjczNDQyNzlkYTA4YzNmOWMxNzRlYzIgPSBMLnBvcHVwKHttYXhXaWR0aDogJzMwMCd9KTsKCiAgICAgICAgICAgIAogICAgICAgICAgICAgICAgdmFyIGh0bWxfN2QwMWRlNzRmYmFjNDA2OGEzODhhY2UwOTI0MzRhZTMgPSAkKCc8ZGl2IGlkPSJodG1sXzdkMDFkZTc0ZmJhYzQwNjhhMzg4YWNlMDkyNDM0YWUzIiBzdHlsZT0id2lkdGg6IDEwMC4wJTsgaGVpZ2h0OiAxMDAuMCU7Ij5TdCBKYW1lcyYjMzk7czwvZGl2PicpWzBdOwogICAgICAgICAgICAgICAgcG9wdXBfYTBlNDA5MzBjNjczNDQyNzlkYTA4YzNmOWMxNzRlYzIuc2V0Q29udGVudChodG1sXzdkMDFkZTc0ZmJhYzQwNjhhMzg4YWNlMDkyNDM0YWUzKTsKICAgICAgICAgICAgCgogICAgICAgICAgICBjaXJjbGVfbWFya2VyXzIyNTJhZTZkNDhjZTQzNzhhNWY1MDhmNWM4Y2QwOTVlLmJpbmRQb3B1cChwb3B1cF9hMGU0MDkzMGM2NzM0NDI3OWRhMDhjM2Y5YzE3NGVjMik7CgogICAgICAgICAgICAKICAgICAgICAKICAgIAogICAgICAgICAgICB2YXIgY2lyY2xlX21hcmtlcl8yNmE0MzU1MWFmMjU0YTVlOTRlYjU2NzhhNzlmZGMwYiA9IEwuY2lyY2xlTWFya2VyKAogICAgICAgICAgICAgICAgWzUxLjUzNjEsLTAuMTc1MV0sCiAgICAgICAgICAgICAgICB7CiAgImJ1YmJsaW5nTW91c2VFdmVudHMiOiB0cnVlLAogICJjb2xvciI6ICJibHVlIiwKICAiZGFzaEFycmF5IjogbnVsbCwKICAiZGFzaE9mZnNldCI6IG51bGwsCiAgImZpbGwiOiB0cnVlLAogICJmaWxsQ29sb3IiOiAiIzMxODZjYyIsCiAgImZpbGxPcGFjaXR5IjogMC43LAogICJmaWxsUnVsZSI6ICJldmVub2RkIiwKICAibGluZUNhcCI6ICJyb3VuZCIsCiAgImxpbmVKb2luIjogInJvdW5kIiwKICAib3BhY2l0eSI6IDEuMCwKICAicmFkaXVzIjogNSwKICAic3Ryb2tlIjogdHJ1ZSwKICAid2VpZ2h0IjogMwp9CiAgICAgICAgICAgICAgICApLmFkZFRvKG1hcF9mOTM5N2Q5YjYwMWM0ZmEyOTY5NmVhZDgyNGQ5MjMwOCk7CiAgICAgICAgICAgIAogICAgCiAgICAgICAgICAgIHZhciBwb3B1cF83YmU5NmQwZTkzYzg0OWU4OTUxZTRlODY5MzEyYzZjYyA9IEwucG9wdXAoe21heFdpZHRoOiAnMzAwJ30pOwoKICAgICAgICAgICAgCiAgICAgICAgICAgICAgICB2YXIgaHRtbF80ZWVlMDg0MTI0NGQ0M2MxOWM1NTI5NTk4OGQwMmE3NiA9ICQoJzxkaXYgaWQ9Imh0bWxfNGVlZTA4NDEyNDRkNDNjMTljNTUyOTU5ODhkMDJhNzYiIHN0eWxlPSJ3aWR0aDogMTAwLjAlOyBoZWlnaHQ6IDEwMC4wJTsiPlN0IEpvaG4mIzM5O3MgV29vZDwvZGl2PicpWzBdOwogICAgICAgICAgICAgICAgcG9wdXBfN2JlOTZkMGU5M2M4NDllODk1MWU0ZTg2OTMxMmM2Y2Muc2V0Q29udGVudChodG1sXzRlZWUwODQxMjQ0ZDQzYzE5YzU1Mjk1OTg4ZDAyYTc2KTsKICAgICAgICAgICAgCgogICAgICAgICAgICBjaXJjbGVfbWFya2VyXzI2YTQzNTUxYWYyNTRhNWU5NGViNTY3OGE3OWZkYzBiLmJpbmRQb3B1cChwb3B1cF83YmU5NmQwZTkzYzg0OWU4OTUxZTRlODY5MzEyYzZjYyk7CgogICAgICAgICAgICAKICAgICAgICAKICAgIAogICAgICAgICAgICB2YXIgY2lyY2xlX21hcmtlcl9lMTQ5YTkwODBjMWM0MmZmOGI2ZTQ3YTJlNDM5NDY5OSA9IEwuY2lyY2xlTWFya2VyKAogICAgICAgICAgICAgICAgWzUxLjUxMTQsLTAuMTE5MDAwMDAwMDAwMDAwMDFdLAogICAgICAgICAgICAgICAgewogICJidWJibGluZ01vdXNlRXZlbnRzIjogdHJ1ZSwKICAiY29sb3IiOiAiYmx1ZSIsCiAgImRhc2hBcnJheSI6IG51bGwsCiAgImRhc2hPZmZzZXQiOiBudWxsLAogICJmaWxsIjogdHJ1ZSwKICAiZmlsbENvbG9yIjogIiMzMTg2Y2MiLAogICJmaWxsT3BhY2l0eSI6IDAuNywKICAiZmlsbFJ1bGUiOiAiZXZlbm9kZCIsCiAgImxpbmVDYXAiOiAicm91bmQiLAogICJsaW5lSm9pbiI6ICJyb3VuZCIsCiAgIm9wYWNpdHkiOiAxLjAsCiAgInJhZGl1cyI6IDUsCiAgInN0cm9rZSI6IHRydWUsCiAgIndlaWdodCI6IDMKfQogICAgICAgICAgICAgICAgKS5hZGRUbyhtYXBfZjkzOTdkOWI2MDFjNGZhMjk2OTZlYWQ4MjRkOTIzMDgpOwogICAgICAgICAgICAKICAgIAogICAgICAgICAgICB2YXIgcG9wdXBfZDFjZWY5ZmZlNTk3NGMyNWJkMTc5NjBjNGViYTZiZjkgPSBMLnBvcHVwKHttYXhXaWR0aDogJzMwMCd9KTsKCiAgICAgICAgICAgIAogICAgICAgICAgICAgICAgdmFyIGh0bWxfZTYxYjVlNTBjODQyNDc4MWI4YzJmMGVmYjE5OWE5NWIgPSAkKCc8ZGl2IGlkPSJodG1sX2U2MWI1ZTUwYzg0MjQ3ODFiOGMyZjBlZmIxOTlhOTViIiBzdHlsZT0id2lkdGg6IDEwMC4wJTsgaGVpZ2h0OiAxMDAuMCU7Ij5TdHJhbmQ8L2Rpdj4nKVswXTsKICAgICAgICAgICAgICAgIHBvcHVwX2QxY2VmOWZmZTU5NzRjMjViZDE3OTYwYzRlYmE2YmY5LnNldENvbnRlbnQoaHRtbF9lNjFiNWU1MGM4NDI0NzgxYjhjMmYwZWZiMTk5YTk1Yik7CiAgICAgICAgICAgIAoKICAgICAgICAgICAgY2lyY2xlX21hcmtlcl9lMTQ5YTkwODBjMWM0MmZmOGI2ZTQ3YTJlNDM5NDY5OS5iaW5kUG9wdXAocG9wdXBfZDFjZWY5ZmZlNTk3NGMyNWJkMTc5NjBjNGViYTZiZjkpOwoKICAgICAgICAgICAgCiAgICAgICAgCiAgICAKICAgICAgICAgICAgdmFyIGNpcmNsZV9tYXJrZXJfYTM2MzU1YjZjN2NjNDYyN2FlYWIyMWQ0Mjk1MjY4ZjUgPSBMLmNpcmNsZU1hcmtlcigKICAgICAgICAgICAgICAgIFs1MS41MTIsLTAuMTExXSwKICAgICAgICAgICAgICAgIHsKICAiYnViYmxpbmdNb3VzZUV2ZW50cyI6IHRydWUsCiAgImNvbG9yIjogImJsdWUiLAogICJkYXNoQXJyYXkiOiBudWxsLAogICJkYXNoT2Zmc2V0IjogbnVsbCwKICAiZmlsbCI6IHRydWUsCiAgImZpbGxDb2xvciI6ICIjMzE4NmNjIiwKICAiZmlsbE9wYWNpdHkiOiAwLjcsCiAgImZpbGxSdWxlIjogImV2ZW5vZGQiLAogICJsaW5lQ2FwIjogInJvdW5kIiwKICAibGluZUpvaW4iOiAicm91bmQiLAogICJvcGFjaXR5IjogMS4wLAogICJyYWRpdXMiOiA1LAogICJzdHJva2UiOiB0cnVlLAogICJ3ZWlnaHQiOiAzCn0KICAgICAgICAgICAgICAgICkuYWRkVG8obWFwX2Y5Mzk3ZDliNjAxYzRmYTI5Njk2ZWFkODI0ZDkyMzA4KTsKICAgICAgICAgICAgCiAgICAKICAgICAgICAgICAgdmFyIHBvcHVwXzBlZjE5NmRjYmM2ZTRhZTc5ZWFkZDYzOTRkZjc4YzE2ID0gTC5wb3B1cCh7bWF4V2lkdGg6ICczMDAnfSk7CgogICAgICAgICAgICAKICAgICAgICAgICAgICAgIHZhciBodG1sXzQxZWI4ZjQyZGU1MjRmZDdhNTRlMjQxN2FkYmMwMTQ1ID0gJCgnPGRpdiBpZD0iaHRtbF80MWViOGY0MmRlNTI0ZmQ3YTU0ZTI0MTdhZGJjMDE0NSIgc3R5bGU9IndpZHRoOiAxMDAuMCU7IGhlaWdodDogMTAwLjAlOyI+VGVtcGxlPC9kaXY+JylbMF07CiAgICAgICAgICAgICAgICBwb3B1cF8wZWYxOTZkY2JjNmU0YWU3OWVhZGQ2Mzk0ZGY3OGMxNi5zZXRDb250ZW50KGh0bWxfNDFlYjhmNDJkZTUyNGZkN2E1NGUyNDE3YWRiYzAxNDUpOwogICAgICAgICAgICAKCiAgICAgICAgICAgIGNpcmNsZV9tYXJrZXJfYTM2MzU1YjZjN2NjNDYyN2FlYWIyMWQ0Mjk1MjY4ZjUuYmluZFBvcHVwKHBvcHVwXzBlZjE5NmRjYmM2ZTRhZTc5ZWFkZDYzOTRkZjc4YzE2KTsKCiAgICAgICAgICAgIAogICAgICAgIAogICAgCiAgICAgICAgICAgIHZhciBjaXJjbGVfbWFya2VyX2E2MDhjOTc0OWQ0NDRmYzFhZWU2NDZiMzZiYWE1ZTM0ID0gTC5jaXJjbGVNYXJrZXIoCiAgICAgICAgICAgICAgICBbNTEuNDk2LC0wLjE0MzAwMDAwMDAwMDAwMDAyXSwKICAgICAgICAgICAgICAgIHsKICAiYnViYmxpbmdNb3VzZUV2ZW50cyI6IHRydWUsCiAgImNvbG9yIjogImJsdWUiLAogICJkYXNoQXJyYXkiOiBudWxsLAogICJkYXNoT2Zmc2V0IjogbnVsbCwKICAiZmlsbCI6IHRydWUsCiAgImZpbGxDb2xvciI6ICIjMzE4NmNjIiwKICAiZmlsbE9wYWNpdHkiOiAwLjcsCiAgImZpbGxSdWxlIjogImV2ZW5vZGQiLAogICJsaW5lQ2FwIjogInJvdW5kIiwKICAibGluZUpvaW4iOiAicm91bmQiLAogICJvcGFjaXR5IjogMS4wLAogICJyYWRpdXMiOiA1LAogICJzdHJva2UiOiB0cnVlLAogICJ3ZWlnaHQiOiAzCn0KICAgICAgICAgICAgICAgICkuYWRkVG8obWFwX2Y5Mzk3ZDliNjAxYzRmYTI5Njk2ZWFkODI0ZDkyMzA4KTsKICAgICAgICAgICAgCiAgICAKICAgICAgICAgICAgdmFyIHBvcHVwXzcyZDZhY2E5MDhiNjQzNGZiMWJhOWNmZGVhNzMzOGJjID0gTC5wb3B1cCh7bWF4V2lkdGg6ICczMDAnfSk7CgogICAgICAgICAgICAKICAgICAgICAgICAgICAgIHZhciBodG1sX2I1NjUyNTIwMGI0ZjQ5NTRhNWZjMTc5NjllYTE1NWM4ID0gJCgnPGRpdiBpZD0iaHRtbF9iNTY1MjUyMDBiNGY0OTU0YTVmYzE3OTY5ZWExNTVjOCIgc3R5bGU9IndpZHRoOiAxMDAuMCU7IGhlaWdodDogMTAwLjAlOyI+VmljdG9yaWE8L2Rpdj4nKVswXTsKICAgICAgICAgICAgICAgIHBvcHVwXzcyZDZhY2E5MDhiNjQzNGZiMWJhOWNmZGVhNzMzOGJjLnNldENvbnRlbnQoaHRtbF9iNTY1MjUyMDBiNGY0OTU0YTVmYzE3OTY5ZWExNTVjOCk7CiAgICAgICAgICAgIAoKICAgICAgICAgICAgY2lyY2xlX21hcmtlcl9hNjA4Yzk3NDlkNDQ0ZmMxYWVlNjQ2YjM2YmFhNWUzNC5iaW5kUG9wdXAocG9wdXBfNzJkNmFjYTkwOGI2NDM0ZmIxYmE5Y2ZkZWE3MzM4YmMpOwoKICAgICAgICAgICAgCiAgICAgICAgCiAgICAKICAgICAgICAgICAgdmFyIGNpcmNsZV9tYXJrZXJfOGRhOGMyYjNmMDRkNDc5MGIyYzBhZGY4Y2I4NWJiYWYgPSBMLmNpcmNsZU1hcmtlcigKICAgICAgICAgICAgICAgIFs1MS41MTYwMDAwMDAwMDAwMDUsLTAuMTk2OTk5OTk5OTk5OTk5OThdLAogICAgICAgICAgICAgICAgewogICJidWJibGluZ01vdXNlRXZlbnRzIjogdHJ1ZSwKICAiY29sb3IiOiAiYmx1ZSIsCiAgImRhc2hBcnJheSI6IG51bGwsCiAgImRhc2hPZmZzZXQiOiBudWxsLAogICJmaWxsIjogdHJ1ZSwKICAiZmlsbENvbG9yIjogIiMzMTg2Y2MiLAogICJmaWxsT3BhY2l0eSI6IDAuNywKICAiZmlsbFJ1bGUiOiAiZXZlbm9kZCIsCiAgImxpbmVDYXAiOiAicm91bmQiLAogICJsaW5lSm9pbiI6ICJyb3VuZCIsCiAgIm9wYWNpdHkiOiAxLjAsCiAgInJhZGl1cyI6IDUsCiAgInN0cm9rZSI6IHRydWUsCiAgIndlaWdodCI6IDMKfQogICAgICAgICAgICAgICAgKS5hZGRUbyhtYXBfZjkzOTdkOWI2MDFjNGZhMjk2OTZlYWQ4MjRkOTIzMDgpOwogICAgICAgICAgICAKICAgIAogICAgICAgICAgICB2YXIgcG9wdXBfMWQzYjhhZmNiNmEwNDUzYjhhNzE4NjQ1NTRhZjI5ZWEgPSBMLnBvcHVwKHttYXhXaWR0aDogJzMwMCd9KTsKCiAgICAgICAgICAgIAogICAgICAgICAgICAgICAgdmFyIGh0bWxfZjI1NmM4NmE2OWViNDBkYmFiYWNhZTZiZGI1YzRhZGMgPSAkKCc8ZGl2IGlkPSJodG1sX2YyNTZjODZhNjllYjQwZGJhYmFjYWU2YmRiNWM0YWRjIiBzdHlsZT0id2lkdGg6IDEwMC4wJTsgaGVpZ2h0OiAxMDAuMCU7Ij5XZXN0Ym91cm5lPC9kaXY+JylbMF07CiAgICAgICAgICAgICAgICBwb3B1cF8xZDNiOGFmY2I2YTA0NTNiOGE3MTg2NDU1NGFmMjllYS5zZXRDb250ZW50KGh0bWxfZjI1NmM4NmE2OWViNDBkYmFiYWNhZTZiZGI1YzRhZGMpOwogICAgICAgICAgICAKCiAgICAgICAgICAgIGNpcmNsZV9tYXJrZXJfOGRhOGMyYjNmMDRkNDc5MGIyYzBhZGY4Y2I4NWJiYWYuYmluZFBvcHVwKHBvcHVwXzFkM2I4YWZjYjZhMDQ1M2I4YTcxODY0NTU0YWYyOWVhKTsKCiAgICAgICAgICAgIAogICAgICAgIAogICAgCiAgICAgICAgICAgIHZhciBjaXJjbGVfbWFya2VyXzYyOWZhYTIwMjZmZTQ1ZTNhZTA1ZDMzNmJmMDIyMGMzID0gTC5jaXJjbGVNYXJrZXIoCiAgICAgICAgICAgICAgICBbNTEuNTI0MTc4MDAwMDAwMDA2LC0wLjIwMTQyM10sCiAgICAgICAgICAgICAgICB7CiAgImJ1YmJsaW5nTW91c2VFdmVudHMiOiB0cnVlLAogICJjb2xvciI6ICJibHVlIiwKICAiZGFzaEFycmF5IjogbnVsbCwKICAiZGFzaE9mZnNldCI6IG51bGwsCiAgImZpbGwiOiB0cnVlLAogICJmaWxsQ29sb3IiOiAiIzMxODZjYyIsCiAgImZpbGxPcGFjaXR5IjogMC43LAogICJmaWxsUnVsZSI6ICJldmVub2RkIiwKICAibGluZUNhcCI6ICJyb3VuZCIsCiAgImxpbmVKb2luIjogInJvdW5kIiwKICAib3BhY2l0eSI6IDEuMCwKICAicmFkaXVzIjogNSwKICAic3Ryb2tlIjogdHJ1ZSwKICAid2VpZ2h0IjogMwp9CiAgICAgICAgICAgICAgICApLmFkZFRvKG1hcF9mOTM5N2Q5YjYwMWM0ZmEyOTY5NmVhZDgyNGQ5MjMwOCk7CiAgICAgICAgICAgIAogICAgCiAgICAgICAgICAgIHZhciBwb3B1cF9mMDlhZTZhNzQzODU0YzYxODA2M2YxMWQ3NGJiYzk1ZCA9IEwucG9wdXAoe21heFdpZHRoOiAnMzAwJ30pOwoKICAgICAgICAgICAgCiAgICAgICAgICAgICAgICB2YXIgaHRtbF82MWQwMWE4NWZjMmQ0Mjg0YTAxMDJjZWNjZTk5ZWQ3MSA9ICQoJzxkaXYgaWQ9Imh0bWxfNjFkMDFhODVmYzJkNDI4NGEwMTAyY2VjY2U5OWVkNzEiIHN0eWxlPSJ3aWR0aDogMTAwLjAlOyBoZWlnaHQ6IDEwMC4wJTsiPldlc3Rib3VybmUgR3JlZW48L2Rpdj4nKVswXTsKICAgICAgICAgICAgICAgIHBvcHVwX2YwOWFlNmE3NDM4NTRjNjE4MDYzZjExZDc0YmJjOTVkLnNldENvbnRlbnQoaHRtbF82MWQwMWE4NWZjMmQ0Mjg0YTAxMDJjZWNjZTk5ZWQ3MSk7CiAgICAgICAgICAgIAoKICAgICAgICAgICAgY2lyY2xlX21hcmtlcl82MjlmYWEyMDI2ZmU0NWUzYWUwNWQzMzZiZjAyMjBjMy5iaW5kUG9wdXAocG9wdXBfZjA5YWU2YTc0Mzg1NGM2MTgwNjNmMTFkNzRiYmM5NWQpOwoKICAgICAgICAgICAgCiAgICAgICAgCiAgICAKICAgICAgICAgICAgdmFyIGNpcmNsZV9tYXJrZXJfZmU5ODQzMTk5Y2M1NGZmYjljNzNjMTI0NzIxMmJmZmQgPSBMLmNpcmNsZU1hcmtlcigKICAgICAgICAgICAgICAgIFs1MS40OTQ3MjIyMjIyMjIyLC0wLjEzNTI3Nzc3Nzc3Nzc3ODAyXSwKICAgICAgICAgICAgICAgIHsKICAiYnViYmxpbmdNb3VzZUV2ZW50cyI6IHRydWUsCiAgImNvbG9yIjogImJsdWUiLAogICJkYXNoQXJyYXkiOiBudWxsLAogICJkYXNoT2Zmc2V0IjogbnVsbCwKICAiZmlsbCI6IHRydWUsCiAgImZpbGxDb2xvciI6ICIjMzE4NmNjIiwKICAiZmlsbE9wYWNpdHkiOiAwLjcsCiAgImZpbGxSdWxlIjogImV2ZW5vZGQiLAogICJsaW5lQ2FwIjogInJvdW5kIiwKICAibGluZUpvaW4iOiAicm91bmQiLAogICJvcGFjaXR5IjogMS4wLAogICJyYWRpdXMiOiA1LAogICJzdHJva2UiOiB0cnVlLAogICJ3ZWlnaHQiOiAzCn0KICAgICAgICAgICAgICAgICkuYWRkVG8obWFwX2Y5Mzk3ZDliNjAxYzRmYTI5Njk2ZWFkODI0ZDkyMzA4KTsKICAgICAgICAgICAgCiAgICAKICAgICAgICAgICAgdmFyIHBvcHVwXzYyZDZmYWJjMGY2MjRhYTlhMzZhMDgzNDJjNDVkZWYxID0gTC5wb3B1cCh7bWF4V2lkdGg6ICczMDAnfSk7CgogICAgICAgICAgICAKICAgICAgICAgICAgICAgIHZhciBodG1sX2FhYWYzZDQ1ZTI1NjRmNjc4ZDk2NDIxNTk0ZDVjODg5ID0gJCgnPGRpdiBpZD0iaHRtbF9hYWFmM2Q0NWUyNTY0ZjY3OGQ5NjQyMTU5NGQ1Yzg4OSIgc3R5bGU9IndpZHRoOiAxMDAuMCU7IGhlaWdodDogMTAwLjAlOyI+V2VzdG1pbnN0ZXI8L2Rpdj4nKVswXTsKICAgICAgICAgICAgICAgIHBvcHVwXzYyZDZmYWJjMGY2MjRhYTlhMzZhMDgzNDJjNDVkZWYxLnNldENvbnRlbnQoaHRtbF9hYWFmM2Q0NWUyNTY0ZjY3OGQ5NjQyMTU5NGQ1Yzg4OSk7CiAgICAgICAgICAgIAoKICAgICAgICAgICAgY2lyY2xlX21hcmtlcl9mZTk4NDMxOTljYzU0ZmZiOWM3M2MxMjQ3MjEyYmZmZC5iaW5kUG9wdXAocG9wdXBfNjJkNmZhYmMwZjYyNGFhOWEzNmEwODM0MmM0NWRlZjEpOwoKICAgICAgICAgICAgCiAgICAgICAgCjwvc2NyaXB0Pg== onload=\"this.contentDocument.open();this.contentDocument.write(atob(this.getAttribute('data-html')));this.contentDocument.close();\" allowfullscreen webkitallowfullscreen mozallowfullscreen></iframe></div></div>"
      ],
      "text/plain": [
       "<folium.folium.Map at 0x1eace672d48>"
      ]
     },
     "execution_count": 211,
     "metadata": {},
     "output_type": "execute_result"
    }
   ],
   "source": [
    "# create map of Westminster using latitude and longitude values\n",
    "map_west = folium.Map(location=[latitude, longitude], zoom_start=13)\n",
    "\n",
    "# add markers to Shops\n",
    "for lat, lng, borough in zip(westminster_ice['Venue Latitude'], westminster_ice['Venue Longitude'], westminster_ice['Venue']):\n",
    "    label = '{}'.format(borough)\n",
    "    label = folium.Popup(label, parse_html=True)\n",
    "    folium.CircleMarker(\n",
    "        [lat, lng],\n",
    "        radius=5,\n",
    "        popup=label,\n",
    "        color='red',\n",
    "        fill=True,\n",
    "        fill_color='#E94975',\n",
    "        fill_opacity=0.7,\n",
    "        parse_html=False).add_to(map_west)  \n",
    "    \n",
    "# add markers to Neighborhoods\n",
    "for lat, lng, borough in zip(df_west['Latitude'], df_west['Longitude'], df_west['Neighborhood']):\n",
    "    label = '{}'.format(borough)\n",
    "    label = folium.Popup(label, parse_html=True)\n",
    "    folium.CircleMarker(\n",
    "        [lat, lng],\n",
    "        radius=5,\n",
    "        popup=label,\n",
    "        color='blue',\n",
    "        fill=True,\n",
    "        fill_color='#3186cc',\n",
    "        fill_opacity=0.7,\n",
    "        parse_html=False).add_to(map_west)  \n",
    "    \n",
    "map_west"
   ]
  },
  {
   "cell_type": "code",
   "execution_count": 137,
   "metadata": {},
   "outputs": [
    {
     "data": {
      "text/plain": [
       "(157, 6)"
      ]
     },
     "execution_count": 137,
     "metadata": {},
     "output_type": "execute_result"
    }
   ],
   "source": [
    "westminster_ice.shape"
   ]
  },
  {
   "cell_type": "markdown",
   "metadata": {},
   "source": [
    "As we can see this type of shops tend to be concentrated around some zones as Soho, Chinatown, St.James and Covent Garden. However, according to Foursquare information, some other zones do not have an ice cream shop nearby like Pimlico, Millbank or Queen's Park. Do they have Frozen Yoghurt at least? It seems they don't"
   ]
  },
  {
   "cell_type": "markdown",
   "metadata": {},
   "source": [
    "Lets search for frozen yoghurt shops in this neighborhoods"
   ]
  },
  {
   "cell_type": "code",
   "execution_count": 198,
   "metadata": {},
   "outputs": [],
   "source": [
    "categoryId = '512e7cae91d4cbb4e5efe0af' # this is the classification code for this type of shops (https://developer.foursquare.com/docs/build-with-foursquare/categories/)"
   ]
  },
  {
   "cell_type": "code",
   "execution_count": 199,
   "metadata": {},
   "outputs": [
    {
     "name": "stdout",
     "output_type": "stream",
     "text": [
      "Adelphi\n",
      "Aldwych\n",
      "Bayswater\n",
      "Belgravia\n",
      "Charing Cross\n",
      "Chinatown\n",
      "Covent Garden\n",
      "Fitzrovia\n",
      "Kensal Town\n",
      "Hyde Park\n",
      "Knightsbridge\n",
      "Lisson Grove\n",
      "Maida Vale\n",
      "Marylebone\n",
      "Mayfair\n",
      "Millbank\n",
      "Paddington\n",
      "Paddington Green\n",
      "Pimlico\n",
      "Portman Estate\n",
      "Queen's Park\n",
      "Soho\n",
      "St James's\n",
      "St John's Wood\n",
      "Strand\n",
      "Temple\n",
      "Victoria\n",
      "Westbourne\n",
      "Westbourne Green\n",
      "Westminster\n"
     ]
    }
   ],
   "source": [
    "westminster_yog = getNearbyHelado(names=df_west['Neighborhood'],\n",
    "                                   latitudes=df_west['Latitude'],\n",
    "                                   longitudes=df_west['Longitude']\n",
    "                                  )"
   ]
  },
  {
   "cell_type": "code",
   "execution_count": 200,
   "metadata": {},
   "outputs": [
    {
     "data": {
      "text/html": [
       "<div>\n",
       "<style scoped>\n",
       "    .dataframe tbody tr th:only-of-type {\n",
       "        vertical-align: middle;\n",
       "    }\n",
       "\n",
       "    .dataframe tbody tr th {\n",
       "        vertical-align: top;\n",
       "    }\n",
       "\n",
       "    .dataframe thead th {\n",
       "        text-align: right;\n",
       "    }\n",
       "</style>\n",
       "<table border=\"1\" class=\"dataframe\">\n",
       "  <thead>\n",
       "    <tr style=\"text-align: right;\">\n",
       "      <th></th>\n",
       "      <th>counts</th>\n",
       "    </tr>\n",
       "    <tr>\n",
       "      <th>unique_values</th>\n",
       "      <th></th>\n",
       "    </tr>\n",
       "  </thead>\n",
       "  <tbody>\n",
       "    <tr>\n",
       "      <th>St James's</th>\n",
       "      <td>2</td>\n",
       "    </tr>\n",
       "    <tr>\n",
       "      <th>Chinatown</th>\n",
       "      <td>2</td>\n",
       "    </tr>\n",
       "    <tr>\n",
       "      <th>Adelphi</th>\n",
       "      <td>2</td>\n",
       "    </tr>\n",
       "    <tr>\n",
       "      <th>Soho</th>\n",
       "      <td>2</td>\n",
       "    </tr>\n",
       "    <tr>\n",
       "      <th>Westbourne</th>\n",
       "      <td>1</td>\n",
       "    </tr>\n",
       "    <tr>\n",
       "      <th>Covent Garden</th>\n",
       "      <td>1</td>\n",
       "    </tr>\n",
       "    <tr>\n",
       "      <th>Charing Cross</th>\n",
       "      <td>1</td>\n",
       "    </tr>\n",
       "  </tbody>\n",
       "</table>\n",
       "</div>"
      ],
      "text/plain": [
       "               counts\n",
       "unique_values        \n",
       "St James's          2\n",
       "Chinatown           2\n",
       "Adelphi             2\n",
       "Soho                2\n",
       "Westbourne          1\n",
       "Covent Garden       1\n",
       "Charing Cross       1"
      ]
     },
     "execution_count": 200,
     "metadata": {},
     "output_type": "execute_result"
    }
   ],
   "source": [
    "top_yog = westminster_yog['Neighborhood'].value_counts().rename_axis('unique_values').to_frame('counts')\n",
    "top_yog"
   ]
  },
  {
   "cell_type": "markdown",
   "metadata": {},
   "source": [
    "It seems that frozen yoghurt is not as popular as ice cream or it is not well served in the area."
   ]
  },
  {
   "cell_type": "markdown",
   "metadata": {},
   "source": [
    "### Conclusion"
   ]
  },
  {
   "attachments": {},
   "cell_type": "markdown",
   "metadata": {},
   "source": [
    "*  Westminster might be a suitable option, since it has an extensive wealthy population and a high quantity of tourists.\n",
    "*  Other boroughs in Cluster 4 like Kensington & Chelsea and Camden are good alternatives too. \n",
    "*  Specific areas that haven’t got many ice cream shops in Westminster and might be suitable options are: Millbank, Pimlico, Queens Park, Lisson Grove, Kensal Town and Westbourne Greene.\n"
   ]
  }
 ],
 "metadata": {
  "kernelspec": {
   "display_name": "Python 3",
   "language": "python",
   "name": "python3"
  },
  "language_info": {
   "codemirror_mode": {
    "name": "ipython",
    "version": 3
   },
   "file_extension": ".py",
   "mimetype": "text/x-python",
   "name": "python",
   "nbconvert_exporter": "python",
   "pygments_lexer": "ipython3",
   "version": "3.7.6"
  }
 },
 "nbformat": 4,
 "nbformat_minor": 4
}
